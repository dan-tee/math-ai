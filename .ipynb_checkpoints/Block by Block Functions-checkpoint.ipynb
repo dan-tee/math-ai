{
 "cells": [
  {
   "cell_type": "markdown",
   "id": "7fb36e15-e88c-475c-915e-f82609610bf7",
   "metadata": {},
   "source": [
    "# Block by Block Functions - DeepSeek\n",
    "- vLLM in fp16\n",
    "\n",
    "\n",
    "### TODO:\n",
    "1. Use string output in case there is no code output\n",
    "2. Feed error message into code retries\n",
    "3. Submit to Kaggle"
   ]
  },
  {
   "cell_type": "code",
   "execution_count": 1,
   "id": "681bc6fa-9425-445f-91b9-eb49b9363ce5",
   "metadata": {
    "tags": []
   },
   "outputs": [
    {
     "name": "stdout",
     "output_type": "stream",
     "text": [
      "Available Memory (GB, approx.): 23.64\n",
      "WARNING 05-06 11:05:38 config.py:767] Casting torch.bfloat16 to torch.float16.\n",
      "INFO 05-06 11:05:38 config.py:381] Using fp8_e5m2 data type to store kv cache. It reduces the GPU memory footprint and boosts the performance. But it may cause slight accuracy drop. Currently we only support fp8 without scaling factors and make e5m2 as a default format.\n",
      "INFO 05-06 11:05:38 llm_engine.py:74] Initializing an LLM engine (v0.4.0.post1) with config: model='deepseek-ai/deepseek-math-7b-rl', tokenizer='deepseek-ai/deepseek-math-7b-rl', tokenizer_mode=auto, revision=None, tokenizer_revision=None, trust_remote_code=False, dtype=torch.float16, max_seq_len=2048, download_dir=None, load_format=auto, tensor_parallel_size=1, disable_custom_all_reduce=True, quantization=None, enforce_eager=True, kv_cache_dtype=fp8_e5m2, device_config=cuda, seed=0)\n"
     ]
    },
    {
     "name": "stderr",
     "output_type": "stream",
     "text": [
      "Special tokens have been added in the vocabulary, make sure the associated word embeddings are fine-tuned or trained.\n"
     ]
    },
    {
     "name": "stdout",
     "output_type": "stream",
     "text": [
      "INFO 05-06 11:05:39 selector.py:51] Cannot use FlashAttention because the package is not found. Please install it for better performance.\n",
      "INFO 05-06 11:05:39 selector.py:25] Using XFormers backend.\n",
      "INFO 05-06 11:05:40 weight_utils.py:177] Using model weights format ['*.safetensors']\n",
      "INFO 05-06 11:05:43 model_runner.py:104] Loading model weights took 12.8725 GB\n",
      "INFO 05-06 11:05:43 gpu_executor.py:94] # GPU blocks: 2569, # CPU blocks: 1092\n"
     ]
    }
   ],
   "source": [
    "import os, io\n",
    "import json\n",
    "import uuid\n",
    "from pathlib import Path\n",
    "from datetime import datetime\n",
    "import re, sys, subprocess, gc\n",
    "import time\n",
    "import multiprocessing\n",
    "import statsmodels.api as sm\n",
    "\n",
    "import pandas as pd\n",
    "import numpy as np\n",
    "import torch\n",
    "from vllm import LLM, SamplingParams\n",
    "from multiprocessing import Pool\n",
    "\n",
    "n_questions = 10\n",
    "n_reps_per_prompt = 3\n",
    "n_code_retries = 4\n",
    "code_timeout_secs = 2\n",
    "temperature = 0.9\n",
    "code_temperature = 0.3\n",
    "n_code_processes = 8\n",
    "\n",
    "np.random.seed(42)\n",
    "\n",
    "def free_mem():\n",
    "    if hasattr(sys, 'last_traceback'):\n",
    "        sys.last_traceback.tb_next = None\n",
    "    gc.collect()\n",
    "    torch.cuda.empty_cache()\n",
    "\n",
    "def print_cuda_mem():\n",
    "    total_memory = torch.cuda.get_device_properties(0).total_memory / (1024 ** 3)\n",
    "    cached_memory = torch.cuda.memory_reserved(0) / (1024 ** 3)\n",
    "    available_memory = total_memory - cached_memory \n",
    "    print(f\"Available Memory (GB, approx.): {available_memory:.2f}\")\n",
    "\n",
    "ds_math_rl = \"deepseek-ai/deepseek-math-7b-rl\"\n",
    "#\"mixtral · 8x7b-instruct-v0.1-hf\" ???\n",
    "\n",
    "\n",
    "torch_dtype = torch.bfloat16\n",
    "# to avoid warning when spawing processes to evaluate code later\n",
    "os.environ['TOKENIZERS_PARALLELISM'] = 'false'\n",
    "print_cuda_mem()\n",
    "\n",
    "if not 'vllm' in globals():\n",
    "    vllm = LLM(model=ds_math_rl,\n",
    "               dtype='half',\n",
    "               enforce_eager=True,\n",
    "               gpu_memory_utilization=0.99,\n",
    "               swap_space=4,\n",
    "               max_model_len=2048,\n",
    "               kv_cache_dtype=\"fp8_e5m2\",\n",
    "               tensor_parallel_size=1)\n",
    "vtokenizer = vllm.get_tokenizer()"
   ]
  },
  {
   "cell_type": "code",
   "execution_count": 2,
   "id": "b2ffba91-88ab-40af-ba46-31db6ac025aa",
   "metadata": {
    "tags": []
   },
   "outputs": [
    {
     "name": "stdout",
     "output_type": "stream",
     "text": [
      "Let $k, l > 0$ be parameters. The parabola $y = kx^2 - 2kx + l$ intersects the line $y = 4$ at two points $A$ and $B$. These points are distance 6 apart. What is the sum of the squares of the distances from $A$ and $B$ to the origin?\n"
     ]
    },
    {
     "data": {
      "text/html": [
       "<div>\n",
       "<style scoped>\n",
       "    .dataframe tbody tr th:only-of-type {\n",
       "        vertical-align: middle;\n",
       "    }\n",
       "\n",
       "    .dataframe tbody tr th {\n",
       "        vertical-align: top;\n",
       "    }\n",
       "\n",
       "    .dataframe thead th {\n",
       "        text-align: right;\n",
       "    }\n",
       "</style>\n",
       "<table border=\"1\" class=\"dataframe\">\n",
       "  <thead>\n",
       "    <tr style=\"text-align: right;\">\n",
       "      <th></th>\n",
       "      <th>id</th>\n",
       "      <th>problem</th>\n",
       "      <th>answer</th>\n",
       "    </tr>\n",
       "  </thead>\n",
       "  <tbody>\n",
       "    <tr>\n",
       "      <th>0</th>\n",
       "      <td>229ee8</td>\n",
       "      <td>Let $k, l &gt; 0$ be parameters. The parabola $y ...</td>\n",
       "      <td>52</td>\n",
       "    </tr>\n",
       "    <tr>\n",
       "      <th>1</th>\n",
       "      <td>246d26</td>\n",
       "      <td>Each of the three-digits numbers $111$ to $999...</td>\n",
       "      <td>250</td>\n",
       "    </tr>\n",
       "    <tr>\n",
       "      <th>2</th>\n",
       "      <td>2fc4ad</td>\n",
       "      <td>Let the `sparkle' operation on positive intege...</td>\n",
       "      <td>702</td>\n",
       "    </tr>\n",
       "  </tbody>\n",
       "</table>\n",
       "</div>"
      ],
      "text/plain": [
       "       id                                            problem  answer\n",
       "0  229ee8  Let $k, l > 0$ be parameters. The parabola $y ...      52\n",
       "1  246d26  Each of the three-digits numbers $111$ to $999...     250\n",
       "2  2fc4ad  Let the `sparkle' operation on positive intege...     702"
      ]
     },
     "execution_count": 2,
     "metadata": {},
     "output_type": "execute_result"
    }
   ],
   "source": [
    "q_df = pd.read_csv('./train.csv')\n",
    "print(q_df.iloc[0]['problem'])\n",
    "q_df.iloc[0]['answer']\n",
    "q_df[:3]"
   ]
  },
  {
   "cell_type": "code",
   "execution_count": 3,
   "id": "23aca986-4919-4507-8a65-44c730a8e833",
   "metadata": {
    "tags": []
   },
   "outputs": [
    {
     "name": "stdout",
     "output_type": "stream",
     "text": [
      "(4748, 6) (3119, 6)\n"
     ]
    }
   ],
   "source": [
    "from MATH.math_equivalence import is_equiv\n",
    "def extract_answer(text, boxed_in_tool_instruction=True):\n",
    "    pattern = r\"\\\\boxed\\{([^}]*)\\}\"\n",
    "    matches = re.findall(pattern, text)\n",
    "    n_matches = 2 if boxed_in_tool_instruction else 1\n",
    "    \n",
    "    if len(matches) >= n_matches:\n",
    "        try:\n",
    "            return int(matches[-1]) % 1000\n",
    "        except ValueError:\n",
    "            return None\n",
    "\n",
    "    numbers = re.findall(r'[+-]?\\d+', text)\n",
    "    return int(numbers[-1]) % 1000 if numbers else -1\n",
    "\n",
    "def extract_correct(text):\n",
    "    return extract_answer(text, False)\n",
    "\n",
    "def read_math_data(folder_path, train_test):\n",
    "    folder = Path(folder_path)\n",
    "    math_data = []\n",
    "    for sub_folder in os.listdir(folder):\n",
    "        if not os.path.isdir(folder/sub_folder):\n",
    "            continue\n",
    "        for file_name in os.listdir(folder/sub_folder):\n",
    "            if file_name.endswith('.json'):\n",
    "                with open(folder / sub_folder / file_name, 'r') as file:\n",
    "                    data = json.load(file)\n",
    "                    data['id'] = train_test + '-' + sub_folder + '-' + file_name[:-5]\n",
    "                    math_data.append(data)\n",
    "    return pd.DataFrame(math_data)\n",
    "\n",
    "math_train = read_math_data('./MATH/train', 'train')\n",
    "math_train['answer'] = math_train['solution'].map(extract_correct)\n",
    "math_train = math_train[math_train['answer'].notnull()]\n",
    "math_train['answer'] = math_train['answer'].astype(int)\n",
    "math_test = read_math_data('./MATH/test', 'test')\n",
    "math_test['answer'] = math_test['solution'].map(extract_correct)\n",
    "math_test = math_test[math_test['answer'].notnull()]\n",
    "math_test['answer'] = math_test['answer'].astype(int)\n",
    "print(math_train.shape, math_test.shape)"
   ]
  },
  {
   "cell_type": "markdown",
   "id": "ec196a18-24b6-4383-9a1f-7b345ade501b",
   "metadata": {},
   "source": [
    "- 1 yes\n",
    "- 2 no\n",
    "- 3 no\n",
    "- 4 yes\n",
    "- 5 maybe\n",
    "- 6 maybe\n",
    "- 7 yes\n",
    "- 8 maybe\n",
    "- 9 yes\n",
    "- 10 no"
   ]
  },
  {
   "cell_type": "code",
   "execution_count": 4,
   "id": "ac1089cd-82bd-41f6-aed1-d04f2a343063",
   "metadata": {
    "tags": []
   },
   "outputs": [
    {
     "data": {
      "text/plain": [
       "Index(['problem', 'level', 'type', 'solution', 'id', 'answer'], dtype='object')"
      ]
     },
     "execution_count": 4,
     "metadata": {},
     "output_type": "execute_result"
    }
   ],
   "source": [
    "math_samp = math_test[math_test['level'].isin(['Level 1', 'Level 2', 'Level 3', 'Level 4', 'Level 5'])].sample(n_questions)\n",
    "math_samp.columns"
   ]
  },
  {
   "cell_type": "code",
   "execution_count": 5,
   "id": "cc5cafd3-df78-4efd-a2bd-1e960386fb90",
   "metadata": {
    "tags": []
   },
   "outputs": [
    {
     "data": {
      "text/html": [
       "<div>\n",
       "<style scoped>\n",
       "    .dataframe tbody tr th:only-of-type {\n",
       "        vertical-align: middle;\n",
       "    }\n",
       "\n",
       "    .dataframe tbody tr th {\n",
       "        vertical-align: top;\n",
       "    }\n",
       "\n",
       "    .dataframe thead th {\n",
       "        text-align: right;\n",
       "    }\n",
       "</style>\n",
       "<table border=\"1\" class=\"dataframe\">\n",
       "  <thead>\n",
       "    <tr style=\"text-align: right;\">\n",
       "      <th></th>\n",
       "      <th>problem</th>\n",
       "      <th>level</th>\n",
       "      <th>type</th>\n",
       "      <th>solution</th>\n",
       "      <th>id</th>\n",
       "      <th>answer</th>\n",
       "    </tr>\n",
       "  </thead>\n",
       "  <tbody>\n",
       "    <tr>\n",
       "      <th>2857</th>\n",
       "      <td>Given $2^a = 32$ and $a^b = 125$ find $b^a$.</td>\n",
       "      <td>Level 1</td>\n",
       "      <td>Algebra</td>\n",
       "      <td>We note that $32 = 2 \\cdot 2\\cdot 2\\cdot 2\\cdo...</td>\n",
       "      <td>test-algebra-756</td>\n",
       "      <td>243</td>\n",
       "    </tr>\n",
       "    <tr>\n",
       "      <th>3540</th>\n",
       "      <td>How many distinct three-letter sequences with ...</td>\n",
       "      <td>Level 5</td>\n",
       "      <td>Counting &amp; Probability</td>\n",
       "      <td>We solve by casework.\\n\\n$\\bullet$ Case I: Exa...</td>\n",
       "      <td>test-counting_and_probability-381</td>\n",
       "      <td>48</td>\n",
       "    </tr>\n",
       "    <tr>\n",
       "      <th>3975</th>\n",
       "      <td>Compute $\\cos 180^\\circ$.</td>\n",
       "      <td>Level 1</td>\n",
       "      <td>Precalculus</td>\n",
       "      <td>Rotating the point $(1,0)$ about the origin by...</td>\n",
       "      <td>test-precalculus-1282</td>\n",
       "      <td>999</td>\n",
       "    </tr>\n",
       "  </tbody>\n",
       "</table>\n",
       "</div>"
      ],
      "text/plain": [
       "                                                problem    level  \\\n",
       "2857       Given $2^a = 32$ and $a^b = 125$ find $b^a$.  Level 1   \n",
       "3540  How many distinct three-letter sequences with ...  Level 5   \n",
       "3975                          Compute $\\cos 180^\\circ$.  Level 1   \n",
       "\n",
       "                        type  \\\n",
       "2857                 Algebra   \n",
       "3540  Counting & Probability   \n",
       "3975             Precalculus   \n",
       "\n",
       "                                               solution  \\\n",
       "2857  We note that $32 = 2 \\cdot 2\\cdot 2\\cdot 2\\cdo...   \n",
       "3540  We solve by casework.\\n\\n$\\bullet$ Case I: Exa...   \n",
       "3975  Rotating the point $(1,0)$ about the origin by...   \n",
       "\n",
       "                                     id  answer  \n",
       "2857                   test-algebra-756     243  \n",
       "3540  test-counting_and_probability-381      48  \n",
       "3975              test-precalculus-1282     999  "
      ]
     },
     "metadata": {},
     "output_type": "display_data"
    }
   ],
   "source": [
    "# with pd.option_context('display.max_rows', None):\n",
    "display(math_samp[:3])"
   ]
  },
  {
   "cell_type": "markdown",
   "id": "d9622bee-4a97-4f2c-ba83-292e0552840b",
   "metadata": {},
   "source": [
    "# Batched Inference"
   ]
  },
  {
   "cell_type": "code",
   "execution_count": 6,
   "id": "7dddc6a4-1c58-49df-9ef7-d7970cdbcf89",
   "metadata": {
    "tags": []
   },
   "outputs": [],
   "source": [
    "short_instruction = \"\\nPlease reason step by step and use Python code. The final answer is an integer and should be placed within \\\\boxed{}.\"\n",
    "short_code_instruction = \"\\nDescribe a high level strategy to solve the problem. Output Python with SymPy code to solve the problem. The final answer is an integer and should be placed within \\\\boxed{}.\"\n",
    "derive_instruction_long = \"\\nFirst translate the problem into equations and try to derive useful other equations.\\n\" \\\n",
    "                          + \"Then use Python code to solve the problem. The final answer is an integer and should be placed within \\\\boxed{}.\"\n",
    "early_win_instruction = \"\"\"\\nTo solve the problem first determine a sympy-based approach for solving the problem by listing each step to take and what functions need to be called in each step.\\n\n",
    "Write a Python script covering all the steps and print the result. The final answer is an integer and should be placed within \\\\boxed{}.\n",
    "\n",
    "Approach:\"\"\"\n",
    "\n",
    "prompt_variations = {\n",
    "    'short_instruction' : short_instruction,\n",
    "    'short_code_instruction' : short_code_instruction,\n",
    "    'derive_instruction_long': derive_instruction_long,\n",
    "    'early_win_instruction': early_win_instruction\n",
    "}"
   ]
  },
  {
   "cell_type": "code",
   "execution_count": 25,
   "id": "197315b8-34ae-4427-acca-7bcb0b007f9d",
   "metadata": {
    "tags": []
   },
   "outputs": [],
   "source": [
    "def is_iterable(var):\n",
    "    try:\n",
    "        iter(var)\n",
    "        return True\n",
    "    except TypeError:\n",
    "        return False\n",
    "\n",
    "def creat_chat_prompt_df(problems):\n",
    "    if not is_iterable(problems):\n",
    "        problems = [problems]\n",
    "    with_chat_prompts = []\n",
    "    for rep in range(n_reps_per_prompt):\n",
    "        for inst_idx, short_and_full_inst in enumerate(prompt_variations.items()):\n",
    "            for i, problem in enumerate(problems):\n",
    "                instruction = short_and_full_inst[1]\n",
    "                prompt = problem + instruction\n",
    "                messages = [{\"role\": \"user\", \"content\": prompt}]\n",
    "                chat_prompt = vtokenizer.apply_chat_template(messages, add_generation_prompt=True, tokenize=False)\n",
    "                with_chat_prompts.append({\n",
    "                    'problem_id': math_samp.iloc[i]['id'],\n",
    "                    'problem': math_samp.iloc[i]['problem'],\n",
    "                    'correct_answer': math_samp.iloc[i]['answer'],\n",
    "                    'iteration': 0,\n",
    "                    'rep': rep * len(prompt_variations) + inst_idx,\n",
    "                    'level': math_samp.iloc[i]['level'],\n",
    "                    'type': math_samp.iloc[i]['type'],\n",
    "                    'prompt_variation': short_and_full_inst[0],\n",
    "                    'raw_prompt': prompt,\n",
    "                    'chat_prompt': chat_prompt\n",
    "                })\n",
    "    return pd.DataFrame(with_chat_prompts)\n",
    "\n",
    "def gen_before_code(df_prompts):\n",
    "    tool_sampling_params = SamplingParams(n=1,\n",
    "                                          temperature=temperature,\n",
    "                                          max_tokens=1400,\n",
    "                                          stop='python',\n",
    "                                          include_stop_str_in_output=True)\n",
    "    before_code_out = vllm.generate(df_prompts['chat_prompt'], tool_sampling_params)\n",
    "\n",
    "    n_out_tokens = 0\n",
    "    out_before_code = []\n",
    "    n_before_code_tokens = []\n",
    "    for output in before_code_out:\n",
    "        out_before_code.append(output.outputs[0].text)\n",
    "        n_before_code_tokens.append(len(output.outputs[0].token_ids))\n",
    "    df_res['out_before_code'] = out_before_code\n",
    "    df_res['n_before_code_tokens'] = n_before_code_tokens\n"
   ]
  },
  {
   "cell_type": "markdown",
   "id": "c6b00550-1b4b-4c16-bf80-59d28482d83b",
   "metadata": {
    "tags": []
   },
   "source": [
    "### !!! Most answers before the code already tried to completely answer the question.\n",
    "\n",
    "### ToDo: Try out a code focussed instruction for code generation"
   ]
  },
  {
   "cell_type": "code",
   "execution_count": 20,
   "id": "9bd9accf-2809-4795-822b-dabe6d5b76e8",
   "metadata": {
    "tags": []
   },
   "outputs": [],
   "source": [
    "def gen_code(df_res):\n",
    "    df_res['code_prompt'] = df_res['chat_prompt'] + df_res['out_before_code']\n",
    "    python_rows = df_res['code_prompt'].str.endswith('python')\n",
    "    df_res.loc[~python_rows, 'code_prompt'] += \"\\n```python\\n\"\n",
    "\n",
    "    code_sampling_params = SamplingParams(n=1,\n",
    "                                          temperature=code_temperature,\n",
    "                                          max_tokens=1900,\n",
    "                                          stop='```')\n",
    "    code_out = vllm.generate(df_res['code_prompt'], code_sampling_params)\n",
    "\n",
    "    code_results = []\n",
    "    n_code_tokens = []\n",
    "    for output in code_out:\n",
    "        code_results.append(output.outputs[0].text)\n",
    "        n_code_tokens.append(len(output.outputs[0].token_ids))\n",
    "    df_res['code'] = code_results\n",
    "    df_res['n_code_tokens'] = n_code_tokens"
   ]
  },
  {
   "cell_type": "code",
   "execution_count": 21,
   "id": "b540c872-9936-4b72-b979-1baa4d505074",
   "metadata": {
    "tags": []
   },
   "outputs": [],
   "source": [
    "def parse_code(output):\n",
    "    if '```python\\n' in output:\n",
    "        try:\n",
    "            output = output.split(python_code_prefix)[-1]\n",
    "        except:\n",
    "            return None   \n",
    "    if '```' in output:\n",
    "        output = output.split('```')[0]\n",
    "    #output = python_default_imports + output\n",
    "    return add_workarounds(output)\n",
    "\n",
    "def add_workarounds(code):\n",
    "    import re\n",
    "    def repl(match):\n",
    "        if \"real\" not in match.group():\n",
    "            return \"{}{}\".format(match.group()[:-1], ', real=True)')\n",
    "        else:\n",
    "            return \"{}{}\".format(match.group()[:-1], ')')\n",
    "    code = re.sub(r\"symbols\\([^)]+\\)\", repl, code)\n",
    "    \n",
    "    pattern = r\"\\s(?:cbrt|root)\\((.*?)(?:, 3)?\\)\"\n",
    "    replacement = r\"real_root(\\1, 3)\"\n",
    "    code = re.sub(pattern, replacement, code)\n",
    "    code = re.sub(r'permutations\\(', 'itertools.permutations(', code)\n",
    "    \n",
    "    code = 'from sympy import *\\nimport math, itertools\\n' + code\n",
    "    if 'np.' in code:\n",
    "        code = 'import numpy as np\\n' + code\n",
    "    return code\n",
    "\n",
    "def run_with_timeout(code, timeout):\n",
    "    #ToDo: check whether sometimes there is a print of the corect result before an exception\n",
    "    \n",
    "    unique_filename = f'code_{uuid.uuid4().hex}.py'\n",
    "    with open(unique_filename, 'w') as fout:\n",
    "        fout.write(code)\n",
    "\n",
    "    batcmd = f'timeout {timeout} {sys.executable} {unique_filename}'\n",
    "    try:\n",
    "        shell_output = subprocess.check_output(batcmd, stderr=subprocess.STDOUT, shell=True).decode('utf8')\n",
    "    except subprocess.CalledProcessError as e:\n",
    "        shell_output = e.output.decode('utf8')  # Get the output which may include Python error messages\n",
    "    try:\n",
    "        out_eval = eval(shell_output.strip())\n",
    "        if type(out_eval) == list:\n",
    "            out_eval = out_eval[0]\n",
    "        code_output = round(float(out_eval)) % 1000  # <----------   !!!!!!!!!!!!   modulo important for competition\n",
    "    except Exception as e:\n",
    "        code_output = shell_output\n",
    "    os.remove(unique_filename)\n",
    "    return code_output\n",
    "\n",
    "def parse_and_run(code):\n",
    "    try:\n",
    "        code = parse_code(code)\n",
    "    except Exception as ex:\n",
    "        return str(ex)\n",
    "    try:\n",
    "        return run_with_timeout(code, code_timeout_secs)\n",
    "    except Exception as ex:\n",
    "        return str(ex)\n",
    "    \n",
    "def run_code_parallel(code_series):\n",
    "    with Pool(processes=n_code_processes) as pool:\n",
    "        return pool.map(parse_and_run, [item for item in code_series])"
   ]
  },
  {
   "cell_type": "code",
   "execution_count": 43,
   "id": "4323cb30-34a5-4746-8179-f66d61a029ef",
   "metadata": {
    "tags": []
   },
   "outputs": [],
   "source": [
    "increasing_code_temperature = code_temperature\n",
    "\n",
    "def retry_code(df_res):\n",
    "    global increasing_code_temperature\n",
    "    for i in range(n_code_retries):\n",
    "        if increasing_code_temperature <= 0.8:\n",
    "            increasing_code_temperature += 0.2\n",
    "        else:\n",
    "            increasing_code_temperature = 1\n",
    "\n",
    "        missing = df_res[df_res['int_code_result'] == -1]\n",
    "        print(f\"{len(missing)} missing or non-numerical code results\")\n",
    "        last_error_lines = missing['code_result'].str.split('\\n').apply(lambda x: '\\n'.join(x[-10:]))\n",
    "        new_user_prompts = missing['raw_prompt'] + '\\nTry to avoid this error from the previous attempt: \\n\\n' + last_error_lines \n",
    "        m_prompts = []\n",
    "        for prompt in new_user_prompts:\n",
    "            messages = [{\"role\": \"user\", \"content\": prompt}]\n",
    "            m_prompt = vtokenizer.apply_chat_template(messages, add_generation_prompt=True, tokenize=False)\n",
    "            m_prompts.append(m_prompt)\n",
    "        missing['code_prompt'] = np.array(m_prompts) + missing['out_before_code']\n",
    "            \n",
    "        code_sampling_params = SamplingParams(n=1,\n",
    "                                          temperature=code_temperature,\n",
    "                                          max_tokens=1900,\n",
    "                                          stop='```')\n",
    "        code_out = vllm.generate(missing['code_prompt'].values, code_sampling_params)\n",
    "\n",
    "        n_out_tokens = 0\n",
    "        code_results = []\n",
    "        n_code_tokens = []\n",
    "        for output in code_out:\n",
    "            code_results.append(output.outputs[0].text)\n",
    "            n_code_tokens.append(len(output.outputs[0].token_ids))\n",
    "        df_res.loc[missing.index, 'code'] = code_results\n",
    "        df_res.loc[missing.index, 'n_code_tokens'] = n_code_tokens\n",
    "\n",
    "        start_time = time.time()\n",
    "        df_res.loc[missing.index, 'code_result'] = run_code_parallel(df_res.loc[missing.index, 'code'])\n",
    "        print(f\"Ran code outputs in {round(time.time() - start_time)}s\")\n",
    "\n",
    "        df_res.loc[missing.index, 'int_code_result'] = pd.to_numeric(df_res.loc[missing.index ,'code_result'], errors='coerce')\n",
    "        df_res['int_code_result'] = df_res['int_code_result'].fillna(-1).astype(int)"
   ]
  },
  {
   "cell_type": "code",
   "execution_count": 37,
   "id": "dd406fdb-0879-4c90-aa28-7c996f99b6f9",
   "metadata": {
    "tags": []
   },
   "outputs": [
    {
     "name": "stderr",
     "output_type": "stream",
     "text": [
      "Processed prompts: 100%|██████████| 120/120 [00:29<00:00,  4.14it/s]\n"
     ]
    }
   ],
   "source": [
    "df_res = creat_chat_prompt_df(math_samp['problem'])\n",
    "gen_before_code(df_res)"
   ]
  },
  {
   "cell_type": "code",
   "execution_count": 38,
   "id": "084df372-fb03-4e6e-aa6a-6781d562da19",
   "metadata": {
    "tags": []
   },
   "outputs": [
    {
     "name": "stdout",
     "output_type": "stream",
     "text": [
      "\n",
      " Row 0:\n",
      " First, we solve $2^a = 32$. We find that $2^5 = 32$, so $a = 5$.\n",
      "Then, we solve $a^b = 125$. We substitute $a = 5$ and get $5^b = 125$. We find that $5^3 = 125$, so $b = 3$.\n",
      "Finally, we need to find $b^a$. We substitute $a = 5$ and $b = 3$ and get $3^5 = 243$.\n",
      "So $b^a = 243$. The answer is: $243$.\n",
      "\n",
      " Row 1:\n",
      " First, we find the total number of all three-letter sequences formed by using three of the six letters of $TARGET$. This is simply $6P3 = 6*5*4 = 120$.\n",
      "\n",
      "Next, we find the number of all three-letter sequences formed by using three of the six letters of $TARGET$ that do not contain the letter $T$. This is simply $4P3 = 4*3*2 = 24$.\n",
      "\n",
      "The number of distinct three-letter sequences with at least one $``T\"$ can be found by subtracting the second result from the first.\n",
      "\n",
      "```python\n",
      "\n",
      " Row 2:\n",
      " The value of $\\cos 180^\\circ$ is $-1$. This can be found using the unit circle or the special right triangles in trigonometry. Therefore, the answer is $\\boxed{-1}$.\n",
      "\n",
      " Row 3:\n",
      " If Beatrice took $25$ seconds to run $100$ meters, then her speed is $\\frac{100}{25}=4$ meters per second.\n",
      "Alice crosses the finish line $5$ seconds before Beatrice, so it took Alice $25-5=20$ seconds to run $100$ meters.\n",
      "Alice's speed is $\\frac{100}{20}=5$ meters per second.\n",
      "To find out how many seconds it would take Alice to run $50$ meters, we can use the formula time = distance / speed.\n",
      "So the time it takes Alice to run $50$ meters is $\\frac{50}{5}=10$ seconds.\n",
      "```python\n",
      "\n",
      " Row 4:\n",
      " To find the mean of a set of numbers, we add all the numbers together and then divide by the quantity of numbers.\n",
      "\n",
      "The sum of the six test scores is $70 + 80 + 90 + 75 + 80 + 85 = 480$.\n",
      "\n",
      "The mean is the sum divided by the quantity of numbers, so the mean of these six test scores is $480 / 6 = 80$.\n",
      "\n",
      "So the mean of these six test scores is 80.\n",
      "\n",
      "Using Python, we can also calculate the mean as follows:\n",
      "\n",
      "```python\n"
     ]
    },
    {
     "data": {
      "image/png": "[encoded data removed]",
      "text/plain": [
       "<Figure size 600x200 with 1 Axes>"
      ]
     },
     "metadata": {},
     "output_type": "display_data"
    }
   ],
   "source": [
    "for i in range(5):\n",
    "    print(f'\\n Row {i}:')\n",
    "    df_res['level'].iloc[i], df_res['problem'].iloc[i], df_res['correct_answer'].iloc[i]\n",
    "    print(df_res['out_before_code'].iloc[i])\n",
    "_= df_res['n_before_code_tokens'].hist(figsize=(6,2))"
   ]
  },
  {
   "cell_type": "code",
   "execution_count": 39,
   "id": "01c51db0-824f-477d-943c-8dbcac872e4a",
   "metadata": {
    "tags": []
   },
   "outputs": [
    {
     "name": "stderr",
     "output_type": "stream",
     "text": [
      "Processed prompts: 100%|██████████| 120/120 [00:09<00:00, 12.76it/s]\n"
     ]
    }
   ],
   "source": [
    "gen_code(df_res)"
   ]
  },
  {
   "cell_type": "code",
   "execution_count": 40,
   "id": "8c5fbbe1-65a5-4969-bd41-ef098e5bb9fa",
   "metadata": {
    "tags": []
   },
   "outputs": [
    {
     "name": "stdout",
     "output_type": "stream",
     "text": [
      "Ran code outputs in 3s\n"
     ]
    }
   ],
   "source": [
    "df_res['parsed_code'] = df_res['code'].map(parse_code)\n",
    "start_time = time.time()\n",
    "df_res['code_result'] = run_code_parallel(df_res['code'])\n",
    "print(f\"Ran code outputs in {round(time.time() - start_time)}s\")\n",
    "df_res['int_code_result'] = pd.to_numeric(df_res['code_result'], errors='coerce')\n",
    "df_res['int_code_result'].fillna(-1, inplace=True)"
   ]
  },
  {
   "cell_type": "code",
   "execution_count": 41,
   "id": "2557415d-6058-4549-ae0c-6398e9c45122",
   "metadata": {
    "tags": []
   },
   "outputs": [
    {
     "data": {
      "image/png": "[encoded data removed]",
      "text/plain": [
       "<Figure size 600x200 with 1 Axes>"
      ]
     },
     "metadata": {},
     "output_type": "display_data"
    }
   ],
   "source": [
    "_= df_res['n_code_tokens'].hist(figsize=(6,2))"
   ]
  },
  {
   "cell_type": "code",
   "execution_count": 42,
   "id": "fe408fe7-077d-4a96-ade7-6fe61d1bf1d9",
   "metadata": {
    "tags": []
   },
   "outputs": [
    {
     "name": "stderr",
     "output_type": "stream",
     "text": [
      "/tmp/ipykernel_5796/59411222.py:21: SettingWithCopyWarning: \n",
      "A value is trying to be set on a copy of a slice from a DataFrame.\n",
      "Try using .loc[row_indexer,col_indexer] = value instead\n",
      "\n",
      "See the caveats in the documentation: https://pandas.pydata.org/pandas-docs/stable/user_guide/indexing.html#returning-a-view-versus-a-copy\n",
      "  missing['code_prompt'] = np.array(m_prompts) + missing['out_before_code']\n"
     ]
    },
    {
     "name": "stdout",
     "output_type": "stream",
     "text": [
      "10 missing or non-numerical code results\n",
      "<｜begin▁of▁sentence｜>User: Find the integer that lies between $\\sqrt[3]{-45}$ and $\\sqrt[3]{-101}$.\n",
      "Please reason step by step and use Python code. The final answer is an integer and should be placed within \\boxed{}.\n",
      "Try to avoid this error from the previous attempt: \n",
      "\n",
      "Traceback (most recent call last):\n",
      "  File \"/home/daniel/code/math-ai/code_144181b911204290a7027520b2683d6e.py\", line 15, in <module>\n",
      "    result = find_integer()\n",
      "             ^^^^^^^^^^^^^^\n",
      "  File \"/home/daniel/code/math-ai/code_144181b911204290a7027520b2683d6e.py\", line 11, in find_integer\n",
      "    for i in range(lower_bound, upper_bound):\n",
      "             ^^^^^^^^^^^^^^^^^^^^^^^^^^^^^^^\n",
      "TypeError: 'float' object cannot be interpreted as an integer\n",
      "\n",
      "\n",
      "Assistant: We can use Python's built-in `cbrt` function to find the cube roots of -45 and -101.\n",
      "\n",
      "```python\n"
     ]
    },
    {
     "name": "stderr",
     "output_type": "stream",
     "text": [
      "Processed prompts: 100%|██████████| 10/10 [00:02<00:00,  4.06it/s]\n",
      "/tmp/ipykernel_5796/59411222.py:21: SettingWithCopyWarning: \n",
      "A value is trying to be set on a copy of a slice from a DataFrame.\n",
      "Try using .loc[row_indexer,col_indexer] = value instead\n",
      "\n",
      "See the caveats in the documentation: https://pandas.pydata.org/pandas-docs/stable/user_guide/indexing.html#returning-a-view-versus-a-copy\n",
      "  missing['code_prompt'] = np.array(m_prompts) + missing['out_before_code']\n"
     ]
    },
    {
     "name": "stdout",
     "output_type": "stream",
     "text": [
      "Ran code outputs in 0s\n",
      "8 missing or non-numerical code results\n",
      "<｜begin▁of▁sentence｜>User: Find the integer that lies between $\\sqrt[3]{-45}$ and $\\sqrt[3]{-101}$.\n",
      "Please reason step by step and use Python code. The final answer is an integer and should be placed within \\boxed{}.\n",
      "Try to avoid this error from the previous attempt: \n",
      "\n",
      "None\n",
      "\n",
      "\n",
      "Assistant: We can use Python's built-in `cbrt` function to find the cube roots of -45 and -101.\n",
      "\n",
      "```python\n"
     ]
    },
    {
     "name": "stderr",
     "output_type": "stream",
     "text": [
      "Processed prompts: 100%|██████████| 8/8 [00:02<00:00,  3.51it/s]\n",
      "/tmp/ipykernel_5796/59411222.py:21: SettingWithCopyWarning: \n",
      "A value is trying to be set on a copy of a slice from a DataFrame.\n",
      "Try using .loc[row_indexer,col_indexer] = value instead\n",
      "\n",
      "See the caveats in the documentation: https://pandas.pydata.org/pandas-docs/stable/user_guide/indexing.html#returning-a-view-versus-a-copy\n",
      "  missing['code_prompt'] = np.array(m_prompts) + missing['out_before_code']\n"
     ]
    },
    {
     "name": "stdout",
     "output_type": "stream",
     "text": [
      "Ran code outputs in 0s\n",
      "7 missing or non-numerical code results\n",
      "<｜begin▁of▁sentence｜>User: Find the integer that lies between $\\sqrt[3]{-45}$ and $\\sqrt[3]{-101}$.\n",
      "Please reason step by step and use Python code. The final answer is an integer and should be placed within \\boxed{}.\n",
      "Try to avoid this error from the previous attempt: \n",
      "\n",
      "None\n",
      "\n",
      "\n",
      "Assistant: We can use Python's built-in `cbrt` function to find the cube roots of -45 and -101.\n",
      "\n",
      "```python\n"
     ]
    },
    {
     "name": "stderr",
     "output_type": "stream",
     "text": [
      "Processed prompts: 100%|██████████| 7/7 [00:02<00:00,  3.21it/s]\n",
      "/tmp/ipykernel_5796/59411222.py:21: SettingWithCopyWarning: \n",
      "A value is trying to be set on a copy of a slice from a DataFrame.\n",
      "Try using .loc[row_indexer,col_indexer] = value instead\n",
      "\n",
      "See the caveats in the documentation: https://pandas.pydata.org/pandas-docs/stable/user_guide/indexing.html#returning-a-view-versus-a-copy\n",
      "  missing['code_prompt'] = np.array(m_prompts) + missing['out_before_code']\n"
     ]
    },
    {
     "name": "stdout",
     "output_type": "stream",
     "text": [
      "Ran code outputs in 0s\n",
      "6 missing or non-numerical code results\n",
      "<｜begin▁of▁sentence｜>User: Find the integer that lies between $\\sqrt[3]{-45}$ and $\\sqrt[3]{-101}$.\n",
      "Please reason step by step and use Python code. The final answer is an integer and should be placed within \\boxed{}.\n",
      "Try to avoid this error from the previous attempt: \n",
      "\n",
      "None\n",
      "\n",
      "\n",
      "Assistant: We can use Python's built-in `cbrt` function to find the cube roots of -45 and -101.\n",
      "\n",
      "```python\n"
     ]
    },
    {
     "name": "stderr",
     "output_type": "stream",
     "text": [
      "Processed prompts: 100%|██████████| 6/6 [00:01<00:00,  3.13it/s]\n"
     ]
    },
    {
     "name": "stdout",
     "output_type": "stream",
     "text": [
      "Ran code outputs in 0s\n",
      "6 missing or non-numerical code results\n"
     ]
    }
   ],
   "source": [
    "retry_code(df_res)\n",
    "missing = df_res[df_res['int_code_result'] == -1]\n",
    "print(f\"{len(missing)} missing or non-numerical code results\")"
   ]
  },
  {
   "cell_type": "code",
   "execution_count": null,
   "id": "4c05508a-1c4f-4bdb-945b-54fc96250826",
   "metadata": {
    "tags": []
   },
   "outputs": [],
   "source": [
    "missing['code_prompt'].str.len().hist(figsize=(6,3))"
   ]
  },
  {
   "cell_type": "code",
   "execution_count": 24,
   "id": "1cb05da5-db6d-4e18-bd5c-8aa49bb77f37",
   "metadata": {
    "tags": []
   },
   "outputs": [
    {
     "data": {
      "text/plain": [
       "<Axes: >"
      ]
     },
     "execution_count": 24,
     "metadata": {},
     "output_type": "execute_result"
    },
    {
     "data": {
      "image/png": "[encoded data removed]",
      "text/plain": [
       "<Figure size 640x480 with 1 Axes>"
      ]
     },
     "metadata": {},
     "output_type": "display_data"
    }
   ],
   "source": [
    "last_error_lines.str.len().hist(figsize=(6,3))"
   ]
  },
  {
   "cell_type": "markdown",
   "id": "fff91346-7c0d-4ab2-884f-c3276de83fbb",
   "metadata": {},
   "source": [
    "### Inspect code errors"
   ]
  },
  {
   "cell_type": "code",
   "execution_count": 25,
   "id": "dae501ee-d395-474f-b6f6-72c7a312722c",
   "metadata": {
    "tags": []
   },
   "outputs": [
    {
     "data": {
      "text/plain": [
       "'<｜begin▁of▁sentence｜>User: Find the minimum value of $\\\\frac{9x^2\\\\sin^2 x + 4}{x\\\\sin x}$ for $0 < x < \\\\pi.$\\nPlease reason step by step and use Python code. The final answer is an integer and should be placed within \\\\boxed{}.\\nTry to avoid this error from the previous attempt: \\n\\n    return _derivative_dispatch(self, *symbols, **assumptions)\\n           ^^^^^^^^^^^^^^^^^^^^^^^^^^^^^^^^^^^^^^^^^^^^^^^^^^^\\n  File \"/home/daniel/mambaforge/envs/pytorch/lib/python3.11/site-packages/sympy/core/function.py\", line 1909, in _derivative_dispatch\\n    return Derivative(expr, *variables, **kwargs)\\n           ^^^^^^^^^^^^^^^^^^^^^^^^^^^^^^^^^^^^^^\\n  File \"/home/daniel/mambaforge/envs/pytorch/lib/python3.11/site-packages/sympy/core/function.py\", line 1334, in __new__\\n    raise ValueError(filldedent(\\'\\'\\'\\nValueError: \\nCan\\'t calculate derivative wrt x*sin(x).\\n\\n\\nAssistant: We can rewrite the expression as $\\\\frac{9x^2\\\\sin^2 x + 4}{x\\\\sin x} = 9x\\\\sin x + \\\\frac{4}{x\\\\sin x}$.\\n\\nNow, let\\'s call $y = x\\\\sin x$. Then the expression becomes $9y + \\\\frac{4}{y}$.\\n\\nTo find the minimum of this expression, we can take the derivative with respect to $y$ and set it equal to zero.\\n\\nThe derivative of $9y + \\\\frac{4}{y}$ with respect to $y$ is $9 - \\\\frac{4}{y^2}$. Setting this equal to zero gives $9 = \\\\frac{4}{y^2}$, or $y^2 = \\\\frac{4}{9}$. Taking the positive square root (since $y = x\\\\sin x$ is positive for $0 < x < \\\\pi$), we have $y = \\\\frac{2}{3}$.\\n\\nSubstituting $y = \\\\frac{2}{3}$ back into the expression $9y + \\\\frac{4}{y}$, we get $9\\\\left(\\\\frac{2}{3}\\\\right) + \\\\frac{4}{\\\\frac{2}{3}} = 6 + 6 = 12$.\\n\\nSo the minimum value of $\\\\frac{9x^2\\\\sin^2 x + 4}{x\\\\sin x}$ for $0 < x < \\\\pi$ is 12. The answer is: $12$'"
      ]
     },
     "execution_count": 25,
     "metadata": {},
     "output_type": "execute_result"
    }
   ],
   "source": [
    "missing['code_prompt'].iloc[0]"
   ]
  },
  {
   "cell_type": "code",
   "execution_count": 26,
   "id": "99f219be-ca70-498e-9e95-b6fcf7b5fc78",
   "metadata": {
    "tags": []
   },
   "outputs": [],
   "source": [
    "rows = df_res['int_code_result'] == -1"
   ]
  },
  {
   "cell_type": "code",
   "execution_count": 34,
   "id": "e2808079-7f1f-4c55-bb06-ed7db6e3fc4a",
   "metadata": {
    "tags": []
   },
   "outputs": [],
   "source": [
    "df_res"
   ]
  },
  {
   "cell_type": "code",
   "execution_count": 33,
   "id": "5d79a166-e2c6-46cc-bac6-d0481be4a638",
   "metadata": {
    "tags": []
   },
   "outputs": [
    {
     "name": "stdout",
     "output_type": "stream",
     "text": [
      "\n",
      "Row 0\n"
     ]
    },
    {
     "ename": "AttributeError",
     "evalue": "'NoneType' object has no attribute 'iloc'",
     "output_type": "error",
     "traceback": [
      "\u001b[0;31m---------------------------------------------------------------------------\u001b[0m",
      "\u001b[0;31mAttributeError\u001b[0m                            Traceback (most recent call last)",
      "Cell \u001b[0;32mIn[33], line 3\u001b[0m\n\u001b[1;32m      1\u001b[0m \u001b[38;5;28;01mfor\u001b[39;00m i \u001b[38;5;129;01min\u001b[39;00m \u001b[38;5;28mrange\u001b[39m(\u001b[38;5;241m3\u001b[39m):\n\u001b[1;32m      2\u001b[0m     \u001b[38;5;28mprint\u001b[39m(\u001b[38;5;124mf\u001b[39m\u001b[38;5;124m'\u001b[39m\u001b[38;5;130;01m\\n\u001b[39;00m\u001b[38;5;124mRow \u001b[39m\u001b[38;5;132;01m{\u001b[39;00mi\u001b[38;5;132;01m}\u001b[39;00m\u001b[38;5;124m'\u001b[39m) \n\u001b[0;32m----> 3\u001b[0m     \u001b[38;5;28mprint\u001b[39m(df_res\u001b[38;5;241m.\u001b[39miloc[i][\u001b[38;5;124m'\u001b[39m\u001b[38;5;124mproblem\u001b[39m\u001b[38;5;124m'\u001b[39m])\n\u001b[1;32m      4\u001b[0m     \u001b[38;5;28mprint\u001b[39m(df_res\u001b[38;5;241m.\u001b[39miloc[i][\u001b[38;5;124m'\u001b[39m\u001b[38;5;124mparsed_code\u001b[39m\u001b[38;5;124m'\u001b[39m])\n",
      "\u001b[0;31mAttributeError\u001b[0m: 'NoneType' object has no attribute 'iloc'"
     ]
    }
   ],
   "source": [
    "for i in range(3):\n",
    "    print(f'\\nRow {i}') \n",
    "    print(df_res.iloc[i]['problem'])\n",
    "    print(df_res.iloc[i]['parsed_code'])"
   ]
  },
  {
   "cell_type": "code",
   "execution_count": 29,
   "id": "07f2f77b-eadd-4317-b48c-cd6e826bd980",
   "metadata": {
    "tags": []
   },
   "outputs": [
    {
     "name": "stdout",
     "output_type": "stream",
     "text": [
      "from sympy import *\n",
      "import math, itertools\n",
      "from sympy import symbols, diff, solve, sin\n",
      "\n",
      "def find_minimum():\n",
      "    x = symbols('x', real=True)\n",
      "    y = x * sin(x)\n",
      "    expr = 9 * y + 4 / y\n",
      "    expr_derivative = diff(expr, y)\n",
      "    critical_points = solve(expr_derivative, y)\n",
      "    minimum_value = expr.subs(y, critical_points[0])\n",
      "    return minimum_value\n",
      "\n",
      "minimum_value = find_minimum()\n",
      "print(minimum_value)\n",
      "\n"
     ]
    }
   ],
   "source": []
  },
  {
   "cell_type": "code",
   "execution_count": 30,
   "id": "15bcf968-e42e-4d12-8ef1-3d2e21b7799a",
   "metadata": {
    "tags": []
   },
   "outputs": [
    {
     "name": "stdout",
     "output_type": "stream",
     "text": [
      "Traceback (most recent call last):\n",
      "  File \"/home/daniel/code/math-ai/code_f676bbd5ed6c4267a0668811ab57d82e.py\", line 14, in <module>\n",
      "    minimum_value = find_minimum()\n",
      "                    ^^^^^^^^^^^^^^\n",
      "  File \"/home/daniel/code/math-ai/code_f676bbd5ed6c4267a0668811ab57d82e.py\", line 9, in find_minimum\n",
      "    expr_derivative = diff(expr, y)\n",
      "                      ^^^^^^^^^^^^^\n",
      "  File \"/home/daniel/mambaforge/envs/pytorch/lib/python3.11/site-packages/sympy/core/function.py\", line 2482, in diff\n",
      "    return f.diff(*symbols, **kwargs)\n",
      "           ^^^^^^^^^^^^^^^^^^^^^^^^^^\n",
      "  File \"/home/daniel/mambaforge/envs/pytorch/lib/python3.11/site-packages/sympy/core/expr.py\", line 3586, in diff\n",
      "    return _derivative_dispatch(self, *symbols, **assumptions)\n",
      "           ^^^^^^^^^^^^^^^^^^^^^^^^^^^^^^^^^^^^^^^^^^^^^^^^^^^\n",
      "  File \"/home/daniel/mambaforge/envs/pytorch/lib/python3.11/site-packages/sympy/core/function.py\", line 1909, in _derivative_dispatch\n",
      "    return Derivative(expr, *variables, **kwargs)\n",
      "           ^^^^^^^^^^^^^^^^^^^^^^^^^^^^^^^^^^^^^^\n",
      "  File \"/home/daniel/mambaforge/envs/pytorch/lib/python3.11/site-packages/sympy/core/function.py\", line 1334, in __new__\n",
      "    raise ValueError(filldedent('''\n",
      "ValueError: \n",
      "Can't calculate derivative wrt x*sin(x).\n",
      "\n"
     ]
    }
   ],
   "source": [
    "print(run_with_timeout(df_res[rows]['parsed_code'].iloc[i], 3))"
   ]
  },
  {
   "cell_type": "code",
   "execution_count": 31,
   "id": "b4b9539b-4eaa-492e-8847-e1f952bfdf2f",
   "metadata": {
    "tags": []
   },
   "outputs": [
    {
     "name": "stdout",
     "output_type": "stream",
     "text": [
      "Traceback (most recent call last):\n",
      "  File \"/home/daniel/code/math-ai/code_7ba7511941a84f02b63710fd68f0e302.py\", line 14, in <module>\n",
      "    minimum_value = find_minimum()\n",
      "                    ^^^^^^^^^^^^^^\n",
      "  File \"/home/daniel/code/math-ai/code_7ba7511941a84f02b63710fd68f0e302.py\", line 9, in find_minimum\n",
      "    expr_derivative = diff(expr, y)\n",
      "                      ^^^^^^^^^^^^^\n",
      "  File \"/home/daniel/mambaforge/envs/pytorch/lib/python3.11/site-packages/sympy/core/function.py\", line 2482, in diff\n",
      "    return f.diff(*symbols, **kwargs)\n",
      "           ^^^^^^^^^^^^^^^^^^^^^^^^^^\n",
      "  File \"/home/daniel/mambaforge/envs/pytorch/lib/python3.11/site-packages/sympy/core/expr.py\", line 3586, in diff\n",
      "    return _derivative_dispatch(self, *symbols, **assumptions)\n",
      "           ^^^^^^^^^^^^^^^^^^^^^^^^^^^^^^^^^^^^^^^^^^^^^^^^^^^\n",
      "  File \"/home/daniel/mambaforge/envs/pytorch/lib/python3.11/site-packages/sympy/core/function.py\", line 1909, in _derivative_dispatch\n",
      "    return Derivative(expr, *variables, **kwargs)\n",
      "           ^^^^^^^^^^^^^^^^^^^^^^^^^^^^^^^^^^^^^^\n",
      "  File \"/home/daniel/mambaforge/envs/pytorch/lib/python3.11/site-packages/sympy/core/function.py\", line 1334, in __new__\n",
      "    raise ValueError(filldedent('''\n",
      "ValueError: \n",
      "Can't calculate derivative wrt x*sin(x).\n",
      "\n"
     ]
    }
   ],
   "source": [
    "print(run_with_timeout(df_res[rows]['parsed_code'].iloc[i], 3))"
   ]
  },
  {
   "cell_type": "code",
   "execution_count": null,
   "id": "93df5f67-1a76-4044-8ae1-ce13cb9a57b3",
   "metadata": {},
   "outputs": [],
   "source": []
  },
  {
   "cell_type": "code",
   "execution_count": 32,
   "id": "2a9c0659-dbe1-4f27-9e29-8d6d3a9407b4",
   "metadata": {
    "tags": []
   },
   "outputs": [
    {
     "data": {
      "text/plain": [
       "array(['243', '96', '999', '10', '80', '2', '4', '996', '40', '50', '23',\n",
       "       '6', '75', '3', '21', '21', '78', '14', '2', '0', '11', '10', '4',\n",
       "       '5', '500', '1', '18', '0', '1', '9', '999', '2', '88', '999', '7',\n",
       "       '2', '5', '1', 'Traceback ', '1', 'Traceback ', '189', '231', '31',\n",
       "       '16', '672', 'Traceback ', '-2 + 2*pi\\n', '4', '24', '4', '6',\n",
       "       '12', '[]\\n', '21', '10', '9', '9', '20', '', '0', '36', '111', '',\n",
       "       '25', '42', '143', '3', 'Traceback ', '4', '2', '24', '2', '997',\n",
       "       '8', '[(-18/d2, ', '31', '979', '96*sqrt(13', '80', '16', '372',\n",
       "       '5', '198', '13', 'Traceback ', '3*sqrt(5) ', '4', '90', '2', '2',\n",
       "       '12', '0', '3', '280', '668', '230', '5', '992', '56'],\n",
       "      dtype=object)"
      ]
     },
     "execution_count": 32,
     "metadata": {},
     "output_type": "execute_result"
    }
   ],
   "source": [
    "df_res['code_result'].astype(str).str.slice(0, 10).values[:100]"
   ]
  },
  {
   "cell_type": "markdown",
   "id": "b4d383b5-5638-4df3-9720-712dc83afe31",
   "metadata": {},
   "source": [
    "## Use output to generate answer"
   ]
  },
  {
   "cell_type": "code",
   "execution_count": 33,
   "id": "e5839333-80dd-4999-b799-c15432cf3c98",
   "metadata": {
    "tags": []
   },
   "outputs": [
    {
     "name": "stderr",
     "output_type": "stream",
     "text": [
      "Processed prompts:  37%|███▋      | 826/2232 [20:47<35:23,  1.51s/it]\n",
      "Processed prompts:   6%|▌         | 691/12000 [02:15<22:59,  8.20it/s]  "
     ]
    },
    {
     "name": "stdout",
     "output_type": "stream",
     "text": [
      "WARNING 04-30 18:54:43 scheduler.py:245] Input prompt (2057 tokens) is too long and exceeds limit of 2048\n"
     ]
    },
    {
     "name": "stderr",
     "output_type": "stream",
     "text": [
      "Processed prompts:   7%|▋         | 825/12000 [02:40<33:05,  5.63it/s]  "
     ]
    },
    {
     "name": "stdout",
     "output_type": "stream",
     "text": [
      "WARNING 04-30 18:55:08 scheduler.py:245] Input prompt (2061 tokens) is too long and exceeds limit of 2048\n"
     ]
    },
    {
     "name": "stderr",
     "output_type": "stream",
     "text": [
      "Processed prompts:   8%|▊         | 983/12000 [03:12<32:50,  5.59it/s]  "
     ]
    },
    {
     "name": "stdout",
     "output_type": "stream",
     "text": [
      "WARNING 04-30 18:55:40 scheduler.py:245] Input prompt (2061 tokens) is too long and exceeds limit of 2048\n"
     ]
    },
    {
     "name": "stderr",
     "output_type": "stream",
     "text": [
      "Processed prompts:  10%|█         | 1232/12000 [04:15<58:33,  3.06it/s]  "
     ]
    },
    {
     "name": "stdout",
     "output_type": "stream",
     "text": [
      "WARNING 04-30 18:56:43 scheduler.py:245] Input prompt (2057 tokens) is too long and exceeds limit of 2048\n"
     ]
    },
    {
     "name": "stderr",
     "output_type": "stream",
     "text": [
      "Processed prompts:  13%|█▎        | 1547/12000 [05:24<2:04:17,  1.40it/s]"
     ]
    },
    {
     "name": "stdout",
     "output_type": "stream",
     "text": [
      "WARNING 04-30 18:57:52 scheduler.py:245] Input prompt (2057 tokens) is too long and exceeds limit of 2048\n"
     ]
    },
    {
     "name": "stderr",
     "output_type": "stream",
     "text": [
      "Processed prompts:  15%|█▌        | 1819/12000 [06:23<23:16,  7.29it/s]  "
     ]
    },
    {
     "name": "stdout",
     "output_type": "stream",
     "text": [
      "WARNING 04-30 18:58:51 scheduler.py:245] Input prompt (2061 tokens) is too long and exceeds limit of 2048\n"
     ]
    },
    {
     "name": "stderr",
     "output_type": "stream",
     "text": [
      "Processed prompts:  19%|█▉        | 2306/12000 [08:19<27:20,  5.91it/s]  "
     ]
    },
    {
     "name": "stdout",
     "output_type": "stream",
     "text": [
      "WARNING 04-30 19:00:47 scheduler.py:245] Input prompt (2057 tokens) is too long and exceeds limit of 2048\n"
     ]
    },
    {
     "name": "stderr",
     "output_type": "stream",
     "text": [
      "Processed prompts:  28%|██▊       | 3361/12000 [12:40<1:28:35,  1.63it/s]"
     ]
    },
    {
     "name": "stdout",
     "output_type": "stream",
     "text": [
      "WARNING 04-30 19:05:08 scheduler.py:245] Input prompt (2057 tokens) is too long and exceeds limit of 2048\n"
     ]
    },
    {
     "name": "stderr",
     "output_type": "stream",
     "text": [
      "Processed prompts:  39%|███▉      | 4731/12000 [17:36<29:20,  4.13it/s]  "
     ]
    },
    {
     "name": "stdout",
     "output_type": "stream",
     "text": [
      "WARNING 04-30 19:10:04 scheduler.py:245] Input prompt (2057 tokens) is too long and exceeds limit of 2048\n"
     ]
    },
    {
     "name": "stderr",
     "output_type": "stream",
     "text": [
      "Processed prompts:  40%|████      | 4837/12000 [18:03<40:45,  2.93it/s]  "
     ]
    },
    {
     "name": "stdout",
     "output_type": "stream",
     "text": [
      "WARNING 04-30 19:10:31 scheduler.py:245] Input prompt (2061 tokens) is too long and exceeds limit of 2048\n"
     ]
    },
    {
     "name": "stderr",
     "output_type": "stream",
     "text": [
      "Processed prompts:  42%|████▏     | 4984/12000 [18:43<45:34,  2.57it/s]  "
     ]
    },
    {
     "name": "stdout",
     "output_type": "stream",
     "text": [
      "WARNING 04-30 19:11:11 scheduler.py:245] Input prompt (2061 tokens) is too long and exceeds limit of 2048\n"
     ]
    },
    {
     "name": "stderr",
     "output_type": "stream",
     "text": [
      "Processed prompts:  43%|████▎     | 5118/12000 [19:14<26:57,  4.25it/s]  "
     ]
    },
    {
     "name": "stdout",
     "output_type": "stream",
     "text": [
      "WARNING 04-30 19:11:42 scheduler.py:245] Input prompt (2057 tokens) is too long and exceeds limit of 2048\n"
     ]
    },
    {
     "name": "stderr",
     "output_type": "stream",
     "text": [
      "Processed prompts:  50%|████▉     | 5947/12000 [22:30<20:03,  5.03it/s]  "
     ]
    },
    {
     "name": "stdout",
     "output_type": "stream",
     "text": [
      "WARNING 04-30 19:14:58 scheduler.py:245] Input prompt (2060 tokens) is too long and exceeds limit of 2048\n"
     ]
    },
    {
     "name": "stderr",
     "output_type": "stream",
     "text": [
      "Processed prompts:  54%|█████▍    | 6523/12000 [24:52<38:58,  2.34it/s]  "
     ]
    },
    {
     "name": "stdout",
     "output_type": "stream",
     "text": [
      "WARNING 04-30 19:17:20 scheduler.py:245] Input prompt (2057 tokens) is too long and exceeds limit of 2048\n"
     ]
    },
    {
     "name": "stderr",
     "output_type": "stream",
     "text": [
      "Processed prompts:  57%|█████▋    | 6868/12000 [26:14<20:13,  4.23it/s]  "
     ]
    },
    {
     "name": "stdout",
     "output_type": "stream",
     "text": [
      "WARNING 04-30 19:18:43 scheduler.py:245] Input prompt (2061 tokens) is too long and exceeds limit of 2048\n"
     ]
    },
    {
     "name": "stderr",
     "output_type": "stream",
     "text": [
      "Processed prompts:  61%|██████    | 7261/12000 [27:47<12:47,  6.17it/s]  "
     ]
    },
    {
     "name": "stdout",
     "output_type": "stream",
     "text": [
      "WARNING 04-30 19:20:15 scheduler.py:245] Input prompt (2057 tokens) is too long and exceeds limit of 2048\n"
     ]
    },
    {
     "name": "stderr",
     "output_type": "stream",
     "text": [
      "Processed prompts:  63%|██████▎   | 7579/12000 [29:10<20:40,  3.57it/s]  "
     ]
    },
    {
     "name": "stdout",
     "output_type": "stream",
     "text": [
      "WARNING 04-30 19:21:38 scheduler.py:245] Input prompt (2057 tokens) is too long and exceeds limit of 2048\n"
     ]
    },
    {
     "name": "stderr",
     "output_type": "stream",
     "text": [
      "Processed prompts:  65%|██████▌   | 7834/12000 [30:10<21:23,  3.25it/s]"
     ]
    },
    {
     "name": "stdout",
     "output_type": "stream",
     "text": [
      "WARNING 04-30 19:22:38 scheduler.py:245] Input prompt (2058 tokens) is too long and exceeds limit of 2048\n"
     ]
    },
    {
     "name": "stderr",
     "output_type": "stream",
     "text": [
      "Processed prompts:  71%|███████   | 8546/12000 [32:28<19:19,  2.98it/s]"
     ]
    },
    {
     "name": "stdout",
     "output_type": "stream",
     "text": [
      "WARNING 04-30 19:24:56 scheduler.py:245] Input prompt (2057 tokens) is too long and exceeds limit of 2048\n",
      "WARNING 04-30 19:24:56 scheduler.py:245] Input prompt (2057 tokens) is too long and exceeds limit of 2048\n"
     ]
    },
    {
     "name": "stderr",
     "output_type": "stream",
     "text": [
      "Processed prompts:  79%|███████▉  | 9509/12000 [36:00<15:06,  2.75it/s]"
     ]
    },
    {
     "name": "stdout",
     "output_type": "stream",
     "text": [
      "WARNING 04-30 19:28:28 scheduler.py:245] Input prompt (2061 tokens) is too long and exceeds limit of 2048\n"
     ]
    },
    {
     "name": "stderr",
     "output_type": "stream",
     "text": [
      "Processed prompts:  82%|████████▏ | 9836/12000 [37:25<18:20,  1.97it/s]"
     ]
    },
    {
     "name": "stdout",
     "output_type": "stream",
     "text": [
      "WARNING 04-30 19:29:53 scheduler.py:245] Input prompt (2061 tokens) is too long and exceeds limit of 2048\n"
     ]
    },
    {
     "name": "stderr",
     "output_type": "stream",
     "text": [
      "Processed prompts:  82%|████████▏ | 9852/12000 [37:32<12:16,  2.92it/s]"
     ]
    },
    {
     "name": "stdout",
     "output_type": "stream",
     "text": [
      "WARNING 04-30 19:30:00 scheduler.py:245] Input prompt (2061 tokens) is too long and exceeds limit of 2048\n"
     ]
    },
    {
     "name": "stderr",
     "output_type": "stream",
     "text": [
      "Processed prompts:  86%|████████▌ | 10312/12000 [39:26<04:13,  6.67it/s]"
     ]
    },
    {
     "name": "stdout",
     "output_type": "stream",
     "text": [
      "WARNING 04-30 19:31:54 scheduler.py:245] Input prompt (2057 tokens) is too long and exceeds limit of 2048\n"
     ]
    },
    {
     "name": "stderr",
     "output_type": "stream",
     "text": [
      "Processed prompts:  87%|████████▋ | 10469/12000 [39:57<04:13,  6.04it/s]"
     ]
    },
    {
     "name": "stdout",
     "output_type": "stream",
     "text": [
      "WARNING 04-30 19:32:26 scheduler.py:245] Input prompt (2057 tokens) is too long and exceeds limit of 2048\n"
     ]
    },
    {
     "name": "stderr",
     "output_type": "stream",
     "text": [
      "Processed prompts:  88%|████████▊ | 10512/12000 [40:04<06:23,  3.88it/s]"
     ]
    },
    {
     "name": "stdout",
     "output_type": "stream",
     "text": [
      "WARNING 04-30 19:32:32 scheduler.py:245] Input prompt (2061 tokens) is too long and exceeds limit of 2048\n"
     ]
    },
    {
     "name": "stderr",
     "output_type": "stream",
     "text": [
      "Processed prompts:  90%|█████████ | 10828/12000 [41:18<05:50,  3.35it/s]"
     ]
    },
    {
     "name": "stdout",
     "output_type": "stream",
     "text": [
      "WARNING 04-30 19:33:46 scheduler.py:245] Input prompt (2061 tokens) is too long and exceeds limit of 2048\n"
     ]
    },
    {
     "name": "stderr",
     "output_type": "stream",
     "text": [
      "Processed prompts:  94%|█████████▍| 11275/12000 [43:02<03:01,  3.99it/s]"
     ]
    },
    {
     "name": "stdout",
     "output_type": "stream",
     "text": [
      "WARNING 04-30 19:35:30 scheduler.py:245] Input prompt (2057 tokens) is too long and exceeds limit of 2048\n"
     ]
    },
    {
     "name": "stderr",
     "output_type": "stream",
     "text": [
      "Processed prompts: 100%|██████████| 12000/12000 [46:02<00:00,  4.34it/s]\n"
     ]
    }
   ],
   "source": [
    "df_res['continue_prompt'] = df_res['code_prompt'] + df_res['code'] +'```\\n```output\\n' + df_res['code_result'].astype(str).str.slice(0, 10) + '\\n```\\n'\n",
    "\n",
    "tool_sampling_params = SamplingParams(n=1,\n",
    "                                      temperature=temperature,\n",
    "                                      max_tokens=2048)\n",
    "llm_out = vllm.generate(df_res['continue_prompt'], tool_sampling_params)\n",
    "\n",
    "continuations = []\n",
    "n_continue_tokens = []\n",
    "for llm_output in llm_out:\n",
    "    continuations.append(llm_output.outputs[0].text)\n",
    "    n_continue_tokens.append(len(llm_output.outputs[0].token_ids))\n",
    "    \n",
    "df_res['continuations'] = continuations\n",
    "df_res['n_continue_tokens'] = n_continue_tokens\n",
    "df_res['combined'] = df_res['continue_prompt'] + df_res['continuations']"
   ]
  },
  {
   "cell_type": "code",
   "execution_count": 34,
   "id": "490736f6-186f-4064-9fb2-f39ff7f09459",
   "metadata": {
    "tags": []
   },
   "outputs": [],
   "source": [
    "# file_name = 'block_by_block_results_april_29.csv'\n",
    "# df_res.to_csv(file_name, index=False)\n",
    "# df_res = pd.read_csv(file_name)\n",
    "# df_res['problem_id'] = df_res['problem_id'].astype(str)"
   ]
  },
  {
   "cell_type": "code",
   "execution_count": 35,
   "id": "9bb87062-ccf9-45d0-ac70-ffe353e882db",
   "metadata": {
    "tags": []
   },
   "outputs": [],
   "source": [
    "def standardize_number(number):\n",
    "    try:\n",
    "        return int(number)\n",
    "    except:pass\n",
    "    try:\n",
    "        return float(number)\n",
    "    except: pass\n",
    "    return -1"
   ]
  },
  {
   "cell_type": "code",
   "execution_count": 36,
   "id": "1a8cfcb0-a2f5-4f10-a059-1593770147f2",
   "metadata": {
    "tags": []
   },
   "outputs": [],
   "source": [
    "df_res['llm_result'] = df_res['combined'].map(extract_answer)\n",
    "df_res['combined_result'] = df_res['code_result'].fillna(df_res['llm_result'])"
   ]
  },
  {
   "cell_type": "markdown",
   "id": "864e1d32-1621-4a98-b9f1-8d2e2fd49262",
   "metadata": {},
   "source": [
    "## Count Correct"
   ]
  },
  {
   "cell_type": "code",
   "execution_count": null,
   "id": "e5fa80ca-2bb1-4745-a0cc-70737a054e73",
   "metadata": {
    "tags": []
   },
   "outputs": [],
   "source": []
  },
  {
   "cell_type": "code",
   "execution_count": 37,
   "id": "9e62b45e-4109-4a07-9195-e72878e44b65",
   "metadata": {},
   "outputs": [],
   "source": [
    "def first_mode(series):\n",
    "    return series.mode().iloc[0] if not series.mode().empty else None\n",
    "\n",
    "most_common = df_res.groupby('problem_id')['llm_result'].agg(first_mode)\n",
    "most_common = most_common.apply(lambda x: x[0] if isinstance(x, np.ndarray) and len(x) >= 1 else x)\n",
    "most_common = pd.DataFrame(most_common).reset_index()\n",
    "pooled = math_samp.merge(most_common, left_on='id', right_on='problem_id')\n",
    "is_correct = []\n",
    "for row in pooled.iterrows():\n",
    "    correct = standardize_number(row[1]['llm_result'])\n",
    "    result = standardize_number(row[1]['answer'])\n",
    "    is_correct.append(is_equiv(correct, result))\n",
    "pooled['is_correct'] = is_correct"
   ]
  },
  {
   "cell_type": "code",
   "execution_count": 38,
   "id": "0c178b1e-636e-440c-85cb-13714554100e",
   "metadata": {
    "tags": []
   },
   "outputs": [
    {
     "data": {
      "text/plain": [
       "'0.7 with CI  0.67-0.72'"
      ]
     },
     "execution_count": 38,
     "metadata": {},
     "output_type": "execute_result"
    }
   ],
   "source": [
    "def logistic_mean_and_cis(binary_series):\n",
    "    ci_lower, ci_upper = sm.stats.proportion_confint(count=binary_series.sum(), nobs=len(binary_series), alpha=0.05, method='agresti_coull')\n",
    "    return f\"{round(binary_series.mean(),2)} with CI  {round(ci_lower,2)}-{round(ci_upper,2)}\"\n",
    "    \n",
    "logistic_mean_and_cis(pooled['is_correct'])"
   ]
  },
  {
   "cell_type": "code",
   "execution_count": 39,
   "id": "177d85e6-7646-47ac-acc5-e7326f2521c0",
   "metadata": {
    "tags": []
   },
   "outputs": [
    {
     "data": {
      "text/plain": [
       "level\n",
       "Level 1    0.94 with CI  0.88-0.97\n",
       "Level 2    0.84 with CI  0.78-0.89\n",
       "Level 3    0.78 with CI  0.72-0.83\n",
       "Level 4     0.66 with CI  0.6-0.72\n",
       "Level 5    0.41 with CI  0.35-0.48\n",
       "Name: is_correct, dtype: object"
      ]
     },
     "execution_count": 39,
     "metadata": {},
     "output_type": "execute_result"
    }
   ],
   "source": [
    "pooled.groupby('level')['is_correct'].agg(logistic_mean_and_cis)"
   ]
  },
  {
   "cell_type": "code",
   "execution_count": 40,
   "id": "ecbceb72-4fc2-4126-86dc-888241733af1",
   "metadata": {
    "tags": []
   },
   "outputs": [
    {
     "data": {
      "text/html": [
       "<div>\n",
       "<style scoped>\n",
       "    .dataframe tbody tr th:only-of-type {\n",
       "        vertical-align: middle;\n",
       "    }\n",
       "\n",
       "    .dataframe tbody tr th {\n",
       "        vertical-align: top;\n",
       "    }\n",
       "\n",
       "    .dataframe thead th {\n",
       "        text-align: right;\n",
       "    }\n",
       "</style>\n",
       "<table border=\"1\" class=\"dataframe\">\n",
       "  <thead>\n",
       "    <tr style=\"text-align: right;\">\n",
       "      <th></th>\n",
       "      <th>problem_id</th>\n",
       "      <th>prompt_variation</th>\n",
       "      <th>llm_result</th>\n",
       "    </tr>\n",
       "  </thead>\n",
       "  <tbody>\n",
       "    <tr>\n",
       "      <th>0</th>\n",
       "      <td>test-algebra-1014</td>\n",
       "      <td>derive_instruction_long</td>\n",
       "      <td>7.0</td>\n",
       "    </tr>\n",
       "    <tr>\n",
       "      <th>1</th>\n",
       "      <td>test-algebra-1014</td>\n",
       "      <td>early_win_instruction</td>\n",
       "      <td>7.0</td>\n",
       "    </tr>\n",
       "    <tr>\n",
       "      <th>2</th>\n",
       "      <td>test-algebra-1014</td>\n",
       "      <td>short_code_instruction</td>\n",
       "      <td>7.0</td>\n",
       "    </tr>\n",
       "    <tr>\n",
       "      <th>3</th>\n",
       "      <td>test-algebra-1014</td>\n",
       "      <td>short_instruction</td>\n",
       "      <td>7.0</td>\n",
       "    </tr>\n",
       "    <tr>\n",
       "      <th>4</th>\n",
       "      <td>test-algebra-1022</td>\n",
       "      <td>derive_instruction_long</td>\n",
       "      <td>0.0</td>\n",
       "    </tr>\n",
       "    <tr>\n",
       "      <th>...</th>\n",
       "      <td>...</td>\n",
       "      <td>...</td>\n",
       "      <td>...</td>\n",
       "    </tr>\n",
       "    <tr>\n",
       "      <th>3995</th>\n",
       "      <td>test-precalculus-984</td>\n",
       "      <td>short_instruction</td>\n",
       "      <td>6.0</td>\n",
       "    </tr>\n",
       "    <tr>\n",
       "      <th>3996</th>\n",
       "      <td>test-precalculus-991</td>\n",
       "      <td>derive_instruction_long</td>\n",
       "      <td>988.0</td>\n",
       "    </tr>\n",
       "    <tr>\n",
       "      <th>3997</th>\n",
       "      <td>test-precalculus-991</td>\n",
       "      <td>early_win_instruction</td>\n",
       "      <td>988.0</td>\n",
       "    </tr>\n",
       "    <tr>\n",
       "      <th>3998</th>\n",
       "      <td>test-precalculus-991</td>\n",
       "      <td>short_code_instruction</td>\n",
       "      <td>988.0</td>\n",
       "    </tr>\n",
       "    <tr>\n",
       "      <th>3999</th>\n",
       "      <td>test-precalculus-991</td>\n",
       "      <td>short_instruction</td>\n",
       "      <td>988.0</td>\n",
       "    </tr>\n",
       "  </tbody>\n",
       "</table>\n",
       "<p>4000 rows × 3 columns</p>\n",
       "</div>"
      ],
      "text/plain": [
       "                problem_id         prompt_variation  llm_result\n",
       "0        test-algebra-1014  derive_instruction_long         7.0\n",
       "1        test-algebra-1014    early_win_instruction         7.0\n",
       "2        test-algebra-1014   short_code_instruction         7.0\n",
       "3        test-algebra-1014        short_instruction         7.0\n",
       "4        test-algebra-1022  derive_instruction_long         0.0\n",
       "...                    ...                      ...         ...\n",
       "3995  test-precalculus-984        short_instruction         6.0\n",
       "3996  test-precalculus-991  derive_instruction_long       988.0\n",
       "3997  test-precalculus-991    early_win_instruction       988.0\n",
       "3998  test-precalculus-991   short_code_instruction       988.0\n",
       "3999  test-precalculus-991        short_instruction       988.0\n",
       "\n",
       "[4000 rows x 3 columns]"
      ]
     },
     "execution_count": 40,
     "metadata": {},
     "output_type": "execute_result"
    }
   ],
   "source": [
    "most_common = df_res.groupby(['problem_id', 'prompt_variation'])['llm_result'].agg(first_mode)\n",
    "most_common = most_common.apply(lambda x: x[0] if isinstance(x, np.ndarray) and len(x) >= 1 else x)\n",
    "most_common = pd.DataFrame(most_common).reset_index()\n",
    "most_common"
   ]
  },
  {
   "cell_type": "code",
   "execution_count": 41,
   "id": "2f5dd032-5663-4111-8733-909726cefa3c",
   "metadata": {
    "tags": []
   },
   "outputs": [],
   "source": [
    "prompt_grouped = math_samp.merge(most_common, left_on='id', right_on='problem_id')\n",
    "is_correct = []\n",
    "for row in prompt_grouped.iterrows():\n",
    "    correct = standardize_number(row[1]['llm_result'])\n",
    "    result = standardize_number(row[1]['answer'])\n",
    "    is_correct.append(is_equiv(correct, result))\n",
    "prompt_grouped['is_correct'] = is_correct"
   ]
  },
  {
   "cell_type": "code",
   "execution_count": 42,
   "id": "916d978f-762c-4096-b02c-e95f3137588f",
   "metadata": {
    "tags": []
   },
   "outputs": [],
   "source": [
    "import seaborn as sns"
   ]
  },
  {
   "cell_type": "code",
   "execution_count": 43,
   "id": "0bcabb94-afa3-410b-8c6c-13620f7d0d0e",
   "metadata": {
    "tags": []
   },
   "outputs": [
    {
     "data": {
      "text/plain": [
       "<Axes: xlabel='prompt_variation', ylabel='is_correct'>"
      ]
     },
     "execution_count": 43,
     "metadata": {},
     "output_type": "execute_result"
    },
    {
     "data": {
      "image/png": "[encoded data removed]",
      "text/plain": [
       "<Figure size 640x480 with 1 Axes>"
      ]
     },
     "metadata": {},
     "output_type": "display_data"
    }
   ],
   "source": [
    "sns.barplot(prompt_grouped, x='prompt_variation', y='is_correct')"
   ]
  },
  {
   "cell_type": "code",
   "execution_count": 44,
   "id": "ff9001cd-4c13-4ad8-b90a-f73253f822db",
   "metadata": {},
   "outputs": [
    {
     "name": "stdout",
     "output_type": "stream",
     "text": [
      "0.59\n"
     ]
    },
    {
     "data": {
      "text/html": [
       "<div>\n",
       "<style scoped>\n",
       "    .dataframe tbody tr th:only-of-type {\n",
       "        vertical-align: middle;\n",
       "    }\n",
       "\n",
       "    .dataframe tbody tr th {\n",
       "        vertical-align: top;\n",
       "    }\n",
       "\n",
       "    .dataframe thead th {\n",
       "        text-align: right;\n",
       "    }\n",
       "</style>\n",
       "<table border=\"1\" class=\"dataframe\">\n",
       "  <thead>\n",
       "    <tr style=\"text-align: right;\">\n",
       "      <th></th>\n",
       "      <th>size</th>\n",
       "      <th>mean</th>\n",
       "    </tr>\n",
       "    <tr>\n",
       "      <th>prompt_variation</th>\n",
       "      <th></th>\n",
       "      <th></th>\n",
       "    </tr>\n",
       "  </thead>\n",
       "  <tbody>\n",
       "    <tr>\n",
       "      <th>derive_instruction_long</th>\n",
       "      <td>1000</td>\n",
       "      <td>0.580</td>\n",
       "    </tr>\n",
       "    <tr>\n",
       "      <th>early_win_instruction</th>\n",
       "      <td>1000</td>\n",
       "      <td>0.591</td>\n",
       "    </tr>\n",
       "    <tr>\n",
       "      <th>short_code_instruction</th>\n",
       "      <td>1000</td>\n",
       "      <td>0.599</td>\n",
       "    </tr>\n",
       "    <tr>\n",
       "      <th>short_instruction</th>\n",
       "      <td>1000</td>\n",
       "      <td>0.590</td>\n",
       "    </tr>\n",
       "  </tbody>\n",
       "</table>\n",
       "</div>"
      ],
      "text/plain": [
       "                         size   mean\n",
       "prompt_variation                    \n",
       "derive_instruction_long  1000  0.580\n",
       "early_win_instruction    1000  0.591\n",
       "short_code_instruction   1000  0.599\n",
       "short_instruction        1000  0.590"
      ]
     },
     "execution_count": 44,
     "metadata": {},
     "output_type": "execute_result"
    }
   ],
   "source": [
    "print(prompt_grouped['is_correct'].mean())\n",
    "prompt_grouped.groupby('prompt_variation')['is_correct'].agg(['size', 'mean'])"
   ]
  },
  {
   "cell_type": "code",
   "execution_count": 45,
   "id": "044afa7e-524f-4c49-a748-28b4dc776987",
   "metadata": {},
   "outputs": [
    {
     "data": {
      "text/html": [
       "<div>\n",
       "<style scoped>\n",
       "    .dataframe tbody tr th:only-of-type {\n",
       "        vertical-align: middle;\n",
       "    }\n",
       "\n",
       "    .dataframe tbody tr th {\n",
       "        vertical-align: top;\n",
       "    }\n",
       "\n",
       "    .dataframe thead th {\n",
       "        text-align: right;\n",
       "    }\n",
       "</style>\n",
       "<table border=\"1\" class=\"dataframe\">\n",
       "  <thead>\n",
       "    <tr style=\"text-align: right;\">\n",
       "      <th></th>\n",
       "      <th>size</th>\n",
       "      <th>mean</th>\n",
       "    </tr>\n",
       "    <tr>\n",
       "      <th>prompt_variation</th>\n",
       "      <th></th>\n",
       "      <th></th>\n",
       "    </tr>\n",
       "  </thead>\n",
       "  <tbody>\n",
       "    <tr>\n",
       "      <th>derive_instruction_long</th>\n",
       "      <td>1000</td>\n",
       "      <td>0.580</td>\n",
       "    </tr>\n",
       "    <tr>\n",
       "      <th>early_win_instruction</th>\n",
       "      <td>1000</td>\n",
       "      <td>0.591</td>\n",
       "    </tr>\n",
       "    <tr>\n",
       "      <th>short_code_instruction</th>\n",
       "      <td>1000</td>\n",
       "      <td>0.599</td>\n",
       "    </tr>\n",
       "    <tr>\n",
       "      <th>short_instruction</th>\n",
       "      <td>1000</td>\n",
       "      <td>0.590</td>\n",
       "    </tr>\n",
       "  </tbody>\n",
       "</table>\n",
       "</div>"
      ],
      "text/plain": [
       "                         size   mean\n",
       "prompt_variation                    \n",
       "derive_instruction_long  1000  0.580\n",
       "early_win_instruction    1000  0.591\n",
       "short_code_instruction   1000  0.599\n",
       "short_instruction        1000  0.590"
      ]
     },
     "execution_count": 45,
     "metadata": {},
     "output_type": "execute_result"
    }
   ],
   "source": [
    "prompt_grouped.groupby('prompt_variation')['is_correct'].agg(['size', 'mean'])"
   ]
  },
  {
   "cell_type": "markdown",
   "id": "8ab57051-fefb-4a55-84df-e62fafe22fda",
   "metadata": {
    "tags": []
   },
   "source": [
    "```\n",
    "0.692\n",
    "size\tmean\n",
    "level\t\t\n",
    "Level 1\t23\t0.826087\n",
    "Level 2\t49\t0.816327\n",
    "Level 3\t66\t0.787879\n",
    "Level 4\t68\t0.647059\n",
    "Level 5\t44\t0.409091\n",
    "```"
   ]
  },
  {
   "cell_type": "code",
   "execution_count": 46,
   "id": "810869b9-d622-4a10-8d45-445be9c35d28",
   "metadata": {
    "tags": []
   },
   "outputs": [],
   "source": [
    "df_res.to_csv('inject_code_results_april_23_2000.csv', index=False)"
   ]
  },
  {
   "cell_type": "code",
   "execution_count": 47,
   "id": "dfa40971-2244-4234-83e3-3e8620dc7205",
   "metadata": {
    "tags": []
   },
   "outputs": [
    {
     "data": {
      "text/plain": [
       "Index(['problem', 'level', 'type', 'solution', 'id', 'answer', 'problem_id',\n",
       "       'llm_result', 'is_correct'],\n",
       "      dtype='object')"
      ]
     },
     "execution_count": 47,
     "metadata": {},
     "output_type": "execute_result"
    }
   ],
   "source": [
    "pooled.columns"
   ]
  },
  {
   "cell_type": "code",
   "execution_count": 48,
   "id": "aec5588c-2726-49f1-bfb3-38324ceefcbe",
   "metadata": {
    "tags": []
   },
   "outputs": [
    {
     "data": {
      "text/html": [
       "<div>\n",
       "<style scoped>\n",
       "    .dataframe tbody tr th:only-of-type {\n",
       "        vertical-align: middle;\n",
       "    }\n",
       "\n",
       "    .dataframe tbody tr th {\n",
       "        vertical-align: top;\n",
       "    }\n",
       "\n",
       "    .dataframe thead th {\n",
       "        text-align: right;\n",
       "    }\n",
       "</style>\n",
       "<table border=\"1\" class=\"dataframe\">\n",
       "  <thead>\n",
       "    <tr style=\"text-align: right;\">\n",
       "      <th></th>\n",
       "      <th>id</th>\n",
       "      <th>level</th>\n",
       "      <th>type</th>\n",
       "      <th>answer</th>\n",
       "      <th>llm_result</th>\n",
       "      <th>is_correct</th>\n",
       "    </tr>\n",
       "  </thead>\n",
       "  <tbody>\n",
       "    <tr>\n",
       "      <th>15</th>\n",
       "      <td>test-counting_and_probability-1016</td>\n",
       "      <td>Level 1</td>\n",
       "      <td>Counting &amp; Probability</td>\n",
       "      <td>17</td>\n",
       "      <td>21.0</td>\n",
       "      <td>False</td>\n",
       "    </tr>\n",
       "    <tr>\n",
       "      <th>359</th>\n",
       "      <td>test-geometry-808</td>\n",
       "      <td>Level 1</td>\n",
       "      <td>Geometry</td>\n",
       "      <td>90</td>\n",
       "      <td>76.0</td>\n",
       "      <td>False</td>\n",
       "    </tr>\n",
       "    <tr>\n",
       "      <th>369</th>\n",
       "      <td>test-precalculus-508</td>\n",
       "      <td>Level 1</td>\n",
       "      <td>Precalculus</td>\n",
       "      <td>941</td>\n",
       "      <td>41.0</td>\n",
       "      <td>False</td>\n",
       "    </tr>\n",
       "    <tr>\n",
       "      <th>384</th>\n",
       "      <td>test-number_theory-606</td>\n",
       "      <td>Level 1</td>\n",
       "      <td>Number Theory</td>\n",
       "      <td>5</td>\n",
       "      <td>6.0</td>\n",
       "      <td>False</td>\n",
       "    </tr>\n",
       "    <tr>\n",
       "      <th>513</th>\n",
       "      <td>test-geometry-421</td>\n",
       "      <td>Level 1</td>\n",
       "      <td>Geometry</td>\n",
       "      <td>55</td>\n",
       "      <td>40.0</td>\n",
       "      <td>False</td>\n",
       "    </tr>\n",
       "    <tr>\n",
       "      <th>573</th>\n",
       "      <td>test-intermediate_algebra-114</td>\n",
       "      <td>Level 1</td>\n",
       "      <td>Intermediate Algebra</td>\n",
       "      <td>512</td>\n",
       "      <td>60.0</td>\n",
       "      <td>False</td>\n",
       "    </tr>\n",
       "    <tr>\n",
       "      <th>581</th>\n",
       "      <td>test-counting_and_probability-778</td>\n",
       "      <td>Level 1</td>\n",
       "      <td>Counting &amp; Probability</td>\n",
       "      <td>6</td>\n",
       "      <td>4.0</td>\n",
       "      <td>False</td>\n",
       "    </tr>\n",
       "  </tbody>\n",
       "</table>\n",
       "</div>"
      ],
      "text/plain": [
       "                                     id    level                    type  \\\n",
       "15   test-counting_and_probability-1016  Level 1  Counting & Probability   \n",
       "359                   test-geometry-808  Level 1                Geometry   \n",
       "369                test-precalculus-508  Level 1             Precalculus   \n",
       "384              test-number_theory-606  Level 1           Number Theory   \n",
       "513                   test-geometry-421  Level 1                Geometry   \n",
       "573       test-intermediate_algebra-114  Level 1    Intermediate Algebra   \n",
       "581   test-counting_and_probability-778  Level 1  Counting & Probability   \n",
       "\n",
       "     answer  llm_result  is_correct  \n",
       "15       17        21.0       False  \n",
       "359      90        76.0       False  \n",
       "369     941        41.0       False  \n",
       "384       5         6.0       False  \n",
       "513      55        40.0       False  \n",
       "573     512        60.0       False  \n",
       "581       6         4.0       False  "
      ]
     },
     "metadata": {},
     "output_type": "display_data"
    }
   ],
   "source": [
    "with pd.option_context('display.max_rows', None):\n",
    "    display(pooled.loc[(pooled['level'] == 'Level 1') & (~pooled['is_correct']), ['id', 'level', 'type', 'answer', 'llm_result', 'is_correct']])"
   ]
  },
  {
   "cell_type": "markdown",
   "id": "8974af24-68f0-4eef-a0d9-9c454225313b",
   "metadata": {},
   "source": [
    "## Inspection of Errors\n",
    "- Problem 1016: Incorrect minimization of A \\cup B via overlaying A and B."
   ]
  },
  {
   "cell_type": "code",
   "execution_count": null,
   "id": "881ca691-af95-459e-82a7-2b7f3ffd8b47",
   "metadata": {},
   "outputs": [],
   "source": [
    "df_res[df_res['problem_id'] == '808']"
   ]
  },
  {
   "cell_type": "code",
   "execution_count": null,
   "id": "af95e75c-d528-4ee7-9dc2-a6ab36794b2c",
   "metadata": {},
   "outputs": [],
   "source": []
  },
  {
   "cell_type": "code",
   "execution_count": null,
   "id": "0fea492a-849c-42b2-a193-f5d8f0e65062",
   "metadata": {},
   "outputs": [],
   "source": []
  },
  {
   "cell_type": "code",
   "execution_count": null,
   "id": "f0894fa9-dc8c-45dd-a42f-404d95681bd9",
   "metadata": {},
   "outputs": [],
   "source": []
  },
  {
   "cell_type": "code",
   "execution_count": null,
   "id": "08a60795-8c70-4a3e-b5a3-21ee53cbb1d3",
   "metadata": {},
   "outputs": [],
   "source": []
  },
  {
   "cell_type": "code",
   "execution_count": null,
   "id": "4838e944-e0e2-41e6-a0be-2eefc2bf164a",
   "metadata": {},
   "outputs": [],
   "source": []
  },
  {
   "cell_type": "code",
   "execution_count": null,
   "id": "b231bbe2-03b9-4a55-b410-52dc1e079b15",
   "metadata": {},
   "outputs": [],
   "source": []
  },
  {
   "cell_type": "code",
   "execution_count": null,
   "id": "448a490d-dada-4b2f-b98d-c2d1cbfce57a",
   "metadata": {},
   "outputs": [],
   "source": []
  }
 ],
 "metadata": {
  "kernelspec": {
   "display_name": "Python [conda env:pytorch]",
   "language": "python",
   "name": "conda-env-pytorch-py"
  },
  "language_info": {
   "codemirror_mode": {
    "name": "ipython",
    "version": 3
   },
   "file_extension": ".py",
   "mimetype": "text/x-python",
   "name": "python",
   "nbconvert_exporter": "python",
   "pygments_lexer": "ipython3",
   "version": "3.11.5"
  }
 },
 "nbformat": 4,
 "nbformat_minor": 5
}
