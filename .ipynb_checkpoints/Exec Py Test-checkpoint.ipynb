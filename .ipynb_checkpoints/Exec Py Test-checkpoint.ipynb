{
 "cells": [
  {
   "cell_type": "code",
   "execution_count": 5,
   "id": "99e78b71-80e9-4078-95a3-b60f308301cd",
   "metadata": {
    "tags": []
   },
   "outputs": [
    {
     "name": "stdout",
     "output_type": "stream",
     "text": [
      "shell_output='0\\n'\n"
     ]
    },
    {
     "data": {
      "text/plain": [
       "0"
      ]
     },
     "execution_count": 5,
     "metadata": {},
     "output_type": "execute_result"
    }
   ],
   "source": [
    "import io, os, sys, subprocess\n",
    "\n",
    "def execute_code(code):\n",
    "    with open('code.py', 'w') as fout:\n",
    "        fout.write(code)\n",
    "\n",
    "    batcmd = 'timeout 7 ' + sys.executable + ' code.py'\n",
    "    \n",
    "    shell_output = subprocess.check_output(batcmd, shell=True).decode('utf8')\n",
    "    print(f'{shell_output=}')\n",
    "    code_output = round(float(eval(shell_output))) % 1000\n",
    " \n",
    "    os.remove('code.py')\n",
    "    return code_output\n",
    "    \n",
    "code = '''from sympy import *\n",
    "\n",
    "def sum_of_squares_of_distances():\n",
    "    x, k, l = symbols('x k l', real=True)\n",
    "\n",
    "    # Equation of the parabola\n",
    "    parabola = k*x**2 - 2*k*x + l\n",
    "\n",
    "    # Equation of the line\n",
    "    line = 4\n",
    "\n",
    "    # Solve the system of equations to find the x-coordinates of points A and B\n",
    "    solutions = solve([parabola - line, diff(parabola, x)], x)\n",
    "\n",
    "    # Calculate the distances from points A and B to the origin (0,0)\n",
    "    distances = [sqrt(sol**2 + 4) for sol in solutions]\n",
    "\n",
    "    # Calculate the sum of the squares of the distances\n",
    "    sum_of_squares = sum([dist**2 for dist in distances])\n",
    "\n",
    "    return simplify(sum_of_squares)\n",
    "\n",
    "result = sum_of_squares_of_distances()\n",
    "print(result)\n",
    "'''\n",
    "execute_code(code)"
   ]
  },
  {
   "cell_type": "code",
   "execution_count": null,
   "id": "af9b41fd-48cb-4b94-bff1-bd6f1666362d",
   "metadata": {},
   "outputs": [],
   "source": []
  }
 ],
 "metadata": {
  "kernelspec": {
   "display_name": "Python [conda env:pytorch]",
   "language": "python",
   "name": "conda-env-pytorch-py"
  },
  "language_info": {
   "codemirror_mode": {
    "name": "ipython",
    "version": 3
   },
   "file_extension": ".py",
   "mimetype": "text/x-python",
   "name": "python",
   "nbconvert_exporter": "python",
   "pygments_lexer": "ipython3",
   "version": "3.11.5"
  }
 },
 "nbformat": 4,
 "nbformat_minor": 5
}
