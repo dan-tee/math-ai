{
 "cells": [
  {
   "cell_type": "markdown",
   "id": "7fb36e15-e88c-475c-915e-f82609610bf7",
   "metadata": {},
   "source": [
    "# Deep Seek for Math Questions"
   ]
  },
  {
   "cell_type": "code",
   "execution_count": 1,
   "id": "681bc6fa-9425-445f-91b9-eb49b9363ce5",
   "metadata": {
    "tags": []
   },
   "outputs": [
    {
     "name": "stderr",
     "output_type": "stream",
     "text": [
      "Special tokens have been added in the vocabulary, make sure the associated word embeddings are fine-tuned or trained.\n"
     ]
    },
    {
     "data": {
      "application/vnd.jupyter.widget-view+json": {
       "model_id": "b4593eb563e44e97b1639eb92a9315a0",
       "version_major": 2,
       "version_minor": 0
      },
      "text/plain": [
       "Loading checkpoint shards:   0%|          | 0/2 [00:00<?, ?it/s]"
      ]
     },
     "metadata": {},
     "output_type": "display_data"
    },
    {
     "name": "stdout",
     "output_type": "stream",
     "text": [
      "torch.bfloat16\n"
     ]
    }
   ],
   "source": [
    "import os\n",
    "import json\n",
    "from pathlib import Path\n",
    "from datetime import datetime\n",
    "import re, sys, subprocess, gc\n",
    "\n",
    "import pandas as pd\n",
    "import numpy as np\n",
    "import torch\n",
    "import transformers\n",
    "from transformers import AutoConfig, AutoTokenizer, AutoModelForCausalLM\n",
    "\n",
    "\n",
    "\n",
    "model_name = \"deepseek-ai/deepseek-math-7b-rl\"\n",
    "config = AutoConfig.from_pretrained(model_name)\n",
    "config.gradient_checkpointing = True\n",
    "tokenizer = AutoTokenizer.from_pretrained(model_name)\n",
    "model = AutoModelForCausalLM.from_pretrained(model_name,\n",
    "                                             torch_dtype=\"auto\",\n",
    "                                             device_map=\"auto\")\n",
    "print(model.dtype)\n",
    "_= model.eval()\n",
    "pipeline = transformers.pipeline(\"text-generation\",\n",
    "                                 model=model,\n",
    "                                 tokenizer=tokenizer,\n",
    "                                 device_map=\"auto\",\n",
    "                                 config=config)"
   ]
  },
  {
   "cell_type": "code",
   "execution_count": 2,
   "id": "b0009c44-729f-445f-a662-0d77db73ef7c",
   "metadata": {
    "tags": []
   },
   "outputs": [],
   "source": [
    "questions = pd.read_csv('./test.csv')"
   ]
  },
  {
   "cell_type": "code",
   "execution_count": 3,
   "id": "c0c0a178-983b-4649-bb06-f58900803748",
   "metadata": {
    "tags": []
   },
   "outputs": [
    {
     "data": {
      "text/html": [
       "<div>\n",
       "<style scoped>\n",
       "    .dataframe tbody tr th:only-of-type {\n",
       "        vertical-align: middle;\n",
       "    }\n",
       "\n",
       "    .dataframe tbody tr th {\n",
       "        vertical-align: top;\n",
       "    }\n",
       "\n",
       "    .dataframe thead th {\n",
       "        text-align: right;\n",
       "    }\n",
       "</style>\n",
       "<table border=\"1\" class=\"dataframe\">\n",
       "  <thead>\n",
       "    <tr style=\"text-align: right;\">\n",
       "      <th></th>\n",
       "      <th>problem</th>\n",
       "      <th>level</th>\n",
       "      <th>type</th>\n",
       "      <th>solution</th>\n",
       "    </tr>\n",
       "  </thead>\n",
       "  <tbody>\n",
       "    <tr>\n",
       "      <th>0</th>\n",
       "      <td>What is the perimeter, in cm, of quadrilateral...</td>\n",
       "      <td>Level 5</td>\n",
       "      <td>Prealgebra</td>\n",
       "      <td>Since the given segments are perpendicular, we...</td>\n",
       "    </tr>\n",
       "    <tr>\n",
       "      <th>1</th>\n",
       "      <td>Four points $B,$ $A,$ $E,$ and $L$ are on a st...</td>\n",
       "      <td>Level 3</td>\n",
       "      <td>Prealgebra</td>\n",
       "      <td>Since the sum of the angles at any point on a ...</td>\n",
       "    </tr>\n",
       "    <tr>\n",
       "      <th>2</th>\n",
       "      <td>What is $4\\cdot 6+8\\cdot 3-28\\div 2$?</td>\n",
       "      <td>Level 1</td>\n",
       "      <td>Prealgebra</td>\n",
       "      <td>Recall that multiplication and division should...</td>\n",
       "    </tr>\n",
       "  </tbody>\n",
       "</table>\n",
       "</div>"
      ],
      "text/plain": [
       "                                             problem    level        type  \\\n",
       "0  What is the perimeter, in cm, of quadrilateral...  Level 5  Prealgebra   \n",
       "1  Four points $B,$ $A,$ $E,$ and $L$ are on a st...  Level 3  Prealgebra   \n",
       "2              What is $4\\cdot 6+8\\cdot 3-28\\div 2$?  Level 1  Prealgebra   \n",
       "\n",
       "                                            solution  \n",
       "0  Since the given segments are perpendicular, we...  \n",
       "1  Since the sum of the angles at any point on a ...  \n",
       "2  Recall that multiplication and division should...  "
      ]
     },
     "execution_count": 3,
     "metadata": {},
     "output_type": "execute_result"
    }
   ],
   "source": [
    "folder = Path('./MATH/train')\n",
    "math_train = []\n",
    "for sub_folder in os.listdir(folder):\n",
    "    if sub_folder == '.DS_Store':\n",
    "        continue\n",
    "    for file in os.listdir(folder / sub_folder):\n",
    "        if file.endswith('.json'):\n",
    "            with open(folder / sub_folder / file, 'r') as file:\n",
    "                data = json.load(file)\n",
    "                math_train.append(data)\n",
    "math_train = pd.DataFrame(math_train)\n",
    "math_train[:3]"
   ]
  },
  {
   "cell_type": "code",
   "execution_count": 4,
   "id": "aadbe86c-bfa8-4ba8-b1af-abb3b90cec3f",
   "metadata": {
    "tags": []
   },
   "outputs": [
    {
     "data": {
      "text/plain": [
       "0                   Prealgebra\n",
       "1205             Number Theory\n",
       "2074      Intermediate Algebra\n",
       "3369                   Algebra\n",
       "5113    Counting & Probability\n",
       "5884               Precalculus\n",
       "6630                  Geometry\n",
       "Name: type, dtype: object"
      ]
     },
     "execution_count": 4,
     "metadata": {},
     "output_type": "execute_result"
    }
   ],
   "source": [
    "math_train['type'].drop_duplicates()"
   ]
  },
  {
   "cell_type": "code",
   "execution_count": 5,
   "id": "d81b3595-e61c-4a70-98b7-3bbe429cfe4b",
   "metadata": {
    "tags": []
   },
   "outputs": [],
   "source": [
    "def clean_latex(text):\n",
    "    \"\"\"\n",
    "    convert r\"[math]\\vec{x} + \\vec{y}\" to English\n",
    "    \"\"\"\n",
    "    # edge case\n",
    "    text = re.sub(r'\\[math\\]', ' LaTex math ', text)\n",
    "    text = re.sub(r'\\[\\/math\\]', ' LaTex math ', text)\n",
    "    text = re.sub(r'\\\\', ' LaTex ', text)\n",
    "\n",
    "    pattern_to_sub = {\n",
    "        r'$': '', #Add replace $?\n",
    "        r'\\\\mathrm': ' LaTex math mode ',\n",
    "        r'\\\\mathbb': ' LaTex math mode ',\n",
    "        r'\\\\boxed': ' LaTex equation ',\n",
    "        r'\\\\begin': ' LaTex equation ', #should it be parenthesis?\n",
    "        r'\\\\end': ' LaTex equation ', #should it be parenthesis?\n",
    "        r'\\\\left': ' LaTex equation ', #should it be parenthesis?\n",
    "        r'\\\\right': ' LaTex equation ', #should it be parenthesis?\n",
    "        r'\\\\(over|under)brace': ' LaTex equation ',\n",
    "        r'\\\\text': ' LaTex equation ',\n",
    "        r'\\\\vec': ' vector ',\n",
    "        r'\\\\var': ' variable ',\n",
    "        r'\\\\theta': ' theta ',\n",
    "        r'\\\\mu': ' average ',\n",
    "        r'\\\\min': ' minimum ',\n",
    "        r'\\\\max': ' maximum ',\n",
    "        r'\\\\sum': ' + ',\n",
    "        r'\\\\times': ' * ',\n",
    "        r'\\\\cdot': ' * ',\n",
    "        r'\\\\hat': ' ^ ',\n",
    "        r'\\\\frac': ' / ',\n",
    "        r'\\\\div': ' / ',\n",
    "        r'\\\\sin': ' Sine ',\n",
    "        r'\\\\cos': ' Cosine ',\n",
    "        r'\\\\tan': ' Tangent ',\n",
    "        r'\\\\infty': ' infinity ',\n",
    "        r'\\\\int': ' integer ',\n",
    "        r'\\\\in': ' in ',\n",
    "    }\n",
    "    # post process for look up\n",
    "    pattern_dict = {k.strip('\\\\'): v for k, v in pattern_to_sub.items()}\n",
    "    # init re\n",
    "    patterns = pattern_to_sub.keys()\n",
    "    pattern_re = re.compile('(%s)' % '|'.join(patterns))\n",
    "\n",
    "    def _replace(match):\n",
    "        try:\n",
    "            word = pattern_dict.get(match.group(0).strip('\\\\'))\n",
    "        except KeyError:\n",
    "            word = match.group(0)\n",
    "            print('!!Error: Could Not Find Key: {}'.format(word))\n",
    "        return word\n",
    "    return pattern_re.sub(_replace, text)"
   ]
  },
  {
   "cell_type": "code",
   "execution_count": 37,
   "id": "bd58ab84-0776-41c9-ba38-2105e7793ed7",
   "metadata": {
    "tags": []
   },
   "outputs": [],
   "source": [
    "def run_python_code(code):\n",
    "    try:\n",
    "        with open('code.py', 'w') as fout:\n",
    "            fout.write('from sympy import * \\n')\n",
    "            fout.write(code)\n",
    "        batcmd = 'timeout 7 ' + sys.executable + ' code.py'\n",
    "        return subprocess.check_output(batcmd, shell=True).decode('utf8')\n",
    "    except ex:\n",
    "        return str(ex)\n",
    "\n",
    "\n",
    "def process_output(output):\n",
    "    result = output\n",
    "    try:\n",
    "        shell_output = run_python_code(output.split('```')[1][7:])\n",
    "        shell_number = re.findall(r'(-?\\d+)(?!.*\\d)', shell_output)[-1]\n",
    "        code_output = round(float(eval(shell_number))) % 1000\n",
    "    except Exception as e:\n",
    "        code_output = -1\n",
    "    try:\n",
    "        result_output = re.findall(r'\\\\boxed\\{(.*)\\}', result)\n",
    "        if not len(result_output):\n",
    "            result_output = re.findall(r'(-?\\d+)(?!.*\\d)', result)[-1]\n",
    "        else:\n",
    "            result_output = result_output[-1]\n",
    "        if not len(result_output):\n",
    "            result_output = -1\n",
    "        else:\n",
    "            result_output = round(float(eval(result_output))) % 1000\n",
    "    except Exception as e:\n",
    "        result_output = -1\n",
    "    return result_output, code_output"
   ]
  },
  {
   "cell_type": "code",
   "execution_count": null,
   "id": "8dd616fe-92d9-4d6c-a8d7-9dfdcbe9362a",
   "metadata": {},
   "outputs": [],
   "source": [
    "questions = math_train.sample(3)"
   ]
  },
  {
   "cell_type": "code",
   "execution_count": null,
   "id": "a0762263-34e4-4763-ba2d-992f01568d91",
   "metadata": {
    "tags": []
   },
   "outputs": [
    {
     "name": "stderr",
     "output_type": "stream",
     "text": [
      "Setting `pad_token_id` to `eos_token_id`:100001 for open-end generation.\n"
     ]
    },
    {
     "name": "stdout",
     "output_type": "stream",
     "text": [
      "\n",
      "\n",
      "0: Let $a\\star b = ab+2b-a$. If $5\\star x = 37$, find the value of $x$.\n",
      "22:47:31\n"
     ]
    },
    {
     "name": "stderr",
     "output_type": "stream",
     "text": [
      "Setting `pad_token_id` to `eos_token_id`:100001 for open-end generation.\n"
     ]
    },
    {
     "name": "stdout",
     "output_type": "stream",
     "text": [
      "Shell input: \n",
      "from sympy import symbols, Eq, solve\n",
      "\n",
      "def find_x():\n",
      "    x = symbols('x')\n",
      "    equation = Eq(5*x + 2*x - 5, 37)\n",
      "    solution = solve(equation, x)\n",
      "\n",
      "    return solution\n",
      "\n",
      "result = find_x()\n",
      "print(result)\n",
      "\n",
      "\n",
      "shell_output='[6]\\n'\n",
      "\n",
      "second_prompt=\"<｜begin▁of▁sentence｜>User: Problem: Let $a\\\\star b = ab+2b-a$. If $5\\\\star x = 37$, find the value of $x$.\\nGenerate Python code to solve the above problem.\\nUnless complex numbers are mentioned in the problem create SymPy symbols with parameter real=True\\n```python\\n```python\\nfrom sympy import symbols, Eq, solve\\n\\ndef find_x():\\n    x = symbols('x')\\n    equation = Eq(5*x + 2*x - 5, 37)\\n    solution = solve(equation, x)\\n\\n    return solution\\n\\nresult = find_x()\\nprint(result)\\n```\\n```output\\n[6]\\n\\n```\\n\\n Does the solution above look correct? Only answer yes or no. No code after this.\\n\\n\"\n",
      "\n",
      "second_output=[{'generated_text': 'The solution above is correct. The value of $x$ that satisfies the equation $5\\\\star x = 37$ is $x = 6$.'}]\n",
      "\n",
      "```python\n",
      "def solve_for_n():\n",
      "    from sympy import symbols, solve, lcm\n",
      "\n",
      "    n = symbols('n', real=True)\n",
      "\n",
      "    # Given conditions\n",
      "    eq1 = lcm(24, n) - 72\n",
      "    eq2 = lcm(n, 27) - 108\n",
      "\n",
      "    # Solve the system of equations\n",
      "    solution = solve((eq1, eq2), n)\n",
      "\n",
      "    return solution\n",
      "\n",
      "result = solve_for_n()\n",
      "print(result)\n",
      "```\n",
      "```output\n",
      "[36]\n",
      "```\n",
      "The value of $n$ is $36$.\n",
      "The answer is $\\boxed{36}$.\n"
     ]
    },
    {
     "name": "stderr",
     "output_type": "stream",
     "text": [
      "Setting `pad_token_id` to `eos_token_id`:100001 for open-end generation.\n"
     ]
    },
    {
     "name": "stdout",
     "output_type": "stream",
     "text": [
      "22:47:36\n"
     ]
    },
    {
     "name": "stderr",
     "output_type": "stream",
     "text": [
      "Setting `pad_token_id` to `eos_token_id`:100001 for open-end generation.\n"
     ]
    },
    {
     "name": "stdout",
     "output_type": "stream",
     "text": [
      "Shell input: \n",
      "from sympy import symbols, Eq, solve\n",
      "\n",
      "def find_x():\n",
      "    x = symbols('x')\n",
      "    equation = Eq(5*x + 2*x - 5, 37)\n",
      "    solution = solve(equation, x)\n",
      "\n",
      "    return solution[0]\n",
      "\n",
      "result = find_x()\n",
      "print(result)\n",
      "\n",
      "\n",
      "shell_output='6\\n'\n",
      "\n",
      "second_prompt=\"<｜begin▁of▁sentence｜>User: Problem: Let $a\\\\star b = ab+2b-a$. If $5\\\\star x = 37$, find the value of $x$.\\nGenerate Python code to solve the above problem.\\nUnless complex numbers are mentioned in the problem create SymPy symbols with parameter real=True\\n```python\\n```python\\nfrom sympy import symbols, Eq, solve\\n\\ndef find_x():\\n    x = symbols('x')\\n    equation = Eq(5*x + 2*x - 5, 37)\\n    solution = solve(equation, x)\\n\\n    return solution[0]\\n\\nresult = find_x()\\nprint(result)\\n```\\n```output\\n6\\n\\n```\\n\\n Does the solution above look correct? Only answer yes or no. No code after this.\\n\\n\"\n",
      "\n",
      "second_output=[{'generated_text': 'The solution above is correct. The value of $x$ that satisfies the equation $5\\\\star x = 37$ is $6$.'}]\n",
      "\n",
      "```python\n",
      "def solve_for_n():\n",
      "    from sympy import symbols, solve, lcm\n",
      "\n",
      "    n = symbols('n', real=True)\n",
      "\n",
      "    # Given conditions\n",
      "    eq1 = lcm(24, n) - 72\n",
      "    eq2 = lcm(n, 27) - 108\n",
      "\n",
      "    # Solve the system of equations\n",
      "    solution = solve((eq1, eq2), n)\n",
      "\n",
      "    return solution\n",
      "\n",
      "result = solve_for_n()\n",
      "print(result)\n",
      "```\n",
      "```output\n",
      "[36]\n",
      "```\n",
      "The value of $n$ is $36$.\n",
      "The answer is $\\boxed{36}$.\n"
     ]
    },
    {
     "name": "stderr",
     "output_type": "stream",
     "text": [
      "Setting `pad_token_id` to `eos_token_id`:100001 for open-end generation.\n"
     ]
    },
    {
     "name": "stdout",
     "output_type": "stream",
     "text": [
      "22:47:40\n"
     ]
    },
    {
     "name": "stderr",
     "output_type": "stream",
     "text": [
      "Setting `pad_token_id` to `eos_token_id`:100001 for open-end generation.\n"
     ]
    },
    {
     "name": "stdout",
     "output_type": "stream",
     "text": [
      "Shell input: \n",
      "from sympy import symbols, Eq, solve\n",
      "\n",
      "def find_x():\n",
      "    x = symbols('x')\n",
      "    equation = Eq(5*x + 2*x - 5, 37)\n",
      "    solution = solve(equation, x)\n",
      "\n",
      "    return solution[0]\n",
      "\n",
      "result = find_x()\n",
      "print(result)\n",
      "\n",
      "\n",
      "shell_output='6\\n'\n",
      "\n",
      "second_prompt=\"<｜begin▁of▁sentence｜>User: Problem: Let $a\\\\star b = ab+2b-a$. If $5\\\\star x = 37$, find the value of $x$.\\nGenerate Python code to solve the above problem.\\nUnless complex numbers are mentioned in the problem create SymPy symbols with parameter real=True\\n```python\\n```python\\nfrom sympy import symbols, Eq, solve\\n\\ndef find_x():\\n    x = symbols('x')\\n    equation = Eq(5*x + 2*x - 5, 37)\\n    solution = solve(equation, x)\\n\\n    return solution[0]\\n\\nresult = find_x()\\nprint(result)\\n```\\n```output\\n6\\n\\n```\\n\\n Does the solution above look correct? Only answer yes or no. No code after this.\\n\\n\"\n",
      "\n"
     ]
    }
   ],
   "source": [
    "n_repetitions = 3\n",
    "q_ics = []\n",
    "raw_results = []\n",
    "total_results = []\n",
    "total_answers = []\n",
    "\n",
    "for q_idx in range(len(questions)):\n",
    "    print(f\"\\n\\n{q_idx}: {questions['problem'].iloc[q_idx]}\")\n",
    "    results = []\n",
    "    answers = []\n",
    "    for rep_idx in range(n_repetitions):\n",
    "        print(datetime.now().strftime('%H:%M:%S'))\n",
    "        if rep_idx > (n_repetitions + 1) / 2:\n",
    "            problem = clean_latex(questions['problem'].iloc[q_idx])\n",
    "        else:\n",
    "            problem = questions['problem'].iloc[q_idx] \n",
    "        messages = [{\n",
    "            \"role\": \"user\", \n",
    "            \"content\": 'Problem: ' + problem + \"\\nGenerate Python code to solve the above problem.\" +\n",
    "            '\\nUnless complex numbers are mentioned in the problem create SymPy symbols with parameter real=True' +\n",
    "                '\\n```python\\n'\n",
    "        }]\n",
    "        query_prompt = tokenizer.apply_chat_template(messages, tokenize=False)\n",
    "        try:\n",
    "            first_output = pipeline(query_prompt, max_new_tokens=1024, do_sample=True, temperature=0.3, return_full_text=False)\n",
    "            first_output = '```python\\n' + first_output[0]['generated_text']\n",
    "            print('Shell input: \\n' + first_output.split('```')[1][7:] + '\\n')\n",
    "            shell_output = run_python_code(first_output.split('```')[1][7:])\n",
    "            print(f'{shell_output=}\\n')\n",
    "            with_output = '\\n```python\\n' + first_output.split('```output')[0] + f'```output\\n{shell_output}\\n```'\n",
    "            messages = [{\n",
    "                \"role\": \"user\", \n",
    "                \"content\": 'Problem: ' + problem + \"\\nGenerate Python code to solve the above problem.\" +\n",
    "                '\\nUnless complex numbers are mentioned in the problem create SymPy symbols with parameter real=True' +                \n",
    "                with_output +\n",
    "                '\\n\\n Does the solution above look correct? Only answer yes or no. No code after this.'\n",
    "            }]\n",
    "            second_prompt = tokenizer.apply_chat_template(messages, tokenize=False)\n",
    "            print(f'{second_prompt=}\\n')\n",
    "            second_output = pipeline(second_prompt, max_new_tokens=1024, do_sample=True, temperature=0.3, return_full_text=False)\n",
    "            print(f'{second_output=}\\n')\n",
    "            \n",
    "            raw_results.append(second_output)\n",
    "            print(raw_output)\n",
    "            result_output, code_output = process_output(raw_output)\n",
    "            torch.cuda.empty_cache()\n",
    "            gc.collect()\n",
    "        except Exception as e:\n",
    "            result_output, code_output = -1, -1\n",
    "        results.append(result_output)\n",
    "        answers.append(code_output)\n",
    "        q_ics.append(q_idx)\n",
    "    total_results.append(results)\n",
    "    total_answers.append(answers)"
   ]
  },
  {
   "cell_type": "code",
   "execution_count": 11,
   "id": "70e6b42a-a1e8-4980-accb-6ce884072c20",
   "metadata": {
    "tags": []
   },
   "outputs": [],
   "source": [
    "# pd.DataFrame({\n",
    "#     'question': np.repeat(questions.values, n_repetitions),\n",
    "#     'sympy_answers': total_answers,\n",
    "#     'llm_answers': total_results,\n",
    "#     'raw_answers': raw_results\n",
    "# })"
   ]
  },
  {
   "cell_type": "code",
   "execution_count": 54,
   "id": "fb37899c-65b2-44be-8b20-e3b817fb4166",
   "metadata": {
    "tags": []
   },
   "outputs": [
    {
     "name": "stdout",
     "output_type": "stream",
     "text": [
      "75\n",
      "25\n",
      "8\n",
      "8\n"
     ]
    }
   ],
   "source": [
    "print(len(np.repeat(questions['problem'].values, n_repetitions)))\n",
    "print(len(raw_results))\n",
    "print(len(total_results))\n",
    "print(len(total_answers))"
   ]
  },
  {
   "cell_type": "code",
   "execution_count": 65,
   "id": "a8d610e8-14ba-402a-8237-1539f65c124c",
   "metadata": {
    "tags": []
   },
   "outputs": [
    {
     "data": {
      "text/plain": [
       "'When the expression $4(x^2-2x+2)-7(x^3-3x+1)$ is fully simplified, what is the sum of the squares of the coefficients of the terms?'"
      ]
     },
     "execution_count": 65,
     "metadata": {},
     "output_type": "execute_result"
    }
   ],
   "source": [
    "questions['problem'].iloc[7]"
   ]
  },
  {
   "cell_type": "code",
   "execution_count": 19,
   "id": "b2c6668a-612f-47b6-afe4-220122c4d961",
   "metadata": {
    "tags": []
   },
   "outputs": [
    {
     "data": {
      "text/plain": [
       "[[-1, -1, -1], [-1, 2, -1], [-1, 1, 1]]"
      ]
     },
     "execution_count": 19,
     "metadata": {},
     "output_type": "execute_result"
    }
   ],
   "source": [
    "total_results"
   ]
  },
  {
   "cell_type": "code",
   "execution_count": 20,
   "id": "efc2c791-8845-4c45-88df-3bb8167033dc",
   "metadata": {
    "tags": []
   },
   "outputs": [
    {
     "data": {
      "text/plain": [
       "[[-1, 995, 995], [2, 2, -1], [-1, 2, 2]]"
      ]
     },
     "execution_count": 20,
     "metadata": {},
     "output_type": "execute_result"
    }
   ],
   "source": [
    "total_answers"
   ]
  },
  {
   "cell_type": "code",
   "execution_count": 22,
   "id": "600d7f21-55a1-4795-9358-b654d9c40156",
   "metadata": {
    "tags": []
   },
   "outputs": [
    {
     "data": {
      "text/plain": [
       "array(['In general, $\\\\mathbf{M} \\\\begin{pmatrix} 1 \\\\\\\\ 0 \\\\end{pmatrix}$ is the first column of $\\\\mathbf{M}$, and $\\\\mathbf{M} \\\\begin{pmatrix} 0 \\\\\\\\ 1 \\\\end{pmatrix}$ is the second column of $\\\\mathbf{M}.$\\n\\nTaking $\\\\mathbf{v} = \\\\begin{pmatrix} 1 \\\\\\\\ 0 \\\\end{pmatrix},$ we get\\n\\\\[-5 \\\\begin{pmatrix} 1 \\\\\\\\ 0 \\\\end{pmatrix} = \\\\begin{pmatrix} -5 \\\\\\\\ 0 \\\\end{pmatrix}.\\\\]Taking $\\\\mathbf{v} = \\\\begin{pmatrix} 0 \\\\\\\\ 1 \\\\end{pmatrix},$ we get\\n\\\\[-5 \\\\begin{pmatrix} 0 \\\\\\\\ 1 \\\\end{pmatrix} = \\\\begin{pmatrix} 0 \\\\\\\\ -5 \\\\end{pmatrix}.\\\\]Therefore,\\n\\\\[\\\\mathbf{M} = \\\\boxed{\\\\begin{pmatrix} -5 & 0 \\\\\\\\ 0 & -5 \\\\end{pmatrix}}.\\\\]',\n",
       "       'We have that\\n\\\\begin{align*}\\nak^3 + bk^2 + ck + d &= 0, \\\\\\\\\\nbk^3 + ck^2 + dk + a &= 0.\\n\\\\end{align*}Multiplying the first equation by $k,$ we get\\n\\\\[ak^4 + bk^3 + ck^2 + dk = 0.\\\\]Subtracting the equation $bk^3 + ck^2 + dk + a = 0,$ we get $ak^4 = a.$  Since $a$ is nonzero, $k^4 = 1.$  Then $k^4 - 1 = 0,$ which factors as\\n\\\\[(k - 1)(k + 1)(k^2 + 1) = 0.\\\\]This means $k$ is one of $1,$ $-1,$ $i,$ or $-i.$\\n\\nIf $a = b = c = d = 1,$ then $-1,$ $i,$ and $-i$ are roots of both polynomials.  If $a = b = c = 1$ and $d = -3,$ then 1 is a root of both polynomials.  Therefore, the possible values of $k$ are $\\\\boxed{1,-1,i,-i}.$',\n",
       "       'Let $y = 3^x.$  Then\\n\\\\[9^x - 3^x + 1 = y^2 - y + 1 = \\\\left( y - \\\\frac{1}{2} \\\\right)^2 + \\\\frac{3}{4}.\\\\]Thus, the minimum value is $\\\\boxed{\\\\frac{3}{4}},$ which occurs when $y = \\\\frac{1}{2},$ or $x = \\\\log_3 \\\\frac{1}{2}.$'],\n",
       "      dtype=object)"
      ]
     },
     "execution_count": 22,
     "metadata": {},
     "output_type": "execute_result"
    }
   ],
   "source": [
    "questions['solution'].values"
   ]
  },
  {
   "cell_type": "code",
   "execution_count": 7,
   "id": "f70ce962-d383-41b0-90fb-82c401506500",
   "metadata": {
    "tags": []
   },
   "outputs": [],
   "source": [
    "propm_prefix = '''Problem:\n",
    "Find the domain of the expression $\\frac{\\sqrt{x-2}}{\\sqrt{5-x}}$.}\n",
    "\n",
    "Solution:\n",
    "The expressions inside each square root must be non-negative. Therefore,\n",
    "$x-2 \\ge 0$, so $x\\ge2$, and $5 - x \\ge 0$, so $x \\le 5$. Also, the denominator\n",
    "cannot be equal to zero, so $5-x>0$, which gives $x<5$. Therefore, the domain of\n",
    "the expression is $\\boxed{[2,5)}$.\n",
    "Final Answer: The final answer is $[2,5)$. I hope it is correct.\n",
    "\n",
    "Problem:\n",
    "If $\\det \\mathbf{A} = 2$ and $\\det \\mathbf{B} = 12,$ then find\n",
    "$\\det (\\mathbf{A} \\mathbf{B}).$\n",
    "Solution:\n",
    "We have that $\\det (\\mathbf{A} \\mathbf{B}) = (\\det \\mathbf{A})(\\det \\mathbf{B})\n",
    "= (2)(12) = \\boxed{24}.$\n",
    "Final Answer: The final answer is $24$. I hope it is correct.\n",
    "Problem:\n",
    "Terrell usually lifts two 20-pound weights 12 times. If he uses two 15-pound\n",
    "weights instead, how many times must Terrell lift them in order to lift the\n",
    "same total weight?\n",
    "\n",
    "Solution:\n",
    "If Terrell lifts two 20-pound weights 12 times, he lifts a total of\n",
    "$2\\cdot 12\\cdot20=480$ pounds of weight. If he lifts two 15-pound\n",
    "weights instead for $n$ times, he will lift a total of $2\\cdot15\\cdot n=30n$\n",
    "pounds of weight. Equating this to 480 pounds, we can solve for $n$:\n",
    "\\begin{align*}\n",
    "30n&=480\\\\\n",
    "\\Rightarrow\\qquad n&=480/30=\\boxed{16}\n",
    "\\end{align*}\n",
    "Final Answer: The final answer is $16$. I hope it is correct.\n",
    "\n",
    "Problem:\n",
    "If the system of equations\n",
    "\\begin{align*}\n",
    "6x-4y&=a,\\\\\n",
    "6y-9x &=b.\n",
    "\\end{align*}has a solution $(x, y)$ where $x$ and $y$ are both nonzero,\n",
    "find $\\frac{a}{b},$ assuming $b$ is nonzero.\n",
    "\n",
    "Solution:\n",
    "If we multiply the first equation by $-\\frac{3}{2}$, we obtain\n",
    "$$6y-9x=-\\frac{3}{2}a.$$Since we also know that $6y-9x=b$, we have\n",
    "$$-\\frac{3}{2}a=b\\Rightarrow\\frac{a}{b}=\\boxed{-\\frac{2}{3}}.$$\n",
    "Final Answer: The final answer is $-\\frac{2}{3}$. I hope it is correct.\n",
    "\n",
    "Problem:\n",
    "'''\n",
    "\n",
    "question_easy = 'Beth bakes 4, 2 dozen batches of cokies in a week. If these cookies are shared amongst 16 people equally, how many cookies does each person consume?'\n",
    "question_hard = 'Each of the three-digits numbers $111$ to $999$ is coloured blue or yellow in such a way that the sum of any two (not necessarily different) yellow numbers is equal to a blue number. What is the maximum possible number of yellow numbers there can be?'\n",
    "postfix = '\\nPlease reason step by step, and put your final answer within \\boxed{}.'\n",
    "postfix_2 =  '\\nPlease convert this problem into a set of equations'\n",
    "tokens = tokenizer.encode(question_hard + postfix_2, return_tensors='pt').to('cuda')\n",
    "out_tokens = model.generate(tokens, max_length=500)\n",
    "print(tokenizer.decode(out_tokens[0]))"
   ]
  },
  {
   "cell_type": "code",
   "execution_count": null,
   "id": "ae0d586f-0b4e-4f4a-9f48-b5ebf178f029",
   "metadata": {},
   "outputs": [],
   "source": []
  }
 ],
 "metadata": {
  "kernelspec": {
   "display_name": "Python [conda env:pytorch]",
   "language": "python",
   "name": "conda-env-pytorch-py"
  },
  "language_info": {
   "codemirror_mode": {
    "name": "ipython",
    "version": 3
   },
   "file_extension": ".py",
   "mimetype": "text/x-python",
   "name": "python",
   "nbconvert_exporter": "python",
   "pygments_lexer": "ipython3",
   "version": "3.11.5"
  }
 },
 "nbformat": 4,
 "nbformat_minor": 5
}
