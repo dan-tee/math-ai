{
 "cells": [
  {
   "cell_type": "markdown",
   "id": "7fb36e15-e88c-475c-915e-f82609610bf7",
   "metadata": {},
   "source": [
    "# DeepSeek Baseline\n",
    "- fp16\n",
    "- only one inference round with multiple self-consistency answers per question"
   ]
  },
  {
   "cell_type": "code",
   "execution_count": 1,
   "id": "681bc6fa-9425-445f-91b9-eb49b9363ce5",
   "metadata": {
    "tags": []
   },
   "outputs": [
    {
     "name": "stdout",
     "output_type": "stream",
     "text": [
      "Available Memory (GB, approx.): 23.64\n",
      "WARNING 04-23 15:46:15 config.py:767] Casting torch.bfloat16 to torch.float16.\n",
      "INFO 04-23 15:46:15 config.py:381] Using fp8_e5m2 data type to store kv cache. It reduces the GPU memory footprint and boosts the performance. But it may cause slight accuracy drop. Currently we only support fp8 without scaling factors and make e5m2 as a default format.\n",
      "INFO 04-23 15:46:15 llm_engine.py:74] Initializing an LLM engine (v0.4.0.post1) with config: model='deepseek-ai/deepseek-math-7b-rl', tokenizer='deepseek-ai/deepseek-math-7b-rl', tokenizer_mode=auto, revision=None, tokenizer_revision=None, trust_remote_code=False, dtype=torch.float16, max_seq_len=2048, download_dir=None, load_format=auto, tensor_parallel_size=1, disable_custom_all_reduce=True, quantization=None, enforce_eager=True, kv_cache_dtype=fp8_e5m2, device_config=cuda, seed=0)\n"
     ]
    },
    {
     "name": "stderr",
     "output_type": "stream",
     "text": [
      "Special tokens have been added in the vocabulary, make sure the associated word embeddings are fine-tuned or trained.\n"
     ]
    },
    {
     "name": "stdout",
     "output_type": "stream",
     "text": [
      "INFO 04-23 15:46:16 selector.py:51] Cannot use FlashAttention because the package is not found. Please install it for better performance.\n",
      "INFO 04-23 15:46:16 selector.py:25] Using XFormers backend.\n",
      "INFO 04-23 15:46:17 weight_utils.py:177] Using model weights format ['*.safetensors']\n",
      "INFO 04-23 15:46:20 model_runner.py:104] Loading model weights took 12.8725 GB\n",
      "INFO 04-23 15:46:21 gpu_executor.py:94] # GPU blocks: 2569, # CPU blocks: 1092\n"
     ]
    }
   ],
   "source": [
    "import os, io\n",
    "import json\n",
    "from pathlib import Path\n",
    "from datetime import datetime\n",
    "import re, sys, subprocess, gc\n",
    "import time\n",
    "import multiprocessing\n",
    "\n",
    "import pandas as pd\n",
    "import numpy as np\n",
    "import torch\n",
    "from vllm import LLM, SamplingParams\n",
    "\n",
    "n_questions = 100\n",
    "n_reps = 5\n",
    "code_timeout_secs = 5\n",
    "temperature = 0.9\n",
    "\n",
    "np.random.seed(42)\n",
    "\n",
    "def free_mem():\n",
    "    if hasattr(sys, 'last_traceback'):\n",
    "        sys.last_traceback.tb_next = None\n",
    "    gc.collect()\n",
    "    torch.cuda.empty_cache()\n",
    "\n",
    "def print_cuda_mem():\n",
    "    total_memory = torch.cuda.get_device_properties(0).total_memory / (1024 ** 3)\n",
    "    cached_memory = torch.cuda.memory_reserved(0) / (1024 ** 3)\n",
    "    available_memory = total_memory - cached_memory \n",
    "    print(f\"Available Memory (GB, approx.): {available_memory:.2f}\")\n",
    "\n",
    "ds_math_rl = \"deepseek-ai/deepseek-math-7b-rl\"\n",
    "torch_dtype = torch.bfloat16\n",
    "# to avoid warning when spawing processes to evaluate code later\n",
    "os.environ['TOKENIZERS_PARALLELISM'] = 'false'\n",
    "print_cuda_mem()\n",
    "\n",
    "\n",
    "vllm = LLM(model=ds_math_rl,\n",
    "          dtype='half',\n",
    "          enforce_eager=True,\n",
    "          gpu_memory_utilization=0.99,\n",
    "          swap_space=4,\n",
    "          max_model_len=2048,\n",
    "          kv_cache_dtype=\"fp8_e5m2\",\n",
    "          tensor_parallel_size=1)\n",
    "vtokenizer = vllm.get_tokenizer()"
   ]
  },
  {
   "cell_type": "code",
   "execution_count": 2,
   "id": "b2ffba91-88ab-40af-ba46-31db6ac025aa",
   "metadata": {
    "tags": []
   },
   "outputs": [
    {
     "name": "stdout",
     "output_type": "stream",
     "text": [
      "Let $k, l > 0$ be parameters. The parabola $y = kx^2 - 2kx + l$ intersects the line $y = 4$ at two points $A$ and $B$. These points are distance 6 apart. What is the sum of the squares of the distances from $A$ and $B$ to the origin?\n"
     ]
    },
    {
     "data": {
      "text/html": [
       "<div>\n",
       "<style scoped>\n",
       "    .dataframe tbody tr th:only-of-type {\n",
       "        vertical-align: middle;\n",
       "    }\n",
       "\n",
       "    .dataframe tbody tr th {\n",
       "        vertical-align: top;\n",
       "    }\n",
       "\n",
       "    .dataframe thead th {\n",
       "        text-align: right;\n",
       "    }\n",
       "</style>\n",
       "<table border=\"1\" class=\"dataframe\">\n",
       "  <thead>\n",
       "    <tr style=\"text-align: right;\">\n",
       "      <th></th>\n",
       "      <th>id</th>\n",
       "      <th>problem</th>\n",
       "      <th>answer</th>\n",
       "    </tr>\n",
       "  </thead>\n",
       "  <tbody>\n",
       "    <tr>\n",
       "      <th>0</th>\n",
       "      <td>229ee8</td>\n",
       "      <td>Let $k, l &gt; 0$ be parameters. The parabola $y ...</td>\n",
       "      <td>52</td>\n",
       "    </tr>\n",
       "    <tr>\n",
       "      <th>1</th>\n",
       "      <td>246d26</td>\n",
       "      <td>Each of the three-digits numbers $111$ to $999...</td>\n",
       "      <td>250</td>\n",
       "    </tr>\n",
       "    <tr>\n",
       "      <th>2</th>\n",
       "      <td>2fc4ad</td>\n",
       "      <td>Let the `sparkle' operation on positive intege...</td>\n",
       "      <td>702</td>\n",
       "    </tr>\n",
       "  </tbody>\n",
       "</table>\n",
       "</div>"
      ],
      "text/plain": [
       "       id                                            problem  answer\n",
       "0  229ee8  Let $k, l > 0$ be parameters. The parabola $y ...      52\n",
       "1  246d26  Each of the three-digits numbers $111$ to $999...     250\n",
       "2  2fc4ad  Let the `sparkle' operation on positive intege...     702"
      ]
     },
     "execution_count": 2,
     "metadata": {},
     "output_type": "execute_result"
    }
   ],
   "source": [
    "q_df = pd.read_csv('./train.csv')\n",
    "print(q_df.iloc[0]['problem'])\n",
    "q_df.iloc[0]['answer']\n",
    "q_df[:3]"
   ]
  },
  {
   "cell_type": "code",
   "execution_count": 3,
   "id": "23aca986-4919-4507-8a65-44c730a8e833",
   "metadata": {
    "tags": []
   },
   "outputs": [
    {
     "name": "stdout",
     "output_type": "stream",
     "text": [
      "(7500, 5) (5000, 5)\n"
     ]
    },
    {
     "data": {
      "text/plain": [
       "Index(['problem', 'level', 'type', 'solution', 'id'], dtype='object')"
      ]
     },
     "execution_count": 3,
     "metadata": {},
     "output_type": "execute_result"
    }
   ],
   "source": [
    "from MATH.math_equivalence import is_equiv\n",
    "\n",
    "# generator = generate.choice(model, [\"yes\", \"no\"])\n",
    "# for i, question in enumerate(questions['problem']):\n",
    "#     tool_instruction = f\"{question}\\nCan this problem be expressed as a set of equations and solved by solving the equations?\"\n",
    "#     answers = generator([tool_instruction] * 5, max_tokens=5)\n",
    "#     free_mem()\n",
    "#     print(i+1, pd.Series(answers).mode().values, answers)\n",
    "def read_math_data(folder_path):\n",
    "    folder = Path(folder_path)\n",
    "    math_data = []\n",
    "    for sub_folder in os.listdir(folder):\n",
    "        if not os.path.isdir(folder/sub_folder):\n",
    "            continue\n",
    "        for file_name in os.listdir(folder/sub_folder):\n",
    "            if file_name.endswith('.json'):\n",
    "                with open(folder / sub_folder / file_name, 'r') as file:\n",
    "                    data = json.load(file)\n",
    "                    data['id'] = file_name[:-5]\n",
    "                    math_data.append(data)\n",
    "    return pd.DataFrame(math_data)\n",
    "\n",
    "math_train = read_math_data('./MATH/train')\n",
    "math_test = read_math_data('./MATH/test')\n",
    "print(math_train.shape, math_test.shape)\n",
    "math_samp = math_test[math_test['level'].isin(['Level 1', 'Level 2', 'Level 3', 'Level 4', 'Level 5'])].sample(n_questions)\n",
    "math_samp.columns"
   ]
  },
  {
   "cell_type": "code",
   "execution_count": 4,
   "id": "12408412-fd6c-4228-95bd-29ddcf1cbe2c",
   "metadata": {
    "tags": []
   },
   "outputs": [
    {
     "data": {
      "text/html": [
       "<div>\n",
       "<style scoped>\n",
       "    .dataframe tbody tr th:only-of-type {\n",
       "        vertical-align: middle;\n",
       "    }\n",
       "\n",
       "    .dataframe tbody tr th {\n",
       "        vertical-align: top;\n",
       "    }\n",
       "\n",
       "    .dataframe thead th {\n",
       "        text-align: right;\n",
       "    }\n",
       "</style>\n",
       "<table border=\"1\" class=\"dataframe\">\n",
       "  <thead>\n",
       "    <tr style=\"text-align: right;\">\n",
       "      <th></th>\n",
       "      <th>problem</th>\n",
       "      <th>level</th>\n",
       "      <th>type</th>\n",
       "      <th>solution</th>\n",
       "      <th>id</th>\n",
       "      <th>answer</th>\n",
       "    </tr>\n",
       "  </thead>\n",
       "  <tbody>\n",
       "    <tr>\n",
       "      <th>398</th>\n",
       "      <td>Find $r$ if $3(r-5)=24$.</td>\n",
       "      <td>Level 2</td>\n",
       "      <td>Prealgebra</td>\n",
       "      <td>We get rid of the 3 by dividing both sides by ...</td>\n",
       "      <td>2063</td>\n",
       "      <td>13</td>\n",
       "    </tr>\n",
       "    <tr>\n",
       "      <th>3833</th>\n",
       "      <td>How many integers between 200 and 300 are perf...</td>\n",
       "      <td>Level 1</td>\n",
       "      <td>Counting &amp; Probability</td>\n",
       "      <td>Let $m$ be a positive integer. $200\\le m^2\\le3...</td>\n",
       "      <td>449</td>\n",
       "      <td>3</td>\n",
       "    </tr>\n",
       "    <tr>\n",
       "      <th>4836</th>\n",
       "      <td>The width, length, and height of a rectangular...</td>\n",
       "      <td>Level 4</td>\n",
       "      <td>Geometry</td>\n",
       "      <td>Recall that increasing a quantity by $p\\%$ is ...</td>\n",
       "      <td>586</td>\n",
       "      <td>33\\%</td>\n",
       "    </tr>\n",
       "  </tbody>\n",
       "</table>\n",
       "</div>"
      ],
      "text/plain": [
       "                                                problem    level  \\\n",
       "398                            Find $r$ if $3(r-5)=24$.  Level 2   \n",
       "3833  How many integers between 200 and 300 are perf...  Level 1   \n",
       "4836  The width, length, and height of a rectangular...  Level 4   \n",
       "\n",
       "                        type  \\\n",
       "398               Prealgebra   \n",
       "3833  Counting & Probability   \n",
       "4836                Geometry   \n",
       "\n",
       "                                               solution    id answer  \n",
       "398   We get rid of the 3 by dividing both sides by ...  2063     13  \n",
       "3833  Let $m$ be a positive integer. $200\\le m^2\\le3...   449      3  \n",
       "4836  Recall that increasing a quantity by $p\\%$ is ...   586   33\\%  "
      ]
     },
     "execution_count": 4,
     "metadata": {},
     "output_type": "execute_result"
    }
   ],
   "source": [
    "def extract_answer(text, boxed_in_tool_instruction=True):\n",
    "    pattern = r\"\\\\boxed\\{((?:[^{}]+|\\{[^{}]*\\})*)\\}\"\n",
    "    matches = re.findall(pattern, text)\n",
    "    n_matches = 2 if boxed_in_tool_instruction else 1\n",
    "    \n",
    "    if len(matches) >= n_matches:\n",
    "        # there is already an empty match in tool instruction\n",
    "        return matches[-1] \n",
    "\n",
    "    numbers = re.findall(r'[+-]?\\d+', text)\n",
    "    return numbers[-1] if numbers else None\n",
    "\n",
    "def extract_correct(text):\n",
    "    return extract_answer(text, False)\n",
    "        \n",
    "math_samp['answer'] = math_samp['solution'].map(extract_correct)\n",
    "math_samp[:3]"
   ]
  },
  {
   "cell_type": "markdown",
   "id": "ec196a18-24b6-4383-9a1f-7b345ade501b",
   "metadata": {},
   "source": [
    "- 1 yes\n",
    "- 2 no\n",
    "- 3 no\n",
    "- 4 yes\n",
    "- 5 maybe\n",
    "- 6 maybe\n",
    "- 7 yes\n",
    "- 8 maybe\n",
    "- 9 yes\n",
    "- 10 no"
   ]
  },
  {
   "cell_type": "markdown",
   "id": "d9622bee-4a97-4f2c-ba83-292e0552840b",
   "metadata": {},
   "source": [
    "# Batched Inference"
   ]
  },
  {
   "cell_type": "code",
   "execution_count": 5,
   "id": "197315b8-34ae-4427-acca-7bcb0b007f9d",
   "metadata": {
    "tags": []
   },
   "outputs": [
    {
     "name": "stderr",
     "output_type": "stream",
     "text": [
      "Processed prompts: 100%|██████████| 1/1 [00:02<00:00,  2.78s/it]\n"
     ]
    },
    {
     "name": "stdout",
     "output_type": "stream",
     "text": [
      "Batch 0: Processed 5 reps of prompt with a total of 684 output tokens in 3s\n"
     ]
    },
    {
     "name": "stderr",
     "output_type": "stream",
     "text": [
      "Processed prompts: 100%|██████████| 1/1 [00:12<00:00, 12.46s/it]\n"
     ]
    },
    {
     "name": "stdout",
     "output_type": "stream",
     "text": [
      "Batch 1: Processed 5 reps of prompt with a total of 1405 output tokens in 12s\n"
     ]
    },
    {
     "name": "stderr",
     "output_type": "stream",
     "text": [
      "Processed prompts: 100%|██████████| 1/1 [00:07<00:00,  7.20s/it]\n"
     ]
    },
    {
     "name": "stdout",
     "output_type": "stream",
     "text": [
      "Batch 2: Processed 5 reps of prompt with a total of 1688 output tokens in 7s\n"
     ]
    },
    {
     "name": "stderr",
     "output_type": "stream",
     "text": [
      "Processed prompts: 100%|██████████| 1/1 [00:36<00:00, 36.20s/it]\n"
     ]
    },
    {
     "name": "stdout",
     "output_type": "stream",
     "text": [
      "Batch 3: Processed 5 reps of prompt with a total of 7040 output tokens in 36s\n"
     ]
    },
    {
     "name": "stderr",
     "output_type": "stream",
     "text": [
      "Processed prompts: 100%|██████████| 1/1 [00:02<00:00,  2.61s/it]\n"
     ]
    },
    {
     "name": "stdout",
     "output_type": "stream",
     "text": [
      "Batch 4: Processed 5 reps of prompt with a total of 693 output tokens in 3s\n"
     ]
    },
    {
     "name": "stderr",
     "output_type": "stream",
     "text": [
      "Processed prompts: 100%|██████████| 1/1 [00:06<00:00,  6.38s/it]\n"
     ]
    },
    {
     "name": "stdout",
     "output_type": "stream",
     "text": [
      "Batch 5: Processed 5 reps of prompt with a total of 1007 output tokens in 6s\n"
     ]
    },
    {
     "name": "stderr",
     "output_type": "stream",
     "text": [
      "Processed prompts: 100%|██████████| 1/1 [00:03<00:00,  3.86s/it]\n"
     ]
    },
    {
     "name": "stdout",
     "output_type": "stream",
     "text": [
      "Batch 6: Processed 5 reps of prompt with a total of 889 output tokens in 4s\n"
     ]
    },
    {
     "name": "stderr",
     "output_type": "stream",
     "text": [
      "Processed prompts: 100%|██████████| 1/1 [00:05<00:00,  5.71s/it]\n"
     ]
    },
    {
     "name": "stdout",
     "output_type": "stream",
     "text": [
      "Batch 7: Processed 5 reps of prompt with a total of 1307 output tokens in 6s\n"
     ]
    },
    {
     "name": "stderr",
     "output_type": "stream",
     "text": [
      "Processed prompts: 100%|██████████| 1/1 [00:04<00:00,  4.44s/it]\n"
     ]
    },
    {
     "name": "stdout",
     "output_type": "stream",
     "text": [
      "Batch 8: Processed 5 reps of prompt with a total of 1097 output tokens in 4s\n"
     ]
    },
    {
     "name": "stderr",
     "output_type": "stream",
     "text": [
      "Processed prompts: 100%|██████████| 1/1 [00:36<00:00, 36.58s/it]\n"
     ]
    },
    {
     "name": "stdout",
     "output_type": "stream",
     "text": [
      "Batch 9: Processed 5 reps of prompt with a total of 2917 output tokens in 37s\n"
     ]
    },
    {
     "name": "stderr",
     "output_type": "stream",
     "text": [
      "Processed prompts: 100%|██████████| 1/1 [00:36<00:00, 36.08s/it]\n"
     ]
    },
    {
     "name": "stdout",
     "output_type": "stream",
     "text": [
      "Batch 10: Processed 5 reps of prompt with a total of 3114 output tokens in 36s\n"
     ]
    },
    {
     "name": "stderr",
     "output_type": "stream",
     "text": [
      "Processed prompts: 100%|██████████| 1/1 [00:36<00:00, 36.76s/it]\n"
     ]
    },
    {
     "name": "stdout",
     "output_type": "stream",
     "text": [
      "Batch 11: Processed 5 reps of prompt with a total of 2911 output tokens in 37s\n"
     ]
    },
    {
     "name": "stderr",
     "output_type": "stream",
     "text": [
      "Processed prompts: 100%|██████████| 1/1 [00:07<00:00,  7.11s/it]\n"
     ]
    },
    {
     "name": "stdout",
     "output_type": "stream",
     "text": [
      "Batch 12: Processed 5 reps of prompt with a total of 1786 output tokens in 7s\n"
     ]
    },
    {
     "name": "stderr",
     "output_type": "stream",
     "text": [
      "Processed prompts: 100%|██████████| 1/1 [00:03<00:00,  3.05s/it]\n"
     ]
    },
    {
     "name": "stdout",
     "output_type": "stream",
     "text": [
      "Batch 13: Processed 5 reps of prompt with a total of 773 output tokens in 3s\n"
     ]
    },
    {
     "name": "stderr",
     "output_type": "stream",
     "text": [
      "Processed prompts: 100%|██████████| 1/1 [00:03<00:00,  3.44s/it]\n"
     ]
    },
    {
     "name": "stdout",
     "output_type": "stream",
     "text": [
      "Batch 14: Processed 5 reps of prompt with a total of 911 output tokens in 3s\n"
     ]
    },
    {
     "name": "stderr",
     "output_type": "stream",
     "text": [
      "Processed prompts: 100%|██████████| 1/1 [00:06<00:00,  6.87s/it]\n"
     ]
    },
    {
     "name": "stdout",
     "output_type": "stream",
     "text": [
      "Batch 15: Processed 5 reps of prompt with a total of 1610 output tokens in 7s\n"
     ]
    },
    {
     "name": "stderr",
     "output_type": "stream",
     "text": [
      "Processed prompts: 100%|██████████| 1/1 [00:02<00:00,  2.58s/it]\n"
     ]
    },
    {
     "name": "stdout",
     "output_type": "stream",
     "text": [
      "Batch 16: Processed 5 reps of prompt with a total of 698 output tokens in 3s\n"
     ]
    },
    {
     "name": "stderr",
     "output_type": "stream",
     "text": [
      "Processed prompts: 100%|██████████| 1/1 [00:03<00:00,  3.60s/it]\n"
     ]
    },
    {
     "name": "stdout",
     "output_type": "stream",
     "text": [
      "Batch 17: Processed 5 reps of prompt with a total of 955 output tokens in 4s\n"
     ]
    },
    {
     "name": "stderr",
     "output_type": "stream",
     "text": [
      "Processed prompts: 100%|██████████| 1/1 [00:08<00:00,  8.68s/it]\n"
     ]
    },
    {
     "name": "stdout",
     "output_type": "stream",
     "text": [
      "Batch 18: Processed 5 reps of prompt with a total of 1870 output tokens in 9s\n"
     ]
    },
    {
     "name": "stderr",
     "output_type": "stream",
     "text": [
      "Processed prompts: 100%|██████████| 1/1 [00:36<00:00, 36.36s/it]\n"
     ]
    },
    {
     "name": "stdout",
     "output_type": "stream",
     "text": [
      "Batch 19: Processed 5 reps of prompt with a total of 3018 output tokens in 36s\n"
     ]
    },
    {
     "name": "stderr",
     "output_type": "stream",
     "text": [
      "Processed prompts: 100%|██████████| 1/1 [00:02<00:00,  2.70s/it]\n"
     ]
    },
    {
     "name": "stdout",
     "output_type": "stream",
     "text": [
      "Batch 20: Processed 5 reps of prompt with a total of 677 output tokens in 3s\n"
     ]
    },
    {
     "name": "stderr",
     "output_type": "stream",
     "text": [
      "Processed prompts: 100%|██████████| 1/1 [00:36<00:00, 36.26s/it]\n"
     ]
    },
    {
     "name": "stdout",
     "output_type": "stream",
     "text": [
      "Batch 21: Processed 5 reps of prompt with a total of 3769 output tokens in 36s\n"
     ]
    },
    {
     "name": "stderr",
     "output_type": "stream",
     "text": [
      "Processed prompts: 100%|██████████| 1/1 [00:36<00:00, 36.61s/it]\n"
     ]
    },
    {
     "name": "stdout",
     "output_type": "stream",
     "text": [
      "Batch 22: Processed 5 reps of prompt with a total of 3483 output tokens in 37s\n"
     ]
    },
    {
     "name": "stderr",
     "output_type": "stream",
     "text": [
      "Processed prompts: 100%|██████████| 1/1 [00:05<00:00,  5.45s/it]\n"
     ]
    },
    {
     "name": "stdout",
     "output_type": "stream",
     "text": [
      "Batch 23: Processed 5 reps of prompt with a total of 1406 output tokens in 5s\n"
     ]
    },
    {
     "name": "stderr",
     "output_type": "stream",
     "text": [
      "Processed prompts: 100%|██████████| 1/1 [00:37<00:00, 37.62s/it]\n"
     ]
    },
    {
     "name": "stdout",
     "output_type": "stream",
     "text": [
      "Batch 24: Processed 5 reps of prompt with a total of 4774 output tokens in 38s\n"
     ]
    },
    {
     "name": "stderr",
     "output_type": "stream",
     "text": [
      "Processed prompts: 100%|██████████| 1/1 [00:13<00:00, 13.25s/it]\n"
     ]
    },
    {
     "name": "stdout",
     "output_type": "stream",
     "text": [
      "Batch 25: Processed 5 reps of prompt with a total of 2035 output tokens in 13s\n"
     ]
    },
    {
     "name": "stderr",
     "output_type": "stream",
     "text": [
      "Processed prompts: 100%|██████████| 1/1 [00:14<00:00, 14.48s/it]\n"
     ]
    },
    {
     "name": "stdout",
     "output_type": "stream",
     "text": [
      "Batch 26: Processed 5 reps of prompt with a total of 2258 output tokens in 14s\n"
     ]
    },
    {
     "name": "stderr",
     "output_type": "stream",
     "text": [
      "Processed prompts: 100%|██████████| 1/1 [00:05<00:00,  5.47s/it]\n"
     ]
    },
    {
     "name": "stdout",
     "output_type": "stream",
     "text": [
      "Batch 27: Processed 5 reps of prompt with a total of 1207 output tokens in 5s\n"
     ]
    },
    {
     "name": "stderr",
     "output_type": "stream",
     "text": [
      "Processed prompts: 100%|██████████| 1/1 [00:03<00:00,  3.97s/it]\n"
     ]
    },
    {
     "name": "stdout",
     "output_type": "stream",
     "text": [
      "Batch 28: Processed 5 reps of prompt with a total of 849 output tokens in 4s\n"
     ]
    },
    {
     "name": "stderr",
     "output_type": "stream",
     "text": [
      "Processed prompts: 100%|██████████| 1/1 [00:04<00:00,  4.10s/it]\n"
     ]
    },
    {
     "name": "stdout",
     "output_type": "stream",
     "text": [
      "Batch 29: Processed 5 reps of prompt with a total of 1072 output tokens in 4s\n"
     ]
    },
    {
     "name": "stderr",
     "output_type": "stream",
     "text": [
      "Processed prompts: 100%|██████████| 1/1 [00:38<00:00, 38.01s/it]\n"
     ]
    },
    {
     "name": "stdout",
     "output_type": "stream",
     "text": [
      "Batch 30: Processed 5 reps of prompt with a total of 5088 output tokens in 38s\n"
     ]
    },
    {
     "name": "stderr",
     "output_type": "stream",
     "text": [
      "Processed prompts: 100%|██████████| 1/1 [00:08<00:00,  8.71s/it]\n"
     ]
    },
    {
     "name": "stdout",
     "output_type": "stream",
     "text": [
      "Batch 31: Processed 5 reps of prompt with a total of 1920 output tokens in 9s\n"
     ]
    },
    {
     "name": "stderr",
     "output_type": "stream",
     "text": [
      "Processed prompts: 100%|██████████| 1/1 [00:03<00:00,  3.94s/it]\n"
     ]
    },
    {
     "name": "stdout",
     "output_type": "stream",
     "text": [
      "Batch 32: Processed 5 reps of prompt with a total of 983 output tokens in 4s\n"
     ]
    },
    {
     "name": "stderr",
     "output_type": "stream",
     "text": [
      "Processed prompts: 100%|██████████| 1/1 [00:05<00:00,  5.02s/it]\n"
     ]
    },
    {
     "name": "stdout",
     "output_type": "stream",
     "text": [
      "Batch 33: Processed 5 reps of prompt with a total of 1119 output tokens in 5s\n"
     ]
    },
    {
     "name": "stderr",
     "output_type": "stream",
     "text": [
      "Processed prompts: 100%|██████████| 1/1 [00:36<00:00, 36.74s/it]\n"
     ]
    },
    {
     "name": "stdout",
     "output_type": "stream",
     "text": [
      "Batch 34: Processed 5 reps of prompt with a total of 2606 output tokens in 37s\n"
     ]
    },
    {
     "name": "stderr",
     "output_type": "stream",
     "text": [
      "Processed prompts: 100%|██████████| 1/1 [00:04<00:00,  4.48s/it]\n"
     ]
    },
    {
     "name": "stdout",
     "output_type": "stream",
     "text": [
      "Batch 35: Processed 5 reps of prompt with a total of 1105 output tokens in 4s\n"
     ]
    },
    {
     "name": "stderr",
     "output_type": "stream",
     "text": [
      "Processed prompts: 100%|██████████| 1/1 [00:35<00:00, 35.87s/it]\n"
     ]
    },
    {
     "name": "stdout",
     "output_type": "stream",
     "text": [
      "Batch 36: Processed 5 reps of prompt with a total of 3266 output tokens in 36s\n"
     ]
    },
    {
     "name": "stderr",
     "output_type": "stream",
     "text": [
      "Processed prompts: 100%|██████████| 1/1 [00:09<00:00,  9.35s/it]\n"
     ]
    },
    {
     "name": "stdout",
     "output_type": "stream",
     "text": [
      "Batch 37: Processed 5 reps of prompt with a total of 1486 output tokens in 9s\n"
     ]
    },
    {
     "name": "stderr",
     "output_type": "stream",
     "text": [
      "Processed prompts: 100%|██████████| 1/1 [00:03<00:00,  3.82s/it]\n"
     ]
    },
    {
     "name": "stdout",
     "output_type": "stream",
     "text": [
      "Batch 38: Processed 5 reps of prompt with a total of 1004 output tokens in 4s\n"
     ]
    },
    {
     "name": "stderr",
     "output_type": "stream",
     "text": [
      "Processed prompts: 100%|██████████| 1/1 [00:10<00:00, 10.86s/it]\n"
     ]
    },
    {
     "name": "stdout",
     "output_type": "stream",
     "text": [
      "Batch 39: Processed 5 reps of prompt with a total of 2300 output tokens in 11s\n"
     ]
    },
    {
     "name": "stderr",
     "output_type": "stream",
     "text": [
      "Processed prompts: 100%|██████████| 1/1 [00:05<00:00,  5.19s/it]\n"
     ]
    },
    {
     "name": "stdout",
     "output_type": "stream",
     "text": [
      "Batch 40: Processed 5 reps of prompt with a total of 1262 output tokens in 5s\n"
     ]
    },
    {
     "name": "stderr",
     "output_type": "stream",
     "text": [
      "Processed prompts: 100%|██████████| 1/1 [00:06<00:00,  6.00s/it]\n"
     ]
    },
    {
     "name": "stdout",
     "output_type": "stream",
     "text": [
      "Batch 41: Processed 5 reps of prompt with a total of 1420 output tokens in 6s\n"
     ]
    },
    {
     "name": "stderr",
     "output_type": "stream",
     "text": [
      "Processed prompts: 100%|██████████| 1/1 [00:06<00:00,  6.09s/it]\n"
     ]
    },
    {
     "name": "stdout",
     "output_type": "stream",
     "text": [
      "Batch 42: Processed 5 reps of prompt with a total of 1470 output tokens in 6s\n"
     ]
    },
    {
     "name": "stderr",
     "output_type": "stream",
     "text": [
      "Processed prompts: 100%|██████████| 1/1 [00:38<00:00, 38.06s/it]\n"
     ]
    },
    {
     "name": "stdout",
     "output_type": "stream",
     "text": [
      "Batch 43: Processed 5 reps of prompt with a total of 4825 output tokens in 38s\n"
     ]
    },
    {
     "name": "stderr",
     "output_type": "stream",
     "text": [
      "Processed prompts: 100%|██████████| 1/1 [00:35<00:00, 35.87s/it]\n"
     ]
    },
    {
     "name": "stdout",
     "output_type": "stream",
     "text": [
      "Batch 44: Processed 5 reps of prompt with a total of 3636 output tokens in 36s\n"
     ]
    },
    {
     "name": "stderr",
     "output_type": "stream",
     "text": [
      "Processed prompts: 100%|██████████| 1/1 [00:04<00:00,  4.49s/it]\n"
     ]
    },
    {
     "name": "stdout",
     "output_type": "stream",
     "text": [
      "Batch 45: Processed 5 reps of prompt with a total of 935 output tokens in 4s\n"
     ]
    },
    {
     "name": "stderr",
     "output_type": "stream",
     "text": [
      "Processed prompts: 100%|██████████| 1/1 [00:37<00:00, 37.29s/it]\n"
     ]
    },
    {
     "name": "stdout",
     "output_type": "stream",
     "text": [
      "Batch 46: Processed 5 reps of prompt with a total of 5069 output tokens in 37s\n"
     ]
    },
    {
     "name": "stderr",
     "output_type": "stream",
     "text": [
      "Processed prompts: 100%|██████████| 1/1 [00:35<00:00, 35.78s/it]\n"
     ]
    },
    {
     "name": "stdout",
     "output_type": "stream",
     "text": [
      "Batch 47: Processed 5 reps of prompt with a total of 3413 output tokens in 36s\n"
     ]
    },
    {
     "name": "stderr",
     "output_type": "stream",
     "text": [
      "Processed prompts: 100%|██████████| 1/1 [00:03<00:00,  3.65s/it]\n"
     ]
    },
    {
     "name": "stdout",
     "output_type": "stream",
     "text": [
      "Batch 48: Processed 5 reps of prompt with a total of 703 output tokens in 4s\n"
     ]
    },
    {
     "name": "stderr",
     "output_type": "stream",
     "text": [
      "Processed prompts: 100%|██████████| 1/1 [00:04<00:00,  4.22s/it]\n"
     ]
    },
    {
     "name": "stdout",
     "output_type": "stream",
     "text": [
      "Batch 49: Processed 5 reps of prompt with a total of 1071 output tokens in 4s\n"
     ]
    },
    {
     "name": "stderr",
     "output_type": "stream",
     "text": [
      "Processed prompts: 100%|██████████| 1/1 [00:14<00:00, 14.59s/it]\n"
     ]
    },
    {
     "name": "stdout",
     "output_type": "stream",
     "text": [
      "Batch 50: Processed 5 reps of prompt with a total of 2380 output tokens in 15s\n"
     ]
    },
    {
     "name": "stderr",
     "output_type": "stream",
     "text": [
      "Processed prompts: 100%|██████████| 1/1 [00:05<00:00,  5.79s/it]\n"
     ]
    },
    {
     "name": "stdout",
     "output_type": "stream",
     "text": [
      "Batch 51: Processed 5 reps of prompt with a total of 1402 output tokens in 6s\n"
     ]
    },
    {
     "name": "stderr",
     "output_type": "stream",
     "text": [
      "Processed prompts: 100%|██████████| 1/1 [00:06<00:00,  6.56s/it]\n"
     ]
    },
    {
     "name": "stdout",
     "output_type": "stream",
     "text": [
      "Batch 52: Processed 5 reps of prompt with a total of 1518 output tokens in 7s\n"
     ]
    },
    {
     "name": "stderr",
     "output_type": "stream",
     "text": [
      "Processed prompts: 100%|██████████| 1/1 [00:21<00:00, 21.72s/it]\n"
     ]
    },
    {
     "name": "stdout",
     "output_type": "stream",
     "text": [
      "Batch 53: Processed 5 reps of prompt with a total of 4301 output tokens in 22s\n"
     ]
    },
    {
     "name": "stderr",
     "output_type": "stream",
     "text": [
      "Processed prompts: 100%|██████████| 1/1 [00:15<00:00, 15.46s/it]\n"
     ]
    },
    {
     "name": "stdout",
     "output_type": "stream",
     "text": [
      "Batch 54: Processed 5 reps of prompt with a total of 2467 output tokens in 15s\n"
     ]
    },
    {
     "name": "stderr",
     "output_type": "stream",
     "text": [
      "Processed prompts: 100%|██████████| 1/1 [00:16<00:00, 16.88s/it]\n"
     ]
    },
    {
     "name": "stdout",
     "output_type": "stream",
     "text": [
      "Batch 55: Processed 5 reps of prompt with a total of 3200 output tokens in 17s\n"
     ]
    },
    {
     "name": "stderr",
     "output_type": "stream",
     "text": [
      "Processed prompts: 100%|██████████| 1/1 [00:03<00:00,  3.15s/it]\n"
     ]
    },
    {
     "name": "stdout",
     "output_type": "stream",
     "text": [
      "Batch 56: Processed 5 reps of prompt with a total of 815 output tokens in 3s\n"
     ]
    },
    {
     "name": "stderr",
     "output_type": "stream",
     "text": [
      "Processed prompts: 100%|██████████| 1/1 [00:05<00:00,  5.22s/it]\n"
     ]
    },
    {
     "name": "stdout",
     "output_type": "stream",
     "text": [
      "Batch 57: Processed 5 reps of prompt with a total of 1021 output tokens in 5s\n"
     ]
    },
    {
     "name": "stderr",
     "output_type": "stream",
     "text": [
      "Processed prompts: 100%|██████████| 1/1 [00:10<00:00, 10.51s/it]\n"
     ]
    },
    {
     "name": "stdout",
     "output_type": "stream",
     "text": [
      "Batch 58: Processed 5 reps of prompt with a total of 1909 output tokens in 11s\n"
     ]
    },
    {
     "name": "stderr",
     "output_type": "stream",
     "text": [
      "Processed prompts: 100%|██████████| 1/1 [00:04<00:00,  4.30s/it]\n"
     ]
    },
    {
     "name": "stdout",
     "output_type": "stream",
     "text": [
      "Batch 59: Processed 5 reps of prompt with a total of 1026 output tokens in 4s\n"
     ]
    },
    {
     "name": "stderr",
     "output_type": "stream",
     "text": [
      "Processed prompts: 100%|██████████| 1/1 [00:30<00:00, 30.04s/it]\n"
     ]
    },
    {
     "name": "stdout",
     "output_type": "stream",
     "text": [
      "Batch 60: Processed 5 reps of prompt with a total of 5020 output tokens in 30s\n"
     ]
    },
    {
     "name": "stderr",
     "output_type": "stream",
     "text": [
      "Processed prompts: 100%|██████████| 1/1 [00:03<00:00,  3.13s/it]\n"
     ]
    },
    {
     "name": "stdout",
     "output_type": "stream",
     "text": [
      "Batch 61: Processed 5 reps of prompt with a total of 774 output tokens in 3s\n"
     ]
    },
    {
     "name": "stderr",
     "output_type": "stream",
     "text": [
      "Processed prompts: 100%|██████████| 1/1 [00:06<00:00,  6.89s/it]\n"
     ]
    },
    {
     "name": "stdout",
     "output_type": "stream",
     "text": [
      "Batch 62: Processed 5 reps of prompt with a total of 1752 output tokens in 7s\n"
     ]
    },
    {
     "name": "stderr",
     "output_type": "stream",
     "text": [
      "Processed prompts: 100%|██████████| 1/1 [00:05<00:00,  5.01s/it]\n"
     ]
    },
    {
     "name": "stdout",
     "output_type": "stream",
     "text": [
      "Batch 63: Processed 5 reps of prompt with a total of 1121 output tokens in 5s\n"
     ]
    },
    {
     "name": "stderr",
     "output_type": "stream",
     "text": [
      "Processed prompts: 100%|██████████| 1/1 [00:04<00:00,  4.79s/it]\n"
     ]
    },
    {
     "name": "stdout",
     "output_type": "stream",
     "text": [
      "Batch 64: Processed 5 reps of prompt with a total of 1038 output tokens in 5s\n"
     ]
    },
    {
     "name": "stderr",
     "output_type": "stream",
     "text": [
      "Processed prompts: 100%|██████████| 1/1 [00:04<00:00,  4.03s/it]\n"
     ]
    },
    {
     "name": "stdout",
     "output_type": "stream",
     "text": [
      "Batch 65: Processed 5 reps of prompt with a total of 1040 output tokens in 4s\n"
     ]
    },
    {
     "name": "stderr",
     "output_type": "stream",
     "text": [
      "Processed prompts: 100%|██████████| 1/1 [00:03<00:00,  3.89s/it]\n"
     ]
    },
    {
     "name": "stdout",
     "output_type": "stream",
     "text": [
      "Batch 66: Processed 5 reps of prompt with a total of 836 output tokens in 4s\n"
     ]
    },
    {
     "name": "stderr",
     "output_type": "stream",
     "text": [
      "Processed prompts: 100%|██████████| 1/1 [00:03<00:00,  3.39s/it]\n"
     ]
    },
    {
     "name": "stdout",
     "output_type": "stream",
     "text": [
      "Batch 67: Processed 5 reps of prompt with a total of 842 output tokens in 3s\n"
     ]
    },
    {
     "name": "stderr",
     "output_type": "stream",
     "text": [
      "Processed prompts: 100%|██████████| 1/1 [00:05<00:00,  5.10s/it]\n"
     ]
    },
    {
     "name": "stdout",
     "output_type": "stream",
     "text": [
      "Batch 68: Processed 5 reps of prompt with a total of 1246 output tokens in 5s\n"
     ]
    },
    {
     "name": "stderr",
     "output_type": "stream",
     "text": [
      "Processed prompts: 100%|██████████| 1/1 [00:06<00:00,  6.57s/it]\n"
     ]
    },
    {
     "name": "stdout",
     "output_type": "stream",
     "text": [
      "Batch 69: Processed 5 reps of prompt with a total of 1360 output tokens in 7s\n"
     ]
    },
    {
     "name": "stderr",
     "output_type": "stream",
     "text": [
      "Processed prompts: 100%|██████████| 1/1 [00:05<00:00,  5.46s/it]\n"
     ]
    },
    {
     "name": "stdout",
     "output_type": "stream",
     "text": [
      "Batch 70: Processed 5 reps of prompt with a total of 1177 output tokens in 5s\n"
     ]
    },
    {
     "name": "stderr",
     "output_type": "stream",
     "text": [
      "Processed prompts: 100%|██████████| 1/1 [00:12<00:00, 12.80s/it]\n"
     ]
    },
    {
     "name": "stdout",
     "output_type": "stream",
     "text": [
      "Batch 71: Processed 5 reps of prompt with a total of 2380 output tokens in 13s\n"
     ]
    },
    {
     "name": "stderr",
     "output_type": "stream",
     "text": [
      "Processed prompts: 100%|██████████| 1/1 [00:33<00:00, 33.17s/it]\n"
     ]
    },
    {
     "name": "stdout",
     "output_type": "stream",
     "text": [
      "Batch 72: Processed 5 reps of prompt with a total of 5351 output tokens in 33s\n"
     ]
    },
    {
     "name": "stderr",
     "output_type": "stream",
     "text": [
      "Processed prompts: 100%|██████████| 1/1 [00:04<00:00,  4.91s/it]\n"
     ]
    },
    {
     "name": "stdout",
     "output_type": "stream",
     "text": [
      "Batch 73: Processed 5 reps of prompt with a total of 1108 output tokens in 5s\n"
     ]
    },
    {
     "name": "stderr",
     "output_type": "stream",
     "text": [
      "Processed prompts: 100%|██████████| 1/1 [00:06<00:00,  6.10s/it]\n"
     ]
    },
    {
     "name": "stdout",
     "output_type": "stream",
     "text": [
      "Batch 74: Processed 5 reps of prompt with a total of 1323 output tokens in 6s\n"
     ]
    },
    {
     "name": "stderr",
     "output_type": "stream",
     "text": [
      "Processed prompts: 100%|██████████| 1/1 [00:05<00:00,  5.40s/it]\n"
     ]
    },
    {
     "name": "stdout",
     "output_type": "stream",
     "text": [
      "Batch 75: Processed 5 reps of prompt with a total of 1149 output tokens in 5s\n"
     ]
    },
    {
     "name": "stderr",
     "output_type": "stream",
     "text": [
      "Processed prompts: 100%|██████████| 1/1 [00:02<00:00,  2.26s/it]\n"
     ]
    },
    {
     "name": "stdout",
     "output_type": "stream",
     "text": [
      "Batch 76: Processed 5 reps of prompt with a total of 588 output tokens in 2s\n"
     ]
    },
    {
     "name": "stderr",
     "output_type": "stream",
     "text": [
      "Processed prompts: 100%|██████████| 1/1 [00:10<00:00, 10.03s/it]\n"
     ]
    },
    {
     "name": "stdout",
     "output_type": "stream",
     "text": [
      "Batch 77: Processed 5 reps of prompt with a total of 1363 output tokens in 10s\n"
     ]
    },
    {
     "name": "stderr",
     "output_type": "stream",
     "text": [
      "Processed prompts: 100%|██████████| 1/1 [00:04<00:00,  4.58s/it]\n"
     ]
    },
    {
     "name": "stdout",
     "output_type": "stream",
     "text": [
      "Batch 78: Processed 5 reps of prompt with a total of 1079 output tokens in 5s\n"
     ]
    },
    {
     "name": "stderr",
     "output_type": "stream",
     "text": [
      "Processed prompts: 100%|██████████| 1/1 [00:03<00:00,  3.13s/it]\n"
     ]
    },
    {
     "name": "stdout",
     "output_type": "stream",
     "text": [
      "Batch 79: Processed 5 reps of prompt with a total of 833 output tokens in 3s\n"
     ]
    },
    {
     "name": "stderr",
     "output_type": "stream",
     "text": [
      "Processed prompts: 100%|██████████| 1/1 [00:19<00:00, 19.06s/it]\n"
     ]
    },
    {
     "name": "stdout",
     "output_type": "stream",
     "text": [
      "Batch 80: Processed 5 reps of prompt with a total of 2307 output tokens in 19s\n"
     ]
    },
    {
     "name": "stderr",
     "output_type": "stream",
     "text": [
      "Processed prompts: 100%|██████████| 1/1 [00:04<00:00,  4.09s/it]\n"
     ]
    },
    {
     "name": "stdout",
     "output_type": "stream",
     "text": [
      "Batch 81: Processed 5 reps of prompt with a total of 1040 output tokens in 4s\n"
     ]
    },
    {
     "name": "stderr",
     "output_type": "stream",
     "text": [
      "Processed prompts: 100%|██████████| 1/1 [00:09<00:00,  9.77s/it]\n"
     ]
    },
    {
     "name": "stdout",
     "output_type": "stream",
     "text": [
      "Batch 82: Processed 5 reps of prompt with a total of 2195 output tokens in 10s\n"
     ]
    },
    {
     "name": "stderr",
     "output_type": "stream",
     "text": [
      "Processed prompts: 100%|██████████| 1/1 [00:05<00:00,  5.42s/it]\n"
     ]
    },
    {
     "name": "stdout",
     "output_type": "stream",
     "text": [
      "Batch 83: Processed 5 reps of prompt with a total of 1138 output tokens in 5s\n"
     ]
    },
    {
     "name": "stderr",
     "output_type": "stream",
     "text": [
      "Processed prompts: 100%|██████████| 1/1 [00:07<00:00,  7.80s/it]\n"
     ]
    },
    {
     "name": "stdout",
     "output_type": "stream",
     "text": [
      "Batch 84: Processed 5 reps of prompt with a total of 1280 output tokens in 8s\n"
     ]
    },
    {
     "name": "stderr",
     "output_type": "stream",
     "text": [
      "Processed prompts: 100%|██████████| 1/1 [00:02<00:00,  2.23s/it]\n"
     ]
    },
    {
     "name": "stdout",
     "output_type": "stream",
     "text": [
      "Batch 85: Processed 5 reps of prompt with a total of 584 output tokens in 2s\n"
     ]
    },
    {
     "name": "stderr",
     "output_type": "stream",
     "text": [
      "Processed prompts: 100%|██████████| 1/1 [00:04<00:00,  4.08s/it]\n"
     ]
    },
    {
     "name": "stdout",
     "output_type": "stream",
     "text": [
      "Batch 86: Processed 5 reps of prompt with a total of 920 output tokens in 4s\n"
     ]
    },
    {
     "name": "stderr",
     "output_type": "stream",
     "text": [
      "Processed prompts: 100%|██████████| 1/1 [00:05<00:00,  5.91s/it]\n"
     ]
    },
    {
     "name": "stdout",
     "output_type": "stream",
     "text": [
      "Batch 87: Processed 5 reps of prompt with a total of 1436 output tokens in 6s\n"
     ]
    },
    {
     "name": "stderr",
     "output_type": "stream",
     "text": [
      "Processed prompts: 100%|██████████| 1/1 [00:37<00:00, 37.17s/it]\n"
     ]
    },
    {
     "name": "stdout",
     "output_type": "stream",
     "text": [
      "Batch 88: Processed 5 reps of prompt with a total of 5557 output tokens in 37s\n"
     ]
    },
    {
     "name": "stderr",
     "output_type": "stream",
     "text": [
      "Processed prompts: 100%|██████████| 1/1 [00:04<00:00,  4.82s/it]\n"
     ]
    },
    {
     "name": "stdout",
     "output_type": "stream",
     "text": [
      "Batch 89: Processed 5 reps of prompt with a total of 1071 output tokens in 5s\n"
     ]
    },
    {
     "name": "stderr",
     "output_type": "stream",
     "text": [
      "Processed prompts: 100%|██████████| 1/1 [00:17<00:00, 17.24s/it]\n"
     ]
    },
    {
     "name": "stdout",
     "output_type": "stream",
     "text": [
      "Batch 90: Processed 5 reps of prompt with a total of 2095 output tokens in 17s\n"
     ]
    },
    {
     "name": "stderr",
     "output_type": "stream",
     "text": [
      "Processed prompts: 100%|██████████| 1/1 [00:09<00:00,  9.24s/it]\n"
     ]
    },
    {
     "name": "stdout",
     "output_type": "stream",
     "text": [
      "Batch 91: Processed 5 reps of prompt with a total of 2144 output tokens in 9s\n"
     ]
    },
    {
     "name": "stderr",
     "output_type": "stream",
     "text": [
      "Processed prompts: 100%|██████████| 1/1 [00:19<00:00, 19.01s/it]\n"
     ]
    },
    {
     "name": "stdout",
     "output_type": "stream",
     "text": [
      "Batch 92: Processed 5 reps of prompt with a total of 2107 output tokens in 19s\n"
     ]
    },
    {
     "name": "stderr",
     "output_type": "stream",
     "text": [
      "Processed prompts: 100%|██████████| 1/1 [00:10<00:00, 10.57s/it]\n"
     ]
    },
    {
     "name": "stdout",
     "output_type": "stream",
     "text": [
      "Batch 93: Processed 5 reps of prompt with a total of 2311 output tokens in 11s\n"
     ]
    },
    {
     "name": "stderr",
     "output_type": "stream",
     "text": [
      "Processed prompts: 100%|██████████| 1/1 [00:16<00:00, 16.45s/it]\n"
     ]
    },
    {
     "name": "stdout",
     "output_type": "stream",
     "text": [
      "Batch 94: Processed 5 reps of prompt with a total of 2099 output tokens in 16s\n"
     ]
    },
    {
     "name": "stderr",
     "output_type": "stream",
     "text": [
      "Processed prompts: 100%|██████████| 1/1 [00:13<00:00, 13.93s/it]\n"
     ]
    },
    {
     "name": "stdout",
     "output_type": "stream",
     "text": [
      "Batch 95: Processed 5 reps of prompt with a total of 2454 output tokens in 14s\n"
     ]
    },
    {
     "name": "stderr",
     "output_type": "stream",
     "text": [
      "Processed prompts: 100%|██████████| 1/1 [00:05<00:00,  5.58s/it]\n"
     ]
    },
    {
     "name": "stdout",
     "output_type": "stream",
     "text": [
      "Batch 96: Processed 5 reps of prompt with a total of 1162 output tokens in 6s\n"
     ]
    },
    {
     "name": "stderr",
     "output_type": "stream",
     "text": [
      "Processed prompts: 100%|██████████| 1/1 [00:09<00:00,  9.30s/it]\n"
     ]
    },
    {
     "name": "stdout",
     "output_type": "stream",
     "text": [
      "Batch 97: Processed 5 reps of prompt with a total of 1624 output tokens in 9s\n"
     ]
    },
    {
     "name": "stderr",
     "output_type": "stream",
     "text": [
      "Processed prompts: 100%|██████████| 1/1 [00:19<00:00, 19.91s/it]\n"
     ]
    },
    {
     "name": "stdout",
     "output_type": "stream",
     "text": [
      "Batch 98: Processed 5 reps of prompt with a total of 2260 output tokens in 20s\n"
     ]
    },
    {
     "name": "stderr",
     "output_type": "stream",
     "text": [
      "Processed prompts: 100%|██████████| 1/1 [00:03<00:00,  3.82s/it]"
     ]
    },
    {
     "name": "stdout",
     "output_type": "stream",
     "text": [
      "Batch 99: Processed 5 reps of prompt with a total of 974 output tokens in 4s\n",
      "--------------------------------\n",
      "Finished in 1247s with 0.0 tokens/s\n"
     ]
    },
    {
     "name": "stderr",
     "output_type": "stream",
     "text": [
      "\n"
     ]
    }
   ],
   "source": [
    "tool_instruction = '\\nPlease integrate natural language reasoning with programs to solve the problem above, and put your final answer within \\\\boxed{}.'\n",
    "python_code_prefix = \"```python\\n\"\n",
    "python_default_imports = \"from sympy import *\\n\"\n",
    "\n",
    "tool_sampling_params = SamplingParams(n=n_reps,\n",
    "                                      temperature=0.9,\n",
    "                                      max_tokens=2048)\n",
    "                                      #stop='output')\n",
    "total_time_sec = 0\n",
    "total_tokens = 0\n",
    "out_rows = []  \n",
    "                                      \n",
    "for i, problem in enumerate(math_samp['problem']):\n",
    "    prompt = problem + tool_instruction\n",
    "    messages = [{\"role\": \"user\", \"content\": prompt}]\n",
    "    m_prompt = vtokenizer.apply_chat_template(messages, add_generation_prompt=True, tokenize=False)\n",
    "    \n",
    "    start_time = time.time()\n",
    "    llm_out = vllm.generate(m_prompt, tool_sampling_params)\n",
    "    \n",
    "    n_out_tokens = 0\n",
    "    for output in llm_out[0].outputs:\n",
    "        out_rows.append({\n",
    "            'iteration': 0,\n",
    "            'problem_id': math_samp.iloc[i]['id'],\n",
    "            'problem': problem,\n",
    "            'correct_answer': math_samp.iloc[i]['answer'],\n",
    "            'prompt': m_prompt,\n",
    "            'llm_answer': output.text,\n",
    "            'n_answer_tokens': len(output.token_ids)\n",
    "        })\n",
    "        n_out_tokens += len(output.token_ids)                                                                                             \n",
    "    total_time_sec += time.time() - start_time\n",
    "    print(f'Batch {i}: Processed {n_reps} reps of prompt with a total of {n_out_tokens} output tokens in {round(time.time() - start_time)}s')\n",
    "print('--------------------------------')\n",
    "print(f'Finished in {round(total_time_sec)}s with {round(total_tokens/total_time_sec,1)} tokens/s')"
   ]
  },
  {
   "cell_type": "code",
   "execution_count": null,
   "id": "b540c872-9936-4b72-b979-1baa4d505074",
   "metadata": {
    "tags": []
   },
   "outputs": [],
   "source": [
    "def parse_code(output):\n",
    "    if '```python\\n' in output:\n",
    "        try:\n",
    "            output = output.split(python_code_prefix)[-1]\n",
    "        except:\n",
    "            return None   \n",
    "    if '```' in output:\n",
    "        output = output.split('```')[0]\n",
    "    #output = python_default_imports + output\n",
    "    return output\n",
    "\n",
    "def run_with_timeout(code, timeout):\n",
    "    with open('code.py', 'w') as fout:\n",
    "        fout.write(code)\n",
    "\n",
    "    batcmd = f'timeout {timeout} {sys.executable} code.py'\n",
    "    try:\n",
    "        shell_output = subprocess.check_output(batcmd, stderr=subprocess.STDOUT, shell=True).decode('utf8')\n",
    "    except subprocess.CalledProcessError as e:\n",
    "        shell_output = e.output.decode('utf8')  # Get the output which may include Python error messages\n",
    "    try:\n",
    "        code_output = round(float(eval(shell_output))) % 1000\n",
    "    except Exception as e:\n",
    "        code_output = shell_output\n",
    "    os.remove('code.py')\n",
    "    return code_output\n",
    "\n",
    "def parse_and_run(output):\n",
    "    try:\n",
    "        code = parse_code(output)\n",
    "    except Exception as ex:\n",
    "        return str(ex)\n",
    "    try:\n",
    "        return run_with_timeout(code, code_timeout_secs)\n",
    "    except Exception as ex:\n",
    "        return str(ex)"
   ]
  },
  {
   "cell_type": "code",
   "execution_count": null,
   "id": "f51d2160-31a9-40d4-8957-20fa62422b37",
   "metadata": {
    "tags": []
   },
   "outputs": [],
   "source": [
    "for row in out_rows:\n",
    "    row['code'] = parse_code(row['llm_answer'])\n",
    "    row['code_result'] = parse_and_run(row['llm_answer'])"
   ]
  },
  {
   "cell_type": "code",
   "execution_count": null,
   "id": "42f2cbca-022f-486c-b937-dc34cefe9c69",
   "metadata": {
    "tags": []
   },
   "outputs": [],
   "source": [
    "df_res = pd.DataFrame(out_rows)\n",
    "df_res"
   ]
  },
  {
   "cell_type": "code",
   "execution_count": null,
   "id": "490736f6-186f-4064-9fb2-f39ff7f09459",
   "metadata": {
    "tags": []
   },
   "outputs": [],
   "source": [
    "df_res.to_csv('baseline_results_april_23.csv', index=False)"
   ]
  },
  {
   "cell_type": "code",
   "execution_count": null,
   "id": "9bb87062-ccf9-45d0-ac70-ffe353e882db",
   "metadata": {
    "tags": []
   },
   "outputs": [],
   "source": [
    "def is_numeric(var):\n",
    "    return np.issubdtype(type(var), np.number)\n",
    "\n",
    "def standardize_number(number):\n",
    "    if is_numeric(number):\n",
    "        number = float(number)\n",
    "        if number.is_integer():\n",
    "            number = int(number)\n",
    "    return number"
   ]
  },
  {
   "cell_type": "code",
   "execution_count": null,
   "id": "1a8cfcb0-a2f5-4f10-a059-1593770147f2",
   "metadata": {
    "tags": []
   },
   "outputs": [],
   "source": [
    "df_res['llm_result'] = df_res['llm_answer'].map(extract_answer)\n",
    "df_res.loc[df_res['code_result'].str.contains('Traceback').fillna(False), 'code_result'] = None\n",
    "df_res.loc[df_res['code_result'].str.contains('code.py').fillna(False), 'code_result'] = None\n",
    "df_res['code_result'] = df_res['code_result'].str.strip().replace('', np.nan)\n",
    "df_res['combined_result'] = df_res['code_result'].fillna(df_res['llm_result'])"
   ]
  },
  {
   "cell_type": "code",
   "execution_count": null,
   "id": "ecbceb72-4fc2-4126-86dc-888241733af1",
   "metadata": {
    "tags": []
   },
   "outputs": [],
   "source": [
    "most_common = df_res.groupby('problem_id')['combined_result'].agg(pd.Series.mode)\n",
    "most_common = most_common.apply(lambda x: x[0] if isinstance(x, np.ndarray) else x)\n",
    "most_common = pd.DataFrame(most_common).reset_index()\n",
    "\n",
    "merged = math_samp.merge(most_common, left_on='id', right_on='problem_id')\n",
    "is_correct = []\n",
    "for row in merged.iterrows():\n",
    "    correct = standardize_number(row[1]['answer'])\n",
    "    result = standardize_number(row[1]['combined_result'])\n",
    "    is_correct.append(is_equiv(correct, result))\n",
    "merged['is_correct'] = is_correct "
   ]
  },
  {
   "cell_type": "code",
   "execution_count": null,
   "id": "ff9001cd-4c13-4ad8-b90a-f73253f822db",
   "metadata": {},
   "outputs": [],
   "source": [
    "merged.groupby('level')['is_correct'].agg(['size', 'mean'])"
   ]
  },
  {
   "cell_type": "code",
   "execution_count": null,
   "id": "aec5588c-2726-49f1-bfb3-38324ceefcbe",
   "metadata": {
    "tags": []
   },
   "outputs": [],
   "source": [
    "with pd.option_context('display.max_rows', None):\n",
    "    display(merged[merged['level'] == 'Level 4'][['answer', 'combined_result', 'is_correct']])"
   ]
  },
  {
   "cell_type": "code",
   "execution_count": null,
   "id": "ec4de9d6-ba60-4fbf-bd87-d983e876f968",
   "metadata": {},
   "outputs": [],
   "source": []
  },
  {
   "cell_type": "code",
   "execution_count": null,
   "id": "cc8da072-d99f-4b9a-abb8-c9492a02830b",
   "metadata": {},
   "outputs": [],
   "source": []
  },
  {
   "cell_type": "code",
   "execution_count": null,
   "id": "881ca691-af95-459e-82a7-2b7f3ffd8b47",
   "metadata": {},
   "outputs": [],
   "source": []
  },
  {
   "cell_type": "code",
   "execution_count": null,
   "id": "af95e75c-d528-4ee7-9dc2-a6ab36794b2c",
   "metadata": {},
   "outputs": [],
   "source": []
  },
  {
   "cell_type": "code",
   "execution_count": null,
   "id": "0fea492a-849c-42b2-a193-f5d8f0e65062",
   "metadata": {},
   "outputs": [],
   "source": []
  },
  {
   "cell_type": "code",
   "execution_count": null,
   "id": "47fba9ff-9e8f-493c-9b34-84280601b6d3",
   "metadata": {},
   "outputs": [],
   "source": []
  },
  {
   "cell_type": "code",
   "execution_count": null,
   "id": "c501aa65-d388-4947-bb58-2668aacd7d6b",
   "metadata": {},
   "outputs": [],
   "source": []
  },
  {
   "cell_type": "code",
   "execution_count": null,
   "id": "54a331cc-56cd-42f5-8086-e679a7ba1486",
   "metadata": {},
   "outputs": [],
   "source": []
  },
  {
   "cell_type": "code",
   "execution_count": null,
   "id": "c03d3c65-b44e-4ae8-932a-5b4f5fd18637",
   "metadata": {},
   "outputs": [],
   "source": []
  },
  {
   "cell_type": "code",
   "execution_count": null,
   "id": "c2d6d079-69ec-46d7-88a9-069ec0039e4d",
   "metadata": {},
   "outputs": [],
   "source": []
  },
  {
   "cell_type": "code",
   "execution_count": null,
   "id": "870a181a-9b2e-47c3-884b-8fef3e7de6fd",
   "metadata": {},
   "outputs": [],
   "source": []
  },
  {
   "cell_type": "code",
   "execution_count": 12,
   "id": "db80c69b-1b6b-46ff-8791-7b7ade281881",
   "metadata": {
    "tags": []
   },
   "outputs": [
    {
     "name": "stdout",
     "output_type": "stream",
     "text": [
      "Processed 2 prompts in 35s\n",
      "Processed 2 prompts in 82s\n",
      "Processed 2 prompts in 60s\n",
      "Processed 2 prompts in 17s\n",
      "Processed 2 prompts in 40s\n",
      "Processed 2 prompts in 57s\n",
      "Processed 2 prompts in 2s\n",
      "Processed 2 prompts in 210s\n",
      "Processed 2 prompts in 4s\n",
      "Processed 2 prompts in 190s\n",
      "Processed 2 prompts in 205s\n",
      "Processed 2 prompts in 24s\n",
      "Processed 2 prompts in 189s\n",
      "Processed 2 prompts in 9s\n",
      "Processed 2 prompts in 5s\n",
      "Processed 2 prompts in 23s\n",
      "Processed 2 prompts in 207s\n",
      "Processed 2 prompts in 62s\n",
      "Processed 2 prompts in 61s\n",
      "Processed 2 prompts in 54s\n",
      "Processed 2 prompts in 2s\n",
      "Processed 2 prompts in 22s\n",
      "Processed 2 prompts in 9s\n",
      "Processed 2 prompts in 216s\n",
      "Processed 2 prompts in 109s\n",
      "Processed 2 prompts in 25s\n",
      "Processed 2 prompts in 42s\n",
      "Processed 2 prompts in 38s\n",
      "Processed 2 prompts in 217s\n",
      "Processed 2 prompts in 42s\n",
      "Processed 2 prompts in 28s\n",
      "Processed 2 prompts in 43s\n",
      "Processed 2 prompts in 30s\n",
      "Processed 2 prompts in 9s\n",
      "Processed 2 prompts in 204s\n",
      "Processed 2 prompts in 98s\n",
      "Processed 2 prompts in 5s\n",
      "Processed 2 prompts in 111s\n",
      "Processed 2 prompts in 30s\n",
      "Processed 2 prompts in 5s\n",
      "Processed 2 prompts in 3s\n",
      "Processed 2 prompts in 59s\n",
      "Processed 2 prompts in 206s\n",
      "Processed 2 prompts in 64s\n",
      "Processed 2 prompts in 203s\n",
      "Processed 2 prompts in 25s\n",
      "Processed 2 prompts in 25s\n",
      "Processed 2 prompts in 37s\n",
      "Processed 2 prompts in 43s\n",
      "Processed 2 prompts in 55s\n",
      "Processed 2 prompts in 7s\n",
      "Processed 2 prompts in 216s\n",
      "Processed 2 prompts in 4s\n",
      "Processed 2 prompts in 2s\n",
      "Processed 2 prompts in 41s\n",
      "Processed 2 prompts in 60s\n",
      "Processed 2 prompts in 29s\n",
      "Processed 2 prompts in 157s\n",
      "Processed 2 prompts in 198s\n",
      "Processed 2 prompts in 107s\n",
      "Processed 2 prompts in 204s\n",
      "Processed 2 prompts in 22s\n",
      "Processed 2 prompts in 31s\n",
      "Processed 2 prompts in 90s\n",
      "Processed 2 prompts in 52s\n",
      "Processed 2 prompts in 73s\n",
      "Processed 2 prompts in 13s\n",
      "Processed 2 prompts in 29s\n",
      "Processed 2 prompts in 40s\n",
      "Processed 2 prompts in 73s\n",
      "Processed 2 prompts in 3s\n",
      "Processed 2 prompts in 214s\n",
      "Processed 2 prompts in 210s\n",
      "Processed 2 prompts in 56s\n",
      "Processed 2 prompts in 122s\n"
     ]
    },
    {
     "ename": "TypeError",
     "evalue": "bad operand type for unary +: 'str'",
     "output_type": "error",
     "traceback": [
      "\u001b[0;31m---------------------------------------------------------------------------\u001b[0m",
      "\u001b[0;31mTypeError\u001b[0m                                 Traceback (most recent call last)",
      "Cell \u001b[0;32mIn[12], line 16\u001b[0m\n\u001b[1;32m     13\u001b[0m     \u001b[38;5;28mprint\u001b[39m(\u001b[38;5;124mf\u001b[39m\u001b[38;5;124m'\u001b[39m\u001b[38;5;124mProcessed \u001b[39m\u001b[38;5;132;01m{\u001b[39;00m\u001b[38;5;28mlen\u001b[39m(q_prompts)\u001b[38;5;132;01m}\u001b[39;00m\u001b[38;5;124m prompts in \u001b[39m\u001b[38;5;132;01m{\u001b[39;00m\u001b[38;5;28mround\u001b[39m(time\u001b[38;5;241m.\u001b[39mtime()\u001b[38;5;250m \u001b[39m\u001b[38;5;241m-\u001b[39m\u001b[38;5;250m \u001b[39mstart_time)\u001b[38;5;132;01m}\u001b[39;00m\u001b[38;5;124ms\u001b[39m\u001b[38;5;124m'\u001b[39m)\n\u001b[1;32m     15\u001b[0m q_and_res[\u001b[38;5;124m'\u001b[39m\u001b[38;5;124mq_ending\u001b[39m\u001b[38;5;124m'\u001b[39m] \u001b[38;5;241m=\u001b[39m q_ending\n\u001b[0;32m---> 16\u001b[0m q_and_res[\u001b[38;5;124m'\u001b[39m\u001b[38;5;124mcombined\u001b[39m\u001b[38;5;124m'\u001b[39m] \u001b[38;5;241m=\u001b[39m q_and_res[\u001b[38;5;124m'\u001b[39m\u001b[38;5;124mproblem\u001b[39m\u001b[38;5;124m'\u001b[39m] \u001b[38;5;241m+\u001b[39m tool_instruction \u001b[38;5;241m+\u001b[39m q_and_res[\u001b[38;5;124m'\u001b[39m\u001b[38;5;124mllm_answer\u001b[39m\u001b[38;5;124m'\u001b[39m] \u001b[38;5;241m+\u001b[39m \u001b[38;5;124m'\u001b[39m\u001b[38;5;130;01m\\n\u001b[39;00m\u001b[38;5;124m'\u001b[39m \u001b[38;5;241m+\u001b[39m q_and_res[\u001b[38;5;124m'\u001b[39m\u001b[38;5;124mcode_result\u001b[39m\u001b[38;5;124m'\u001b[39m]\u001b[38;5;241m.\u001b[39mastype(\u001b[38;5;28mstr\u001b[39m) \u001b[38;5;241m+\u001b[39m q_and_res[\u001b[38;5;124m'\u001b[39m\u001b[38;5;124mq_ending\u001b[39m\u001b[38;5;124m'\u001b[39m] \u001b[38;5;241m+\u001b[39m \u001b[38;5;241m+\u001b[39m \u001b[38;5;124m'\u001b[39m\u001b[38;5;130;01m\\n\u001b[39;00m\u001b[38;5;124m```\u001b[39m\u001b[38;5;130;01m\\n\u001b[39;00m\u001b[38;5;124m'\u001b[39m\n",
      "\u001b[0;31mTypeError\u001b[0m: bad operand type for unary +: 'str'"
     ]
    }
   ],
   "source": [
    "q_ending = []\n",
    "for batch in batch_process(q_and_res, batch_size // 2):\n",
    "    q_prompts = []\n",
    "    for row in batch.iterrows():\n",
    "        one_q = row[1]['problem'] + tool_instruction + row[1]['llm_answer'] + '\\n' + str(row[1]['code_result']) + '\\n```\\n'\n",
    "        q_prompts.append(one_q)\n",
    "    start_time = time.time()\n",
    "    answers = generator(q_prompts, max_tokens=2400, stop_at='```output')\n",
    "    if type(answers) == str:\n",
    "        q_ending.append(answers)\n",
    "    else:\n",
    "        q_ending += answers    \n",
    "    print(f'Processed {len(q_prompts)} prompts in {round(time.time() - start_time)}s')\n",
    "    \n",
    "q_and_res['q_ending'] = q_ending\n",
    "q_and_res['combined'] = q_and_res['problem'] + tool_instruction + q_and_res['llm_answer'] + '\\n' + q_and_res['code_result'].astype(str) + q_and_res['q_ending'] + '\\n```\\n'"
   ]
  },
  {
   "cell_type": "code",
   "execution_count": null,
   "id": "9919f26f-6516-4dcd-9d8d-cedc746576e8",
   "metadata": {},
   "outputs": [],
   "source": []
  },
  {
   "cell_type": "code",
   "execution_count": 15,
   "id": "e3b6b707-55f4-42de-b3b6-787ea58ed514",
   "metadata": {
    "tags": []
   },
   "outputs": [
    {
     "data": {
      "text/plain": [
       "22"
      ]
     },
     "execution_count": 15,
     "metadata": {},
     "output_type": "execute_result"
    }
   ],
   "source": []
  },
  {
   "cell_type": "code",
   "execution_count": 18,
   "id": "5ecedb58-7e28-4a0c-8ef7-01febe4dcebe",
   "metadata": {
    "tags": []
   },
   "outputs": [],
   "source": [
    "q_and_res.to_csv('q_and_res_baseline.csv', index=False)"
   ]
  },
  {
   "cell_type": "code",
   "execution_count": 19,
   "id": "a6395e6c-64ff-40f0-9281-6728ec7dab0f",
   "metadata": {
    "tags": []
   },
   "outputs": [
    {
     "data": {
      "text/html": [
       "<div>\n",
       "<style scoped>\n",
       "    .dataframe tbody tr th:only-of-type {\n",
       "        vertical-align: middle;\n",
       "    }\n",
       "\n",
       "    .dataframe tbody tr th {\n",
       "        vertical-align: top;\n",
       "    }\n",
       "\n",
       "    .dataframe thead th {\n",
       "        text-align: right;\n",
       "    }\n",
       "</style>\n",
       "<table border=\"1\" class=\"dataframe\">\n",
       "  <thead>\n",
       "    <tr style=\"text-align: right;\">\n",
       "      <th></th>\n",
       "      <th>question_id</th>\n",
       "      <th>problem</th>\n",
       "      <th>correct_answer</th>\n",
       "      <th>rep_idx</th>\n",
       "      <th>iteration</th>\n",
       "      <th>llm_answer</th>\n",
       "      <th>code</th>\n",
       "      <th>code_result</th>\n",
       "      <th>q_ending</th>\n",
       "      <th>combined</th>\n",
       "      <th>answer</th>\n",
       "    </tr>\n",
       "  </thead>\n",
       "  <tbody>\n",
       "    <tr>\n",
       "      <th>3334</th>\n",
       "      <td>1084</td>\n",
       "      <td>Let $(x,y)$ be an ordered pair of real numbers...</td>\n",
       "      <td>49</td>\n",
       "      <td>0</td>\n",
       "      <td>0</td>\n",
       "      <td>\\n```python\\nfrom sympy import symbols, Eq, so...</td>\n",
       "      <td>from sympy import symbols, Eq, solve\\n\\ndef ma...</td>\n",
       "      <td>49</td>\n",
       "      <td>The maximum value of $y$ is $49$. However, sin...</td>\n",
       "      <td>Let $(x,y)$ be an ordered pair of real numbers...</td>\n",
       "      <td>49</td>\n",
       "    </tr>\n",
       "    <tr>\n",
       "      <th>2841</th>\n",
       "      <td>539</td>\n",
       "      <td>Find the sum of the $x$-coordinates of all pos...</td>\n",
       "      <td>78</td>\n",
       "      <td>0</td>\n",
       "      <td>0</td>\n",
       "      <td>\\n```python\\nfrom sympy import symbols, solve,...</td>\n",
       "      <td>from sympy import symbols, solve, Rational\\n\\n...</td>\n",
       "      <td>Traceback (most recent call last):\\n  File \"/h...</td>\n",
       "      <td>The solution to the equation $\\frac1x+\\frac1y=...</td>\n",
       "      <td>Find the sum of the $x$-coordinates of all pos...</td>\n",
       "      <td>1000</td>\n",
       "    </tr>\n",
       "    <tr>\n",
       "      <th>4411</th>\n",
       "      <td>1304</td>\n",
       "      <td>Let\\n\\[\\mathbf{a} = \\begin{pmatrix} 5 \\\\ -3 \\\\...</td>\n",
       "      <td>9</td>\n",
       "      <td>0</td>\n",
       "      <td>0</td>\n",
       "      <td>\\n\\nThe direction vector of the line containin...</td>\n",
       "      <td>from sympy import Matrix\\n\\ndef direction_vect...</td>\n",
       "      <td>Matrix([[-16], [4], [32]])\\n</td>\n",
       "      <td>The direction vector of the line containing $\\...</td>\n",
       "      <td>Let\\n\\[\\mathbf{a} = \\begin{pmatrix} 5 \\\\ -3 \\\\...</td>\n",
       "      <td>1000</td>\n",
       "    </tr>\n",
       "    <tr>\n",
       "      <th>2072</th>\n",
       "      <td>977</td>\n",
       "      <td>Let $z=a+bi$ be the complex number with $\\vert...</td>\n",
       "      <td>5</td>\n",
       "      <td>0</td>\n",
       "      <td>0</td>\n",
       "      <td>\\n```python\\nfrom sympy import symbols, I, sqr...</td>\n",
       "      <td>from sympy import symbols, I, sqrt, simplify\\n...</td>\n",
       "      <td>Traceback (most recent call last):\\n  File \"/h...</td>\n",
       "      <td>The `atan` function is not defined in the Symp...</td>\n",
       "      <td>Let $z=a+bi$ be the complex number with $\\vert...</td>\n",
       "      <td>4</td>\n",
       "    </tr>\n",
       "    <tr>\n",
       "      <th>3963</th>\n",
       "      <td>936</td>\n",
       "      <td>Two jokers are added to a $52$ card deck and t...</td>\n",
       "      <td>3</td>\n",
       "      <td>0</td>\n",
       "      <td>0</td>\n",
       "      <td>\\n\\nSince the two jokers are added to a 52 car...</td>\n",
       "      <td>def expected_cards():\\n    \"\"\"Find the expecte...</td>\n",
       "      <td>52</td>\n",
       "      <td>The expected number of cards that will be stri...</td>\n",
       "      <td>Two jokers are added to a $52$ card deck and t...</td>\n",
       "      <td>52</td>\n",
       "    </tr>\n",
       "    <tr>\n",
       "      <th>...</th>\n",
       "      <td>...</td>\n",
       "      <td>...</td>\n",
       "      <td>...</td>\n",
       "      <td>...</td>\n",
       "      <td>...</td>\n",
       "      <td>...</td>\n",
       "      <td>...</td>\n",
       "      <td>...</td>\n",
       "      <td>...</td>\n",
       "      <td>...</td>\n",
       "      <td>...</td>\n",
       "    </tr>\n",
       "    <tr>\n",
       "      <th>2090</th>\n",
       "      <td>163</td>\n",
       "      <td>For $1 \\leq i \\leq 215$ let $a_i = \\dfrac{1}{2...</td>\n",
       "      <td>860</td>\n",
       "      <td>2</td>\n",
       "      <td>0</td>\n",
       "      <td>\\n```python\\nimport numpy as np\\nfrom scipy.op...</td>\n",
       "      <td>import numpy as np\\nfrom scipy.optimize import...</td>\n",
       "      <td>487</td>\n",
       "      <td>The maximum possible value of $x_2$ modulo 100...</td>\n",
       "      <td>For $1 \\leq i \\leq 215$ let $a_i = \\dfrac{1}{2...</td>\n",
       "      <td>487</td>\n",
       "    </tr>\n",
       "    <tr>\n",
       "      <th>1803</th>\n",
       "      <td>911</td>\n",
       "      <td>For $0 &lt; k &lt; 6,$ the graphs of $\\frac{(x - k)^...</td>\n",
       "      <td>5</td>\n",
       "      <td>2</td>\n",
       "      <td>0</td>\n",
       "      <td>\\n```python\\nfrom sympy import symbols, solve,...</td>\n",
       "      <td>from sympy import symbols, solve, Rational\\n\\n...</td>\n",
       "      <td>2015/2 - 3*sqrt(281)/2\\n</td>\n",
       "      <td>The value of $k$ such that the square $ABCD$ e...</td>\n",
       "      <td>For $0 &lt; k &lt; 6,$ the graphs of $\\frac{(x - k)^...</td>\n",
       "      <td>2</td>\n",
       "    </tr>\n",
       "    <tr>\n",
       "      <th>3545</th>\n",
       "      <td>765</td>\n",
       "      <td>There are 360 people in my school.  15 take ca...</td>\n",
       "      <td>110</td>\n",
       "      <td>2</td>\n",
       "      <td>0</td>\n",
       "      <td>\\n\\n```python\\nfrom sympy import symbols, Eq, ...</td>\n",
       "      <td>from sympy import symbols, Eq, solve\\n\\ndef st...</td>\n",
       "      <td>255</td>\n",
       "      <td>The number of students taking physics is $\\box...</td>\n",
       "      <td>There are 360 people in my school.  15 take ca...</td>\n",
       "      <td>255</td>\n",
       "    </tr>\n",
       "    <tr>\n",
       "      <th>3714</th>\n",
       "      <td>396</td>\n",
       "      <td>We roll a fair 6-sided die 5 times.  What is t...</td>\n",
       "      <td>648</td>\n",
       "      <td>2</td>\n",
       "      <td>0</td>\n",
       "      <td>\\n\\n\\n```python\\nfrom sympy import binomial\\n\\...</td>\n",
       "      <td>from sympy import binomial\\n\\ndef probability_...</td>\n",
       "      <td>1</td>\n",
       "      <td>The probability that we get a 6 in at most 2 o...</td>\n",
       "      <td>We roll a fair 6-sided die 5 times.  What is t...</td>\n",
       "      <td>1\\%</td>\n",
       "    </tr>\n",
       "    <tr>\n",
       "      <th>4831</th>\n",
       "      <td>862</td>\n",
       "      <td>A solid right prism $ABCDEF$ has a height of $...</td>\n",
       "      <td>3</td>\n",
       "      <td>2</td>\n",
       "      <td>0</td>\n",
       "      <td>\\n```python\\nfrom sympy import symbols, solve,...</td>\n",
       "      <td>from sympy import symbols, solve, sqrt\\n\\ndef ...</td>\n",
       "      <td>76</td>\n",
       "      <td>The volume of the solid $QPCDMN$ is $76$ modul...</td>\n",
       "      <td>A solid right prism $ABCDEF$ has a height of $...</td>\n",
       "      <td>76</td>\n",
       "    </tr>\n",
       "  </tbody>\n",
       "</table>\n",
       "<p>150 rows × 11 columns</p>\n",
       "</div>"
      ],
      "text/plain": [
       "     question_id                                            problem  \\\n",
       "3334        1084  Let $(x,y)$ be an ordered pair of real numbers...   \n",
       "2841         539  Find the sum of the $x$-coordinates of all pos...   \n",
       "4411        1304  Let\\n\\[\\mathbf{a} = \\begin{pmatrix} 5 \\\\ -3 \\\\...   \n",
       "2072         977  Let $z=a+bi$ be the complex number with $\\vert...   \n",
       "3963         936  Two jokers are added to a $52$ card deck and t...   \n",
       "...          ...                                                ...   \n",
       "2090         163  For $1 \\leq i \\leq 215$ let $a_i = \\dfrac{1}{2...   \n",
       "1803         911  For $0 < k < 6,$ the graphs of $\\frac{(x - k)^...   \n",
       "3545         765  There are 360 people in my school.  15 take ca...   \n",
       "3714         396  We roll a fair 6-sided die 5 times.  What is t...   \n",
       "4831         862  A solid right prism $ABCDEF$ has a height of $...   \n",
       "\n",
       "     correct_answer  rep_idx  iteration  \\\n",
       "3334             49        0          0   \n",
       "2841             78        0          0   \n",
       "4411              9        0          0   \n",
       "2072              5        0          0   \n",
       "3963              3        0          0   \n",
       "...             ...      ...        ...   \n",
       "2090            860        2          0   \n",
       "1803              5        2          0   \n",
       "3545            110        2          0   \n",
       "3714            648        2          0   \n",
       "4831              3        2          0   \n",
       "\n",
       "                                             llm_answer  \\\n",
       "3334  \\n```python\\nfrom sympy import symbols, Eq, so...   \n",
       "2841  \\n```python\\nfrom sympy import symbols, solve,...   \n",
       "4411  \\n\\nThe direction vector of the line containin...   \n",
       "2072  \\n```python\\nfrom sympy import symbols, I, sqr...   \n",
       "3963  \\n\\nSince the two jokers are added to a 52 car...   \n",
       "...                                                 ...   \n",
       "2090  \\n```python\\nimport numpy as np\\nfrom scipy.op...   \n",
       "1803  \\n```python\\nfrom sympy import symbols, solve,...   \n",
       "3545  \\n\\n```python\\nfrom sympy import symbols, Eq, ...   \n",
       "3714  \\n\\n\\n```python\\nfrom sympy import binomial\\n\\...   \n",
       "4831  \\n```python\\nfrom sympy import symbols, solve,...   \n",
       "\n",
       "                                                   code  \\\n",
       "3334  from sympy import symbols, Eq, solve\\n\\ndef ma...   \n",
       "2841  from sympy import symbols, solve, Rational\\n\\n...   \n",
       "4411  from sympy import Matrix\\n\\ndef direction_vect...   \n",
       "2072  from sympy import symbols, I, sqrt, simplify\\n...   \n",
       "3963  def expected_cards():\\n    \"\"\"Find the expecte...   \n",
       "...                                                 ...   \n",
       "2090  import numpy as np\\nfrom scipy.optimize import...   \n",
       "1803  from sympy import symbols, solve, Rational\\n\\n...   \n",
       "3545  from sympy import symbols, Eq, solve\\n\\ndef st...   \n",
       "3714  from sympy import binomial\\n\\ndef probability_...   \n",
       "4831  from sympy import symbols, solve, sqrt\\n\\ndef ...   \n",
       "\n",
       "                                            code_result  \\\n",
       "3334                                                 49   \n",
       "2841  Traceback (most recent call last):\\n  File \"/h...   \n",
       "4411                       Matrix([[-16], [4], [32]])\\n   \n",
       "2072  Traceback (most recent call last):\\n  File \"/h...   \n",
       "3963                                                 52   \n",
       "...                                                 ...   \n",
       "2090                                                487   \n",
       "1803                           2015/2 - 3*sqrt(281)/2\\n   \n",
       "3545                                                255   \n",
       "3714                                                  1   \n",
       "4831                                                 76   \n",
       "\n",
       "                                               q_ending  \\\n",
       "3334  The maximum value of $y$ is $49$. However, sin...   \n",
       "2841  The solution to the equation $\\frac1x+\\frac1y=...   \n",
       "4411  The direction vector of the line containing $\\...   \n",
       "2072  The `atan` function is not defined in the Symp...   \n",
       "3963  The expected number of cards that will be stri...   \n",
       "...                                                 ...   \n",
       "2090  The maximum possible value of $x_2$ modulo 100...   \n",
       "1803  The value of $k$ such that the square $ABCD$ e...   \n",
       "3545  The number of students taking physics is $\\box...   \n",
       "3714  The probability that we get a 6 in at most 2 o...   \n",
       "4831  The volume of the solid $QPCDMN$ is $76$ modul...   \n",
       "\n",
       "                                               combined answer  \n",
       "3334  Let $(x,y)$ be an ordered pair of real numbers...     49  \n",
       "2841  Find the sum of the $x$-coordinates of all pos...   1000  \n",
       "4411  Let\\n\\[\\mathbf{a} = \\begin{pmatrix} 5 \\\\ -3 \\\\...   1000  \n",
       "2072  Let $z=a+bi$ be the complex number with $\\vert...      4  \n",
       "3963  Two jokers are added to a $52$ card deck and t...     52  \n",
       "...                                                 ...    ...  \n",
       "2090  For $1 \\leq i \\leq 215$ let $a_i = \\dfrac{1}{2...    487  \n",
       "1803  For $0 < k < 6,$ the graphs of $\\frac{(x - k)^...      2  \n",
       "3545  There are 360 people in my school.  15 take ca...    255  \n",
       "3714  We roll a fair 6-sided die 5 times.  What is t...    1\\%  \n",
       "4831  A solid right prism $ABCDEF$ has a height of $...     76  \n",
       "\n",
       "[150 rows x 11 columns]"
      ]
     },
     "execution_count": 19,
     "metadata": {},
     "output_type": "execute_result"
    }
   ],
   "source": [
    "q_and_res"
   ]
  },
  {
   "cell_type": "code",
   "execution_count": null,
   "id": "d70b247f-60da-4ac7-a807-d2c44579fc28",
   "metadata": {},
   "outputs": [],
   "source": []
  },
  {
   "cell_type": "code",
   "execution_count": null,
   "id": "9118b955-613f-4771-95c3-dc180e719cb1",
   "metadata": {},
   "outputs": [],
   "source": []
  },
  {
   "cell_type": "code",
   "execution_count": null,
   "id": "164092de-f5aa-454d-b072-3941cf0fb1b5",
   "metadata": {},
   "outputs": [],
   "source": []
  },
  {
   "cell_type": "code",
   "execution_count": null,
   "id": "e7165c7f-5cad-4d46-8046-94f0e2a310df",
   "metadata": {},
   "outputs": [],
   "source": []
  },
  {
   "cell_type": "code",
   "execution_count": null,
   "id": "2c4f4b89-3704-4b5f-be35-eda425bb1eac",
   "metadata": {},
   "outputs": [],
   "source": []
  },
  {
   "cell_type": "code",
   "execution_count": null,
   "id": "0298d96a-50e5-4abc-9b7a-f5ab430fa2c9",
   "metadata": {},
   "outputs": [],
   "source": []
  },
  {
   "cell_type": "code",
   "execution_count": 7,
   "id": "106e879a-b6c1-42e9-ae04-c22a2e4c08d7",
   "metadata": {
    "tags": []
   },
   "outputs": [
    {
     "name": "stdout",
     "output_type": "stream",
     "text": [
      "{question}\n",
      "\n",
      "Please only provide Python code to solve the problem. The correct answer is an integer.\n",
      "Unless the problem is explicity in complex numbers create all SymPy symbols with parameter real=True.\n",
      "\n",
      "\n",
      "{answer}\n",
      "```output\n",
      "{code_results}\n",
      "```\n",
      "\n",
      "Please check the code above and provide a corrected version below.\n",
      "If the output above shows an error improve the code below to fix the error.\n",
      "```python\n",
      "from sympy import *\n",
      "\n",
      "\n"
     ]
    }
   ],
   "source": [
    "refine_instruction = \"Please check the code above and provide a corrected version below.\\n\" \\\n",
    "                     + \"If the output above shows an error improve the code below to fix the error.\\n\" \\\n",
    "                     + python_code_prefix + python_default_imports\n",
    "refine_template = f\"\"\"{{question}}\n",
    "{tool_instruction}\n",
    "{{answer}}\n",
    "```output\n",
    "{{code_results}}\n",
    "```\n",
    "\n",
    "{refine_instruction}\n",
    "\"\"\"\n",
    "print(refine_template)"
   ]
  },
  {
   "cell_type": "code",
   "execution_count": 19,
   "id": "48761ff7-3d33-4782-ae1c-dc842312448b",
   "metadata": {
    "tags": []
   },
   "outputs": [
    {
     "name": "stderr",
     "output_type": "stream",
     "text": [
      "Special tokens have been added in the vocabulary, make sure the associated word embeddings are fine-tuned or trained.\n"
     ]
    },
    {
     "data": {
      "application/vnd.jupyter.widget-view+json": {
       "model_id": "831a6ce8728b45388a6044386d9300f3",
       "version_major": 2,
       "version_minor": 0
      },
      "text/plain": [
       "Loading checkpoint shards:   0%|          | 0/4 [00:00<?, ?it/s]"
      ]
     },
     "metadata": {},
     "output_type": "display_data"
    },
    {
     "name": "stdout",
     "output_type": "stream",
     "text": [
      "Processed 3 prompts in 258s\n",
      "Processed 3 prompts in 120s\n",
      "Processed 3 prompts in 157s\n",
      "Processed 3 prompts in 45s\n",
      "Available Memory (GB, approx.): 23.62\n"
     ]
    }
   ],
   "source": [
    "refine_model = outlines_model(llama_3)\n",
    "generator = generate.text(refine_model)\n",
    "\n",
    "def new_res_row(old_row, refined_code, itr):\n",
    "    new_row = old_row.copy()\n",
    "    new_row['iteration'] = itr + 1\n",
    "    new_row['code'] = parse_code(refined_code)\n",
    "    new_row['code_result'] = parse_and_run(refined_code)\n",
    "    return new_row\n",
    "\n",
    "for itr in range(1):\n",
    "    prev_results = q_and_res[q_and_res['iteration'] == itr]\n",
    "    new_results = []\n",
    "    for batch in batch_process(prev_results, batch_size):\n",
    "        prompts = []\n",
    "        for res in batch.iterrows():\n",
    "            refine_prompt = refine_template.format(question=res[1]['problem'], answer=res[1]['code'], code_results=res[1]['code_result'])\n",
    "            # print(refine_prompt)\n",
    "            prompts.append(refine_prompt)\n",
    "        start_time = time.time()\n",
    "        refined_res = generator(prompts, max_tokens=3000, stop_at='```output')\n",
    "        if type(refined_res) == str:\n",
    "            new_rows = pd.DataFrame([new_res_row(batch.iloc[0])], refined_res, itr)\n",
    "        else:  \n",
    "            new_rows = []\n",
    "            for i, refined_code in enumerate(refined_res):\n",
    "                new_rows.append(new_res_row(batch.iloc[i], refined_code, itr))\n",
    "            new_rows = pd.DataFrame(new_rows)  \n",
    "        q_and_res = pd.concat([q_and_res, new_rows])\n",
    "        print(f'Processed {len(prompts)} prompts in {round(time.time() - start_time)}s')\n",
    "\n",
    "del[refine_model]\n",
    "del[generator]\n",
    "free_mem()\n",
    "print_cuda_mem()"
   ]
  },
  {
   "cell_type": "code",
   "execution_count": 20,
   "id": "f357c26b-8251-469f-b5a9-59aee8877eb6",
   "metadata": {
    "tags": []
   },
   "outputs": [
    {
     "data": {
      "text/html": [
       "<div>\n",
       "<style scoped>\n",
       "    .dataframe tbody tr th:only-of-type {\n",
       "        vertical-align: middle;\n",
       "    }\n",
       "\n",
       "    .dataframe tbody tr th {\n",
       "        vertical-align: top;\n",
       "    }\n",
       "\n",
       "    .dataframe thead th {\n",
       "        text-align: right;\n",
       "    }\n",
       "</style>\n",
       "<table border=\"1\" class=\"dataframe\">\n",
       "  <thead>\n",
       "    <tr style=\"text-align: right;\">\n",
       "      <th></th>\n",
       "      <th>question_id</th>\n",
       "      <th>problem</th>\n",
       "      <th>correct_answer</th>\n",
       "      <th>rep_idx</th>\n",
       "      <th>iteration</th>\n",
       "      <th>code</th>\n",
       "      <th>code_result</th>\n",
       "    </tr>\n",
       "  </thead>\n",
       "  <tbody>\n",
       "    <tr>\n",
       "      <th>0</th>\n",
       "      <td>229ee8</td>\n",
       "      <td>Let $k, l &gt; 0$ be parameters. The parabola $y ...</td>\n",
       "      <td>52</td>\n",
       "      <td>0</td>\n",
       "      <td>0</td>\n",
       "      <td>from sympy import *\\n\\ndef sum_of_squares_dist...</td>\n",
       "      <td>Traceback (most recent call last):\\n  File \"/h...</td>\n",
       "    </tr>\n",
       "    <tr>\n",
       "      <th>1</th>\n",
       "      <td>229ee8</td>\n",
       "      <td>Let $k, l &gt; 0$ be parameters. The parabola $y ...</td>\n",
       "      <td>52</td>\n",
       "      <td>0</td>\n",
       "      <td>1</td>\n",
       "      <td>from sympy import *\\ndef sum_of_squares_distan...</td>\n",
       "      <td>File \"/home/daniel/code/math-ai/code.py\", li...</td>\n",
       "    </tr>\n",
       "    <tr>\n",
       "      <th>2</th>\n",
       "      <td>229ee8</td>\n",
       "      <td>Let $k, l &gt; 0$ be parameters. The parabola $y ...</td>\n",
       "      <td>52</td>\n",
       "      <td>1</td>\n",
       "      <td>0</td>\n",
       "      <td>from sympy import *\\n\\ndef sum_of_squares_dist...</td>\n",
       "      <td>2*(18*k - l + 4)/k\\n</td>\n",
       "    </tr>\n",
       "    <tr>\n",
       "      <th>3</th>\n",
       "      <td>229ee8</td>\n",
       "      <td>Let $k, l &gt; 0$ be parameters. The parabola $y ...</td>\n",
       "      <td>52</td>\n",
       "      <td>1</td>\n",
       "      <td>1</td>\n",
       "      <td>from sympy import *\\n DEV solution training tu...</td>\n",
       "      <td>File \"/home/daniel/code/math-ai/code.py\", li...</td>\n",
       "    </tr>\n",
       "    <tr>\n",
       "      <th>4</th>\n",
       "      <td>229ee8</td>\n",
       "      <td>Let $k, l &gt; 0$ be parameters. The parabola $y ...</td>\n",
       "      <td>52</td>\n",
       "      <td>2</td>\n",
       "      <td>0</td>\n",
       "      <td>from sympy import *\\nfrom sympy.solvers import...</td>\n",
       "      <td>-(-(k - sqrt(k*(k - l + 4)))/k + (k + sqrt(k*(...</td>\n",
       "    </tr>\n",
       "    <tr>\n",
       "      <th>5</th>\n",
       "      <td>229ee8</td>\n",
       "      <td>Let $k, l &gt; 0$ be parameters. The parabola $y ...</td>\n",
       "      <td>52</td>\n",
       "      <td>2</td>\n",
       "      <td>1</td>\n",
       "      <td>from sympy import *\\nx, k, l = symbols('x k l'...</td>\n",
       "      <td>-(-(k - sqrt(k*(k - l + 4)))/k + (k + sqrt(k*(...</td>\n",
       "    </tr>\n",
       "    <tr>\n",
       "      <th>6</th>\n",
       "      <td>229ee8</td>\n",
       "      <td>Let $k, l &gt; 0$ be parameters. The parabola $y ...</td>\n",
       "      <td>52</td>\n",
       "      <td>3</td>\n",
       "      <td>0</td>\n",
       "      <td>from sympy import *\\n\\nk, l, x, y, a, b = symb...</td>\n",
       "      <td>32 + (k - sqrt(k*(k - l + 4)))**2/k**2 + (k + ...</td>\n",
       "    </tr>\n",
       "    <tr>\n",
       "      <th>7</th>\n",
       "      <td>229ee8</td>\n",
       "      <td>Let $k, l &gt; 0$ be parameters. The parabola $y ...</td>\n",
       "      <td>52</td>\n",
       "      <td>3</td>\n",
       "      <td>1</td>\n",
       "      <td>from sympy import *\\nk, l, x, y, a, b = symbol...</td>\n",
       "      <td>32 + (k - sqrt(k*(k - l + 4)))**2/k**2 + (k + ...</td>\n",
       "    </tr>\n",
       "    <tr>\n",
       "      <th>8</th>\n",
       "      <td>229ee8</td>\n",
       "      <td>Let $k, l &gt; 0$ be parameters. The parabola $y ...</td>\n",
       "      <td>52</td>\n",
       "      <td>4</td>\n",
       "      <td>0</td>\n",
       "      <td>from sympy import *\\n\\nk, l, x = symbols('k l ...</td>\n",
       "      <td>Traceback (most recent call last):\\n  File \"/h...</td>\n",
       "    </tr>\n",
       "    <tr>\n",
       "      <th>9</th>\n",
       "      <td>229ee8</td>\n",
       "      <td>Let $k, l &gt; 0$ be parameters. The parabola $y ...</td>\n",
       "      <td>52</td>\n",
       "      <td>4</td>\n",
       "      <td>1</td>\n",
       "      <td>from sympy import *\\n BLAH BLAH\\n\\n</td>\n",
       "      <td>File \"/home/daniel/code/math-ai/code.py\", li...</td>\n",
       "    </tr>\n",
       "    <tr>\n",
       "      <th>10</th>\n",
       "      <td>229ee8</td>\n",
       "      <td>Let $k, l &gt; 0$ be parameters. The parabola $y ...</td>\n",
       "      <td>52</td>\n",
       "      <td>5</td>\n",
       "      <td>0</td>\n",
       "      <td>from sympy import *\\n\\nk, l, x = symbols('k l ...</td>\n",
       "      <td>2*(4 - l)/k\\n</td>\n",
       "    </tr>\n",
       "    <tr>\n",
       "      <th>11</th>\n",
       "      <td>229ee8</td>\n",
       "      <td>Let $k, l &gt; 0$ be parameters. The parabola $y ...</td>\n",
       "      <td>52</td>\n",
       "      <td>5</td>\n",
       "      <td>1</td>\n",
       "      <td>from sympy import *\\nk, l, x = symbols('k l x'...</td>\n",
       "      <td>2*(4 - l)/k\\n</td>\n",
       "    </tr>\n",
       "    <tr>\n",
       "      <th>12</th>\n",
       "      <td>246d26</td>\n",
       "      <td>Each of the three-digits numbers $111$ to $999...</td>\n",
       "      <td>250</td>\n",
       "      <td>0</td>\n",
       "      <td>0</td>\n",
       "      <td>from sympy import *\\n\\ndef maximum_yellow_numb...</td>\n",
       "      <td>54</td>\n",
       "    </tr>\n",
       "    <tr>\n",
       "      <th>13</th>\n",
       "      <td>246d26</td>\n",
       "      <td>Each of the three-digits numbers $111$ to $999...</td>\n",
       "      <td>250</td>\n",
       "      <td>0</td>\n",
       "      <td>1</td>\n",
       "      <td>from sympy import *\\n NJOLENJUNGAKFJKA\\n</td>\n",
       "      <td>File \"/home/daniel/code/math-ai/code.py\", li...</td>\n",
       "    </tr>\n",
       "    <tr>\n",
       "      <th>14</th>\n",
       "      <td>246d26</td>\n",
       "      <td>Each of the three-digits numbers $111$ to $999...</td>\n",
       "      <td>250</td>\n",
       "      <td>1</td>\n",
       "      <td>0</td>\n",
       "      <td>from sympy import *\\n\\ndef maximum_yellow_numb...</td>\n",
       "      <td>899</td>\n",
       "    </tr>\n",
       "    <tr>\n",
       "      <th>15</th>\n",
       "      <td>246d26</td>\n",
       "      <td>Each of the three-digits numbers $111$ to $999...</td>\n",
       "      <td>250</td>\n",
       "      <td>1</td>\n",
       "      <td>1</td>\n",
       "      <td>from sympy import *\\n NOTES,)\\n,) ))\\n;;))\\n;)...</td>\n",
       "      <td>File \"/home/daniel/code/math-ai/code.py\", li...</td>\n",
       "    </tr>\n",
       "    <tr>\n",
       "      <th>16</th>\n",
       "      <td>246d26</td>\n",
       "      <td>Each of the three-digits numbers $111$ to $999...</td>\n",
       "      <td>250</td>\n",
       "      <td>2</td>\n",
       "      <td>0</td>\n",
       "      <td>from sympy import *\\n\\ndef max_yellow_numbers(...</td>\n",
       "      <td>882</td>\n",
       "    </tr>\n",
       "    <tr>\n",
       "      <th>17</th>\n",
       "      <td>246d26</td>\n",
       "      <td>Each of the three-digits numbers $111$ to $999...</td>\n",
       "      <td>250</td>\n",
       "      <td>2</td>\n",
       "      <td>1</td>\n",
       "      <td>from sympy import *\\nICAL\"\\n</td>\n",
       "      <td>File \"/home/daniel/code/math-ai/code.py\", li...</td>\n",
       "    </tr>\n",
       "    <tr>\n",
       "      <th>18</th>\n",
       "      <td>246d26</td>\n",
       "      <td>Each of the three-digits numbers $111$ to $999...</td>\n",
       "      <td>250</td>\n",
       "      <td>3</td>\n",
       "      <td>0</td>\n",
       "      <td>from sympy import *\\nreal = True\\n\\ndef max_ye...</td>\n",
       "      <td>3</td>\n",
       "    </tr>\n",
       "    <tr>\n",
       "      <th>19</th>\n",
       "      <td>246d26</td>\n",
       "      <td>Each of the three-digits numbers $111$ to $999...</td>\n",
       "      <td>250</td>\n",
       "      <td>3</td>\n",
       "      <td>1</td>\n",
       "      <td>from sympy import *\\n TEA TEA TEA TEA TEA TEA ...</td>\n",
       "      <td>File \"/home/daniel/code/math-ai/code.py\", li...</td>\n",
       "    </tr>\n",
       "    <tr>\n",
       "      <th>20</th>\n",
       "      <td>246d26</td>\n",
       "      <td>Each of the three-digits numbers $111$ to $999...</td>\n",
       "      <td>250</td>\n",
       "      <td>4</td>\n",
       "      <td>0</td>\n",
       "      <td>from sympy import *\\n\\n# function to calculate...</td>\n",
       "      <td>444</td>\n",
       "    </tr>\n",
       "    <tr>\n",
       "      <th>21</th>\n",
       "      <td>246d26</td>\n",
       "      <td>Each of the three-digits numbers $111$ to $999...</td>\n",
       "      <td>250</td>\n",
       "      <td>4</td>\n",
       "      <td>1</td>\n",
       "      <td>from sympy import *\\n MSS are real</td>\n",
       "      <td>File \"/home/daniel/code/math-ai/code.py\", li...</td>\n",
       "    </tr>\n",
       "    <tr>\n",
       "      <th>22</th>\n",
       "      <td>246d26</td>\n",
       "      <td>Each of the three-digits numbers $111$ to $999...</td>\n",
       "      <td>250</td>\n",
       "      <td>5</td>\n",
       "      <td>0</td>\n",
       "      <td>from sympy import *\\n\\ndef solve_yellow_number...</td>\n",
       "      <td>364</td>\n",
       "    </tr>\n",
       "    <tr>\n",
       "      <th>23</th>\n",
       "      <td>246d26</td>\n",
       "      <td>Each of the three-digits numbers $111$ to $999...</td>\n",
       "      <td>250</td>\n",
       "      <td>5</td>\n",
       "      <td>1</td>\n",
       "      <td>from sympy import *\\n map\\nContinually to (and...</td>\n",
       "      <td>File \"/home/daniel/code/math-ai/code.py\", li...</td>\n",
       "    </tr>\n",
       "  </tbody>\n",
       "</table>\n",
       "</div>"
      ],
      "text/plain": [
       "   question_id                                            problem  \\\n",
       "0       229ee8  Let $k, l > 0$ be parameters. The parabola $y ...   \n",
       "1       229ee8  Let $k, l > 0$ be parameters. The parabola $y ...   \n",
       "2       229ee8  Let $k, l > 0$ be parameters. The parabola $y ...   \n",
       "3       229ee8  Let $k, l > 0$ be parameters. The parabola $y ...   \n",
       "4       229ee8  Let $k, l > 0$ be parameters. The parabola $y ...   \n",
       "5       229ee8  Let $k, l > 0$ be parameters. The parabola $y ...   \n",
       "6       229ee8  Let $k, l > 0$ be parameters. The parabola $y ...   \n",
       "7       229ee8  Let $k, l > 0$ be parameters. The parabola $y ...   \n",
       "8       229ee8  Let $k, l > 0$ be parameters. The parabola $y ...   \n",
       "9       229ee8  Let $k, l > 0$ be parameters. The parabola $y ...   \n",
       "10      229ee8  Let $k, l > 0$ be parameters. The parabola $y ...   \n",
       "11      229ee8  Let $k, l > 0$ be parameters. The parabola $y ...   \n",
       "12      246d26  Each of the three-digits numbers $111$ to $999...   \n",
       "13      246d26  Each of the three-digits numbers $111$ to $999...   \n",
       "14      246d26  Each of the three-digits numbers $111$ to $999...   \n",
       "15      246d26  Each of the three-digits numbers $111$ to $999...   \n",
       "16      246d26  Each of the three-digits numbers $111$ to $999...   \n",
       "17      246d26  Each of the three-digits numbers $111$ to $999...   \n",
       "18      246d26  Each of the three-digits numbers $111$ to $999...   \n",
       "19      246d26  Each of the three-digits numbers $111$ to $999...   \n",
       "20      246d26  Each of the three-digits numbers $111$ to $999...   \n",
       "21      246d26  Each of the three-digits numbers $111$ to $999...   \n",
       "22      246d26  Each of the three-digits numbers $111$ to $999...   \n",
       "23      246d26  Each of the three-digits numbers $111$ to $999...   \n",
       "\n",
       "    correct_answer  rep_idx  iteration  \\\n",
       "0               52        0          0   \n",
       "1               52        0          1   \n",
       "2               52        1          0   \n",
       "3               52        1          1   \n",
       "4               52        2          0   \n",
       "5               52        2          1   \n",
       "6               52        3          0   \n",
       "7               52        3          1   \n",
       "8               52        4          0   \n",
       "9               52        4          1   \n",
       "10              52        5          0   \n",
       "11              52        5          1   \n",
       "12             250        0          0   \n",
       "13             250        0          1   \n",
       "14             250        1          0   \n",
       "15             250        1          1   \n",
       "16             250        2          0   \n",
       "17             250        2          1   \n",
       "18             250        3          0   \n",
       "19             250        3          1   \n",
       "20             250        4          0   \n",
       "21             250        4          1   \n",
       "22             250        5          0   \n",
       "23             250        5          1   \n",
       "\n",
       "                                                 code  \\\n",
       "0   from sympy import *\\n\\ndef sum_of_squares_dist...   \n",
       "1   from sympy import *\\ndef sum_of_squares_distan...   \n",
       "2   from sympy import *\\n\\ndef sum_of_squares_dist...   \n",
       "3   from sympy import *\\n DEV solution training tu...   \n",
       "4   from sympy import *\\nfrom sympy.solvers import...   \n",
       "5   from sympy import *\\nx, k, l = symbols('x k l'...   \n",
       "6   from sympy import *\\n\\nk, l, x, y, a, b = symb...   \n",
       "7   from sympy import *\\nk, l, x, y, a, b = symbol...   \n",
       "8   from sympy import *\\n\\nk, l, x = symbols('k l ...   \n",
       "9                 from sympy import *\\n BLAH BLAH\\n\\n   \n",
       "10  from sympy import *\\n\\nk, l, x = symbols('k l ...   \n",
       "11  from sympy import *\\nk, l, x = symbols('k l x'...   \n",
       "12  from sympy import *\\n\\ndef maximum_yellow_numb...   \n",
       "13           from sympy import *\\n NJOLENJUNGAKFJKA\\n   \n",
       "14  from sympy import *\\n\\ndef maximum_yellow_numb...   \n",
       "15  from sympy import *\\n NOTES,)\\n,) ))\\n;;))\\n;)...   \n",
       "16  from sympy import *\\n\\ndef max_yellow_numbers(...   \n",
       "17                       from sympy import *\\nICAL\"\\n   \n",
       "18  from sympy import *\\nreal = True\\n\\ndef max_ye...   \n",
       "19  from sympy import *\\n TEA TEA TEA TEA TEA TEA ...   \n",
       "20  from sympy import *\\n\\n# function to calculate...   \n",
       "21                from sympy import *\\n MSS are real    \n",
       "22  from sympy import *\\n\\ndef solve_yellow_number...   \n",
       "23  from sympy import *\\n map\\nContinually to (and...   \n",
       "\n",
       "                                          code_result  \n",
       "0   Traceback (most recent call last):\\n  File \"/h...  \n",
       "1     File \"/home/daniel/code/math-ai/code.py\", li...  \n",
       "2                                2*(18*k - l + 4)/k\\n  \n",
       "3     File \"/home/daniel/code/math-ai/code.py\", li...  \n",
       "4   -(-(k - sqrt(k*(k - l + 4)))/k + (k + sqrt(k*(...  \n",
       "5   -(-(k - sqrt(k*(k - l + 4)))/k + (k + sqrt(k*(...  \n",
       "6   32 + (k - sqrt(k*(k - l + 4)))**2/k**2 + (k + ...  \n",
       "7   32 + (k - sqrt(k*(k - l + 4)))**2/k**2 + (k + ...  \n",
       "8   Traceback (most recent call last):\\n  File \"/h...  \n",
       "9     File \"/home/daniel/code/math-ai/code.py\", li...  \n",
       "10                                      2*(4 - l)/k\\n  \n",
       "11                                      2*(4 - l)/k\\n  \n",
       "12                                                 54  \n",
       "13    File \"/home/daniel/code/math-ai/code.py\", li...  \n",
       "14                                                899  \n",
       "15    File \"/home/daniel/code/math-ai/code.py\", li...  \n",
       "16                                                882  \n",
       "17    File \"/home/daniel/code/math-ai/code.py\", li...  \n",
       "18                                                  3  \n",
       "19    File \"/home/daniel/code/math-ai/code.py\", li...  \n",
       "20                                                444  \n",
       "21    File \"/home/daniel/code/math-ai/code.py\", li...  \n",
       "22                                                364  \n",
       "23    File \"/home/daniel/code/math-ai/code.py\", li...  "
      ]
     },
     "execution_count": 20,
     "metadata": {},
     "output_type": "execute_result"
    }
   ],
   "source": [
    "df_res = pd.DataFrame(q_and_res).sort_values(['question_id', 'rep_idx', 'iteration']).reset_index(drop=True)\n",
    "df_res"
   ]
  },
  {
   "cell_type": "code",
   "execution_count": null,
   "id": "a320a79b-e60b-45a7-98ec-6bc3d94f8951",
   "metadata": {
    "tags": []
   },
   "outputs": [],
   "source": [
    "print(df_res['code'][4])"
   ]
  },
  {
   "cell_type": "code",
   "execution_count": null,
   "id": "d48b5e2a-35ef-4596-a7f9-fbddf4a87bec",
   "metadata": {
    "tags": []
   },
   "outputs": [],
   "source": [
    "print(df_res['code'][2])"
   ]
  },
  {
   "cell_type": "code",
   "execution_count": null,
   "id": "75d72fdc-aeb6-4ea9-94f6-831a0a3533ec",
   "metadata": {
    "tags": []
   },
   "outputs": [],
   "source": [
    "print(df_res['code'][3])"
   ]
  },
  {
   "cell_type": "code",
   "execution_count": null,
   "id": "cf280296-497a-44ac-9817-89dd491ab0b1",
   "metadata": {
    "tags": []
   },
   "outputs": [],
   "source": [
    "print(df_res['code'][4])"
   ]
  },
  {
   "cell_type": "code",
   "execution_count": null,
   "id": "b0009c44-729f-445f-a662-0d77db73ef7c",
   "metadata": {
    "tags": []
   },
   "outputs": [],
   "source": [
    "questions = pd.read_csv('./test.csv')"
   ]
  },
  {
   "cell_type": "code",
   "execution_count": null,
   "id": "aae3a5b8-e785-439b-971c-2182ccbc306e",
   "metadata": {},
   "outputs": [],
   "source": []
  },
  {
   "cell_type": "code",
   "execution_count": null,
   "id": "efa5d2a2-d978-4cac-9315-ca3daa85a815",
   "metadata": {},
   "outputs": [],
   "source": []
  },
  {
   "cell_type": "code",
   "execution_count": null,
   "id": "d473d30f-26ef-439d-9706-356098f87f46",
   "metadata": {},
   "outputs": [],
   "source": []
  },
  {
   "cell_type": "code",
   "execution_count": null,
   "id": "aa7936ba-2f18-43f4-8ae2-1c37d5ca0366",
   "metadata": {},
   "outputs": [],
   "source": []
  },
  {
   "cell_type": "code",
   "execution_count": null,
   "id": "c0c0a178-983b-4649-bb06-f58900803748",
   "metadata": {
    "tags": []
   },
   "outputs": [],
   "source": []
  },
  {
   "cell_type": "code",
   "execution_count": null,
   "id": "6a8a6388-3280-483e-b3ca-c82e2f40ae92",
   "metadata": {
    "tags": []
   },
   "outputs": [],
   "source": []
  },
  {
   "cell_type": "code",
   "execution_count": null,
   "id": "efb99a20-167b-4dd7-89b8-03d2b9e0e390",
   "metadata": {},
   "outputs": [],
   "source": []
  },
  {
   "cell_type": "code",
   "execution_count": null,
   "id": "aba80522-e9fa-479f-ad34-303264edf06a",
   "metadata": {},
   "outputs": [],
   "source": []
  },
  {
   "cell_type": "code",
   "execution_count": null,
   "id": "a313eb66-8fbf-44a1-af68-3759a21bb01b",
   "metadata": {},
   "outputs": [],
   "source": []
  },
  {
   "cell_type": "code",
   "execution_count": null,
   "id": "f6227765-ce81-4b48-88cb-4d0fbaf74223",
   "metadata": {},
   "outputs": [],
   "source": []
  },
  {
   "cell_type": "code",
   "execution_count": null,
   "id": "f41187a7-dd61-4d41-85dd-892ba7754131",
   "metadata": {},
   "outputs": [],
   "source": []
  },
  {
   "cell_type": "code",
   "execution_count": null,
   "id": "e74c71bb-16dc-417f-8b95-385696046ba1",
   "metadata": {},
   "outputs": [],
   "source": []
  },
  {
   "cell_type": "code",
   "execution_count": null,
   "id": "b39754f4-94d4-4b37-b130-b9ee7fd1f2df",
   "metadata": {},
   "outputs": [],
   "source": []
  },
  {
   "cell_type": "code",
   "execution_count": null,
   "id": "340e680e-baab-4643-ba26-4febfd171ed8",
   "metadata": {},
   "outputs": [],
   "source": []
  },
  {
   "cell_type": "code",
   "execution_count": null,
   "id": "f0894fa9-dc8c-45dd-a42f-404d95681bd9",
   "metadata": {},
   "outputs": [],
   "source": []
  },
  {
   "cell_type": "code",
   "execution_count": null,
   "id": "08a60795-8c70-4a3e-b5a3-21ee53cbb1d3",
   "metadata": {},
   "outputs": [],
   "source": []
  },
  {
   "cell_type": "code",
   "execution_count": null,
   "id": "4838e944-e0e2-41e6-a0be-2eefc2bf164a",
   "metadata": {},
   "outputs": [],
   "source": []
  },
  {
   "cell_type": "code",
   "execution_count": null,
   "id": "b231bbe2-03b9-4a55-b410-52dc1e079b15",
   "metadata": {},
   "outputs": [],
   "source": []
  },
  {
   "cell_type": "code",
   "execution_count": null,
   "id": "448a490d-dada-4b2f-b98d-c2d1cbfce57a",
   "metadata": {},
   "outputs": [],
   "source": []
  },
  {
   "cell_type": "code",
   "execution_count": null,
   "id": "d81b3595-e61c-4a70-98b7-3bbe429cfe4b",
   "metadata": {
    "tags": []
   },
   "outputs": [],
   "source": [
    "def clean_latex(text):\n",
    "    \"\"\"\n",
    "    convert r\"[math]\\vec{x} + \\vec{y}\" to English\n",
    "    \"\"\"\n",
    "    # edge case\n",
    "    text = re.sub(r'\\[math\\]', ' LaTex math ', text)\n",
    "    text = re.sub(r'\\[\\/math\\]', ' LaTex math ', text)\n",
    "    text = re.sub(r'\\\\', ' LaTex ', text)\n",
    "\n",
    "    pattern_to_sub = {\n",
    "        r'$': '', #Add replace $?\n",
    "        r'\\\\mathrm': ' LaTex math mode ',\n",
    "        r'\\\\mathbb': ' LaTex math mode ',\n",
    "        r'\\\\boxed': ' LaTex equation ',\n",
    "        r'\\\\begin': ' LaTex equation ', #should it be parenthesis?\n",
    "        r'\\\\end': ' LaTex equation ', #should it be parenthesis?\n",
    "        r'\\\\left': ' LaTex equation ', #should it be parenthesis?\n",
    "        r'\\\\right': ' LaTex equation ', #should it be parenthesis?\n",
    "        r'\\\\(over|under)brace': ' LaTex equation ',\n",
    "        r'\\\\text': ' LaTex equation ',\n",
    "        r'\\\\vec': ' vector ',\n",
    "        r'\\\\var': ' variable ',\n",
    "        r'\\\\theta': ' theta ',\n",
    "        r'\\\\mu': ' average ',\n",
    "        r'\\\\min': ' minimum ',\n",
    "        r'\\\\max': ' maximum ',\n",
    "        r'\\\\sum': ' + ',\n",
    "        r'\\\\times': ' * ',\n",
    "        r'\\\\cdot': ' * ',\n",
    "        r'\\\\hat': ' ^ ',\n",
    "        r'\\\\frac': ' / ',\n",
    "        r'\\\\div': ' / ',\n",
    "        r'\\\\sin': ' Sine ',\n",
    "        r'\\\\cos': ' Cosine ',\n",
    "        r'\\\\tan': ' Tangent ',\n",
    "        r'\\\\infty': ' infinity ',\n",
    "        r'\\\\int': ' integer ',\n",
    "        r'\\\\in': ' in ',\n",
    "    }\n",
    "    # post process for look up\n",
    "    pattern_dict = {k.strip('\\\\'): v for k, v in pattern_to_sub.items()}\n",
    "    # init re\n",
    "    patterns = pattern_to_sub.keys()\n",
    "    pattern_re = re.compile('(%s)' % '|'.join(patterns))\n",
    "\n",
    "    def _replace(match):\n",
    "        try:\n",
    "            word = pattern_dict.get(match.group(0).strip('\\\\'))\n",
    "        except KeyError:\n",
    "            word = match.group(0)\n",
    "            print('!!Error: Could Not Find Key: {}'.format(word))\n",
    "        return word\n",
    "    return pattern_re.sub(_replace, text)"
   ]
  },
  {
   "cell_type": "code",
   "execution_count": null,
   "id": "bd58ab84-0776-41c9-ba38-2105e7793ed7",
   "metadata": {
    "tags": []
   },
   "outputs": [],
   "source": [
    "def run_python_code(code):\n",
    "    try:\n",
    "        with open('code.py', 'w') as fout:\n",
    "            fout.write('from sympy import * \\n')\n",
    "            fout.write(code)\n",
    "        batcmd = 'timeout 7 ' + sys.executable + ' code.py'\n",
    "        return subprocess.check_output(batcmd, stderr=subprocess.STDOUT, shell=True).decode('utf8')\n",
    "    except subprocess.CalledProcessError as e:\n",
    "        return e.output.decode('utf8')  # Return the error output\n",
    "    except Exception as ex:\n",
    "        return str(ex)\n",
    "\n",
    "\n",
    "def process_output(output):\n",
    "    result = output\n",
    "    try:\n",
    "        shell_output = run_python_code(output.split('```')[1][7:])\n",
    "        shell_number = re.findall(r'(-?\\d+)(?!.*\\d)', shell_output)[-1]\n",
    "        code_output = round(float(eval(shell_number))) % 1000\n",
    "    except:\n",
    "        code_output = -1\n",
    "    try:\n",
    "        result_output = re.findall(r'\\\\boxed\\{(.*)\\}', result)\n",
    "        if not len(result_output):\n",
    "            result_output = re.findall(r'(-?\\d+)(?!.*\\d)', result)[-1]\n",
    "        else:\n",
    "            result_output = result_output[-1]\n",
    "        if not len(result_output):\n",
    "            result_output = -1\n",
    "        else:\n",
    "            result_output = round(float(eval(result_output))) % 1000\n",
    "    except:\n",
    "        result_output = -1\n",
    "    return result_output, code_output"
   ]
  },
  {
   "cell_type": "code",
   "execution_count": null,
   "id": "8dd616fe-92d9-4d6c-a8d7-9dfdcbe9362a",
   "metadata": {
    "tags": []
   },
   "outputs": [],
   "source": [
    "questions = math_train[math_train['level'] == 'Level 5'].sample(2)\n",
    "print('\\n\\n\\n'.join(questions['problem'].values))"
   ]
  },
  {
   "cell_type": "code",
   "execution_count": null,
   "id": "01ef7540-3601-4e52-900c-2f1c1d2596be",
   "metadata": {
    "tags": []
   },
   "outputs": [],
   "source": [
    "print('\\n-----------------------------------------\\n'.join(questions['solution'].values))"
   ]
  },
  {
   "cell_type": "code",
   "execution_count": null,
   "id": "0037c2ce-e62b-461b-b72b-69bc07ed0f30",
   "metadata": {
    "tags": []
   },
   "outputs": [],
   "source": [
    "question = questions['problem'].iloc[0]\n",
    "question"
   ]
  },
  {
   "cell_type": "code",
   "execution_count": null,
   "id": "861c2736-7983-4c7b-b6fa-9300b3a6c908",
   "metadata": {
    "tags": []
   },
   "outputs": [],
   "source": [
    "!pip install outlines"
   ]
  },
  {
   "cell_type": "code",
   "execution_count": null,
   "id": "a0762263-34e4-4763-ba2d-992f01568d91",
   "metadata": {
    "tags": []
   },
   "outputs": [],
   "source": [
    "# tool_instruction = \" The answer should be given as a non-negative modulo 1000.\"\n",
    "\n",
    "n_repetitions = 3\n",
    "q_ics = []\n",
    "raw_results = []\n",
    "total_results = []\n",
    "total_answers = []\n",
    "\n",
    "for q_idx in range(len(questions)):\n",
    "    print(f\"\\n\\n{q_idx}: {questions['problem'].iloc[q_idx]}\")\n",
    "    results = []\n",
    "    answers = []\n",
    "    try:\n",
    "        combined_messages = None\n",
    "        for rep_idx in range(n_repetitions):\n",
    "            print(datetime.now().strftime('%H:%M:%S'))\n",
    "            if rep_idx > (n_repetitions + 1) / 2:\n",
    "                problem = clean_latex(questions['problem'].iloc[q_idx])\n",
    "            else:\n",
    "                problem = questions['problem'].iloc[q_idx] \n",
    "            messages = [{\n",
    "                \"role\": \"user\", \n",
    "                \"content\": 'Problem: ' + problem + \"\\nGenerate Python code to solve the above problem.\" +\n",
    "                '\\nUnless complex numbers are mentioned in the problem create SymPy symbols with parameter real=True' +\n",
    "                    '\\n```python\\n'\n",
    "            }]\n",
    "            query_prompt = tokenizer.apply_chat_template(messages, tokenize=False)\n",
    "            first_output = pipeline(query_prompt, \n",
    "                                    max_new_tokens=1024,\n",
    "                                    do_sample=True,\n",
    "                                    temperature=0.9,\n",
    "                                    return_full_text=False,\n",
    "                                    n_return_sequences=5\n",
    "                            )\n",
    "            first_output = '```python\\n' + first_output[0]['generated_text']\n",
    "            # print('Shell input: \\n' + first_output.split('```')[1][7:] + '\\n')\n",
    "            shell_output = run_python_code(first_output.split('```')[1][7:])\n",
    "            print(f'{shell_output=}\\n')\n",
    "            with_output = first_output.split('```output')[0] + f'```output\\n{shell_output}\\n```'\n",
    "            message = {\n",
    "                \"role\": \"assistant\",\n",
    "                \"content\": f'Answer {rep_idx}:\\n```python\\n' + with_output\n",
    "            }\n",
    "            messages.append(message)\n",
    "            #torch.cuda.empty_cache()\n",
    "            #gc.collect()\n",
    "            if combined_messages is None:\n",
    "                combined_messages = messages\n",
    "            else: \n",
    "                combined_messages.append(message)\n",
    "                \n",
    "        combined_messages.append({\n",
    "            \"role\": \"user\",\n",
    "            \"content\":  \"Which is the best of the solutions above?\"\n",
    "                    \n",
    "        })\n",
    "        second_prompt = tokenizer.apply_chat_template(combined_messages, tokenize=False).replace('<｜end▁of▁sentence｜>', '')\n",
    "        # print(f'{second_prompt=}\\n')\n",
    "        second_output = pipeline(second_prompt, max_new_tokens=1024, do_sample=True, temperature=0.1, return_full_text=False)\n",
    "        print(f'{second_output=}\\n')\n",
    "        \n",
    "    except Exception as ex:\n",
    "        print(ex)\n",
    "        result_output, code_output = -1, -1 \n",
    "    raw_results.append(second_output)\n",
    "    result_output, code_output = process_output(second_output)\n",
    "\n",
    "\n",
    "    results.append(result_output)\n",
    "    answers.append(code_output)\n",
    "    q_ics.append(q_idx)\n",
    "total_results.append(results)\n",
    "total_answers.append(answers)"
   ]
  },
  {
   "cell_type": "code",
   "execution_count": null,
   "id": "c7e6bff0-99c2-4593-9b35-7513ff8a4dba",
   "metadata": {
    "tags": []
   },
   "outputs": [],
   "source": [
    "from sympy import *\n",
    "\n",
    "a = symbols('a')\n"
   ]
  },
  {
   "cell_type": "code",
   "execution_count": null,
   "id": "70e6b42a-a1e8-4980-accb-6ce884072c20",
   "metadata": {
    "tags": []
   },
   "outputs": [],
   "source": [
    "# pd.DataFrame({\n",
    "#     'question': np.repeat(questions.values, n_repetitions),\n",
    "#     'sympy_answers': total_answers,\n",
    "#     'llm_answers': total_results,\n",
    "#     'raw_answers': raw_results\n",
    "# })"
   ]
  },
  {
   "cell_type": "code",
   "execution_count": null,
   "id": "fb37899c-65b2-44be-8b20-e3b817fb4166",
   "metadata": {
    "tags": []
   },
   "outputs": [],
   "source": [
    "print(len(np.repeat(questions['problem'].values, n_repetitions)))\n",
    "print(len(raw_results))\n",
    "print(len(total_results))\n",
    "print(len(total_answers))"
   ]
  },
  {
   "cell_type": "code",
   "execution_count": null,
   "id": "a8d610e8-14ba-402a-8237-1539f65c124c",
   "metadata": {
    "tags": []
   },
   "outputs": [],
   "source": [
    "questions['problem'].iloc[7]"
   ]
  },
  {
   "cell_type": "code",
   "execution_count": null,
   "id": "b2c6668a-612f-47b6-afe4-220122c4d961",
   "metadata": {
    "tags": []
   },
   "outputs": [],
   "source": [
    "total_results"
   ]
  },
  {
   "cell_type": "code",
   "execution_count": null,
   "id": "efc2c791-8845-4c45-88df-3bb8167033dc",
   "metadata": {
    "tags": []
   },
   "outputs": [],
   "source": [
    "total_answers"
   ]
  },
  {
   "cell_type": "code",
   "execution_count": null,
   "id": "600d7f21-55a1-4795-9358-b654d9c40156",
   "metadata": {
    "tags": []
   },
   "outputs": [],
   "source": [
    "questions['solution'].values"
   ]
  },
  {
   "cell_type": "code",
   "execution_count": null,
   "id": "f70ce962-d383-41b0-90fb-82c401506500",
   "metadata": {
    "tags": []
   },
   "outputs": [],
   "source": [
    "propm_prefix = '''Problem:\n",
    "Find the domain of the expression $\\frac{\\sqrt{x-2}}{\\sqrt{5-x}}$.}\n",
    "\n",
    "Solution:\n",
    "The expressions inside each square root must be non-negative. Therefore,\n",
    "$x-2 \\ge 0$, so $x\\ge2$, and $5 - x \\ge 0$, so $x \\le 5$. Also, the denominator\n",
    "cannot be equal to zero, so $5-x>0$, which gives $x<5$. Therefore, the domain of\n",
    "the expression is $\\boxed{[2,5)}$.\n",
    "Final Answer: The final answer is $[2,5)$. I hope it is correct.\n",
    "\n",
    "Problem:\n",
    "If $\\det \\mathbf{A} = 2$ and $\\det \\mathbf{B} = 12,$ then find\n",
    "$\\det (\\mathbf{A} \\mathbf{B}).$\n",
    "Solution:\n",
    "We have that $\\det (\\mathbf{A} \\mathbf{B}) = (\\det \\mathbf{A})(\\det \\mathbf{B})\n",
    "= (2)(12) = \\boxed{24}.$\n",
    "Final Answer: The final answer is $24$. I hope it is correct.\n",
    "Problem:\n",
    "Terrell usually lifts two 20-pound weights 12 times. If he uses two 15-pound\n",
    "weights instead, how many times must Terrell lift them in order to lift the\n",
    "same total weight?\n",
    "\n",
    "Solution:\n",
    "If Terrell lifts two 20-pound weights 12 times, he lifts a total of\n",
    "$2\\cdot 12\\cdot20=480$ pounds of weight. If he lifts two 15-pound\n",
    "weights instead for $n$ times, he will lift a total of $2\\cdot15\\cdot n=30n$\n",
    "pounds of weight. Equating this to 480 pounds, we can solve for $n$:\n",
    "\\begin{align*}\n",
    "30n&=480\\\\\n",
    "\\Rightarrow\\qquad n&=480/30=\\boxed{16}\n",
    "\\end{align*}\n",
    "Final Answer: The final answer is $16$. I hope it is correct.\n",
    "\n",
    "Problem:\n",
    "If the system of equations\n",
    "\\begin{align*}\n",
    "6x-4y&=a,\\\\\n",
    "6y-9x &=b.\n",
    "\\end{align*}has a solution $(x, y)$ where $x$ and $y$ are both nonzero,\n",
    "find $\\frac{a}{b},$ assuming $b$ is nonzero.\n",
    "\n",
    "Solution:\n",
    "If we multiply the first equation by $-\\frac{3}{2}$, we obtain\n",
    "$$6y-9x=-\\frac{3}{2}a.$$Since we also know that $6y-9x=b$, we have\n",
    "$$-\\frac{3}{2}a=b\\Rightarrow\\frac{a}{b}=\\boxed{-\\frac{2}{3}}.$$\n",
    "Final Answer: The final answer is $-\\frac{2}{3}$. I hope it is correct.\n",
    "\n",
    "Problem:\n",
    "'''\n",
    "\n",
    "question_easy = 'Beth bakes 4, 2 dozen batches of cokies in a week. If these cookies are shared amongst 16 people equally, how many cookies does each person consume?'\n",
    "question_hard = 'Each of the three-digits numbers $111$ to $999$ is coloured blue or yellow in such a way that the sum of any two (not necessarily different) yellow numbers is equal to a blue number. What is the maximum possible number of yellow numbers there can be?'\n",
    "postfix = '\\nPlease reason step by step, and put your final answer within \\boxed{}.'\n",
    "postfix_2 =  '\\nPlease convert this problem into a set of equations'\n",
    "tokens = tokenizer.encode(question_hard + postfix_2, return_tensors='pt').to('cuda')\n",
    "out_tokens = model.generate(tokens, max_length=500)\n",
    "print(tokenizer.decode(out_tokens[0]))"
   ]
  },
  {
   "cell_type": "code",
   "execution_count": null,
   "id": "ae0d586f-0b4e-4f4a-9f48-b5ebf178f029",
   "metadata": {
    "tags": []
   },
   "outputs": [],
   "source": [
    "from sympy import symbols, Rational, floor, sqrt\n",
    "from sympy import solve, And, Le, Ge\n",
    "def solve_for_prob():\n",
    "    x = symbols('x')\n",
    "    # define the polynomial P(x)\n",
    "    P = x**2 - 3*x - 9\n",
    "    # define the condition for the problem\n",
    "    condition = floor(sqrt(P.subs(x, x))) == sqrt(P.subs(x, floor(x)))\n",
    "    # define the interval\n",
    "    interval = And(5 <= x, x <= 15)\n",
    "    # calculate the number of values of x that satisfy the condition in the interval\n",
    "    valid_count = 0    \n",
    "    for i in range(5, 16):\n",
    "        if condition.subs(x, i): \n",
    "            valid_count += 1\n",
    "        # calculate the total number of values of x in the interval\n",
    "        total_count = 15 - 5 + 1\n",
    "        # calculate the probability\n",
    "        probability = Rational(valid_count, total_count)\n",
    "        # calculate a, b, c, d, e for the fraction form of the probability\n",
    "        a = 1\n",
    "        b = 1\n",
    "        c = 1\n",
    "        d = -1\n",
    "        e = 1\n",
    "        \n",
    "solve_for_prob()"
   ]
  },
  {
   "cell_type": "code",
   "execution_count": null,
   "id": "d2a69e4a-c8c1-4d62-92b8-7377d573c94a",
   "metadata": {},
   "outputs": [],
   "source": [
    "˘.."
   ]
  }
 ],
 "metadata": {
  "kernelspec": {
   "display_name": "Python [conda env:pytorch]",
   "language": "python",
   "name": "conda-env-pytorch-py"
  },
  "language_info": {
   "codemirror_mode": {
    "name": "ipython",
    "version": 3
   },
   "file_extension": ".py",
   "mimetype": "text/x-python",
   "name": "python",
   "nbconvert_exporter": "python",
   "pygments_lexer": "ipython3",
   "version": "3.11.5"
  }
 },
 "nbformat": 4,
 "nbformat_minor": 5
}
