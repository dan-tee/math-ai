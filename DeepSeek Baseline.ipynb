{
 "cells": [
  {
   "cell_type": "markdown",
   "id": "7fb36e15-e88c-475c-915e-f82609610bf7",
   "metadata": {},
   "source": [
    "# DeepSeek Baseline\n",
    "- vLLM in fp16\n",
    "- only one inference round with multiple self-consistency answers per question"
   ]
  },
  {
   "cell_type": "code",
   "execution_count": 4,
   "id": "681bc6fa-9425-445f-91b9-eb49b9363ce5",
   "metadata": {
    "tags": []
   },
   "outputs": [
    {
     "name": "stdout",
     "output_type": "stream",
     "text": [
      "Available Memory (GB, approx.): 23.64\n",
      "WARNING 04-23 23:37:15 config.py:767] Casting torch.bfloat16 to torch.float16.\n",
      "INFO 04-23 23:37:15 config.py:381] Using fp8_e5m2 data type to store kv cache. It reduces the GPU memory footprint and boosts the performance. But it may cause slight accuracy drop. Currently we only support fp8 without scaling factors and make e5m2 as a default format.\n",
      "INFO 04-23 23:37:15 llm_engine.py:74] Initializing an LLM engine (v0.4.0.post1) with config: model='deepseek-ai/deepseek-math-7b-rl', tokenizer='deepseek-ai/deepseek-math-7b-rl', tokenizer_mode=auto, revision=None, tokenizer_revision=None, trust_remote_code=False, dtype=torch.float16, max_seq_len=2048, download_dir=None, load_format=auto, tensor_parallel_size=1, disable_custom_all_reduce=True, quantization=None, enforce_eager=True, kv_cache_dtype=fp8_e5m2, device_config=cuda, seed=0)\n"
     ]
    },
    {
     "name": "stderr",
     "output_type": "stream",
     "text": [
      "Special tokens have been added in the vocabulary, make sure the associated word embeddings are fine-tuned or trained.\n"
     ]
    },
    {
     "name": "stdout",
     "output_type": "stream",
     "text": [
      "INFO 04-23 23:37:16 selector.py:51] Cannot use FlashAttention because the package is not found. Please install it for better performance.\n",
      "INFO 04-23 23:37:16 selector.py:25] Using XFormers backend.\n"
     ]
    },
    {
     "ename": "RuntimeError",
     "evalue": "CUDA error: out of memory\nCompile with `TORCH_USE_CUDA_DSA` to enable device-side assertions.\n",
     "output_type": "error",
     "traceback": [
      "\u001b[0;31m---------------------------------------------------------------------------\u001b[0m",
      "\u001b[0;31mRuntimeError\u001b[0m                              Traceback (most recent call last)",
      "File \u001b[0;32m~/mambaforge/envs/pytorch/lib/python3.11/site-packages/torch/distributed/c10d_logger.py:47\u001b[0m, in \u001b[0;36m_exception_logger.<locals>.wrapper\u001b[0;34m(*args, **kwargs)\u001b[0m\n\u001b[1;32m     46\u001b[0m \u001b[38;5;28;01mtry\u001b[39;00m:\n\u001b[0;32m---> 47\u001b[0m     \u001b[38;5;28;01mreturn\u001b[39;00m func(\u001b[38;5;241m*\u001b[39margs, \u001b[38;5;241m*\u001b[39m\u001b[38;5;241m*\u001b[39mkwargs)\n\u001b[1;32m     48\u001b[0m \u001b[38;5;28;01mexcept\u001b[39;00m \u001b[38;5;167;01mException\u001b[39;00m \u001b[38;5;28;01mas\u001b[39;00m error:\n",
      "File \u001b[0;32m~/mambaforge/envs/pytorch/lib/python3.11/site-packages/torch/distributed/distributed_c10d.py:2050\u001b[0m, in \u001b[0;36mall_reduce\u001b[0;34m(tensor, op, group, async_op)\u001b[0m\n\u001b[1;32m   2048\u001b[0m         \u001b[38;5;28;01mreturn\u001b[39;00m \u001b[38;5;28;01mNone\u001b[39;00m\n\u001b[0;32m-> 2050\u001b[0m work \u001b[38;5;241m=\u001b[39m group\u001b[38;5;241m.\u001b[39mallreduce([tensor], opts)\n\u001b[1;32m   2052\u001b[0m \u001b[38;5;28;01mif\u001b[39;00m async_op:\n",
      "\u001b[0;31mRuntimeError\u001b[0m: CUDA error: out of memory\nCompile with `TORCH_USE_CUDA_DSA` to enable device-side assertions.\n",
      "\nDuring handling of the above exception, another exception occurred:\n",
      "\u001b[0;31mRuntimeError\u001b[0m                              Traceback (most recent call last)",
      "Cell \u001b[0;32mIn[4], line 40\u001b[0m\n\u001b[1;32m     36\u001b[0m os\u001b[38;5;241m.\u001b[39menviron[\u001b[38;5;124m'\u001b[39m\u001b[38;5;124mTOKENIZERS_PARALLELISM\u001b[39m\u001b[38;5;124m'\u001b[39m] \u001b[38;5;241m=\u001b[39m \u001b[38;5;124m'\u001b[39m\u001b[38;5;124mfalse\u001b[39m\u001b[38;5;124m'\u001b[39m\n\u001b[1;32m     37\u001b[0m print_cuda_mem()\n\u001b[0;32m---> 40\u001b[0m vllm \u001b[38;5;241m=\u001b[39m LLM(model\u001b[38;5;241m=\u001b[39mds_math_rl,\n\u001b[1;32m     41\u001b[0m           dtype\u001b[38;5;241m=\u001b[39m\u001b[38;5;124m'\u001b[39m\u001b[38;5;124mhalf\u001b[39m\u001b[38;5;124m'\u001b[39m,\n\u001b[1;32m     42\u001b[0m           enforce_eager\u001b[38;5;241m=\u001b[39m\u001b[38;5;28;01mTrue\u001b[39;00m,\n\u001b[1;32m     43\u001b[0m           gpu_memory_utilization\u001b[38;5;241m=\u001b[39m\u001b[38;5;241m0.99\u001b[39m,\n\u001b[1;32m     44\u001b[0m           swap_space\u001b[38;5;241m=\u001b[39m\u001b[38;5;241m4\u001b[39m,\n\u001b[1;32m     45\u001b[0m           max_model_len\u001b[38;5;241m=\u001b[39m\u001b[38;5;241m2048\u001b[39m,\n\u001b[1;32m     46\u001b[0m           kv_cache_dtype\u001b[38;5;241m=\u001b[39m\u001b[38;5;124m\"\u001b[39m\u001b[38;5;124mfp8_e5m2\u001b[39m\u001b[38;5;124m\"\u001b[39m,\n\u001b[1;32m     47\u001b[0m           tensor_parallel_size\u001b[38;5;241m=\u001b[39m\u001b[38;5;241m1\u001b[39m)\n\u001b[1;32m     48\u001b[0m vtokenizer \u001b[38;5;241m=\u001b[39m vllm\u001b[38;5;241m.\u001b[39mget_tokenizer()\n",
      "File \u001b[0;32m~/mambaforge/envs/pytorch/lib/python3.11/site-packages/vllm/entrypoints/llm.py:112\u001b[0m, in \u001b[0;36mLLM.__init__\u001b[0;34m(self, model, tokenizer, tokenizer_mode, trust_remote_code, tensor_parallel_size, dtype, quantization, revision, tokenizer_revision, seed, gpu_memory_utilization, swap_space, enforce_eager, max_context_len_to_capture, disable_custom_all_reduce, **kwargs)\u001b[0m\n\u001b[1;32m     93\u001b[0m     kwargs[\u001b[38;5;124m\"\u001b[39m\u001b[38;5;124mdisable_log_stats\u001b[39m\u001b[38;5;124m\"\u001b[39m] \u001b[38;5;241m=\u001b[39m \u001b[38;5;28;01mTrue\u001b[39;00m\n\u001b[1;32m     94\u001b[0m engine_args \u001b[38;5;241m=\u001b[39m EngineArgs(\n\u001b[1;32m     95\u001b[0m     model\u001b[38;5;241m=\u001b[39mmodel,\n\u001b[1;32m     96\u001b[0m     tokenizer\u001b[38;5;241m=\u001b[39mtokenizer,\n\u001b[0;32m   (...)\u001b[0m\n\u001b[1;32m    110\u001b[0m     \u001b[38;5;241m*\u001b[39m\u001b[38;5;241m*\u001b[39mkwargs,\n\u001b[1;32m    111\u001b[0m )\n\u001b[0;32m--> 112\u001b[0m \u001b[38;5;28mself\u001b[39m\u001b[38;5;241m.\u001b[39mllm_engine \u001b[38;5;241m=\u001b[39m LLMEngine\u001b[38;5;241m.\u001b[39mfrom_engine_args(\n\u001b[1;32m    113\u001b[0m     engine_args, usage_context\u001b[38;5;241m=\u001b[39mUsageContext\u001b[38;5;241m.\u001b[39mLLM_CLASS)\n\u001b[1;32m    114\u001b[0m \u001b[38;5;28mself\u001b[39m\u001b[38;5;241m.\u001b[39mrequest_counter \u001b[38;5;241m=\u001b[39m Counter()\n",
      "File \u001b[0;32m~/mambaforge/envs/pytorch/lib/python3.11/site-packages/vllm/engine/llm_engine.py:196\u001b[0m, in \u001b[0;36mLLMEngine.from_engine_args\u001b[0;34m(cls, engine_args, usage_context)\u001b[0m\n\u001b[1;32m    193\u001b[0m     executor_class \u001b[38;5;241m=\u001b[39m GPUExecutor\n\u001b[1;32m    195\u001b[0m \u001b[38;5;66;03m# Create the LLM engine.\u001b[39;00m\n\u001b[0;32m--> 196\u001b[0m engine \u001b[38;5;241m=\u001b[39m \u001b[38;5;28mcls\u001b[39m(\n\u001b[1;32m    197\u001b[0m     \u001b[38;5;241m*\u001b[39mengine_configs,\n\u001b[1;32m    198\u001b[0m     executor_class\u001b[38;5;241m=\u001b[39mexecutor_class,\n\u001b[1;32m    199\u001b[0m     log_stats\u001b[38;5;241m=\u001b[39m\u001b[38;5;129;01mnot\u001b[39;00m engine_args\u001b[38;5;241m.\u001b[39mdisable_log_stats,\n\u001b[1;32m    200\u001b[0m     usage_context\u001b[38;5;241m=\u001b[39musage_context,\n\u001b[1;32m    201\u001b[0m )\n\u001b[1;32m    202\u001b[0m \u001b[38;5;28;01mreturn\u001b[39;00m engine\n",
      "File \u001b[0;32m~/mambaforge/envs/pytorch/lib/python3.11/site-packages/vllm/engine/llm_engine.py:110\u001b[0m, in \u001b[0;36mLLMEngine.__init__\u001b[0;34m(self, model_config, cache_config, parallel_config, scheduler_config, device_config, lora_config, vision_language_config, executor_class, log_stats, usage_context)\u001b[0m\n\u001b[1;32m    107\u001b[0m \u001b[38;5;28mself\u001b[39m\u001b[38;5;241m.\u001b[39mdetokenizer \u001b[38;5;241m=\u001b[39m Detokenizer(\u001b[38;5;28mself\u001b[39m\u001b[38;5;241m.\u001b[39mtokenizer)\n\u001b[1;32m    108\u001b[0m \u001b[38;5;28mself\u001b[39m\u001b[38;5;241m.\u001b[39mseq_counter \u001b[38;5;241m=\u001b[39m Counter()\n\u001b[0;32m--> 110\u001b[0m \u001b[38;5;28mself\u001b[39m\u001b[38;5;241m.\u001b[39mmodel_executor \u001b[38;5;241m=\u001b[39m executor_class(model_config, cache_config,\n\u001b[1;32m    111\u001b[0m                                      parallel_config, scheduler_config,\n\u001b[1;32m    112\u001b[0m                                      device_config, lora_config,\n\u001b[1;32m    113\u001b[0m                                      vision_language_config)\n\u001b[1;32m    115\u001b[0m \u001b[38;5;66;03m# If usage stat is enabled, collect relevant info.\u001b[39;00m\n\u001b[1;32m    116\u001b[0m \u001b[38;5;28;01mif\u001b[39;00m is_usage_stats_enabled():\n",
      "File \u001b[0;32m~/mambaforge/envs/pytorch/lib/python3.11/site-packages/vllm/executor/gpu_executor.py:37\u001b[0m, in \u001b[0;36mGPUExecutor.__init__\u001b[0;34m(self, model_config, cache_config, parallel_config, scheduler_config, device_config, lora_config, vision_language_config)\u001b[0m\n\u001b[1;32m     34\u001b[0m \u001b[38;5;28mself\u001b[39m\u001b[38;5;241m.\u001b[39mvision_language_config \u001b[38;5;241m=\u001b[39m vision_language_config\n\u001b[1;32m     36\u001b[0m \u001b[38;5;66;03m# Instantiate the worker and load the model to GPU.\u001b[39;00m\n\u001b[0;32m---> 37\u001b[0m \u001b[38;5;28mself\u001b[39m\u001b[38;5;241m.\u001b[39m_init_worker()\n\u001b[1;32m     39\u001b[0m \u001b[38;5;66;03m# Profile the memory usage and initialize the cache.\u001b[39;00m\n\u001b[1;32m     40\u001b[0m \u001b[38;5;28mself\u001b[39m\u001b[38;5;241m.\u001b[39m_init_cache()\n",
      "File \u001b[0;32m~/mambaforge/envs/pytorch/lib/python3.11/site-packages/vllm/executor/gpu_executor.py:65\u001b[0m, in \u001b[0;36mGPUExecutor._init_worker\u001b[0;34m(self)\u001b[0m\n\u001b[1;32m     50\u001b[0m distributed_init_method \u001b[38;5;241m=\u001b[39m get_distributed_init_method(\n\u001b[1;32m     51\u001b[0m     get_ip(), get_open_port())\n\u001b[1;32m     52\u001b[0m \u001b[38;5;28mself\u001b[39m\u001b[38;5;241m.\u001b[39mdriver_worker \u001b[38;5;241m=\u001b[39m Worker(\n\u001b[1;32m     53\u001b[0m     \u001b[38;5;28mself\u001b[39m\u001b[38;5;241m.\u001b[39mmodel_config,\n\u001b[1;32m     54\u001b[0m     \u001b[38;5;28mself\u001b[39m\u001b[38;5;241m.\u001b[39mparallel_config,\n\u001b[0;32m   (...)\u001b[0m\n\u001b[1;32m     63\u001b[0m     is_driver_worker\u001b[38;5;241m=\u001b[39m\u001b[38;5;28;01mTrue\u001b[39;00m,\n\u001b[1;32m     64\u001b[0m )\n\u001b[0;32m---> 65\u001b[0m \u001b[38;5;28mself\u001b[39m\u001b[38;5;241m.\u001b[39mdriver_worker\u001b[38;5;241m.\u001b[39minit_device()\n\u001b[1;32m     66\u001b[0m \u001b[38;5;28mself\u001b[39m\u001b[38;5;241m.\u001b[39mdriver_worker\u001b[38;5;241m.\u001b[39mload_model()\n",
      "File \u001b[0;32m~/mambaforge/envs/pytorch/lib/python3.11/site-packages/vllm/worker/worker.py:100\u001b[0m, in \u001b[0;36mWorker.init_device\u001b[0;34m(self)\u001b[0m\n\u001b[1;32m     97\u001b[0m     \u001b[38;5;28;01mraise\u001b[39;00m \u001b[38;5;167;01mRuntimeError\u001b[39;00m(\n\u001b[1;32m     98\u001b[0m         \u001b[38;5;124mf\u001b[39m\u001b[38;5;124m\"\u001b[39m\u001b[38;5;124mNot support device type: \u001b[39m\u001b[38;5;132;01m{\u001b[39;00m\u001b[38;5;28mself\u001b[39m\u001b[38;5;241m.\u001b[39mdevice_config\u001b[38;5;241m.\u001b[39mdevice\u001b[38;5;132;01m}\u001b[39;00m\u001b[38;5;124m\"\u001b[39m)\n\u001b[1;32m     99\u001b[0m \u001b[38;5;66;03m# Initialize the distributed environment.\u001b[39;00m\n\u001b[0;32m--> 100\u001b[0m init_distributed_environment(\u001b[38;5;28mself\u001b[39m\u001b[38;5;241m.\u001b[39mparallel_config, \u001b[38;5;28mself\u001b[39m\u001b[38;5;241m.\u001b[39mrank,\n\u001b[1;32m    101\u001b[0m                              \u001b[38;5;28mself\u001b[39m\u001b[38;5;241m.\u001b[39mdistributed_init_method,\n\u001b[1;32m    102\u001b[0m                              \u001b[38;5;28mself\u001b[39m\u001b[38;5;241m.\u001b[39mlocal_rank)\n\u001b[1;32m    103\u001b[0m \u001b[38;5;66;03m# Set random seed.\u001b[39;00m\n\u001b[1;32m    104\u001b[0m set_random_seed(\u001b[38;5;28mself\u001b[39m\u001b[38;5;241m.\u001b[39mmodel_config\u001b[38;5;241m.\u001b[39mseed)\n",
      "File \u001b[0;32m~/mambaforge/envs/pytorch/lib/python3.11/site-packages/vllm/worker/worker.py:295\u001b[0m, in \u001b[0;36minit_distributed_environment\u001b[0;34m(parallel_config, rank, distributed_init_method, local_rank)\u001b[0m\n\u001b[1;32m    287\u001b[0m     pynccl_utils\u001b[38;5;241m.\u001b[39minit_process_group(\n\u001b[1;32m    288\u001b[0m         world_size\u001b[38;5;241m=\u001b[39mparallel_config\u001b[38;5;241m.\u001b[39mworld_size,\n\u001b[1;32m    289\u001b[0m         local_rank\u001b[38;5;241m=\u001b[39mlocal_rank,\n\u001b[1;32m    290\u001b[0m         rank\u001b[38;5;241m=\u001b[39mrank,\n\u001b[1;32m    291\u001b[0m         init_method\u001b[38;5;241m=\u001b[39mdistributed_init_method,\n\u001b[1;32m    292\u001b[0m     )\n\u001b[1;32m    294\u001b[0m \u001b[38;5;66;03m# A small all_reduce for warmup.\u001b[39;00m\n\u001b[0;32m--> 295\u001b[0m torch\u001b[38;5;241m.\u001b[39mdistributed\u001b[38;5;241m.\u001b[39mall_reduce(torch\u001b[38;5;241m.\u001b[39mzeros(\u001b[38;5;241m1\u001b[39m)\u001b[38;5;241m.\u001b[39mcuda())\n\u001b[1;32m    296\u001b[0m \u001b[38;5;28;01mif\u001b[39;00m pynccl_utils\u001b[38;5;241m.\u001b[39mis_initialized():\n\u001b[1;32m    297\u001b[0m     pynccl_utils\u001b[38;5;241m.\u001b[39mall_reduce(torch\u001b[38;5;241m.\u001b[39mzeros(\u001b[38;5;241m1\u001b[39m)\u001b[38;5;241m.\u001b[39mcuda())\n",
      "File \u001b[0;32m~/mambaforge/envs/pytorch/lib/python3.11/site-packages/torch/distributed/c10d_logger.py:52\u001b[0m, in \u001b[0;36m_exception_logger.<locals>.wrapper\u001b[0;34m(*args, **kwargs)\u001b[0m\n\u001b[1;32m     48\u001b[0m \u001b[38;5;28;01mexcept\u001b[39;00m \u001b[38;5;167;01mException\u001b[39;00m \u001b[38;5;28;01mas\u001b[39;00m error:\n\u001b[1;32m     49\u001b[0m     \u001b[38;5;28;01mif\u001b[39;00m dist\u001b[38;5;241m.\u001b[39mis_initialized():\n\u001b[1;32m     50\u001b[0m         error_msg_dict \u001b[38;5;241m=\u001b[39m {\n\u001b[1;32m     51\u001b[0m             \u001b[38;5;124m\"\u001b[39m\u001b[38;5;124mfunc_name\u001b[39m\u001b[38;5;124m\"\u001b[39m: \u001b[38;5;124mf\u001b[39m\u001b[38;5;124m\"\u001b[39m\u001b[38;5;132;01m{\u001b[39;00mfunc\u001b[38;5;241m.\u001b[39m\u001b[38;5;18m__name__\u001b[39m\u001b[38;5;132;01m}\u001b[39;00m\u001b[38;5;124m\"\u001b[39m,\n\u001b[0;32m---> 52\u001b[0m             \u001b[38;5;124m\"\u001b[39m\u001b[38;5;124margs\u001b[39m\u001b[38;5;124m\"\u001b[39m: \u001b[38;5;124mf\u001b[39m\u001b[38;5;124m\"\u001b[39m\u001b[38;5;132;01m{\u001b[39;00margs\u001b[38;5;132;01m}\u001b[39;00m\u001b[38;5;124m, \u001b[39m\u001b[38;5;132;01m{\u001b[39;00mkwargs\u001b[38;5;132;01m}\u001b[39;00m\u001b[38;5;124m\"\u001b[39m,\n\u001b[1;32m     53\u001b[0m             \u001b[38;5;124m\"\u001b[39m\u001b[38;5;124mbackend\u001b[39m\u001b[38;5;124m\"\u001b[39m: \u001b[38;5;124mf\u001b[39m\u001b[38;5;124m\"\u001b[39m\u001b[38;5;132;01m{\u001b[39;00mdist\u001b[38;5;241m.\u001b[39mget_backend(kwargs\u001b[38;5;241m.\u001b[39mget(\u001b[38;5;124m'\u001b[39m\u001b[38;5;124mgroup\u001b[39m\u001b[38;5;124m'\u001b[39m))\u001b[38;5;132;01m}\u001b[39;00m\u001b[38;5;124m\"\u001b[39m,\n\u001b[1;32m     54\u001b[0m             \u001b[38;5;124m\"\u001b[39m\u001b[38;5;124mworld_size\u001b[39m\u001b[38;5;124m\"\u001b[39m: \u001b[38;5;124mf\u001b[39m\u001b[38;5;124m\"\u001b[39m\u001b[38;5;132;01m{\u001b[39;00mdist\u001b[38;5;241m.\u001b[39mget_world_size(kwargs\u001b[38;5;241m.\u001b[39mget(\u001b[38;5;124m'\u001b[39m\u001b[38;5;124mgroup\u001b[39m\u001b[38;5;124m'\u001b[39m))\u001b[38;5;132;01m}\u001b[39;00m\u001b[38;5;124m\"\u001b[39m,\n\u001b[1;32m     55\u001b[0m             \u001b[38;5;124m\"\u001b[39m\u001b[38;5;124mglobal_rank\u001b[39m\u001b[38;5;124m\"\u001b[39m: \u001b[38;5;124mf\u001b[39m\u001b[38;5;124m\"\u001b[39m\u001b[38;5;132;01m{\u001b[39;00mdist\u001b[38;5;241m.\u001b[39mget_rank()\u001b[38;5;132;01m}\u001b[39;00m\u001b[38;5;124m\"\u001b[39m,\n\u001b[1;32m     56\u001b[0m             \u001b[38;5;124m\"\u001b[39m\u001b[38;5;124mlocal_rank\u001b[39m\u001b[38;5;124m\"\u001b[39m: \u001b[38;5;124mf\u001b[39m\u001b[38;5;124m\"\u001b[39m\u001b[38;5;132;01m{\u001b[39;00mdist\u001b[38;5;241m.\u001b[39mget_rank(kwargs\u001b[38;5;241m.\u001b[39mget(\u001b[38;5;124m'\u001b[39m\u001b[38;5;124mgroup\u001b[39m\u001b[38;5;124m'\u001b[39m))\u001b[38;5;132;01m}\u001b[39;00m\u001b[38;5;124m\"\u001b[39m,\n\u001b[1;32m     57\u001b[0m             \u001b[38;5;124m\"\u001b[39m\u001b[38;5;124merror\u001b[39m\u001b[38;5;124m\"\u001b[39m: \u001b[38;5;124mf\u001b[39m\u001b[38;5;124m\"\u001b[39m\u001b[38;5;132;01m{\u001b[39;00merror\u001b[38;5;132;01m}\u001b[39;00m\u001b[38;5;124m\"\u001b[39m,\n\u001b[1;32m     58\u001b[0m         }\n\u001b[1;32m     59\u001b[0m     \u001b[38;5;28;01melse\u001b[39;00m:\n\u001b[1;32m     60\u001b[0m         error_msg_dict \u001b[38;5;241m=\u001b[39m {\n\u001b[1;32m     61\u001b[0m             \u001b[38;5;124m\"\u001b[39m\u001b[38;5;124mfunc_name\u001b[39m\u001b[38;5;124m\"\u001b[39m: \u001b[38;5;124mf\u001b[39m\u001b[38;5;124m\"\u001b[39m\u001b[38;5;132;01m{\u001b[39;00mfunc\u001b[38;5;241m.\u001b[39m\u001b[38;5;18m__name__\u001b[39m\u001b[38;5;132;01m}\u001b[39;00m\u001b[38;5;124m\"\u001b[39m,\n\u001b[1;32m     62\u001b[0m             \u001b[38;5;124m\"\u001b[39m\u001b[38;5;124margs\u001b[39m\u001b[38;5;124m\"\u001b[39m: \u001b[38;5;124mf\u001b[39m\u001b[38;5;124m\"\u001b[39m\u001b[38;5;132;01m{\u001b[39;00margs\u001b[38;5;132;01m}\u001b[39;00m\u001b[38;5;124m, \u001b[39m\u001b[38;5;132;01m{\u001b[39;00mkwargs\u001b[38;5;132;01m}\u001b[39;00m\u001b[38;5;124m\"\u001b[39m,\n\u001b[1;32m     63\u001b[0m             \u001b[38;5;124m\"\u001b[39m\u001b[38;5;124merror\u001b[39m\u001b[38;5;124m\"\u001b[39m: \u001b[38;5;124mf\u001b[39m\u001b[38;5;124m\"\u001b[39m\u001b[38;5;132;01m{\u001b[39;00merror\u001b[38;5;132;01m}\u001b[39;00m\u001b[38;5;124m\"\u001b[39m,\n\u001b[1;32m     64\u001b[0m         }\n",
      "File \u001b[0;32m~/mambaforge/envs/pytorch/lib/python3.11/site-packages/torch/_tensor.py:431\u001b[0m, in \u001b[0;36mTensor.__repr__\u001b[0;34m(self, tensor_contents)\u001b[0m\n\u001b[1;32m    427\u001b[0m     \u001b[38;5;28;01mreturn\u001b[39;00m handle_torch_function(\n\u001b[1;32m    428\u001b[0m         Tensor\u001b[38;5;241m.\u001b[39m\u001b[38;5;21m__repr__\u001b[39m, (\u001b[38;5;28mself\u001b[39m,), \u001b[38;5;28mself\u001b[39m, tensor_contents\u001b[38;5;241m=\u001b[39mtensor_contents\n\u001b[1;32m    429\u001b[0m     )\n\u001b[1;32m    430\u001b[0m \u001b[38;5;66;03m# All strings are unicode in Python 3.\u001b[39;00m\n\u001b[0;32m--> 431\u001b[0m \u001b[38;5;28;01mreturn\u001b[39;00m torch\u001b[38;5;241m.\u001b[39m_tensor_str\u001b[38;5;241m.\u001b[39m_str(\u001b[38;5;28mself\u001b[39m, tensor_contents\u001b[38;5;241m=\u001b[39mtensor_contents)\n",
      "File \u001b[0;32m~/mambaforge/envs/pytorch/lib/python3.11/site-packages/torch/_tensor_str.py:664\u001b[0m, in \u001b[0;36m_str\u001b[0;34m(self, tensor_contents)\u001b[0m\n\u001b[1;32m    662\u001b[0m \u001b[38;5;28;01mwith\u001b[39;00m torch\u001b[38;5;241m.\u001b[39mno_grad(), torch\u001b[38;5;241m.\u001b[39mutils\u001b[38;5;241m.\u001b[39m_python_dispatch\u001b[38;5;241m.\u001b[39m_disable_current_modes():\n\u001b[1;32m    663\u001b[0m     guard \u001b[38;5;241m=\u001b[39m torch\u001b[38;5;241m.\u001b[39m_C\u001b[38;5;241m.\u001b[39m_DisableFuncTorch()\n\u001b[0;32m--> 664\u001b[0m     \u001b[38;5;28;01mreturn\u001b[39;00m _str_intern(\u001b[38;5;28mself\u001b[39m, tensor_contents\u001b[38;5;241m=\u001b[39mtensor_contents)\n",
      "File \u001b[0;32m~/mambaforge/envs/pytorch/lib/python3.11/site-packages/torch/_tensor_str.py:595\u001b[0m, in \u001b[0;36m_str_intern\u001b[0;34m(inp, tensor_contents)\u001b[0m\n\u001b[1;32m    593\u001b[0m                     tensor_str \u001b[38;5;241m=\u001b[39m _tensor_str(\u001b[38;5;28mself\u001b[39m\u001b[38;5;241m.\u001b[39mto_dense(), indent)\n\u001b[1;32m    594\u001b[0m                 \u001b[38;5;28;01melse\u001b[39;00m:\n\u001b[0;32m--> 595\u001b[0m                     tensor_str \u001b[38;5;241m=\u001b[39m _tensor_str(\u001b[38;5;28mself\u001b[39m, indent)\n\u001b[1;32m    597\u001b[0m \u001b[38;5;28;01mif\u001b[39;00m \u001b[38;5;28mself\u001b[39m\u001b[38;5;241m.\u001b[39mlayout \u001b[38;5;241m!=\u001b[39m torch\u001b[38;5;241m.\u001b[39mstrided:\n\u001b[1;32m    598\u001b[0m     suffixes\u001b[38;5;241m.\u001b[39mappend(\u001b[38;5;124m\"\u001b[39m\u001b[38;5;124mlayout=\u001b[39m\u001b[38;5;124m\"\u001b[39m \u001b[38;5;241m+\u001b[39m \u001b[38;5;28mstr\u001b[39m(\u001b[38;5;28mself\u001b[39m\u001b[38;5;241m.\u001b[39mlayout))\n",
      "File \u001b[0;32m~/mambaforge/envs/pytorch/lib/python3.11/site-packages/torch/_tensor_str.py:347\u001b[0m, in \u001b[0;36m_tensor_str\u001b[0;34m(self, indent)\u001b[0m\n\u001b[1;32m    343\u001b[0m     \u001b[38;5;28;01mreturn\u001b[39;00m _tensor_str_with_formatter(\n\u001b[1;32m    344\u001b[0m         \u001b[38;5;28mself\u001b[39m, indent, summarize, real_formatter, imag_formatter\n\u001b[1;32m    345\u001b[0m     )\n\u001b[1;32m    346\u001b[0m \u001b[38;5;28;01melse\u001b[39;00m:\n\u001b[0;32m--> 347\u001b[0m     formatter \u001b[38;5;241m=\u001b[39m _Formatter(get_summarized_data(\u001b[38;5;28mself\u001b[39m) \u001b[38;5;28;01mif\u001b[39;00m summarize \u001b[38;5;28;01melse\u001b[39;00m \u001b[38;5;28mself\u001b[39m)\n\u001b[1;32m    348\u001b[0m     \u001b[38;5;28;01mreturn\u001b[39;00m _tensor_str_with_formatter(\u001b[38;5;28mself\u001b[39m, indent, summarize, formatter)\n",
      "File \u001b[0;32m~/mambaforge/envs/pytorch/lib/python3.11/site-packages/torch/_tensor_str.py:138\u001b[0m, in \u001b[0;36m_Formatter.__init__\u001b[0;34m(self, tensor)\u001b[0m\n\u001b[1;32m    134\u001b[0m         \u001b[38;5;28mself\u001b[39m\u001b[38;5;241m.\u001b[39mmax_width \u001b[38;5;241m=\u001b[39m \u001b[38;5;28mmax\u001b[39m(\u001b[38;5;28mself\u001b[39m\u001b[38;5;241m.\u001b[39mmax_width, \u001b[38;5;28mlen\u001b[39m(value_str))\n\u001b[1;32m    136\u001b[0m \u001b[38;5;28;01melse\u001b[39;00m:\n\u001b[1;32m    137\u001b[0m     nonzero_finite_vals \u001b[38;5;241m=\u001b[39m torch\u001b[38;5;241m.\u001b[39mmasked_select(\n\u001b[0;32m--> 138\u001b[0m         tensor_view, torch\u001b[38;5;241m.\u001b[39misfinite(tensor_view) \u001b[38;5;241m&\u001b[39m tensor_view\u001b[38;5;241m.\u001b[39mne(\u001b[38;5;241m0\u001b[39m)\n\u001b[1;32m    139\u001b[0m     )\n\u001b[1;32m    141\u001b[0m     \u001b[38;5;28;01mif\u001b[39;00m nonzero_finite_vals\u001b[38;5;241m.\u001b[39mnumel() \u001b[38;5;241m==\u001b[39m \u001b[38;5;241m0\u001b[39m:\n\u001b[1;32m    142\u001b[0m         \u001b[38;5;66;03m# no valid number, do nothing\u001b[39;00m\n\u001b[1;32m    143\u001b[0m         \u001b[38;5;28;01mreturn\u001b[39;00m\n",
      "\u001b[0;31mRuntimeError\u001b[0m: CUDA error: out of memory\nCompile with `TORCH_USE_CUDA_DSA` to enable device-side assertions.\n"
     ]
    }
   ],
   "source": [
    "import os, io\n",
    "import json\n",
    "from pathlib import Path\n",
    "from datetime import datetime\n",
    "import re, sys, subprocess, gc\n",
    "import time\n",
    "import multiprocessing\n",
    "\n",
    "import pandas as pd\n",
    "import numpy as np\n",
    "import torch\n",
    "from vllm import LLM, SamplingParams\n",
    "\n",
    "n_questions = 250\n",
    "n_reps = 5\n",
    "code_timeout_secs = 5\n",
    "temperature = 0.9\n",
    "\n",
    "np.random.seed(42)\n",
    "\n",
    "def free_mem():\n",
    "    if hasattr(sys, 'last_traceback'):\n",
    "        sys.last_traceback.tb_next = None\n",
    "    gc.collect()\n",
    "    torch.cuda.empty_cache()\n",
    "\n",
    "def print_cuda_mem():\n",
    "    total_memory = torch.cuda.get_device_properties(0).total_memory / (1024 ** 3)\n",
    "    cached_memory = torch.cuda.memory_reserved(0) / (1024 ** 3)\n",
    "    available_memory = total_memory - cached_memory \n",
    "    print(f\"Available Memory (GB, approx.): {available_memory:.2f}\")\n",
    "\n",
    "ds_math_rl = \"deepseek-ai/deepseek-math-7b-rl\"\n",
    "torch_dtype = torch.bfloat16\n",
    "# to avoid warning when spawing processes to evaluate code later\n",
    "os.environ['TOKENIZERS_PARALLELISM'] = 'false'\n",
    "print_cuda_mem()\n",
    "\n",
    "\n",
    "vllm = LLM(model=ds_math_rl,\n",
    "          dtype='half',\n",
    "          enforce_eager=True,\n",
    "          gpu_memory_utilization=0.99,\n",
    "          swap_space=4,\n",
    "          max_model_len=2048,\n",
    "          kv_cache_dtype=\"fp8_e5m2\",\n",
    "          tensor_parallel_size=1)\n",
    "vtokenizer = vllm.get_tokenizer()"
   ]
  },
  {
   "cell_type": "code",
   "execution_count": 2,
   "id": "b2ffba91-88ab-40af-ba46-31db6ac025aa",
   "metadata": {
    "tags": []
   },
   "outputs": [
    {
     "name": "stdout",
     "output_type": "stream",
     "text": [
      "Let $k, l > 0$ be parameters. The parabola $y = kx^2 - 2kx + l$ intersects the line $y = 4$ at two points $A$ and $B$. These points are distance 6 apart. What is the sum of the squares of the distances from $A$ and $B$ to the origin?\n"
     ]
    },
    {
     "data": {
      "text/html": [
       "<div>\n",
       "<style scoped>\n",
       "    .dataframe tbody tr th:only-of-type {\n",
       "        vertical-align: middle;\n",
       "    }\n",
       "\n",
       "    .dataframe tbody tr th {\n",
       "        vertical-align: top;\n",
       "    }\n",
       "\n",
       "    .dataframe thead th {\n",
       "        text-align: right;\n",
       "    }\n",
       "</style>\n",
       "<table border=\"1\" class=\"dataframe\">\n",
       "  <thead>\n",
       "    <tr style=\"text-align: right;\">\n",
       "      <th></th>\n",
       "      <th>id</th>\n",
       "      <th>problem</th>\n",
       "      <th>answer</th>\n",
       "    </tr>\n",
       "  </thead>\n",
       "  <tbody>\n",
       "    <tr>\n",
       "      <th>0</th>\n",
       "      <td>229ee8</td>\n",
       "      <td>Let $k, l &gt; 0$ be parameters. The parabola $y ...</td>\n",
       "      <td>52</td>\n",
       "    </tr>\n",
       "    <tr>\n",
       "      <th>1</th>\n",
       "      <td>246d26</td>\n",
       "      <td>Each of the three-digits numbers $111$ to $999...</td>\n",
       "      <td>250</td>\n",
       "    </tr>\n",
       "    <tr>\n",
       "      <th>2</th>\n",
       "      <td>2fc4ad</td>\n",
       "      <td>Let the `sparkle' operation on positive intege...</td>\n",
       "      <td>702</td>\n",
       "    </tr>\n",
       "  </tbody>\n",
       "</table>\n",
       "</div>"
      ],
      "text/plain": [
       "       id                                            problem  answer\n",
       "0  229ee8  Let $k, l > 0$ be parameters. The parabola $y ...      52\n",
       "1  246d26  Each of the three-digits numbers $111$ to $999...     250\n",
       "2  2fc4ad  Let the `sparkle' operation on positive intege...     702"
      ]
     },
     "execution_count": 2,
     "metadata": {},
     "output_type": "execute_result"
    }
   ],
   "source": [
    "q_df = pd.read_csv('./train.csv')\n",
    "print(q_df.iloc[0]['problem'])\n",
    "q_df.iloc[0]['answer']\n",
    "q_df[:3]"
   ]
  },
  {
   "cell_type": "code",
   "execution_count": 8,
   "id": "23aca986-4919-4507-8a65-44c730a8e833",
   "metadata": {
    "tags": []
   },
   "outputs": [
    {
     "name": "stdout",
     "output_type": "stream",
     "text": [
      "(7500, 6) (5000, 6)\n"
     ]
    }
   ],
   "source": [
    "from MATH.math_equivalence import is_equiv\n",
    "def extract_answer(text, boxed_in_tool_instruction=True):\n",
    "    # designed to allow two-level deep recursion for curly braces inside of curly braces. with unbounded recursing there was catastrophic backtracking.\n",
    "    pattern = r\"\\\\boxed\\{([^{}]*(?:\\{[^{}]*(?:\\{[^{}]*\\}[^{}]*)*\\}[^{}]*)*)\\}\"\n",
    "    matches = re.findall(pattern, text)\n",
    "    n_matches = 2 if boxed_in_tool_instruction else 1\n",
    "    \n",
    "    if len(matches) >= n_matches:\n",
    "        # there is already an empty match in tool instruction\n",
    "        return matches[-1] \n",
    "    numbers = re.findall(r'[+-]?\\d+', text)\n",
    "    return numbers[-1] if numbers else None\n",
    "\n",
    "def extract_correct(text):\n",
    "    return extract_answer(text, False)\n",
    "\n",
    "def read_math_data(folder_path):\n",
    "    folder = Path(folder_path)\n",
    "    math_data = []\n",
    "    for sub_folder in os.listdir(folder):\n",
    "        if not os.path.isdir(folder/sub_folder):\n",
    "            continue\n",
    "        for file_name in os.listdir(folder/sub_folder):\n",
    "            if file_name.endswith('.json'):\n",
    "                with open(folder / sub_folder / file_name, 'r') as file:\n",
    "                    data = json.load(file)\n",
    "                    data['id'] = file_name[:-5]\n",
    "                    math_data.append(data)\n",
    "    return pd.DataFrame(math_data)\n",
    "\n",
    "math_train = read_math_data('./MATH/train')\n",
    "math_train['answer'] = math_train['solution'].map(extract_correct)\n",
    "math_test = read_math_data('./MATH/test')\n",
    "math_test['answer'] = math_test['solution'].map(extract_correct)\n",
    "print(math_train.shape, math_test.shape)"
   ]
  },
  {
   "cell_type": "markdown",
   "id": "ec196a18-24b6-4383-9a1f-7b345ade501b",
   "metadata": {},
   "source": [
    "- 1 yes\n",
    "- 2 no\n",
    "- 3 no\n",
    "- 4 yes\n",
    "- 5 maybe\n",
    "- 6 maybe\n",
    "- 7 yes\n",
    "- 8 maybe\n",
    "- 9 yes\n",
    "- 10 no"
   ]
  },
  {
   "cell_type": "code",
   "execution_count": 9,
   "id": "cbc1d7e2-5e8f-4e81-b496-03099b32dddd",
   "metadata": {
    "tags": []
   },
   "outputs": [
    {
     "ename": "NameError",
     "evalue": "name 'math_test_int' is not defined",
     "output_type": "error",
     "traceback": [
      "\u001b[0;31m---------------------------------------------------------------------------\u001b[0m",
      "\u001b[0;31mNameError\u001b[0m                                 Traceback (most recent call last)",
      "Cell \u001b[0;32mIn[9], line 1\u001b[0m\n\u001b[0;32m----> 1\u001b[0m math_test_int\u001b[38;5;241m.\u001b[39mshape\n",
      "\u001b[0;31mNameError\u001b[0m: name 'math_test_int' is not defined"
     ]
    }
   ],
   "source": [
    "math_test_int.shape"
   ]
  },
  {
   "cell_type": "code",
   "execution_count": 10,
   "id": "ac1089cd-82bd-41f6-aed1-d04f2a343063",
   "metadata": {
    "tags": []
   },
   "outputs": [
    {
     "data": {
      "text/plain": [
       "Index(['problem', 'level', 'type', 'solution', 'id', 'answer'], dtype='object')"
      ]
     },
     "execution_count": 10,
     "metadata": {},
     "output_type": "execute_result"
    }
   ],
   "source": [
    "math_test_int = math_test[math_test['answer'].apply(lambda x: x.isdigit())].copy()\n",
    "math_test_int['answer'] = math_test_int['answer'].astype(int) % 1000\n",
    "\n",
    "math_samp = math_test_int[math_test_int['level'].isin(['Level 1', 'Level 2', 'Level 3', 'Level 4', 'Level 5'])].sample(n_questions)\n",
    "math_samp.columns"
   ]
  },
  {
   "cell_type": "code",
   "execution_count": 11,
   "id": "cc5cafd3-df78-4efd-a2bd-1e960386fb90",
   "metadata": {
    "tags": []
   },
   "outputs": [
    {
     "data": {
      "text/html": [
       "<div>\n",
       "<style scoped>\n",
       "    .dataframe tbody tr th:only-of-type {\n",
       "        vertical-align: middle;\n",
       "    }\n",
       "\n",
       "    .dataframe tbody tr th {\n",
       "        vertical-align: top;\n",
       "    }\n",
       "\n",
       "    .dataframe thead th {\n",
       "        text-align: right;\n",
       "    }\n",
       "</style>\n",
       "<table border=\"1\" class=\"dataframe\">\n",
       "  <thead>\n",
       "    <tr style=\"text-align: right;\">\n",
       "      <th></th>\n",
       "      <th>problem</th>\n",
       "      <th>level</th>\n",
       "      <th>type</th>\n",
       "      <th>solution</th>\n",
       "      <th>id</th>\n",
       "      <th>answer</th>\n",
       "    </tr>\n",
       "  </thead>\n",
       "  <tbody>\n",
       "    <tr>\n",
       "      <th>696</th>\n",
       "      <td>Elodie is putting on a fashion show and has fi...</td>\n",
       "      <td>Level 5</td>\n",
       "      <td>Prealgebra</td>\n",
       "      <td>Since two of the outfits are ruined, we only h...</td>\n",
       "      <td>1183</td>\n",
       "      <td>60</td>\n",
       "    </tr>\n",
       "    <tr>\n",
       "      <th>2228</th>\n",
       "      <td>Consider the graph of $$\\frac{x^3-x^2+x}{6x^2-...</td>\n",
       "      <td>Level 3</td>\n",
       "      <td>Intermediate Algebra</td>\n",
       "      <td>We can factor the numerator and denominator to...</td>\n",
       "      <td>962</td>\n",
       "      <td>7</td>\n",
       "    </tr>\n",
       "    <tr>\n",
       "      <th>3720</th>\n",
       "      <td>An ant is walking on a hexagon. At each step, ...</td>\n",
       "      <td>Level 4</td>\n",
       "      <td>Counting &amp; Probability</td>\n",
       "      <td>There are two ways in which the ant can return...</td>\n",
       "      <td>41</td>\n",
       "      <td>0</td>\n",
       "    </tr>\n",
       "    <tr>\n",
       "      <th>2497</th>\n",
       "      <td>A standard deck of playing cards with $26$ red...</td>\n",
       "      <td>Level 5</td>\n",
       "      <td>Algebra</td>\n",
       "      <td>Let pile $A$ have $r_A$ red cards and $b_A$ bl...</td>\n",
       "      <td>1834</td>\n",
       "      <td>22</td>\n",
       "    </tr>\n",
       "    <tr>\n",
       "      <th>1499</th>\n",
       "      <td>A cubic polynomial $f$ satisfies $f(0)=0, f(1)...</td>\n",
       "      <td>Level 4</td>\n",
       "      <td>Intermediate Algebra</td>\n",
       "      <td>Let $g(x) = f(x) - x.$  Then $g(x)$ is a cubic...</td>\n",
       "      <td>570</td>\n",
       "      <td>15</td>\n",
       "    </tr>\n",
       "    <tr>\n",
       "      <th>...</th>\n",
       "      <td>...</td>\n",
       "      <td>...</td>\n",
       "      <td>...</td>\n",
       "      <td>...</td>\n",
       "      <td>...</td>\n",
       "      <td>...</td>\n",
       "    </tr>\n",
       "    <tr>\n",
       "      <th>2525</th>\n",
       "      <td>On the Cartesian plane, the midpoint between t...</td>\n",
       "      <td>Level 5</td>\n",
       "      <td>Algebra</td>\n",
       "      <td>Before moving, the midpoint (in terms of $a$, ...</td>\n",
       "      <td>2714</td>\n",
       "      <td>10</td>\n",
       "    </tr>\n",
       "    <tr>\n",
       "      <th>816</th>\n",
       "      <td>How many sides would there be in a convex poly...</td>\n",
       "      <td>Level 5</td>\n",
       "      <td>Prealgebra</td>\n",
       "      <td>The sum of the interior angles in any $n$-side...</td>\n",
       "      <td>1251</td>\n",
       "      <td>8</td>\n",
       "    </tr>\n",
       "    <tr>\n",
       "      <th>1802</th>\n",
       "      <td>Let $x,$ $y,$ $z$ be positive real numbers.  F...</td>\n",
       "      <td>Level 5</td>\n",
       "      <td>Intermediate Algebra</td>\n",
       "      <td>We write\\n\\begin{align*}\\n\\frac{(1 + 5z)(4z + ...</td>\n",
       "      <td>1146</td>\n",
       "      <td>120</td>\n",
       "    </tr>\n",
       "    <tr>\n",
       "      <th>2807</th>\n",
       "      <td>You connect the points (0, 0) and (9, 6) with ...</td>\n",
       "      <td>Level 3</td>\n",
       "      <td>Algebra</td>\n",
       "      <td>Since we move $\\frac{1}{3}$ of the way along t...</td>\n",
       "      <td>1586</td>\n",
       "      <td>5</td>\n",
       "    </tr>\n",
       "    <tr>\n",
       "      <th>674</th>\n",
       "      <td>When converting $\\frac{31}{11111}$ to a decima...</td>\n",
       "      <td>Level 4</td>\n",
       "      <td>Prealgebra</td>\n",
       "      <td>We begin by noting that    $$\\frac{31}{11111} ...</td>\n",
       "      <td>465</td>\n",
       "      <td>5</td>\n",
       "    </tr>\n",
       "  </tbody>\n",
       "</table>\n",
       "<p>250 rows × 6 columns</p>\n",
       "</div>"
      ],
      "text/plain": [
       "                                                problem    level  \\\n",
       "696   Elodie is putting on a fashion show and has fi...  Level 5   \n",
       "2228  Consider the graph of $$\\frac{x^3-x^2+x}{6x^2-...  Level 3   \n",
       "3720  An ant is walking on a hexagon. At each step, ...  Level 4   \n",
       "2497  A standard deck of playing cards with $26$ red...  Level 5   \n",
       "1499  A cubic polynomial $f$ satisfies $f(0)=0, f(1)...  Level 4   \n",
       "...                                                 ...      ...   \n",
       "2525  On the Cartesian plane, the midpoint between t...  Level 5   \n",
       "816   How many sides would there be in a convex poly...  Level 5   \n",
       "1802  Let $x,$ $y,$ $z$ be positive real numbers.  F...  Level 5   \n",
       "2807  You connect the points (0, 0) and (9, 6) with ...  Level 3   \n",
       "674   When converting $\\frac{31}{11111}$ to a decima...  Level 4   \n",
       "\n",
       "                        type  \\\n",
       "696               Prealgebra   \n",
       "2228    Intermediate Algebra   \n",
       "3720  Counting & Probability   \n",
       "2497                 Algebra   \n",
       "1499    Intermediate Algebra   \n",
       "...                      ...   \n",
       "2525                 Algebra   \n",
       "816               Prealgebra   \n",
       "1802    Intermediate Algebra   \n",
       "2807                 Algebra   \n",
       "674               Prealgebra   \n",
       "\n",
       "                                               solution    id  answer  \n",
       "696   Since two of the outfits are ruined, we only h...  1183      60  \n",
       "2228  We can factor the numerator and denominator to...   962       7  \n",
       "3720  There are two ways in which the ant can return...    41       0  \n",
       "2497  Let pile $A$ have $r_A$ red cards and $b_A$ bl...  1834      22  \n",
       "1499  Let $g(x) = f(x) - x.$  Then $g(x)$ is a cubic...   570      15  \n",
       "...                                                 ...   ...     ...  \n",
       "2525  Before moving, the midpoint (in terms of $a$, ...  2714      10  \n",
       "816   The sum of the interior angles in any $n$-side...  1251       8  \n",
       "1802  We write\\n\\begin{align*}\\n\\frac{(1 + 5z)(4z + ...  1146     120  \n",
       "2807  Since we move $\\frac{1}{3}$ of the way along t...  1586       5  \n",
       "674   We begin by noting that    $$\\frac{31}{11111} ...   465       5  \n",
       "\n",
       "[250 rows x 6 columns]"
      ]
     },
     "metadata": {},
     "output_type": "display_data"
    }
   ],
   "source": [
    "# with pd.option_context('display.max_rows', None):\n",
    "display(math_samp)"
   ]
  },
  {
   "cell_type": "markdown",
   "id": "d9622bee-4a97-4f2c-ba83-292e0552840b",
   "metadata": {},
   "source": [
    "# Batched Inference"
   ]
  },
  {
   "cell_type": "code",
   "execution_count": null,
   "id": "197315b8-34ae-4427-acca-7bcb0b007f9d",
   "metadata": {
    "tags": []
   },
   "outputs": [
    {
     "name": "stderr",
     "output_type": "stream",
     "text": [
      "Processed prompts: 100%|██████████| 1/1 [00:04<00:00,  4.56s/it]\n"
     ]
    },
    {
     "name": "stdout",
     "output_type": "stream",
     "text": [
      "Batch 0: Processed 5 reps of prompt with a total of 1057 output tokens in 5s\n"
     ]
    },
    {
     "name": "stderr",
     "output_type": "stream",
     "text": [
      "Processed prompts: 100%|██████████| 1/1 [00:35<00:00, 35.93s/it]\n"
     ]
    },
    {
     "name": "stdout",
     "output_type": "stream",
     "text": [
      "Batch 1: Processed 5 reps of prompt with a total of 3362 output tokens in 36s\n"
     ]
    },
    {
     "name": "stderr",
     "output_type": "stream",
     "text": [
      "Processed prompts: 100%|██████████| 1/1 [00:08<00:00,  8.90s/it]\n"
     ]
    },
    {
     "name": "stdout",
     "output_type": "stream",
     "text": [
      "Batch 2: Processed 5 reps of prompt with a total of 2255 output tokens in 9s\n"
     ]
    },
    {
     "name": "stderr",
     "output_type": "stream",
     "text": [
      "Processed prompts: 100%|██████████| 1/1 [00:03<00:00,  3.20s/it]\n"
     ]
    },
    {
     "name": "stdout",
     "output_type": "stream",
     "text": [
      "Batch 3: Processed 5 reps of prompt with a total of 782 output tokens in 3s\n"
     ]
    },
    {
     "name": "stderr",
     "output_type": "stream",
     "text": [
      "Processed prompts: 100%|██████████| 1/1 [00:06<00:00,  6.03s/it]\n"
     ]
    },
    {
     "name": "stdout",
     "output_type": "stream",
     "text": [
      "Batch 4: Processed 5 reps of prompt with a total of 1393 output tokens in 6s\n"
     ]
    },
    {
     "name": "stderr",
     "output_type": "stream",
     "text": [
      "Processed prompts: 100%|██████████| 1/1 [00:33<00:00, 33.72s/it]\n"
     ]
    },
    {
     "name": "stdout",
     "output_type": "stream",
     "text": [
      "Batch 5: Processed 5 reps of prompt with a total of 3883 output tokens in 34s\n"
     ]
    },
    {
     "name": "stderr",
     "output_type": "stream",
     "text": [
      "Processed prompts: 100%|██████████| 1/1 [00:05<00:00,  5.02s/it]\n"
     ]
    },
    {
     "name": "stdout",
     "output_type": "stream",
     "text": [
      "Batch 6: Processed 5 reps of prompt with a total of 1234 output tokens in 5s\n"
     ]
    },
    {
     "name": "stderr",
     "output_type": "stream",
     "text": [
      "Processed prompts: 100%|██████████| 1/1 [00:19<00:00, 19.58s/it]\n"
     ]
    },
    {
     "name": "stdout",
     "output_type": "stream",
     "text": [
      "Batch 7: Processed 5 reps of prompt with a total of 2656 output tokens in 20s\n"
     ]
    },
    {
     "name": "stderr",
     "output_type": "stream",
     "text": [
      "Processed prompts: 100%|██████████| 1/1 [00:31<00:00, 31.51s/it]\n"
     ]
    },
    {
     "name": "stdout",
     "output_type": "stream",
     "text": [
      "Batch 8: Processed 5 reps of prompt with a total of 3825 output tokens in 32s\n"
     ]
    },
    {
     "name": "stderr",
     "output_type": "stream",
     "text": [
      "Processed prompts: 100%|██████████| 1/1 [00:17<00:00, 17.72s/it]\n"
     ]
    },
    {
     "name": "stdout",
     "output_type": "stream",
     "text": [
      "Batch 9: Processed 5 reps of prompt with a total of 2385 output tokens in 18s\n"
     ]
    },
    {
     "name": "stderr",
     "output_type": "stream",
     "text": [
      "Processed prompts: 100%|██████████| 1/1 [00:33<00:00, 33.11s/it]\n"
     ]
    },
    {
     "name": "stdout",
     "output_type": "stream",
     "text": [
      "Batch 10: Processed 5 reps of prompt with a total of 4642 output tokens in 33s\n"
     ]
    },
    {
     "name": "stderr",
     "output_type": "stream",
     "text": [
      "Processed prompts: 100%|██████████| 1/1 [00:36<00:00, 36.13s/it]\n"
     ]
    },
    {
     "name": "stdout",
     "output_type": "stream",
     "text": [
      "Batch 11: Processed 5 reps of prompt with a total of 3494 output tokens in 36s\n"
     ]
    },
    {
     "name": "stderr",
     "output_type": "stream",
     "text": [
      "Processed prompts: 100%|██████████| 1/1 [00:06<00:00,  6.71s/it]\n"
     ]
    },
    {
     "name": "stdout",
     "output_type": "stream",
     "text": [
      "Batch 12: Processed 5 reps of prompt with a total of 1039 output tokens in 7s\n"
     ]
    },
    {
     "name": "stderr",
     "output_type": "stream",
     "text": [
      "Processed prompts: 100%|██████████| 1/1 [00:12<00:00, 12.97s/it]\n"
     ]
    },
    {
     "name": "stdout",
     "output_type": "stream",
     "text": [
      "Batch 13: Processed 5 reps of prompt with a total of 1765 output tokens in 13s\n"
     ]
    },
    {
     "name": "stderr",
     "output_type": "stream",
     "text": [
      "Processed prompts: 100%|██████████| 1/1 [00:36<00:00, 36.24s/it]\n"
     ]
    },
    {
     "name": "stdout",
     "output_type": "stream",
     "text": [
      "Batch 14: Processed 5 reps of prompt with a total of 3348 output tokens in 36s\n"
     ]
    },
    {
     "name": "stderr",
     "output_type": "stream",
     "text": [
      "Processed prompts: 100%|██████████| 1/1 [00:26<00:00, 26.12s/it]\n"
     ]
    },
    {
     "name": "stdout",
     "output_type": "stream",
     "text": [
      "Batch 15: Processed 5 reps of prompt with a total of 3595 output tokens in 26s\n"
     ]
    },
    {
     "name": "stderr",
     "output_type": "stream",
     "text": [
      "Processed prompts: 100%|██████████| 1/1 [00:05<00:00,  5.28s/it]\n"
     ]
    },
    {
     "name": "stdout",
     "output_type": "stream",
     "text": [
      "Batch 16: Processed 5 reps of prompt with a total of 1224 output tokens in 5s\n"
     ]
    },
    {
     "name": "stderr",
     "output_type": "stream",
     "text": [
      "Processed prompts: 100%|██████████| 1/1 [00:11<00:00, 11.78s/it]\n"
     ]
    },
    {
     "name": "stdout",
     "output_type": "stream",
     "text": [
      "Batch 17: Processed 5 reps of prompt with a total of 1454 output tokens in 12s\n"
     ]
    },
    {
     "name": "stderr",
     "output_type": "stream",
     "text": [
      "Processed prompts: 100%|██████████| 1/1 [00:07<00:00,  7.25s/it]\n"
     ]
    },
    {
     "name": "stdout",
     "output_type": "stream",
     "text": [
      "Batch 18: Processed 5 reps of prompt with a total of 1216 output tokens in 7s\n"
     ]
    },
    {
     "name": "stderr",
     "output_type": "stream",
     "text": [
      "Processed prompts: 100%|██████████| 1/1 [00:23<00:00, 23.72s/it]\n"
     ]
    },
    {
     "name": "stdout",
     "output_type": "stream",
     "text": [
      "Batch 19: Processed 5 reps of prompt with a total of 3990 output tokens in 24s\n"
     ]
    },
    {
     "name": "stderr",
     "output_type": "stream",
     "text": [
      "Processed prompts: 100%|██████████| 1/1 [00:36<00:00, 36.99s/it]\n"
     ]
    },
    {
     "name": "stdout",
     "output_type": "stream",
     "text": [
      "Batch 20: Processed 5 reps of prompt with a total of 4261 output tokens in 37s\n"
     ]
    },
    {
     "name": "stderr",
     "output_type": "stream",
     "text": [
      "Processed prompts: 100%|██████████| 1/1 [00:36<00:00, 36.32s/it]\n"
     ]
    },
    {
     "name": "stdout",
     "output_type": "stream",
     "text": [
      "Batch 21: Processed 5 reps of prompt with a total of 2881 output tokens in 36s\n"
     ]
    },
    {
     "name": "stderr",
     "output_type": "stream",
     "text": [
      "Processed prompts: 100%|██████████| 1/1 [00:10<00:00, 10.88s/it]\n"
     ]
    },
    {
     "name": "stdout",
     "output_type": "stream",
     "text": [
      "Batch 22: Processed 5 reps of prompt with a total of 1430 output tokens in 11s\n"
     ]
    },
    {
     "name": "stderr",
     "output_type": "stream",
     "text": [
      "Processed prompts: 100%|██████████| 1/1 [00:35<00:00, 35.38s/it]\n"
     ]
    },
    {
     "name": "stdout",
     "output_type": "stream",
     "text": [
      "Batch 23: Processed 5 reps of prompt with a total of 3297 output tokens in 35s\n"
     ]
    },
    {
     "name": "stderr",
     "output_type": "stream",
     "text": [
      "Processed prompts: 100%|██████████| 1/1 [00:16<00:00, 16.10s/it]\n"
     ]
    },
    {
     "name": "stdout",
     "output_type": "stream",
     "text": [
      "Batch 24: Processed 5 reps of prompt with a total of 2479 output tokens in 16s\n"
     ]
    },
    {
     "name": "stderr",
     "output_type": "stream",
     "text": [
      "Processed prompts: 100%|██████████| 1/1 [00:14<00:00, 14.62s/it]\n"
     ]
    },
    {
     "name": "stdout",
     "output_type": "stream",
     "text": [
      "Batch 25: Processed 5 reps of prompt with a total of 2843 output tokens in 15s\n"
     ]
    },
    {
     "name": "stderr",
     "output_type": "stream",
     "text": [
      "Processed prompts: 100%|██████████| 1/1 [00:10<00:00, 10.68s/it]\n"
     ]
    },
    {
     "name": "stdout",
     "output_type": "stream",
     "text": [
      "Batch 26: Processed 5 reps of prompt with a total of 2266 output tokens in 11s\n"
     ]
    },
    {
     "name": "stderr",
     "output_type": "stream",
     "text": [
      "Processed prompts: 100%|██████████| 1/1 [00:10<00:00, 10.87s/it]\n"
     ]
    },
    {
     "name": "stdout",
     "output_type": "stream",
     "text": [
      "Batch 27: Processed 5 reps of prompt with a total of 2305 output tokens in 11s\n"
     ]
    },
    {
     "name": "stderr",
     "output_type": "stream",
     "text": [
      "Processed prompts: 100%|██████████| 1/1 [00:05<00:00,  5.98s/it]\n"
     ]
    },
    {
     "name": "stdout",
     "output_type": "stream",
     "text": [
      "Batch 28: Processed 5 reps of prompt with a total of 1421 output tokens in 6s\n"
     ]
    },
    {
     "name": "stderr",
     "output_type": "stream",
     "text": [
      "Processed prompts: 100%|██████████| 1/1 [00:09<00:00,  9.22s/it]\n"
     ]
    },
    {
     "name": "stdout",
     "output_type": "stream",
     "text": [
      "Batch 29: Processed 5 reps of prompt with a total of 2043 output tokens in 9s\n"
     ]
    },
    {
     "name": "stderr",
     "output_type": "stream",
     "text": [
      "Processed prompts: 100%|██████████| 1/1 [00:06<00:00,  6.45s/it]\n"
     ]
    },
    {
     "name": "stdout",
     "output_type": "stream",
     "text": [
      "Batch 30: Processed 5 reps of prompt with a total of 1221 output tokens in 6s\n"
     ]
    },
    {
     "name": "stderr",
     "output_type": "stream",
     "text": [
      "Processed prompts: 100%|██████████| 1/1 [00:37<00:00, 37.23s/it]\n"
     ]
    },
    {
     "name": "stdout",
     "output_type": "stream",
     "text": [
      "Batch 31: Processed 5 reps of prompt with a total of 4982 output tokens in 37s\n"
     ]
    },
    {
     "name": "stderr",
     "output_type": "stream",
     "text": [
      "Processed prompts: 100%|██████████| 1/1 [00:06<00:00,  6.17s/it]\n"
     ]
    },
    {
     "name": "stdout",
     "output_type": "stream",
     "text": [
      "Batch 32: Processed 5 reps of prompt with a total of 1581 output tokens in 6s\n"
     ]
    },
    {
     "name": "stderr",
     "output_type": "stream",
     "text": [
      "Processed prompts: 100%|██████████| 1/1 [00:05<00:00,  5.26s/it]\n"
     ]
    },
    {
     "name": "stdout",
     "output_type": "stream",
     "text": [
      "Batch 33: Processed 5 reps of prompt with a total of 1181 output tokens in 5s\n"
     ]
    },
    {
     "name": "stderr",
     "output_type": "stream",
     "text": [
      "Processed prompts: 100%|██████████| 1/1 [00:32<00:00, 32.55s/it]\n"
     ]
    },
    {
     "name": "stdout",
     "output_type": "stream",
     "text": [
      "Batch 34: Processed 5 reps of prompt with a total of 5014 output tokens in 33s\n"
     ]
    },
    {
     "name": "stderr",
     "output_type": "stream",
     "text": [
      "Processed prompts: 100%|██████████| 1/1 [00:07<00:00,  7.37s/it]\n"
     ]
    },
    {
     "name": "stdout",
     "output_type": "stream",
     "text": [
      "Batch 35: Processed 5 reps of prompt with a total of 1786 output tokens in 7s\n"
     ]
    },
    {
     "name": "stderr",
     "output_type": "stream",
     "text": [
      "Processed prompts: 100%|██████████| 1/1 [00:05<00:00,  5.20s/it]\n"
     ]
    },
    {
     "name": "stdout",
     "output_type": "stream",
     "text": [
      "Batch 36: Processed 5 reps of prompt with a total of 1206 output tokens in 5s\n"
     ]
    },
    {
     "name": "stderr",
     "output_type": "stream",
     "text": [
      "Processed prompts: 100%|██████████| 1/1 [00:08<00:00,  8.98s/it]\n"
     ]
    },
    {
     "name": "stdout",
     "output_type": "stream",
     "text": [
      "Batch 37: Processed 5 reps of prompt with a total of 1681 output tokens in 9s\n"
     ]
    },
    {
     "name": "stderr",
     "output_type": "stream",
     "text": [
      "Processed prompts: 100%|██████████| 1/1 [00:06<00:00,  6.64s/it]\n"
     ]
    },
    {
     "name": "stdout",
     "output_type": "stream",
     "text": [
      "Batch 38: Processed 5 reps of prompt with a total of 1736 output tokens in 7s\n"
     ]
    },
    {
     "name": "stderr",
     "output_type": "stream",
     "text": [
      "Processed prompts: 100%|██████████| 1/1 [00:05<00:00,  5.19s/it]\n"
     ]
    },
    {
     "name": "stdout",
     "output_type": "stream",
     "text": [
      "Batch 39: Processed 5 reps of prompt with a total of 1288 output tokens in 5s\n"
     ]
    },
    {
     "name": "stderr",
     "output_type": "stream",
     "text": [
      "Processed prompts: 100%|██████████| 1/1 [00:03<00:00,  3.86s/it]\n"
     ]
    },
    {
     "name": "stdout",
     "output_type": "stream",
     "text": [
      "Batch 40: Processed 5 reps of prompt with a total of 942 output tokens in 4s\n"
     ]
    },
    {
     "name": "stderr",
     "output_type": "stream",
     "text": [
      "Processed prompts: 100%|██████████| 1/1 [00:07<00:00,  7.52s/it]\n"
     ]
    },
    {
     "name": "stdout",
     "output_type": "stream",
     "text": [
      "Batch 41: Processed 5 reps of prompt with a total of 1696 output tokens in 8s\n"
     ]
    },
    {
     "name": "stderr",
     "output_type": "stream",
     "text": [
      "Processed prompts: 100%|██████████| 1/1 [00:07<00:00,  7.94s/it]\n"
     ]
    },
    {
     "name": "stdout",
     "output_type": "stream",
     "text": [
      "Batch 42: Processed 5 reps of prompt with a total of 1743 output tokens in 8s\n"
     ]
    },
    {
     "name": "stderr",
     "output_type": "stream",
     "text": [
      "Processed prompts: 100%|██████████| 1/1 [00:05<00:00,  5.67s/it]\n"
     ]
    },
    {
     "name": "stdout",
     "output_type": "stream",
     "text": [
      "Batch 43: Processed 5 reps of prompt with a total of 1435 output tokens in 6s\n"
     ]
    },
    {
     "name": "stderr",
     "output_type": "stream",
     "text": [
      "Processed prompts: 100%|██████████| 1/1 [00:37<00:00, 37.14s/it]\n"
     ]
    },
    {
     "name": "stdout",
     "output_type": "stream",
     "text": [
      "Batch 44: Processed 5 reps of prompt with a total of 6925 output tokens in 37s\n"
     ]
    },
    {
     "name": "stderr",
     "output_type": "stream",
     "text": [
      "Processed prompts:   0%|          | 0/1 [00:00<?, ?it/s]"
     ]
    }
   ],
   "source": [
    "tool_instruction = \" The answer should be given as a non-negative modulo 1000.\"\n",
    "tool_instruction += '\\nPlease integrate natural language reasoning with programs to solve the problem above, and put your final answer within \\\\boxed{}.'\n",
    "python_code_prefix = \"```python\\n\"\n",
    "python_default_imports = \"from sympy import *\\n\"\n",
    "\n",
    "tool_sampling_params = SamplingParams(n=n_reps,\n",
    "                                      temperature=0.9,\n",
    "                                      max_tokens=2048)\n",
    "                                      #stop='output')\n",
    "total_time_sec = 0\n",
    "total_tokens = 0\n",
    "out_rows = []  \n",
    "                                      \n",
    "for i, problem in enumerate(math_samp['problem']):\n",
    "    prompt = problem + tool_instruction\n",
    "    messages = [{\"role\": \"user\", \"content\": prompt}]\n",
    "    m_prompt = vtokenizer.apply_chat_template(messages, add_generation_prompt=True, tokenize=False)\n",
    "    \n",
    "    start_time = time.time()\n",
    "    llm_out = vllm.generate(m_prompt, tool_sampling_params)\n",
    "    \n",
    "    n_out_tokens = 0\n",
    "    for output in llm_out[0].outputs:\n",
    "        out_rows.append({\n",
    "            'iteration': 0,\n",
    "            'problem_id': math_samp.iloc[i]['id'],\n",
    "            'problem': problem,\n",
    "            'correct_answer': math_samp.iloc[i]['answer'],\n",
    "            'prompt': m_prompt,\n",
    "            'llm_answer': output.text,\n",
    "            'n_answer_tokens': len(output.token_ids)\n",
    "        })\n",
    "        n_out_tokens += len(output.token_ids)                                                                                             \n",
    "    total_time_sec += time.time() - start_time\n",
    "    print(f'Batch {i}: Processed {n_reps} reps of prompt with a total of {n_out_tokens} output tokens in {round(time.time() - start_time)}s')\n",
    "print('--------------------------------')\n",
    "print(f'Finished in {round(total_time_sec)}s with {round(total_tokens/total_time_sec,1)} tokens/s')"
   ]
  },
  {
   "cell_type": "code",
   "execution_count": null,
   "id": "b540c872-9936-4b72-b979-1baa4d505074",
   "metadata": {
    "tags": []
   },
   "outputs": [],
   "source": [
    "def parse_code(output):\n",
    "    if '```python\\n' in output:\n",
    "        try:\n",
    "            output = output.split(python_code_prefix)[-1]\n",
    "        except:\n",
    "            return None   \n",
    "    if '```' in output:\n",
    "        output = output.split('```')[0]\n",
    "    #output = python_default_imports + output\n",
    "    return output\n",
    "\n",
    "def run_with_timeout(code, timeout):\n",
    "    with open('code.py', 'w') as fout:\n",
    "        fout.write(code)\n",
    "\n",
    "    batcmd = f'timeout {timeout} {sys.executable} code.py'\n",
    "    try:\n",
    "        shell_output = subprocess.check_output(batcmd, stderr=subprocess.STDOUT, shell=True).decode('utf8')\n",
    "    except subprocess.CalledProcessError as e:\n",
    "        shell_output = e.output.decode('utf8')  # Get the output which may include Python error messages\n",
    "    try:\n",
    "        code_output = round(float(eval(shell_output))) % 1000  # <----------   !!!!!!!!!!!!   modulo important for competition\n",
    "    except Exception as e:\n",
    "        code_output = shell_output\n",
    "    os.remove('code.py')\n",
    "    return code_output\n",
    "\n",
    "def parse_and_run(output):\n",
    "    try:\n",
    "        code = parse_code(output)\n",
    "    except Exception as ex:\n",
    "        return str(ex)\n",
    "    try:\n",
    "        return run_with_timeout(code, code_timeout_secs)\n",
    "    except Exception as ex:\n",
    "        return str(ex)"
   ]
  },
  {
   "cell_type": "code",
   "execution_count": null,
   "id": "f51d2160-31a9-40d4-8957-20fa62422b37",
   "metadata": {
    "tags": []
   },
   "outputs": [],
   "source": [
    "for row in out_rows:\n",
    "    row['code'] = parse_code(row['llm_answer'])\n",
    "    row['code_result'] = parse_and_run(row['llm_answer'])"
   ]
  },
  {
   "cell_type": "code",
   "execution_count": 32,
   "id": "42f2cbca-022f-486c-b937-dc34cefe9c69",
   "metadata": {},
   "outputs": [
    {
     "data": {
      "text/html": [
       "<div>\n",
       "<style scoped>\n",
       "    .dataframe tbody tr th:only-of-type {\n",
       "        vertical-align: middle;\n",
       "    }\n",
       "\n",
       "    .dataframe tbody tr th {\n",
       "        vertical-align: top;\n",
       "    }\n",
       "\n",
       "    .dataframe thead th {\n",
       "        text-align: right;\n",
       "    }\n",
       "</style>\n",
       "<table border=\"1\" class=\"dataframe\">\n",
       "  <thead>\n",
       "    <tr style=\"text-align: right;\">\n",
       "      <th></th>\n",
       "      <th>iteration</th>\n",
       "      <th>problem_id</th>\n",
       "      <th>problem</th>\n",
       "      <th>correct_answer</th>\n",
       "      <th>prompt</th>\n",
       "      <th>llm_answer</th>\n",
       "      <th>n_answer_tokens</th>\n",
       "      <th>code</th>\n",
       "      <th>code_result</th>\n",
       "    </tr>\n",
       "  </thead>\n",
       "  <tbody>\n",
       "    <tr>\n",
       "      <th>0</th>\n",
       "      <td>0</td>\n",
       "      <td>64</td>\n",
       "      <td>What is the smallest positive integer that sat...</td>\n",
       "      <td>39</td>\n",
       "      <td>&lt;｜begin▁of▁sentence｜&gt;User: What is the smalles...</td>\n",
       "      <td>```python\\nfrom sympy import symbols, mod_inv...</td>\n",
       "      <td>207</td>\n",
       "      <td>from sympy import symbols, mod_inverse\\n\\ndef ...</td>\n",
       "      <td>39</td>\n",
       "    </tr>\n",
       "    <tr>\n",
       "      <th>1</th>\n",
       "      <td>0</td>\n",
       "      <td>64</td>\n",
       "      <td>What is the smallest positive integer that sat...</td>\n",
       "      <td>39</td>\n",
       "      <td>&lt;｜begin▁of▁sentence｜&gt;User: What is the smalles...</td>\n",
       "      <td>```python\\ndef solve_congruence():\\n    \"\"\"Wh...</td>\n",
       "      <td>187</td>\n",
       "      <td>def solve_congruence():\\n    \"\"\"What is the sm...</td>\n",
       "      <td>39</td>\n",
       "    </tr>\n",
       "    <tr>\n",
       "      <th>2</th>\n",
       "      <td>0</td>\n",
       "      <td>64</td>\n",
       "      <td>What is the smallest positive integer that sat...</td>\n",
       "      <td>39</td>\n",
       "      <td>&lt;｜begin▁of▁sentence｜&gt;User: What is the smalles...</td>\n",
       "      <td>```python\\nfrom sympy import symbols, solve, ...</td>\n",
       "      <td>205</td>\n",
       "      <td>from sympy import symbols, solve, Mod\\n\\ndef s...</td>\n",
       "      <td>39</td>\n",
       "    </tr>\n",
       "    <tr>\n",
       "      <th>3</th>\n",
       "      <td>0</td>\n",
       "      <td>64</td>\n",
       "      <td>What is the smallest positive integer that sat...</td>\n",
       "      <td>39</td>\n",
       "      <td>&lt;｜begin▁of▁sentence｜&gt;User: What is the smalles...</td>\n",
       "      <td>```python\\nfrom sympy import mod_inverse\\n\\nd...</td>\n",
       "      <td>211</td>\n",
       "      <td>from sympy import mod_inverse\\n\\ndef solve_con...</td>\n",
       "      <td>39</td>\n",
       "    </tr>\n",
       "    <tr>\n",
       "      <th>4</th>\n",
       "      <td>0</td>\n",
       "      <td>64</td>\n",
       "      <td>What is the smallest positive integer that sat...</td>\n",
       "      <td>39</td>\n",
       "      <td>&lt;｜begin▁of▁sentence｜&gt;User: What is the smalles...</td>\n",
       "      <td>```python\\nfrom sympy import symbols, solve, ...</td>\n",
       "      <td>247</td>\n",
       "      <td>from sympy import symbols, solve, Mod\\n\\ndef s...</td>\n",
       "      <td>39</td>\n",
       "    </tr>\n",
       "    <tr>\n",
       "      <th>...</th>\n",
       "      <td>...</td>\n",
       "      <td>...</td>\n",
       "      <td>...</td>\n",
       "      <td>...</td>\n",
       "      <td>...</td>\n",
       "      <td>...</td>\n",
       "      <td>...</td>\n",
       "      <td>...</td>\n",
       "      <td>...</td>\n",
       "    </tr>\n",
       "    <tr>\n",
       "      <th>1245</th>\n",
       "      <td>0</td>\n",
       "      <td>1571</td>\n",
       "      <td>Two right triangles have equal areas. The firs...</td>\n",
       "      <td>2</td>\n",
       "      <td>&lt;｜begin▁of▁sentence｜&gt;User: Two right triangles...</td>\n",
       "      <td>```python\\nfrom sympy import symbols, Eq, sol...</td>\n",
       "      <td>257</td>\n",
       "      <td>from sympy import symbols, Eq, solve\\n\\ndef ot...</td>\n",
       "      <td>2</td>\n",
       "    </tr>\n",
       "    <tr>\n",
       "      <th>1246</th>\n",
       "      <td>0</td>\n",
       "      <td>1571</td>\n",
       "      <td>Two right triangles have equal areas. The firs...</td>\n",
       "      <td>2</td>\n",
       "      <td>&lt;｜begin▁of▁sentence｜&gt;User: Two right triangles...</td>\n",
       "      <td>```python\\nfrom sympy import symbols, solve, ...</td>\n",
       "      <td>295</td>\n",
       "      <td>from sympy import symbols, solve, sqrt\\n\\ndef ...</td>\n",
       "      <td>2</td>\n",
       "    </tr>\n",
       "    <tr>\n",
       "      <th>1247</th>\n",
       "      <td>0</td>\n",
       "      <td>1571</td>\n",
       "      <td>Two right triangles have equal areas. The firs...</td>\n",
       "      <td>2</td>\n",
       "      <td>&lt;｜begin▁of▁sentence｜&gt;User: Two right triangles...</td>\n",
       "      <td>```python\\nfrom sympy import symbols, solve, ...</td>\n",
       "      <td>354</td>\n",
       "      <td>from sympy import symbols, solve, sqrt\\n\\ndef ...</td>\n",
       "      <td>20</td>\n",
       "    </tr>\n",
       "    <tr>\n",
       "      <th>1248</th>\n",
       "      <td>0</td>\n",
       "      <td>1571</td>\n",
       "      <td>Two right triangles have equal areas. The firs...</td>\n",
       "      <td>2</td>\n",
       "      <td>&lt;｜begin▁of▁sentence｜&gt;User: Two right triangles...</td>\n",
       "      <td>```python\\nfrom sympy import symbols, Eq, sol...</td>\n",
       "      <td>331</td>\n",
       "      <td>from sympy import symbols, Eq, solve, Rational...</td>\n",
       "      <td>2</td>\n",
       "    </tr>\n",
       "    <tr>\n",
       "      <th>1249</th>\n",
       "      <td>0</td>\n",
       "      <td>1571</td>\n",
       "      <td>Two right triangles have equal areas. The firs...</td>\n",
       "      <td>2</td>\n",
       "      <td>&lt;｜begin▁of▁sentence｜&gt;User: Two right triangles...</td>\n",
       "      <td>```python\\nfrom sympy import symbols, solve, ...</td>\n",
       "      <td>1945</td>\n",
       "      <td>from sympy import symbols, solve, sqrt\\n\\ndef ...</td>\n",
       "      <td>20</td>\n",
       "    </tr>\n",
       "  </tbody>\n",
       "</table>\n",
       "<p>1250 rows × 9 columns</p>\n",
       "</div>"
      ],
      "text/plain": [
       "      iteration problem_id                                            problem  \\\n",
       "0             0         64  What is the smallest positive integer that sat...   \n",
       "1             0         64  What is the smallest positive integer that sat...   \n",
       "2             0         64  What is the smallest positive integer that sat...   \n",
       "3             0         64  What is the smallest positive integer that sat...   \n",
       "4             0         64  What is the smallest positive integer that sat...   \n",
       "...         ...        ...                                                ...   \n",
       "1245          0       1571  Two right triangles have equal areas. The firs...   \n",
       "1246          0       1571  Two right triangles have equal areas. The firs...   \n",
       "1247          0       1571  Two right triangles have equal areas. The firs...   \n",
       "1248          0       1571  Two right triangles have equal areas. The firs...   \n",
       "1249          0       1571  Two right triangles have equal areas. The firs...   \n",
       "\n",
       "      correct_answer                                             prompt  \\\n",
       "0                 39  <｜begin▁of▁sentence｜>User: What is the smalles...   \n",
       "1                 39  <｜begin▁of▁sentence｜>User: What is the smalles...   \n",
       "2                 39  <｜begin▁of▁sentence｜>User: What is the smalles...   \n",
       "3                 39  <｜begin▁of▁sentence｜>User: What is the smalles...   \n",
       "4                 39  <｜begin▁of▁sentence｜>User: What is the smalles...   \n",
       "...              ...                                                ...   \n",
       "1245               2  <｜begin▁of▁sentence｜>User: Two right triangles...   \n",
       "1246               2  <｜begin▁of▁sentence｜>User: Two right triangles...   \n",
       "1247               2  <｜begin▁of▁sentence｜>User: Two right triangles...   \n",
       "1248               2  <｜begin▁of▁sentence｜>User: Two right triangles...   \n",
       "1249               2  <｜begin▁of▁sentence｜>User: Two right triangles...   \n",
       "\n",
       "                                             llm_answer  n_answer_tokens  \\\n",
       "0      ```python\\nfrom sympy import symbols, mod_inv...              207   \n",
       "1      ```python\\ndef solve_congruence():\\n    \"\"\"Wh...              187   \n",
       "2      ```python\\nfrom sympy import symbols, solve, ...              205   \n",
       "3      ```python\\nfrom sympy import mod_inverse\\n\\nd...              211   \n",
       "4      ```python\\nfrom sympy import symbols, solve, ...              247   \n",
       "...                                                 ...              ...   \n",
       "1245   ```python\\nfrom sympy import symbols, Eq, sol...              257   \n",
       "1246   ```python\\nfrom sympy import symbols, solve, ...              295   \n",
       "1247   ```python\\nfrom sympy import symbols, solve, ...              354   \n",
       "1248   ```python\\nfrom sympy import symbols, Eq, sol...              331   \n",
       "1249   ```python\\nfrom sympy import symbols, solve, ...             1945   \n",
       "\n",
       "                                                   code code_result  \n",
       "0     from sympy import symbols, mod_inverse\\n\\ndef ...          39  \n",
       "1     def solve_congruence():\\n    \"\"\"What is the sm...          39  \n",
       "2     from sympy import symbols, solve, Mod\\n\\ndef s...          39  \n",
       "3     from sympy import mod_inverse\\n\\ndef solve_con...          39  \n",
       "4     from sympy import symbols, solve, Mod\\n\\ndef s...          39  \n",
       "...                                                 ...         ...  \n",
       "1245  from sympy import symbols, Eq, solve\\n\\ndef ot...           2  \n",
       "1246  from sympy import symbols, solve, sqrt\\n\\ndef ...           2  \n",
       "1247  from sympy import symbols, solve, sqrt\\n\\ndef ...          20  \n",
       "1248  from sympy import symbols, Eq, solve, Rational...           2  \n",
       "1249  from sympy import symbols, solve, sqrt\\n\\ndef ...          20  \n",
       "\n",
       "[1250 rows x 9 columns]"
      ]
     },
     "execution_count": 32,
     "metadata": {},
     "output_type": "execute_result"
    }
   ],
   "source": [
    "df_res = pd.DataFrame(out_rows)\n",
    "df_res"
   ]
  },
  {
   "cell_type": "code",
   "execution_count": 97,
   "id": "490736f6-186f-4064-9fb2-f39ff7f09459",
   "metadata": {
    "tags": []
   },
   "outputs": [],
   "source": [
    "# df_res.to_csv('baseline_results_april_23.csv', index=False)\n",
    "df_res = pd.read_csv('baseline_results_april_23.csv')\n",
    "df_res['problem_id'] = df_res['problem_id'].astype(str)"
   ]
  },
  {
   "cell_type": "code",
   "execution_count": 98,
   "id": "9bb87062-ccf9-45d0-ac70-ffe353e882db",
   "metadata": {
    "tags": []
   },
   "outputs": [],
   "source": [
    "def is_numeric(var):\n",
    "    return np.issubdtype(type(var), np.number)\n",
    "\n",
    "def standardize_number(number):\n",
    "    # ToDo: does not work for strings that are numbers\n",
    "    if is_numeric(number):\n",
    "        number = float(number)\n",
    "        if number.is_integer():\n",
    "            number = int(number)\n",
    "    return number"
   ]
  },
  {
   "cell_type": "code",
   "execution_count": 106,
   "id": "1a8cfcb0-a2f5-4f10-a059-1593770147f2",
   "metadata": {
    "tags": []
   },
   "outputs": [],
   "source": [
    "df_res['llm_result'] = df_res['llm_answer'].map(extract_answer)\n",
    "df_res.loc[df_res['code_result'].str.contains('Traceback').fillna(False), 'code_result'] = None\n",
    "df_res.loc[df_res['code_result'].str.contains('code.py').fillna(False), 'code_result'] = None\n",
    "df_res['code_result'] = df_res['code_result'].replace('', np.nan)\n",
    "df_res['code_result'] = df_res['code_result'].map(standardize_number)\n",
    "df_res['combined_result'] = df_res['code_result'].fillna(df_res['llm_result'])"
   ]
  },
  {
   "cell_type": "code",
   "execution_count": 107,
   "id": "ecbceb72-4fc2-4126-86dc-888241733af1",
   "metadata": {
    "tags": []
   },
   "outputs": [],
   "source": [
    "most_common = df_res.groupby('problem_id')[['llm_result', 'code_result', 'combined_result']].agg(pd.Series.mode)\n",
    "for col in ['llm_result', 'code_result', 'combined_result']:\n",
    "    most_common[col] = most_common[col].apply(lambda x: x[0] if isinstance(x, np.ndarray) and len(x) >= 1 else x)\n",
    "most_common = pd.DataFrame(most_common).reset_index()\n",
    "\n",
    "merged = math_samp.merge(most_common, left_on='id', right_on='problem_id')\n",
    "is_correct = []\n",
    "for row in merged.iterrows():\n",
    "    correct = standardize_number(row[1]['answer'])\n",
    "    result = standardize_number(row[1]['combined_result'])\n",
    "    is_correct.append(is_equiv(correct, result))\n",
    "merged['is_correct'] = is_correct "
   ]
  },
  {
   "cell_type": "code",
   "execution_count": 108,
   "id": "ff9001cd-4c13-4ad8-b90a-f73253f822db",
   "metadata": {},
   "outputs": [
    {
     "name": "stdout",
     "output_type": "stream",
     "text": [
      "0.0\n"
     ]
    },
    {
     "data": {
      "text/html": [
       "<div>\n",
       "<style scoped>\n",
       "    .dataframe tbody tr th:only-of-type {\n",
       "        vertical-align: middle;\n",
       "    }\n",
       "\n",
       "    .dataframe tbody tr th {\n",
       "        vertical-align: top;\n",
       "    }\n",
       "\n",
       "    .dataframe thead th {\n",
       "        text-align: right;\n",
       "    }\n",
       "</style>\n",
       "<table border=\"1\" class=\"dataframe\">\n",
       "  <thead>\n",
       "    <tr style=\"text-align: right;\">\n",
       "      <th></th>\n",
       "      <th>size</th>\n",
       "      <th>mean</th>\n",
       "    </tr>\n",
       "    <tr>\n",
       "      <th>level</th>\n",
       "      <th></th>\n",
       "      <th></th>\n",
       "    </tr>\n",
       "  </thead>\n",
       "  <tbody>\n",
       "    <tr>\n",
       "      <th>Level 1</th>\n",
       "      <td>10</td>\n",
       "      <td>0.0</td>\n",
       "    </tr>\n",
       "    <tr>\n",
       "      <th>Level 2</th>\n",
       "      <td>6</td>\n",
       "      <td>0.0</td>\n",
       "    </tr>\n",
       "    <tr>\n",
       "      <th>Level 3</th>\n",
       "      <td>11</td>\n",
       "      <td>0.0</td>\n",
       "    </tr>\n",
       "    <tr>\n",
       "      <th>Level 4</th>\n",
       "      <td>9</td>\n",
       "      <td>0.0</td>\n",
       "    </tr>\n",
       "    <tr>\n",
       "      <th>Level 5</th>\n",
       "      <td>11</td>\n",
       "      <td>0.0</td>\n",
       "    </tr>\n",
       "  </tbody>\n",
       "</table>\n",
       "</div>"
      ],
      "text/plain": [
       "         size  mean\n",
       "level              \n",
       "Level 1    10   0.0\n",
       "Level 2     6   0.0\n",
       "Level 3    11   0.0\n",
       "Level 4     9   0.0\n",
       "Level 5    11   0.0"
      ]
     },
     "execution_count": 108,
     "metadata": {},
     "output_type": "execute_result"
    }
   ],
   "source": [
    "print(merged['is_correct'].mean())\n",
    "merged.groupby('level')['is_correct'].agg(['size', 'mean'])"
   ]
  },
  {
   "cell_type": "code",
   "execution_count": null,
   "id": "82c518e4-ac98-4e24-a974-f6dc4cfc8bee",
   "metadata": {
    "tags": []
   },
   "outputs": [],
   "source": [
    "print(is_equiv('x^9', 'x**9'))\n",
    "print(is_equiv('-11 + 27i', '-11 + 27*I'))\n",
    "print(is_equiv('\\pi', '3.14159265358979'))\n",
    "print(is_equiv('3 - 2f(x)', '3 - 2*f(x)'))\n",
    "print(is_equiv('\\text{neither}', 'neither'))\n",
    "print(is_equiv('\\sqrt{53}', 'sqrt(53)'))"
   ]
  },
  {
   "cell_type": "code",
   "execution_count": 69,
   "id": "aec5588c-2726-49f1-bfb3-38324ceefcbe",
   "metadata": {
    "tags": []
   },
   "outputs": [
    {
     "data": {
      "text/html": [
       "<div>\n",
       "<style scoped>\n",
       "    .dataframe tbody tr th:only-of-type {\n",
       "        vertical-align: middle;\n",
       "    }\n",
       "\n",
       "    .dataframe tbody tr th {\n",
       "        vertical-align: top;\n",
       "    }\n",
       "\n",
       "    .dataframe thead th {\n",
       "        text-align: right;\n",
       "    }\n",
       "</style>\n",
       "<table border=\"1\" class=\"dataframe\">\n",
       "  <thead>\n",
       "    <tr style=\"text-align: right;\">\n",
       "      <th></th>\n",
       "      <th>level</th>\n",
       "      <th>type</th>\n",
       "      <th>answer</th>\n",
       "      <th>llm_result</th>\n",
       "      <th>code_result</th>\n",
       "      <th>combined_result</th>\n",
       "      <th>is_correct</th>\n",
       "    </tr>\n",
       "  </thead>\n",
       "  <tbody>\n",
       "    <tr>\n",
       "      <th>0</th>\n",
       "      <td>Level 5</td>\n",
       "      <td>Prealgebra</td>\n",
       "      <td>60</td>\n",
       "      <td>1</td>\n",
       "      <td>1</td>\n",
       "      <td>1</td>\n",
       "      <td>False</td>\n",
       "    </tr>\n",
       "    <tr>\n",
       "      <th>1</th>\n",
       "      <td>Level 3</td>\n",
       "      <td>Intermediate Algebra</td>\n",
       "      <td>7</td>\n",
       "      <td>3</td>\n",
       "      <td>5</td>\n",
       "      <td>5</td>\n",
       "      <td>False</td>\n",
       "    </tr>\n",
       "    <tr>\n",
       "      <th>2</th>\n",
       "      <td>Level 4</td>\n",
       "      <td>Counting &amp; Probability</td>\n",
       "      <td>0</td>\n",
       "      <td>750</td>\n",
       "      <td>8</td>\n",
       "      <td>8</td>\n",
       "      <td>False</td>\n",
       "    </tr>\n",
       "    <tr>\n",
       "      <th>3</th>\n",
       "      <td>Level 3</td>\n",
       "      <td>Intermediate Algebra</td>\n",
       "      <td>10</td>\n",
       "      <td>750</td>\n",
       "      <td>8</td>\n",
       "      <td>8</td>\n",
       "      <td>False</td>\n",
       "    </tr>\n",
       "    <tr>\n",
       "      <th>4</th>\n",
       "      <td>Level 5</td>\n",
       "      <td>Algebra</td>\n",
       "      <td>208</td>\n",
       "      <td>160</td>\n",
       "      <td>160</td>\n",
       "      <td>160</td>\n",
       "      <td>False</td>\n",
       "    </tr>\n",
       "    <tr>\n",
       "      <th>5</th>\n",
       "      <td>Level 1</td>\n",
       "      <td>Prealgebra</td>\n",
       "      <td>160</td>\n",
       "      <td>160</td>\n",
       "      <td>160</td>\n",
       "      <td>160</td>\n",
       "      <td>False</td>\n",
       "    </tr>\n",
       "    <tr>\n",
       "      <th>6</th>\n",
       "      <td>Level 4</td>\n",
       "      <td>Geometry</td>\n",
       "      <td>864</td>\n",
       "      <td>160</td>\n",
       "      <td>160</td>\n",
       "      <td>160</td>\n",
       "      <td>False</td>\n",
       "    </tr>\n",
       "    <tr>\n",
       "      <th>7</th>\n",
       "      <td>Level 4</td>\n",
       "      <td>Prealgebra</td>\n",
       "      <td>9</td>\n",
       "      <td>113</td>\n",
       "      <td>9</td>\n",
       "      <td>9</td>\n",
       "      <td>False</td>\n",
       "    </tr>\n",
       "    <tr>\n",
       "      <th>8</th>\n",
       "      <td>Level 2</td>\n",
       "      <td>Intermediate Algebra</td>\n",
       "      <td>101</td>\n",
       "      <td>6</td>\n",
       "      <td>100</td>\n",
       "      <td>100</td>\n",
       "      <td>False</td>\n",
       "    </tr>\n",
       "    <tr>\n",
       "      <th>9</th>\n",
       "      <td>Level 3</td>\n",
       "      <td>Algebra</td>\n",
       "      <td>8</td>\n",
       "      <td>4</td>\n",
       "      <td>4</td>\n",
       "      <td>4</td>\n",
       "      <td>False</td>\n",
       "    </tr>\n",
       "    <tr>\n",
       "      <th>10</th>\n",
       "      <td>Level 3</td>\n",
       "      <td>Precalculus</td>\n",
       "      <td>4</td>\n",
       "      <td>4</td>\n",
       "      <td>4</td>\n",
       "      <td>4</td>\n",
       "      <td>False</td>\n",
       "    </tr>\n",
       "    <tr>\n",
       "      <th>11</th>\n",
       "      <td>Level 2</td>\n",
       "      <td>Prealgebra</td>\n",
       "      <td>49</td>\n",
       "      <td>49</td>\n",
       "      <td>49</td>\n",
       "      <td>49</td>\n",
       "      <td>False</td>\n",
       "    </tr>\n",
       "    <tr>\n",
       "      <th>12</th>\n",
       "      <td>Level 4</td>\n",
       "      <td>Intermediate Algebra</td>\n",
       "      <td>8</td>\n",
       "      <td>10</td>\n",
       "      <td>20</td>\n",
       "      <td>20</td>\n",
       "      <td>False</td>\n",
       "    </tr>\n",
       "    <tr>\n",
       "      <th>13</th>\n",
       "      <td>Level 1</td>\n",
       "      <td>Intermediate Algebra</td>\n",
       "      <td>269</td>\n",
       "      <td>269</td>\n",
       "      <td>269</td>\n",
       "      <td>269</td>\n",
       "      <td>False</td>\n",
       "    </tr>\n",
       "    <tr>\n",
       "      <th>14</th>\n",
       "      <td>Level 5</td>\n",
       "      <td>Number Theory</td>\n",
       "      <td>4</td>\n",
       "      <td>36</td>\n",
       "      <td>0</td>\n",
       "      <td>0</td>\n",
       "      <td>False</td>\n",
       "    </tr>\n",
       "    <tr>\n",
       "      <th>15</th>\n",
       "      <td>Level 4</td>\n",
       "      <td>Geometry</td>\n",
       "      <td>45</td>\n",
       "      <td>36</td>\n",
       "      <td>0</td>\n",
       "      <td>0</td>\n",
       "      <td>False</td>\n",
       "    </tr>\n",
       "    <tr>\n",
       "      <th>16</th>\n",
       "      <td>Level 3</td>\n",
       "      <td>Intermediate Algebra</td>\n",
       "      <td>6</td>\n",
       "      <td>1</td>\n",
       "      <td>4</td>\n",
       "      <td>4</td>\n",
       "      <td>False</td>\n",
       "    </tr>\n",
       "    <tr>\n",
       "      <th>17</th>\n",
       "      <td>Level 1</td>\n",
       "      <td>Counting &amp; Probability</td>\n",
       "      <td>105</td>\n",
       "      <td>1</td>\n",
       "      <td>0</td>\n",
       "      <td>0</td>\n",
       "      <td>False</td>\n",
       "    </tr>\n",
       "    <tr>\n",
       "      <th>18</th>\n",
       "      <td>Level 2</td>\n",
       "      <td>Prealgebra</td>\n",
       "      <td>5</td>\n",
       "      <td>400</td>\n",
       "      <td>700</td>\n",
       "      <td>700</td>\n",
       "      <td>False</td>\n",
       "    </tr>\n",
       "    <tr>\n",
       "      <th>19</th>\n",
       "      <td>Level 4</td>\n",
       "      <td>Number Theory</td>\n",
       "      <td>499</td>\n",
       "      <td>609</td>\n",
       "      <td>499</td>\n",
       "      <td>499</td>\n",
       "      <td>False</td>\n",
       "    </tr>\n",
       "    <tr>\n",
       "      <th>20</th>\n",
       "      <td>Level 1</td>\n",
       "      <td>Precalculus</td>\n",
       "      <td>8</td>\n",
       "      <td>240</td>\n",
       "      <td>0</td>\n",
       "      <td>0</td>\n",
       "      <td>False</td>\n",
       "    </tr>\n",
       "    <tr>\n",
       "      <th>21</th>\n",
       "      <td>Level 5</td>\n",
       "      <td>Geometry</td>\n",
       "      <td>15</td>\n",
       "      <td>1250</td>\n",
       "      <td>250</td>\n",
       "      <td>250</td>\n",
       "      <td>False</td>\n",
       "    </tr>\n",
       "    <tr>\n",
       "      <th>22</th>\n",
       "      <td>Level 3</td>\n",
       "      <td>Algebra</td>\n",
       "      <td>10</td>\n",
       "      <td>10</td>\n",
       "      <td>10</td>\n",
       "      <td>10</td>\n",
       "      <td>False</td>\n",
       "    </tr>\n",
       "    <tr>\n",
       "      <th>23</th>\n",
       "      <td>Level 5</td>\n",
       "      <td>Counting &amp; Probability</td>\n",
       "      <td>160</td>\n",
       "      <td>225</td>\n",
       "      <td>140</td>\n",
       "      <td>140</td>\n",
       "      <td>False</td>\n",
       "    </tr>\n",
       "    <tr>\n",
       "      <th>24</th>\n",
       "      <td>Level 1</td>\n",
       "      <td>Algebra</td>\n",
       "      <td>8</td>\n",
       "      <td>342</td>\n",
       "      <td>12</td>\n",
       "      <td>12</td>\n",
       "      <td>False</td>\n",
       "    </tr>\n",
       "    <tr>\n",
       "      <th>25</th>\n",
       "      <td>Level 5</td>\n",
       "      <td>Number Theory</td>\n",
       "      <td>5</td>\n",
       "      <td>3</td>\n",
       "      <td>2</td>\n",
       "      <td>2</td>\n",
       "      <td>False</td>\n",
       "    </tr>\n",
       "    <tr>\n",
       "      <th>26</th>\n",
       "      <td>Level 1</td>\n",
       "      <td>Geometry</td>\n",
       "      <td>70</td>\n",
       "      <td>100</td>\n",
       "      <td>100</td>\n",
       "      <td>100</td>\n",
       "      <td>False</td>\n",
       "    </tr>\n",
       "    <tr>\n",
       "      <th>27</th>\n",
       "      <td>Level 5</td>\n",
       "      <td>Geometry</td>\n",
       "      <td>592</td>\n",
       "      <td>1000</td>\n",
       "      <td>76</td>\n",
       "      <td>76</td>\n",
       "      <td>False</td>\n",
       "    </tr>\n",
       "    <tr>\n",
       "      <th>28</th>\n",
       "      <td>Level 2</td>\n",
       "      <td>Prealgebra</td>\n",
       "      <td>87</td>\n",
       "      <td>87</td>\n",
       "      <td>87</td>\n",
       "      <td>87</td>\n",
       "      <td>False</td>\n",
       "    </tr>\n",
       "    <tr>\n",
       "      <th>29</th>\n",
       "      <td>Level 1</td>\n",
       "      <td>Number Theory</td>\n",
       "      <td>127</td>\n",
       "      <td>87</td>\n",
       "      <td>87</td>\n",
       "      <td>87</td>\n",
       "      <td>False</td>\n",
       "    </tr>\n",
       "    <tr>\n",
       "      <th>30</th>\n",
       "      <td>Level 5</td>\n",
       "      <td>Algebra</td>\n",
       "      <td>117</td>\n",
       "      <td>17</td>\n",
       "      <td>-6*sqrt(3)\\n</td>\n",
       "      <td>-6*sqrt(3)\\n</td>\n",
       "      <td>False</td>\n",
       "    </tr>\n",
       "    <tr>\n",
       "      <th>31</th>\n",
       "      <td>Level 1</td>\n",
       "      <td>Algebra</td>\n",
       "      <td>65</td>\n",
       "      <td>6</td>\n",
       "      <td>216</td>\n",
       "      <td>0</td>\n",
       "      <td>False</td>\n",
       "    </tr>\n",
       "    <tr>\n",
       "      <th>32</th>\n",
       "      <td>Level 3</td>\n",
       "      <td>Counting &amp; Probability</td>\n",
       "      <td>840</td>\n",
       "      <td>1</td>\n",
       "      <td>0</td>\n",
       "      <td>0</td>\n",
       "      <td>False</td>\n",
       "    </tr>\n",
       "    <tr>\n",
       "      <th>33</th>\n",
       "      <td>Level 1</td>\n",
       "      <td>Precalculus</td>\n",
       "      <td>1</td>\n",
       "      <td>1</td>\n",
       "      <td>1</td>\n",
       "      <td>1</td>\n",
       "      <td>False</td>\n",
       "    </tr>\n",
       "    <tr>\n",
       "      <th>34</th>\n",
       "      <td>Level 3</td>\n",
       "      <td>Intermediate Algebra</td>\n",
       "      <td>0</td>\n",
       "      <td>3</td>\n",
       "      <td>4</td>\n",
       "      <td>4</td>\n",
       "      <td>False</td>\n",
       "    </tr>\n",
       "    <tr>\n",
       "      <th>35</th>\n",
       "      <td>Level 5</td>\n",
       "      <td>Geometry</td>\n",
       "      <td>46</td>\n",
       "      <td>100</td>\n",
       "      <td>69</td>\n",
       "      <td>69</td>\n",
       "      <td>False</td>\n",
       "    </tr>\n",
       "    <tr>\n",
       "      <th>36</th>\n",
       "      <td>Level 4</td>\n",
       "      <td>Number Theory</td>\n",
       "      <td>20</td>\n",
       "      <td>16</td>\n",
       "      <td>20</td>\n",
       "      <td>20</td>\n",
       "      <td>False</td>\n",
       "    </tr>\n",
       "    <tr>\n",
       "      <th>37</th>\n",
       "      <td>Level 2</td>\n",
       "      <td>Precalculus</td>\n",
       "      <td>3</td>\n",
       "      <td>12</td>\n",
       "      <td>728</td>\n",
       "      <td>728</td>\n",
       "      <td>False</td>\n",
       "    </tr>\n",
       "    <tr>\n",
       "      <th>38</th>\n",
       "      <td>Level 3</td>\n",
       "      <td>Prealgebra</td>\n",
       "      <td>18</td>\n",
       "      <td>2</td>\n",
       "      <td>2</td>\n",
       "      <td>2</td>\n",
       "      <td>False</td>\n",
       "    </tr>\n",
       "    <tr>\n",
       "      <th>39</th>\n",
       "      <td>Level 3</td>\n",
       "      <td>Algebra</td>\n",
       "      <td>5</td>\n",
       "      <td>1</td>\n",
       "      <td>5</td>\n",
       "      <td>5</td>\n",
       "      <td>False</td>\n",
       "    </tr>\n",
       "    <tr>\n",
       "      <th>40</th>\n",
       "      <td>Level 5</td>\n",
       "      <td>Algebra</td>\n",
       "      <td>26</td>\n",
       "      <td>9</td>\n",
       "      <td>26</td>\n",
       "      <td>26</td>\n",
       "      <td>False</td>\n",
       "    </tr>\n",
       "    <tr>\n",
       "      <th>41</th>\n",
       "      <td>Level 5</td>\n",
       "      <td>Prealgebra</td>\n",
       "      <td>12</td>\n",
       "      <td>1000</td>\n",
       "      <td>12</td>\n",
       "      <td>12</td>\n",
       "      <td>False</td>\n",
       "    </tr>\n",
       "    <tr>\n",
       "      <th>42</th>\n",
       "      <td>Level 1</td>\n",
       "      <td>Algebra</td>\n",
       "      <td>7</td>\n",
       "      <td>6</td>\n",
       "      <td>7</td>\n",
       "      <td>7</td>\n",
       "      <td>False</td>\n",
       "    </tr>\n",
       "    <tr>\n",
       "      <th>43</th>\n",
       "      <td>Level 4</td>\n",
       "      <td>Intermediate Algebra</td>\n",
       "      <td>14</td>\n",
       "      <td>12</td>\n",
       "      <td>14</td>\n",
       "      <td>14</td>\n",
       "      <td>False</td>\n",
       "    </tr>\n",
       "    <tr>\n",
       "      <th>44</th>\n",
       "      <td>Level 2</td>\n",
       "      <td>Geometry</td>\n",
       "      <td>30</td>\n",
       "      <td>1</td>\n",
       "      <td>50</td>\n",
       "      <td>50</td>\n",
       "      <td>False</td>\n",
       "    </tr>\n",
       "    <tr>\n",
       "      <th>45</th>\n",
       "      <td>Level 4</td>\n",
       "      <td>Prealgebra</td>\n",
       "      <td>75</td>\n",
       "      <td>15</td>\n",
       "      <td>15</td>\n",
       "      <td>15</td>\n",
       "      <td>False</td>\n",
       "    </tr>\n",
       "    <tr>\n",
       "      <th>46</th>\n",
       "      <td>Level 3</td>\n",
       "      <td>Intermediate Algebra</td>\n",
       "      <td>2</td>\n",
       "      <td>4</td>\n",
       "      <td>4</td>\n",
       "      <td>4</td>\n",
       "      <td>False</td>\n",
       "    </tr>\n",
       "  </tbody>\n",
       "</table>\n",
       "</div>"
      ],
      "text/plain": [
       "      level                    type  answer llm_result   code_result  \\\n",
       "0   Level 5              Prealgebra      60          1             1   \n",
       "1   Level 3    Intermediate Algebra       7          3             5   \n",
       "2   Level 4  Counting & Probability       0        750             8   \n",
       "3   Level 3    Intermediate Algebra      10        750             8   \n",
       "4   Level 5                 Algebra     208        160           160   \n",
       "5   Level 1              Prealgebra     160        160           160   \n",
       "6   Level 4                Geometry     864        160           160   \n",
       "7   Level 4              Prealgebra       9        113             9   \n",
       "8   Level 2    Intermediate Algebra     101          6           100   \n",
       "9   Level 3                 Algebra       8          4             4   \n",
       "10  Level 3             Precalculus       4          4             4   \n",
       "11  Level 2              Prealgebra      49         49            49   \n",
       "12  Level 4    Intermediate Algebra       8         10            20   \n",
       "13  Level 1    Intermediate Algebra     269        269           269   \n",
       "14  Level 5           Number Theory       4         36             0   \n",
       "15  Level 4                Geometry      45         36             0   \n",
       "16  Level 3    Intermediate Algebra       6          1             4   \n",
       "17  Level 1  Counting & Probability     105          1             0   \n",
       "18  Level 2              Prealgebra       5        400           700   \n",
       "19  Level 4           Number Theory     499        609           499   \n",
       "20  Level 1             Precalculus       8        240             0   \n",
       "21  Level 5                Geometry      15       1250           250   \n",
       "22  Level 3                 Algebra      10         10            10   \n",
       "23  Level 5  Counting & Probability     160        225           140   \n",
       "24  Level 1                 Algebra       8        342            12   \n",
       "25  Level 5           Number Theory       5          3             2   \n",
       "26  Level 1                Geometry      70        100           100   \n",
       "27  Level 5                Geometry     592       1000            76   \n",
       "28  Level 2              Prealgebra      87         87            87   \n",
       "29  Level 1           Number Theory     127         87            87   \n",
       "30  Level 5                 Algebra     117         17  -6*sqrt(3)\\n   \n",
       "31  Level 1                 Algebra      65          6           216   \n",
       "32  Level 3  Counting & Probability     840          1             0   \n",
       "33  Level 1             Precalculus       1          1             1   \n",
       "34  Level 3    Intermediate Algebra       0          3             4   \n",
       "35  Level 5                Geometry      46        100            69   \n",
       "36  Level 4           Number Theory      20         16            20   \n",
       "37  Level 2             Precalculus       3         12           728   \n",
       "38  Level 3              Prealgebra      18          2             2   \n",
       "39  Level 3                 Algebra       5          1             5   \n",
       "40  Level 5                 Algebra      26          9            26   \n",
       "41  Level 5              Prealgebra      12       1000            12   \n",
       "42  Level 1                 Algebra       7          6             7   \n",
       "43  Level 4    Intermediate Algebra      14         12            14   \n",
       "44  Level 2                Geometry      30          1            50   \n",
       "45  Level 4              Prealgebra      75         15            15   \n",
       "46  Level 3    Intermediate Algebra       2          4             4   \n",
       "\n",
       "   combined_result  is_correct  \n",
       "0                1       False  \n",
       "1                5       False  \n",
       "2                8       False  \n",
       "3                8       False  \n",
       "4              160       False  \n",
       "5              160       False  \n",
       "6              160       False  \n",
       "7                9       False  \n",
       "8              100       False  \n",
       "9                4       False  \n",
       "10               4       False  \n",
       "11              49       False  \n",
       "12              20       False  \n",
       "13             269       False  \n",
       "14               0       False  \n",
       "15               0       False  \n",
       "16               4       False  \n",
       "17               0       False  \n",
       "18             700       False  \n",
       "19             499       False  \n",
       "20               0       False  \n",
       "21             250       False  \n",
       "22              10       False  \n",
       "23             140       False  \n",
       "24              12       False  \n",
       "25               2       False  \n",
       "26             100       False  \n",
       "27              76       False  \n",
       "28              87       False  \n",
       "29              87       False  \n",
       "30    -6*sqrt(3)\\n       False  \n",
       "31               0       False  \n",
       "32               0       False  \n",
       "33               1       False  \n",
       "34               4       False  \n",
       "35              69       False  \n",
       "36              20       False  \n",
       "37             728       False  \n",
       "38               2       False  \n",
       "39               5       False  \n",
       "40              26       False  \n",
       "41              12       False  \n",
       "42               7       False  \n",
       "43              14       False  \n",
       "44              50       False  \n",
       "45              15       False  \n",
       "46               4       False  "
      ]
     },
     "metadata": {},
     "output_type": "display_data"
    }
   ],
   "source": [
    "with pd.option_context('display.max_rows', None):\n",
    "    display(merged[['level', 'type', 'answer', 'llm_result', 'code_result', 'combined_result', 'is_correct']])"
   ]
  },
  {
   "cell_type": "code",
   "execution_count": null,
   "id": "ec4de9d6-ba60-4fbf-bd87-d983e876f968",
   "metadata": {},
   "outputs": [],
   "source": []
  },
  {
   "cell_type": "code",
   "execution_count": null,
   "id": "cc8da072-d99f-4b9a-abb8-c9492a02830b",
   "metadata": {},
   "outputs": [],
   "source": []
  },
  {
   "cell_type": "code",
   "execution_count": null,
   "id": "881ca691-af95-459e-82a7-2b7f3ffd8b47",
   "metadata": {},
   "outputs": [],
   "source": []
  },
  {
   "cell_type": "code",
   "execution_count": null,
   "id": "af95e75c-d528-4ee7-9dc2-a6ab36794b2c",
   "metadata": {},
   "outputs": [],
   "source": []
  },
  {
   "cell_type": "code",
   "execution_count": null,
   "id": "0fea492a-849c-42b2-a193-f5d8f0e65062",
   "metadata": {},
   "outputs": [],
   "source": []
  },
  {
   "cell_type": "code",
   "execution_count": null,
   "id": "47fba9ff-9e8f-493c-9b34-84280601b6d3",
   "metadata": {},
   "outputs": [],
   "source": []
  },
  {
   "cell_type": "code",
   "execution_count": null,
   "id": "c501aa65-d388-4947-bb58-2668aacd7d6b",
   "metadata": {},
   "outputs": [],
   "source": []
  },
  {
   "cell_type": "code",
   "execution_count": null,
   "id": "54a331cc-56cd-42f5-8086-e679a7ba1486",
   "metadata": {},
   "outputs": [],
   "source": []
  },
  {
   "cell_type": "code",
   "execution_count": null,
   "id": "c03d3c65-b44e-4ae8-932a-5b4f5fd18637",
   "metadata": {},
   "outputs": [],
   "source": []
  },
  {
   "cell_type": "code",
   "execution_count": null,
   "id": "c2d6d079-69ec-46d7-88a9-069ec0039e4d",
   "metadata": {},
   "outputs": [],
   "source": []
  },
  {
   "cell_type": "code",
   "execution_count": null,
   "id": "870a181a-9b2e-47c3-884b-8fef3e7de6fd",
   "metadata": {},
   "outputs": [],
   "source": []
  },
  {
   "cell_type": "code",
   "execution_count": 12,
   "id": "db80c69b-1b6b-46ff-8791-7b7ade281881",
   "metadata": {
    "tags": []
   },
   "outputs": [
    {
     "name": "stdout",
     "output_type": "stream",
     "text": [
      "Processed 2 prompts in 35s\n",
      "Processed 2 prompts in 82s\n",
      "Processed 2 prompts in 60s\n",
      "Processed 2 prompts in 17s\n",
      "Processed 2 prompts in 40s\n",
      "Processed 2 prompts in 57s\n",
      "Processed 2 prompts in 2s\n",
      "Processed 2 prompts in 210s\n",
      "Processed 2 prompts in 4s\n",
      "Processed 2 prompts in 190s\n",
      "Processed 2 prompts in 205s\n",
      "Processed 2 prompts in 24s\n",
      "Processed 2 prompts in 189s\n",
      "Processed 2 prompts in 9s\n",
      "Processed 2 prompts in 5s\n",
      "Processed 2 prompts in 23s\n",
      "Processed 2 prompts in 207s\n",
      "Processed 2 prompts in 62s\n",
      "Processed 2 prompts in 61s\n",
      "Processed 2 prompts in 54s\n",
      "Processed 2 prompts in 2s\n",
      "Processed 2 prompts in 22s\n",
      "Processed 2 prompts in 9s\n",
      "Processed 2 prompts in 216s\n",
      "Processed 2 prompts in 109s\n",
      "Processed 2 prompts in 25s\n",
      "Processed 2 prompts in 42s\n",
      "Processed 2 prompts in 38s\n",
      "Processed 2 prompts in 217s\n",
      "Processed 2 prompts in 42s\n",
      "Processed 2 prompts in 28s\n",
      "Processed 2 prompts in 43s\n",
      "Processed 2 prompts in 30s\n",
      "Processed 2 prompts in 9s\n",
      "Processed 2 prompts in 204s\n",
      "Processed 2 prompts in 98s\n",
      "Processed 2 prompts in 5s\n",
      "Processed 2 prompts in 111s\n",
      "Processed 2 prompts in 30s\n",
      "Processed 2 prompts in 5s\n",
      "Processed 2 prompts in 3s\n",
      "Processed 2 prompts in 59s\n",
      "Processed 2 prompts in 206s\n",
      "Processed 2 prompts in 64s\n",
      "Processed 2 prompts in 203s\n",
      "Processed 2 prompts in 25s\n",
      "Processed 2 prompts in 25s\n",
      "Processed 2 prompts in 37s\n",
      "Processed 2 prompts in 43s\n",
      "Processed 2 prompts in 55s\n",
      "Processed 2 prompts in 7s\n",
      "Processed 2 prompts in 216s\n",
      "Processed 2 prompts in 4s\n",
      "Processed 2 prompts in 2s\n",
      "Processed 2 prompts in 41s\n",
      "Processed 2 prompts in 60s\n",
      "Processed 2 prompts in 29s\n",
      "Processed 2 prompts in 157s\n",
      "Processed 2 prompts in 198s\n",
      "Processed 2 prompts in 107s\n",
      "Processed 2 prompts in 204s\n",
      "Processed 2 prompts in 22s\n",
      "Processed 2 prompts in 31s\n",
      "Processed 2 prompts in 90s\n",
      "Processed 2 prompts in 52s\n",
      "Processed 2 prompts in 73s\n",
      "Processed 2 prompts in 13s\n",
      "Processed 2 prompts in 29s\n",
      "Processed 2 prompts in 40s\n",
      "Processed 2 prompts in 73s\n",
      "Processed 2 prompts in 3s\n",
      "Processed 2 prompts in 214s\n",
      "Processed 2 prompts in 210s\n",
      "Processed 2 prompts in 56s\n",
      "Processed 2 prompts in 122s\n"
     ]
    },
    {
     "ename": "TypeError",
     "evalue": "bad operand type for unary +: 'str'",
     "output_type": "error",
     "traceback": [
      "\u001b[0;31m---------------------------------------------------------------------------\u001b[0m",
      "\u001b[0;31mTypeError\u001b[0m                                 Traceback (most recent call last)",
      "Cell \u001b[0;32mIn[12], line 16\u001b[0m\n\u001b[1;32m     13\u001b[0m     \u001b[38;5;28mprint\u001b[39m(\u001b[38;5;124mf\u001b[39m\u001b[38;5;124m'\u001b[39m\u001b[38;5;124mProcessed \u001b[39m\u001b[38;5;132;01m{\u001b[39;00m\u001b[38;5;28mlen\u001b[39m(q_prompts)\u001b[38;5;132;01m}\u001b[39;00m\u001b[38;5;124m prompts in \u001b[39m\u001b[38;5;132;01m{\u001b[39;00m\u001b[38;5;28mround\u001b[39m(time\u001b[38;5;241m.\u001b[39mtime()\u001b[38;5;250m \u001b[39m\u001b[38;5;241m-\u001b[39m\u001b[38;5;250m \u001b[39mstart_time)\u001b[38;5;132;01m}\u001b[39;00m\u001b[38;5;124ms\u001b[39m\u001b[38;5;124m'\u001b[39m)\n\u001b[1;32m     15\u001b[0m q_and_res[\u001b[38;5;124m'\u001b[39m\u001b[38;5;124mq_ending\u001b[39m\u001b[38;5;124m'\u001b[39m] \u001b[38;5;241m=\u001b[39m q_ending\n\u001b[0;32m---> 16\u001b[0m q_and_res[\u001b[38;5;124m'\u001b[39m\u001b[38;5;124mcombined\u001b[39m\u001b[38;5;124m'\u001b[39m] \u001b[38;5;241m=\u001b[39m q_and_res[\u001b[38;5;124m'\u001b[39m\u001b[38;5;124mproblem\u001b[39m\u001b[38;5;124m'\u001b[39m] \u001b[38;5;241m+\u001b[39m tool_instruction \u001b[38;5;241m+\u001b[39m q_and_res[\u001b[38;5;124m'\u001b[39m\u001b[38;5;124mllm_answer\u001b[39m\u001b[38;5;124m'\u001b[39m] \u001b[38;5;241m+\u001b[39m \u001b[38;5;124m'\u001b[39m\u001b[38;5;130;01m\\n\u001b[39;00m\u001b[38;5;124m'\u001b[39m \u001b[38;5;241m+\u001b[39m q_and_res[\u001b[38;5;124m'\u001b[39m\u001b[38;5;124mcode_result\u001b[39m\u001b[38;5;124m'\u001b[39m]\u001b[38;5;241m.\u001b[39mastype(\u001b[38;5;28mstr\u001b[39m) \u001b[38;5;241m+\u001b[39m q_and_res[\u001b[38;5;124m'\u001b[39m\u001b[38;5;124mq_ending\u001b[39m\u001b[38;5;124m'\u001b[39m] \u001b[38;5;241m+\u001b[39m \u001b[38;5;241m+\u001b[39m \u001b[38;5;124m'\u001b[39m\u001b[38;5;130;01m\\n\u001b[39;00m\u001b[38;5;124m```\u001b[39m\u001b[38;5;130;01m\\n\u001b[39;00m\u001b[38;5;124m'\u001b[39m\n",
      "\u001b[0;31mTypeError\u001b[0m: bad operand type for unary +: 'str'"
     ]
    }
   ],
   "source": [
    "q_ending = []\n",
    "for batch in batch_process(q_and_res, batch_size // 2):\n",
    "    q_prompts = []\n",
    "    for row in batch.iterrows():\n",
    "        one_q = row[1]['problem'] + tool_instruction + row[1]['llm_answer'] + '\\n' + str(row[1]['code_result']) + '\\n```\\n'\n",
    "        q_prompts.append(one_q)\n",
    "    start_time = time.time()\n",
    "    answers = generator(q_prompts, max_tokens=2400, stop_at='```output')\n",
    "    if type(answers) == str:\n",
    "        q_ending.append(answers)\n",
    "    else:\n",
    "        q_ending += answers    \n",
    "    print(f'Processed {len(q_prompts)} prompts in {round(time.time() - start_time)}s')\n",
    "    \n",
    "q_and_res['q_ending'] = q_ending\n",
    "q_and_res['combined'] = q_and_res['problem'] + tool_instruction + q_and_res['llm_answer'] + '\\n' + q_and_res['code_result'].astype(str) + q_and_res['q_ending'] + '\\n```\\n'"
   ]
  },
  {
   "cell_type": "code",
   "execution_count": null,
   "id": "9919f26f-6516-4dcd-9d8d-cedc746576e8",
   "metadata": {},
   "outputs": [],
   "source": []
  },
  {
   "cell_type": "code",
   "execution_count": 15,
   "id": "e3b6b707-55f4-42de-b3b6-787ea58ed514",
   "metadata": {
    "tags": []
   },
   "outputs": [
    {
     "data": {
      "text/plain": [
       "22"
      ]
     },
     "execution_count": 15,
     "metadata": {},
     "output_type": "execute_result"
    }
   ],
   "source": []
  },
  {
   "cell_type": "code",
   "execution_count": 18,
   "id": "5ecedb58-7e28-4a0c-8ef7-01febe4dcebe",
   "metadata": {
    "tags": []
   },
   "outputs": [],
   "source": [
    "q_and_res.to_csv('q_and_res_baseline.csv', index=False)"
   ]
  },
  {
   "cell_type": "code",
   "execution_count": 19,
   "id": "a6395e6c-64ff-40f0-9281-6728ec7dab0f",
   "metadata": {
    "tags": []
   },
   "outputs": [
    {
     "data": {
      "text/html": [
       "<div>\n",
       "<style scoped>\n",
       "    .dataframe tbody tr th:only-of-type {\n",
       "        vertical-align: middle;\n",
       "    }\n",
       "\n",
       "    .dataframe tbody tr th {\n",
       "        vertical-align: top;\n",
       "    }\n",
       "\n",
       "    .dataframe thead th {\n",
       "        text-align: right;\n",
       "    }\n",
       "</style>\n",
       "<table border=\"1\" class=\"dataframe\">\n",
       "  <thead>\n",
       "    <tr style=\"text-align: right;\">\n",
       "      <th></th>\n",
       "      <th>question_id</th>\n",
       "      <th>problem</th>\n",
       "      <th>correct_answer</th>\n",
       "      <th>rep_idx</th>\n",
       "      <th>iteration</th>\n",
       "      <th>llm_answer</th>\n",
       "      <th>code</th>\n",
       "      <th>code_result</th>\n",
       "      <th>q_ending</th>\n",
       "      <th>combined</th>\n",
       "      <th>answer</th>\n",
       "    </tr>\n",
       "  </thead>\n",
       "  <tbody>\n",
       "    <tr>\n",
       "      <th>3334</th>\n",
       "      <td>1084</td>\n",
       "      <td>Let $(x,y)$ be an ordered pair of real numbers...</td>\n",
       "      <td>49</td>\n",
       "      <td>0</td>\n",
       "      <td>0</td>\n",
       "      <td>\\n```python\\nfrom sympy import symbols, Eq, so...</td>\n",
       "      <td>from sympy import symbols, Eq, solve\\n\\ndef ma...</td>\n",
       "      <td>49</td>\n",
       "      <td>The maximum value of $y$ is $49$. However, sin...</td>\n",
       "      <td>Let $(x,y)$ be an ordered pair of real numbers...</td>\n",
       "      <td>49</td>\n",
       "    </tr>\n",
       "    <tr>\n",
       "      <th>2841</th>\n",
       "      <td>539</td>\n",
       "      <td>Find the sum of the $x$-coordinates of all pos...</td>\n",
       "      <td>78</td>\n",
       "      <td>0</td>\n",
       "      <td>0</td>\n",
       "      <td>\\n```python\\nfrom sympy import symbols, solve,...</td>\n",
       "      <td>from sympy import symbols, solve, Rational\\n\\n...</td>\n",
       "      <td>Traceback (most recent call last):\\n  File \"/h...</td>\n",
       "      <td>The solution to the equation $\\frac1x+\\frac1y=...</td>\n",
       "      <td>Find the sum of the $x$-coordinates of all pos...</td>\n",
       "      <td>1000</td>\n",
       "    </tr>\n",
       "    <tr>\n",
       "      <th>4411</th>\n",
       "      <td>1304</td>\n",
       "      <td>Let\\n\\[\\mathbf{a} = \\begin{pmatrix} 5 \\\\ -3 \\\\...</td>\n",
       "      <td>9</td>\n",
       "      <td>0</td>\n",
       "      <td>0</td>\n",
       "      <td>\\n\\nThe direction vector of the line containin...</td>\n",
       "      <td>from sympy import Matrix\\n\\ndef direction_vect...</td>\n",
       "      <td>Matrix([[-16], [4], [32]])\\n</td>\n",
       "      <td>The direction vector of the line containing $\\...</td>\n",
       "      <td>Let\\n\\[\\mathbf{a} = \\begin{pmatrix} 5 \\\\ -3 \\\\...</td>\n",
       "      <td>1000</td>\n",
       "    </tr>\n",
       "    <tr>\n",
       "      <th>2072</th>\n",
       "      <td>977</td>\n",
       "      <td>Let $z=a+bi$ be the complex number with $\\vert...</td>\n",
       "      <td>5</td>\n",
       "      <td>0</td>\n",
       "      <td>0</td>\n",
       "      <td>\\n```python\\nfrom sympy import symbols, I, sqr...</td>\n",
       "      <td>from sympy import symbols, I, sqrt, simplify\\n...</td>\n",
       "      <td>Traceback (most recent call last):\\n  File \"/h...</td>\n",
       "      <td>The `atan` function is not defined in the Symp...</td>\n",
       "      <td>Let $z=a+bi$ be the complex number with $\\vert...</td>\n",
       "      <td>4</td>\n",
       "    </tr>\n",
       "    <tr>\n",
       "      <th>3963</th>\n",
       "      <td>936</td>\n",
       "      <td>Two jokers are added to a $52$ card deck and t...</td>\n",
       "      <td>3</td>\n",
       "      <td>0</td>\n",
       "      <td>0</td>\n",
       "      <td>\\n\\nSince the two jokers are added to a 52 car...</td>\n",
       "      <td>def expected_cards():\\n    \"\"\"Find the expecte...</td>\n",
       "      <td>52</td>\n",
       "      <td>The expected number of cards that will be stri...</td>\n",
       "      <td>Two jokers are added to a $52$ card deck and t...</td>\n",
       "      <td>52</td>\n",
       "    </tr>\n",
       "    <tr>\n",
       "      <th>...</th>\n",
       "      <td>...</td>\n",
       "      <td>...</td>\n",
       "      <td>...</td>\n",
       "      <td>...</td>\n",
       "      <td>...</td>\n",
       "      <td>...</td>\n",
       "      <td>...</td>\n",
       "      <td>...</td>\n",
       "      <td>...</td>\n",
       "      <td>...</td>\n",
       "      <td>...</td>\n",
       "    </tr>\n",
       "    <tr>\n",
       "      <th>2090</th>\n",
       "      <td>163</td>\n",
       "      <td>For $1 \\leq i \\leq 215$ let $a_i = \\dfrac{1}{2...</td>\n",
       "      <td>860</td>\n",
       "      <td>2</td>\n",
       "      <td>0</td>\n",
       "      <td>\\n```python\\nimport numpy as np\\nfrom scipy.op...</td>\n",
       "      <td>import numpy as np\\nfrom scipy.optimize import...</td>\n",
       "      <td>487</td>\n",
       "      <td>The maximum possible value of $x_2$ modulo 100...</td>\n",
       "      <td>For $1 \\leq i \\leq 215$ let $a_i = \\dfrac{1}{2...</td>\n",
       "      <td>487</td>\n",
       "    </tr>\n",
       "    <tr>\n",
       "      <th>1803</th>\n",
       "      <td>911</td>\n",
       "      <td>For $0 &lt; k &lt; 6,$ the graphs of $\\frac{(x - k)^...</td>\n",
       "      <td>5</td>\n",
       "      <td>2</td>\n",
       "      <td>0</td>\n",
       "      <td>\\n```python\\nfrom sympy import symbols, solve,...</td>\n",
       "      <td>from sympy import symbols, solve, Rational\\n\\n...</td>\n",
       "      <td>2015/2 - 3*sqrt(281)/2\\n</td>\n",
       "      <td>The value of $k$ such that the square $ABCD$ e...</td>\n",
       "      <td>For $0 &lt; k &lt; 6,$ the graphs of $\\frac{(x - k)^...</td>\n",
       "      <td>2</td>\n",
       "    </tr>\n",
       "    <tr>\n",
       "      <th>3545</th>\n",
       "      <td>765</td>\n",
       "      <td>There are 360 people in my school.  15 take ca...</td>\n",
       "      <td>110</td>\n",
       "      <td>2</td>\n",
       "      <td>0</td>\n",
       "      <td>\\n\\n```python\\nfrom sympy import symbols, Eq, ...</td>\n",
       "      <td>from sympy import symbols, Eq, solve\\n\\ndef st...</td>\n",
       "      <td>255</td>\n",
       "      <td>The number of students taking physics is $\\box...</td>\n",
       "      <td>There are 360 people in my school.  15 take ca...</td>\n",
       "      <td>255</td>\n",
       "    </tr>\n",
       "    <tr>\n",
       "      <th>3714</th>\n",
       "      <td>396</td>\n",
       "      <td>We roll a fair 6-sided die 5 times.  What is t...</td>\n",
       "      <td>648</td>\n",
       "      <td>2</td>\n",
       "      <td>0</td>\n",
       "      <td>\\n\\n\\n```python\\nfrom sympy import binomial\\n\\...</td>\n",
       "      <td>from sympy import binomial\\n\\ndef probability_...</td>\n",
       "      <td>1</td>\n",
       "      <td>The probability that we get a 6 in at most 2 o...</td>\n",
       "      <td>We roll a fair 6-sided die 5 times.  What is t...</td>\n",
       "      <td>1\\%</td>\n",
       "    </tr>\n",
       "    <tr>\n",
       "      <th>4831</th>\n",
       "      <td>862</td>\n",
       "      <td>A solid right prism $ABCDEF$ has a height of $...</td>\n",
       "      <td>3</td>\n",
       "      <td>2</td>\n",
       "      <td>0</td>\n",
       "      <td>\\n```python\\nfrom sympy import symbols, solve,...</td>\n",
       "      <td>from sympy import symbols, solve, sqrt\\n\\ndef ...</td>\n",
       "      <td>76</td>\n",
       "      <td>The volume of the solid $QPCDMN$ is $76$ modul...</td>\n",
       "      <td>A solid right prism $ABCDEF$ has a height of $...</td>\n",
       "      <td>76</td>\n",
       "    </tr>\n",
       "  </tbody>\n",
       "</table>\n",
       "<p>150 rows × 11 columns</p>\n",
       "</div>"
      ],
      "text/plain": [
       "     question_id                                            problem  \\\n",
       "3334        1084  Let $(x,y)$ be an ordered pair of real numbers...   \n",
       "2841         539  Find the sum of the $x$-coordinates of all pos...   \n",
       "4411        1304  Let\\n\\[\\mathbf{a} = \\begin{pmatrix} 5 \\\\ -3 \\\\...   \n",
       "2072         977  Let $z=a+bi$ be the complex number with $\\vert...   \n",
       "3963         936  Two jokers are added to a $52$ card deck and t...   \n",
       "...          ...                                                ...   \n",
       "2090         163  For $1 \\leq i \\leq 215$ let $a_i = \\dfrac{1}{2...   \n",
       "1803         911  For $0 < k < 6,$ the graphs of $\\frac{(x - k)^...   \n",
       "3545         765  There are 360 people in my school.  15 take ca...   \n",
       "3714         396  We roll a fair 6-sided die 5 times.  What is t...   \n",
       "4831         862  A solid right prism $ABCDEF$ has a height of $...   \n",
       "\n",
       "     correct_answer  rep_idx  iteration  \\\n",
       "3334             49        0          0   \n",
       "2841             78        0          0   \n",
       "4411              9        0          0   \n",
       "2072              5        0          0   \n",
       "3963              3        0          0   \n",
       "...             ...      ...        ...   \n",
       "2090            860        2          0   \n",
       "1803              5        2          0   \n",
       "3545            110        2          0   \n",
       "3714            648        2          0   \n",
       "4831              3        2          0   \n",
       "\n",
       "                                             llm_answer  \\\n",
       "3334  \\n```python\\nfrom sympy import symbols, Eq, so...   \n",
       "2841  \\n```python\\nfrom sympy import symbols, solve,...   \n",
       "4411  \\n\\nThe direction vector of the line containin...   \n",
       "2072  \\n```python\\nfrom sympy import symbols, I, sqr...   \n",
       "3963  \\n\\nSince the two jokers are added to a 52 car...   \n",
       "...                                                 ...   \n",
       "2090  \\n```python\\nimport numpy as np\\nfrom scipy.op...   \n",
       "1803  \\n```python\\nfrom sympy import symbols, solve,...   \n",
       "3545  \\n\\n```python\\nfrom sympy import symbols, Eq, ...   \n",
       "3714  \\n\\n\\n```python\\nfrom sympy import binomial\\n\\...   \n",
       "4831  \\n```python\\nfrom sympy import symbols, solve,...   \n",
       "\n",
       "                                                   code  \\\n",
       "3334  from sympy import symbols, Eq, solve\\n\\ndef ma...   \n",
       "2841  from sympy import symbols, solve, Rational\\n\\n...   \n",
       "4411  from sympy import Matrix\\n\\ndef direction_vect...   \n",
       "2072  from sympy import symbols, I, sqrt, simplify\\n...   \n",
       "3963  def expected_cards():\\n    \"\"\"Find the expecte...   \n",
       "...                                                 ...   \n",
       "2090  import numpy as np\\nfrom scipy.optimize import...   \n",
       "1803  from sympy import symbols, solve, Rational\\n\\n...   \n",
       "3545  from sympy import symbols, Eq, solve\\n\\ndef st...   \n",
       "3714  from sympy import binomial\\n\\ndef probability_...   \n",
       "4831  from sympy import symbols, solve, sqrt\\n\\ndef ...   \n",
       "\n",
       "                                            code_result  \\\n",
       "3334                                                 49   \n",
       "2841  Traceback (most recent call last):\\n  File \"/h...   \n",
       "4411                       Matrix([[-16], [4], [32]])\\n   \n",
       "2072  Traceback (most recent call last):\\n  File \"/h...   \n",
       "3963                                                 52   \n",
       "...                                                 ...   \n",
       "2090                                                487   \n",
       "1803                           2015/2 - 3*sqrt(281)/2\\n   \n",
       "3545                                                255   \n",
       "3714                                                  1   \n",
       "4831                                                 76   \n",
       "\n",
       "                                               q_ending  \\\n",
       "3334  The maximum value of $y$ is $49$. However, sin...   \n",
       "2841  The solution to the equation $\\frac1x+\\frac1y=...   \n",
       "4411  The direction vector of the line containing $\\...   \n",
       "2072  The `atan` function is not defined in the Symp...   \n",
       "3963  The expected number of cards that will be stri...   \n",
       "...                                                 ...   \n",
       "2090  The maximum possible value of $x_2$ modulo 100...   \n",
       "1803  The value of $k$ such that the square $ABCD$ e...   \n",
       "3545  The number of students taking physics is $\\box...   \n",
       "3714  The probability that we get a 6 in at most 2 o...   \n",
       "4831  The volume of the solid $QPCDMN$ is $76$ modul...   \n",
       "\n",
       "                                               combined answer  \n",
       "3334  Let $(x,y)$ be an ordered pair of real numbers...     49  \n",
       "2841  Find the sum of the $x$-coordinates of all pos...   1000  \n",
       "4411  Let\\n\\[\\mathbf{a} = \\begin{pmatrix} 5 \\\\ -3 \\\\...   1000  \n",
       "2072  Let $z=a+bi$ be the complex number with $\\vert...      4  \n",
       "3963  Two jokers are added to a $52$ card deck and t...     52  \n",
       "...                                                 ...    ...  \n",
       "2090  For $1 \\leq i \\leq 215$ let $a_i = \\dfrac{1}{2...    487  \n",
       "1803  For $0 < k < 6,$ the graphs of $\\frac{(x - k)^...      2  \n",
       "3545  There are 360 people in my school.  15 take ca...    255  \n",
       "3714  We roll a fair 6-sided die 5 times.  What is t...    1\\%  \n",
       "4831  A solid right prism $ABCDEF$ has a height of $...     76  \n",
       "\n",
       "[150 rows x 11 columns]"
      ]
     },
     "execution_count": 19,
     "metadata": {},
     "output_type": "execute_result"
    }
   ],
   "source": [
    "q_and_res"
   ]
  },
  {
   "cell_type": "code",
   "execution_count": null,
   "id": "d70b247f-60da-4ac7-a807-d2c44579fc28",
   "metadata": {},
   "outputs": [],
   "source": []
  },
  {
   "cell_type": "code",
   "execution_count": null,
   "id": "9118b955-613f-4771-95c3-dc180e719cb1",
   "metadata": {},
   "outputs": [],
   "source": []
  },
  {
   "cell_type": "code",
   "execution_count": null,
   "id": "164092de-f5aa-454d-b072-3941cf0fb1b5",
   "metadata": {},
   "outputs": [],
   "source": []
  },
  {
   "cell_type": "code",
   "execution_count": null,
   "id": "e7165c7f-5cad-4d46-8046-94f0e2a310df",
   "metadata": {},
   "outputs": [],
   "source": []
  },
  {
   "cell_type": "code",
   "execution_count": null,
   "id": "2c4f4b89-3704-4b5f-be35-eda425bb1eac",
   "metadata": {},
   "outputs": [],
   "source": []
  },
  {
   "cell_type": "code",
   "execution_count": null,
   "id": "0298d96a-50e5-4abc-9b7a-f5ab430fa2c9",
   "metadata": {},
   "outputs": [],
   "source": []
  },
  {
   "cell_type": "code",
   "execution_count": 7,
   "id": "106e879a-b6c1-42e9-ae04-c22a2e4c08d7",
   "metadata": {
    "tags": []
   },
   "outputs": [
    {
     "name": "stdout",
     "output_type": "stream",
     "text": [
      "{question}\n",
      "\n",
      "Please only provide Python code to solve the problem. The correct answer is an integer.\n",
      "Unless the problem is explicity in complex numbers create all SymPy symbols with parameter real=True.\n",
      "\n",
      "\n",
      "{answer}\n",
      "```output\n",
      "{code_results}\n",
      "```\n",
      "\n",
      "Please check the code above and provide a corrected version below.\n",
      "If the output above shows an error improve the code below to fix the error.\n",
      "```python\n",
      "from sympy import *\n",
      "\n",
      "\n"
     ]
    }
   ],
   "source": [
    "refine_instruction = \"Please check the code above and provide a corrected version below.\\n\" \\\n",
    "                     + \"If the output above shows an error improve the code below to fix the error.\\n\" \\\n",
    "                     + python_code_prefix + python_default_imports\n",
    "refine_template = f\"\"\"{{question}}\n",
    "{tool_instruction}\n",
    "{{answer}}\n",
    "```output\n",
    "{{code_results}}\n",
    "```\n",
    "\n",
    "{refine_instruction}\n",
    "\"\"\"\n",
    "print(refine_template)"
   ]
  },
  {
   "cell_type": "code",
   "execution_count": 19,
   "id": "48761ff7-3d33-4782-ae1c-dc842312448b",
   "metadata": {
    "tags": []
   },
   "outputs": [
    {
     "name": "stderr",
     "output_type": "stream",
     "text": [
      "Special tokens have been added in the vocabulary, make sure the associated word embeddings are fine-tuned or trained.\n"
     ]
    },
    {
     "data": {
      "application/vnd.jupyter.widget-view+json": {
       "model_id": "831a6ce8728b45388a6044386d9300f3",
       "version_major": 2,
       "version_minor": 0
      },
      "text/plain": [
       "Loading checkpoint shards:   0%|          | 0/4 [00:00<?, ?it/s]"
      ]
     },
     "metadata": {},
     "output_type": "display_data"
    },
    {
     "name": "stdout",
     "output_type": "stream",
     "text": [
      "Processed 3 prompts in 258s\n",
      "Processed 3 prompts in 120s\n",
      "Processed 3 prompts in 157s\n",
      "Processed 3 prompts in 45s\n",
      "Available Memory (GB, approx.): 23.62\n"
     ]
    }
   ],
   "source": [
    "refine_model = outlines_model(llama_3)\n",
    "generator = generate.text(refine_model)\n",
    "\n",
    "def new_res_row(old_row, refined_code, itr):\n",
    "    new_row = old_row.copy()\n",
    "    new_row['iteration'] = itr + 1\n",
    "    new_row['code'] = parse_code(refined_code)\n",
    "    new_row['code_result'] = parse_and_run(refined_code)\n",
    "    return new_row\n",
    "\n",
    "for itr in range(1):\n",
    "    prev_results = q_and_res[q_and_res['iteration'] == itr]\n",
    "    new_results = []\n",
    "    for batch in batch_process(prev_results, batch_size):\n",
    "        prompts = []\n",
    "        for res in batch.iterrows():\n",
    "            refine_prompt = refine_template.format(question=res[1]['problem'], answer=res[1]['code'], code_results=res[1]['code_result'])\n",
    "            # print(refine_prompt)\n",
    "            prompts.append(refine_prompt)\n",
    "        start_time = time.time()\n",
    "        refined_res = generator(prompts, max_tokens=3000, stop_at='```output')\n",
    "        if type(refined_res) == str:\n",
    "            new_rows = pd.DataFrame([new_res_row(batch.iloc[0])], refined_res, itr)\n",
    "        else:  \n",
    "            new_rows = []\n",
    "            for i, refined_code in enumerate(refined_res):\n",
    "                new_rows.append(new_res_row(batch.iloc[i], refined_code, itr))\n",
    "            new_rows = pd.DataFrame(new_rows)  \n",
    "        q_and_res = pd.concat([q_and_res, new_rows])\n",
    "        print(f'Processed {len(prompts)} prompts in {round(time.time() - start_time)}s')\n",
    "\n",
    "del[refine_model]\n",
    "del[generator]\n",
    "free_mem()\n",
    "print_cuda_mem()"
   ]
  },
  {
   "cell_type": "code",
   "execution_count": 20,
   "id": "f357c26b-8251-469f-b5a9-59aee8877eb6",
   "metadata": {
    "tags": []
   },
   "outputs": [
    {
     "data": {
      "text/html": [
       "<div>\n",
       "<style scoped>\n",
       "    .dataframe tbody tr th:only-of-type {\n",
       "        vertical-align: middle;\n",
       "    }\n",
       "\n",
       "    .dataframe tbody tr th {\n",
       "        vertical-align: top;\n",
       "    }\n",
       "\n",
       "    .dataframe thead th {\n",
       "        text-align: right;\n",
       "    }\n",
       "</style>\n",
       "<table border=\"1\" class=\"dataframe\">\n",
       "  <thead>\n",
       "    <tr style=\"text-align: right;\">\n",
       "      <th></th>\n",
       "      <th>question_id</th>\n",
       "      <th>problem</th>\n",
       "      <th>correct_answer</th>\n",
       "      <th>rep_idx</th>\n",
       "      <th>iteration</th>\n",
       "      <th>code</th>\n",
       "      <th>code_result</th>\n",
       "    </tr>\n",
       "  </thead>\n",
       "  <tbody>\n",
       "    <tr>\n",
       "      <th>0</th>\n",
       "      <td>229ee8</td>\n",
       "      <td>Let $k, l &gt; 0$ be parameters. The parabola $y ...</td>\n",
       "      <td>52</td>\n",
       "      <td>0</td>\n",
       "      <td>0</td>\n",
       "      <td>from sympy import *\\n\\ndef sum_of_squares_dist...</td>\n",
       "      <td>Traceback (most recent call last):\\n  File \"/h...</td>\n",
       "    </tr>\n",
       "    <tr>\n",
       "      <th>1</th>\n",
       "      <td>229ee8</td>\n",
       "      <td>Let $k, l &gt; 0$ be parameters. The parabola $y ...</td>\n",
       "      <td>52</td>\n",
       "      <td>0</td>\n",
       "      <td>1</td>\n",
       "      <td>from sympy import *\\ndef sum_of_squares_distan...</td>\n",
       "      <td>File \"/home/daniel/code/math-ai/code.py\", li...</td>\n",
       "    </tr>\n",
       "    <tr>\n",
       "      <th>2</th>\n",
       "      <td>229ee8</td>\n",
       "      <td>Let $k, l &gt; 0$ be parameters. The parabola $y ...</td>\n",
       "      <td>52</td>\n",
       "      <td>1</td>\n",
       "      <td>0</td>\n",
       "      <td>from sympy import *\\n\\ndef sum_of_squares_dist...</td>\n",
       "      <td>2*(18*k - l + 4)/k\\n</td>\n",
       "    </tr>\n",
       "    <tr>\n",
       "      <th>3</th>\n",
       "      <td>229ee8</td>\n",
       "      <td>Let $k, l &gt; 0$ be parameters. The parabola $y ...</td>\n",
       "      <td>52</td>\n",
       "      <td>1</td>\n",
       "      <td>1</td>\n",
       "      <td>from sympy import *\\n DEV solution training tu...</td>\n",
       "      <td>File \"/home/daniel/code/math-ai/code.py\", li...</td>\n",
       "    </tr>\n",
       "    <tr>\n",
       "      <th>4</th>\n",
       "      <td>229ee8</td>\n",
       "      <td>Let $k, l &gt; 0$ be parameters. The parabola $y ...</td>\n",
       "      <td>52</td>\n",
       "      <td>2</td>\n",
       "      <td>0</td>\n",
       "      <td>from sympy import *\\nfrom sympy.solvers import...</td>\n",
       "      <td>-(-(k - sqrt(k*(k - l + 4)))/k + (k + sqrt(k*(...</td>\n",
       "    </tr>\n",
       "    <tr>\n",
       "      <th>5</th>\n",
       "      <td>229ee8</td>\n",
       "      <td>Let $k, l &gt; 0$ be parameters. The parabola $y ...</td>\n",
       "      <td>52</td>\n",
       "      <td>2</td>\n",
       "      <td>1</td>\n",
       "      <td>from sympy import *\\nx, k, l = symbols('x k l'...</td>\n",
       "      <td>-(-(k - sqrt(k*(k - l + 4)))/k + (k + sqrt(k*(...</td>\n",
       "    </tr>\n",
       "    <tr>\n",
       "      <th>6</th>\n",
       "      <td>229ee8</td>\n",
       "      <td>Let $k, l &gt; 0$ be parameters. The parabola $y ...</td>\n",
       "      <td>52</td>\n",
       "      <td>3</td>\n",
       "      <td>0</td>\n",
       "      <td>from sympy import *\\n\\nk, l, x, y, a, b = symb...</td>\n",
       "      <td>32 + (k - sqrt(k*(k - l + 4)))**2/k**2 + (k + ...</td>\n",
       "    </tr>\n",
       "    <tr>\n",
       "      <th>7</th>\n",
       "      <td>229ee8</td>\n",
       "      <td>Let $k, l &gt; 0$ be parameters. The parabola $y ...</td>\n",
       "      <td>52</td>\n",
       "      <td>3</td>\n",
       "      <td>1</td>\n",
       "      <td>from sympy import *\\nk, l, x, y, a, b = symbol...</td>\n",
       "      <td>32 + (k - sqrt(k*(k - l + 4)))**2/k**2 + (k + ...</td>\n",
       "    </tr>\n",
       "    <tr>\n",
       "      <th>8</th>\n",
       "      <td>229ee8</td>\n",
       "      <td>Let $k, l &gt; 0$ be parameters. The parabola $y ...</td>\n",
       "      <td>52</td>\n",
       "      <td>4</td>\n",
       "      <td>0</td>\n",
       "      <td>from sympy import *\\n\\nk, l, x = symbols('k l ...</td>\n",
       "      <td>Traceback (most recent call last):\\n  File \"/h...</td>\n",
       "    </tr>\n",
       "    <tr>\n",
       "      <th>9</th>\n",
       "      <td>229ee8</td>\n",
       "      <td>Let $k, l &gt; 0$ be parameters. The parabola $y ...</td>\n",
       "      <td>52</td>\n",
       "      <td>4</td>\n",
       "      <td>1</td>\n",
       "      <td>from sympy import *\\n BLAH BLAH\\n\\n</td>\n",
       "      <td>File \"/home/daniel/code/math-ai/code.py\", li...</td>\n",
       "    </tr>\n",
       "    <tr>\n",
       "      <th>10</th>\n",
       "      <td>229ee8</td>\n",
       "      <td>Let $k, l &gt; 0$ be parameters. The parabola $y ...</td>\n",
       "      <td>52</td>\n",
       "      <td>5</td>\n",
       "      <td>0</td>\n",
       "      <td>from sympy import *\\n\\nk, l, x = symbols('k l ...</td>\n",
       "      <td>2*(4 - l)/k\\n</td>\n",
       "    </tr>\n",
       "    <tr>\n",
       "      <th>11</th>\n",
       "      <td>229ee8</td>\n",
       "      <td>Let $k, l &gt; 0$ be parameters. The parabola $y ...</td>\n",
       "      <td>52</td>\n",
       "      <td>5</td>\n",
       "      <td>1</td>\n",
       "      <td>from sympy import *\\nk, l, x = symbols('k l x'...</td>\n",
       "      <td>2*(4 - l)/k\\n</td>\n",
       "    </tr>\n",
       "    <tr>\n",
       "      <th>12</th>\n",
       "      <td>246d26</td>\n",
       "      <td>Each of the three-digits numbers $111$ to $999...</td>\n",
       "      <td>250</td>\n",
       "      <td>0</td>\n",
       "      <td>0</td>\n",
       "      <td>from sympy import *\\n\\ndef maximum_yellow_numb...</td>\n",
       "      <td>54</td>\n",
       "    </tr>\n",
       "    <tr>\n",
       "      <th>13</th>\n",
       "      <td>246d26</td>\n",
       "      <td>Each of the three-digits numbers $111$ to $999...</td>\n",
       "      <td>250</td>\n",
       "      <td>0</td>\n",
       "      <td>1</td>\n",
       "      <td>from sympy import *\\n NJOLENJUNGAKFJKA\\n</td>\n",
       "      <td>File \"/home/daniel/code/math-ai/code.py\", li...</td>\n",
       "    </tr>\n",
       "    <tr>\n",
       "      <th>14</th>\n",
       "      <td>246d26</td>\n",
       "      <td>Each of the three-digits numbers $111$ to $999...</td>\n",
       "      <td>250</td>\n",
       "      <td>1</td>\n",
       "      <td>0</td>\n",
       "      <td>from sympy import *\\n\\ndef maximum_yellow_numb...</td>\n",
       "      <td>899</td>\n",
       "    </tr>\n",
       "    <tr>\n",
       "      <th>15</th>\n",
       "      <td>246d26</td>\n",
       "      <td>Each of the three-digits numbers $111$ to $999...</td>\n",
       "      <td>250</td>\n",
       "      <td>1</td>\n",
       "      <td>1</td>\n",
       "      <td>from sympy import *\\n NOTES,)\\n,) ))\\n;;))\\n;)...</td>\n",
       "      <td>File \"/home/daniel/code/math-ai/code.py\", li...</td>\n",
       "    </tr>\n",
       "    <tr>\n",
       "      <th>16</th>\n",
       "      <td>246d26</td>\n",
       "      <td>Each of the three-digits numbers $111$ to $999...</td>\n",
       "      <td>250</td>\n",
       "      <td>2</td>\n",
       "      <td>0</td>\n",
       "      <td>from sympy import *\\n\\ndef max_yellow_numbers(...</td>\n",
       "      <td>882</td>\n",
       "    </tr>\n",
       "    <tr>\n",
       "      <th>17</th>\n",
       "      <td>246d26</td>\n",
       "      <td>Each of the three-digits numbers $111$ to $999...</td>\n",
       "      <td>250</td>\n",
       "      <td>2</td>\n",
       "      <td>1</td>\n",
       "      <td>from sympy import *\\nICAL\"\\n</td>\n",
       "      <td>File \"/home/daniel/code/math-ai/code.py\", li...</td>\n",
       "    </tr>\n",
       "    <tr>\n",
       "      <th>18</th>\n",
       "      <td>246d26</td>\n",
       "      <td>Each of the three-digits numbers $111$ to $999...</td>\n",
       "      <td>250</td>\n",
       "      <td>3</td>\n",
       "      <td>0</td>\n",
       "      <td>from sympy import *\\nreal = True\\n\\ndef max_ye...</td>\n",
       "      <td>3</td>\n",
       "    </tr>\n",
       "    <tr>\n",
       "      <th>19</th>\n",
       "      <td>246d26</td>\n",
       "      <td>Each of the three-digits numbers $111$ to $999...</td>\n",
       "      <td>250</td>\n",
       "      <td>3</td>\n",
       "      <td>1</td>\n",
       "      <td>from sympy import *\\n TEA TEA TEA TEA TEA TEA ...</td>\n",
       "      <td>File \"/home/daniel/code/math-ai/code.py\", li...</td>\n",
       "    </tr>\n",
       "    <tr>\n",
       "      <th>20</th>\n",
       "      <td>246d26</td>\n",
       "      <td>Each of the three-digits numbers $111$ to $999...</td>\n",
       "      <td>250</td>\n",
       "      <td>4</td>\n",
       "      <td>0</td>\n",
       "      <td>from sympy import *\\n\\n# function to calculate...</td>\n",
       "      <td>444</td>\n",
       "    </tr>\n",
       "    <tr>\n",
       "      <th>21</th>\n",
       "      <td>246d26</td>\n",
       "      <td>Each of the three-digits numbers $111$ to $999...</td>\n",
       "      <td>250</td>\n",
       "      <td>4</td>\n",
       "      <td>1</td>\n",
       "      <td>from sympy import *\\n MSS are real</td>\n",
       "      <td>File \"/home/daniel/code/math-ai/code.py\", li...</td>\n",
       "    </tr>\n",
       "    <tr>\n",
       "      <th>22</th>\n",
       "      <td>246d26</td>\n",
       "      <td>Each of the three-digits numbers $111$ to $999...</td>\n",
       "      <td>250</td>\n",
       "      <td>5</td>\n",
       "      <td>0</td>\n",
       "      <td>from sympy import *\\n\\ndef solve_yellow_number...</td>\n",
       "      <td>364</td>\n",
       "    </tr>\n",
       "    <tr>\n",
       "      <th>23</th>\n",
       "      <td>246d26</td>\n",
       "      <td>Each of the three-digits numbers $111$ to $999...</td>\n",
       "      <td>250</td>\n",
       "      <td>5</td>\n",
       "      <td>1</td>\n",
       "      <td>from sympy import *\\n map\\nContinually to (and...</td>\n",
       "      <td>File \"/home/daniel/code/math-ai/code.py\", li...</td>\n",
       "    </tr>\n",
       "  </tbody>\n",
       "</table>\n",
       "</div>"
      ],
      "text/plain": [
       "   question_id                                            problem  \\\n",
       "0       229ee8  Let $k, l > 0$ be parameters. The parabola $y ...   \n",
       "1       229ee8  Let $k, l > 0$ be parameters. The parabola $y ...   \n",
       "2       229ee8  Let $k, l > 0$ be parameters. The parabola $y ...   \n",
       "3       229ee8  Let $k, l > 0$ be parameters. The parabola $y ...   \n",
       "4       229ee8  Let $k, l > 0$ be parameters. The parabola $y ...   \n",
       "5       229ee8  Let $k, l > 0$ be parameters. The parabola $y ...   \n",
       "6       229ee8  Let $k, l > 0$ be parameters. The parabola $y ...   \n",
       "7       229ee8  Let $k, l > 0$ be parameters. The parabola $y ...   \n",
       "8       229ee8  Let $k, l > 0$ be parameters. The parabola $y ...   \n",
       "9       229ee8  Let $k, l > 0$ be parameters. The parabola $y ...   \n",
       "10      229ee8  Let $k, l > 0$ be parameters. The parabola $y ...   \n",
       "11      229ee8  Let $k, l > 0$ be parameters. The parabola $y ...   \n",
       "12      246d26  Each of the three-digits numbers $111$ to $999...   \n",
       "13      246d26  Each of the three-digits numbers $111$ to $999...   \n",
       "14      246d26  Each of the three-digits numbers $111$ to $999...   \n",
       "15      246d26  Each of the three-digits numbers $111$ to $999...   \n",
       "16      246d26  Each of the three-digits numbers $111$ to $999...   \n",
       "17      246d26  Each of the three-digits numbers $111$ to $999...   \n",
       "18      246d26  Each of the three-digits numbers $111$ to $999...   \n",
       "19      246d26  Each of the three-digits numbers $111$ to $999...   \n",
       "20      246d26  Each of the three-digits numbers $111$ to $999...   \n",
       "21      246d26  Each of the three-digits numbers $111$ to $999...   \n",
       "22      246d26  Each of the three-digits numbers $111$ to $999...   \n",
       "23      246d26  Each of the three-digits numbers $111$ to $999...   \n",
       "\n",
       "    correct_answer  rep_idx  iteration  \\\n",
       "0               52        0          0   \n",
       "1               52        0          1   \n",
       "2               52        1          0   \n",
       "3               52        1          1   \n",
       "4               52        2          0   \n",
       "5               52        2          1   \n",
       "6               52        3          0   \n",
       "7               52        3          1   \n",
       "8               52        4          0   \n",
       "9               52        4          1   \n",
       "10              52        5          0   \n",
       "11              52        5          1   \n",
       "12             250        0          0   \n",
       "13             250        0          1   \n",
       "14             250        1          0   \n",
       "15             250        1          1   \n",
       "16             250        2          0   \n",
       "17             250        2          1   \n",
       "18             250        3          0   \n",
       "19             250        3          1   \n",
       "20             250        4          0   \n",
       "21             250        4          1   \n",
       "22             250        5          0   \n",
       "23             250        5          1   \n",
       "\n",
       "                                                 code  \\\n",
       "0   from sympy import *\\n\\ndef sum_of_squares_dist...   \n",
       "1   from sympy import *\\ndef sum_of_squares_distan...   \n",
       "2   from sympy import *\\n\\ndef sum_of_squares_dist...   \n",
       "3   from sympy import *\\n DEV solution training tu...   \n",
       "4   from sympy import *\\nfrom sympy.solvers import...   \n",
       "5   from sympy import *\\nx, k, l = symbols('x k l'...   \n",
       "6   from sympy import *\\n\\nk, l, x, y, a, b = symb...   \n",
       "7   from sympy import *\\nk, l, x, y, a, b = symbol...   \n",
       "8   from sympy import *\\n\\nk, l, x = symbols('k l ...   \n",
       "9                 from sympy import *\\n BLAH BLAH\\n\\n   \n",
       "10  from sympy import *\\n\\nk, l, x = symbols('k l ...   \n",
       "11  from sympy import *\\nk, l, x = symbols('k l x'...   \n",
       "12  from sympy import *\\n\\ndef maximum_yellow_numb...   \n",
       "13           from sympy import *\\n NJOLENJUNGAKFJKA\\n   \n",
       "14  from sympy import *\\n\\ndef maximum_yellow_numb...   \n",
       "15  from sympy import *\\n NOTES,)\\n,) ))\\n;;))\\n;)...   \n",
       "16  from sympy import *\\n\\ndef max_yellow_numbers(...   \n",
       "17                       from sympy import *\\nICAL\"\\n   \n",
       "18  from sympy import *\\nreal = True\\n\\ndef max_ye...   \n",
       "19  from sympy import *\\n TEA TEA TEA TEA TEA TEA ...   \n",
       "20  from sympy import *\\n\\n# function to calculate...   \n",
       "21                from sympy import *\\n MSS are real    \n",
       "22  from sympy import *\\n\\ndef solve_yellow_number...   \n",
       "23  from sympy import *\\n map\\nContinually to (and...   \n",
       "\n",
       "                                          code_result  \n",
       "0   Traceback (most recent call last):\\n  File \"/h...  \n",
       "1     File \"/home/daniel/code/math-ai/code.py\", li...  \n",
       "2                                2*(18*k - l + 4)/k\\n  \n",
       "3     File \"/home/daniel/code/math-ai/code.py\", li...  \n",
       "4   -(-(k - sqrt(k*(k - l + 4)))/k + (k + sqrt(k*(...  \n",
       "5   -(-(k - sqrt(k*(k - l + 4)))/k + (k + sqrt(k*(...  \n",
       "6   32 + (k - sqrt(k*(k - l + 4)))**2/k**2 + (k + ...  \n",
       "7   32 + (k - sqrt(k*(k - l + 4)))**2/k**2 + (k + ...  \n",
       "8   Traceback (most recent call last):\\n  File \"/h...  \n",
       "9     File \"/home/daniel/code/math-ai/code.py\", li...  \n",
       "10                                      2*(4 - l)/k\\n  \n",
       "11                                      2*(4 - l)/k\\n  \n",
       "12                                                 54  \n",
       "13    File \"/home/daniel/code/math-ai/code.py\", li...  \n",
       "14                                                899  \n",
       "15    File \"/home/daniel/code/math-ai/code.py\", li...  \n",
       "16                                                882  \n",
       "17    File \"/home/daniel/code/math-ai/code.py\", li...  \n",
       "18                                                  3  \n",
       "19    File \"/home/daniel/code/math-ai/code.py\", li...  \n",
       "20                                                444  \n",
       "21    File \"/home/daniel/code/math-ai/code.py\", li...  \n",
       "22                                                364  \n",
       "23    File \"/home/daniel/code/math-ai/code.py\", li...  "
      ]
     },
     "execution_count": 20,
     "metadata": {},
     "output_type": "execute_result"
    }
   ],
   "source": [
    "df_res = pd.DataFrame(q_and_res).sort_values(['question_id', 'rep_idx', 'iteration']).reset_index(drop=True)\n",
    "df_res"
   ]
  },
  {
   "cell_type": "code",
   "execution_count": null,
   "id": "a320a79b-e60b-45a7-98ec-6bc3d94f8951",
   "metadata": {
    "tags": []
   },
   "outputs": [],
   "source": [
    "print(df_res['code'][4])"
   ]
  },
  {
   "cell_type": "code",
   "execution_count": null,
   "id": "d48b5e2a-35ef-4596-a7f9-fbddf4a87bec",
   "metadata": {
    "tags": []
   },
   "outputs": [],
   "source": [
    "print(df_res['code'][2])"
   ]
  },
  {
   "cell_type": "code",
   "execution_count": null,
   "id": "75d72fdc-aeb6-4ea9-94f6-831a0a3533ec",
   "metadata": {
    "tags": []
   },
   "outputs": [],
   "source": [
    "print(df_res['code'][3])"
   ]
  },
  {
   "cell_type": "code",
   "execution_count": null,
   "id": "cf280296-497a-44ac-9817-89dd491ab0b1",
   "metadata": {
    "tags": []
   },
   "outputs": [],
   "source": [
    "print(df_res['code'][4])"
   ]
  },
  {
   "cell_type": "code",
   "execution_count": null,
   "id": "b0009c44-729f-445f-a662-0d77db73ef7c",
   "metadata": {
    "tags": []
   },
   "outputs": [],
   "source": [
    "questions = pd.read_csv('./test.csv')"
   ]
  },
  {
   "cell_type": "code",
   "execution_count": null,
   "id": "aae3a5b8-e785-439b-971c-2182ccbc306e",
   "metadata": {},
   "outputs": [],
   "source": []
  },
  {
   "cell_type": "code",
   "execution_count": null,
   "id": "efa5d2a2-d978-4cac-9315-ca3daa85a815",
   "metadata": {},
   "outputs": [],
   "source": []
  },
  {
   "cell_type": "code",
   "execution_count": null,
   "id": "d473d30f-26ef-439d-9706-356098f87f46",
   "metadata": {},
   "outputs": [],
   "source": []
  },
  {
   "cell_type": "code",
   "execution_count": null,
   "id": "aa7936ba-2f18-43f4-8ae2-1c37d5ca0366",
   "metadata": {},
   "outputs": [],
   "source": []
  },
  {
   "cell_type": "code",
   "execution_count": null,
   "id": "c0c0a178-983b-4649-bb06-f58900803748",
   "metadata": {
    "tags": []
   },
   "outputs": [],
   "source": []
  },
  {
   "cell_type": "code",
   "execution_count": null,
   "id": "6a8a6388-3280-483e-b3ca-c82e2f40ae92",
   "metadata": {
    "tags": []
   },
   "outputs": [],
   "source": []
  },
  {
   "cell_type": "code",
   "execution_count": null,
   "id": "efb99a20-167b-4dd7-89b8-03d2b9e0e390",
   "metadata": {},
   "outputs": [],
   "source": []
  },
  {
   "cell_type": "code",
   "execution_count": null,
   "id": "aba80522-e9fa-479f-ad34-303264edf06a",
   "metadata": {},
   "outputs": [],
   "source": []
  },
  {
   "cell_type": "code",
   "execution_count": null,
   "id": "a313eb66-8fbf-44a1-af68-3759a21bb01b",
   "metadata": {},
   "outputs": [],
   "source": []
  },
  {
   "cell_type": "code",
   "execution_count": null,
   "id": "f6227765-ce81-4b48-88cb-4d0fbaf74223",
   "metadata": {},
   "outputs": [],
   "source": []
  },
  {
   "cell_type": "code",
   "execution_count": null,
   "id": "f41187a7-dd61-4d41-85dd-892ba7754131",
   "metadata": {},
   "outputs": [],
   "source": []
  },
  {
   "cell_type": "code",
   "execution_count": null,
   "id": "e74c71bb-16dc-417f-8b95-385696046ba1",
   "metadata": {},
   "outputs": [],
   "source": []
  },
  {
   "cell_type": "code",
   "execution_count": null,
   "id": "b39754f4-94d4-4b37-b130-b9ee7fd1f2df",
   "metadata": {},
   "outputs": [],
   "source": []
  },
  {
   "cell_type": "code",
   "execution_count": null,
   "id": "340e680e-baab-4643-ba26-4febfd171ed8",
   "metadata": {},
   "outputs": [],
   "source": []
  },
  {
   "cell_type": "code",
   "execution_count": null,
   "id": "f0894fa9-dc8c-45dd-a42f-404d95681bd9",
   "metadata": {},
   "outputs": [],
   "source": []
  },
  {
   "cell_type": "code",
   "execution_count": null,
   "id": "08a60795-8c70-4a3e-b5a3-21ee53cbb1d3",
   "metadata": {},
   "outputs": [],
   "source": []
  },
  {
   "cell_type": "code",
   "execution_count": null,
   "id": "4838e944-e0e2-41e6-a0be-2eefc2bf164a",
   "metadata": {},
   "outputs": [],
   "source": []
  },
  {
   "cell_type": "code",
   "execution_count": null,
   "id": "b231bbe2-03b9-4a55-b410-52dc1e079b15",
   "metadata": {},
   "outputs": [],
   "source": []
  },
  {
   "cell_type": "code",
   "execution_count": null,
   "id": "448a490d-dada-4b2f-b98d-c2d1cbfce57a",
   "metadata": {},
   "outputs": [],
   "source": []
  },
  {
   "cell_type": "code",
   "execution_count": null,
   "id": "d81b3595-e61c-4a70-98b7-3bbe429cfe4b",
   "metadata": {
    "tags": []
   },
   "outputs": [],
   "source": [
    "def clean_latex(text):\n",
    "    \"\"\"\n",
    "    convert r\"[math]\\vec{x} + \\vec{y}\" to English\n",
    "    \"\"\"\n",
    "    # edge case\n",
    "    text = re.sub(r'\\[math\\]', ' LaTex math ', text)\n",
    "    text = re.sub(r'\\[\\/math\\]', ' LaTex math ', text)\n",
    "    text = re.sub(r'\\\\', ' LaTex ', text)\n",
    "\n",
    "    pattern_to_sub = {\n",
    "        r'$': '', #Add replace $?\n",
    "        r'\\\\mathrm': ' LaTex math mode ',\n",
    "        r'\\\\mathbb': ' LaTex math mode ',\n",
    "        r'\\\\boxed': ' LaTex equation ',\n",
    "        r'\\\\begin': ' LaTex equation ', #should it be parenthesis?\n",
    "        r'\\\\end': ' LaTex equation ', #should it be parenthesis?\n",
    "        r'\\\\left': ' LaTex equation ', #should it be parenthesis?\n",
    "        r'\\\\right': ' LaTex equation ', #should it be parenthesis?\n",
    "        r'\\\\(over|under)brace': ' LaTex equation ',\n",
    "        r'\\\\text': ' LaTex equation ',\n",
    "        r'\\\\vec': ' vector ',\n",
    "        r'\\\\var': ' variable ',\n",
    "        r'\\\\theta': ' theta ',\n",
    "        r'\\\\mu': ' average ',\n",
    "        r'\\\\min': ' minimum ',\n",
    "        r'\\\\max': ' maximum ',\n",
    "        r'\\\\sum': ' + ',\n",
    "        r'\\\\times': ' * ',\n",
    "        r'\\\\cdot': ' * ',\n",
    "        r'\\\\hat': ' ^ ',\n",
    "        r'\\\\frac': ' / ',\n",
    "        r'\\\\div': ' / ',\n",
    "        r'\\\\sin': ' Sine ',\n",
    "        r'\\\\cos': ' Cosine ',\n",
    "        r'\\\\tan': ' Tangent ',\n",
    "        r'\\\\infty': ' infinity ',\n",
    "        r'\\\\int': ' integer ',\n",
    "        r'\\\\in': ' in ',\n",
    "    }\n",
    "    # post process for look up\n",
    "    pattern_dict = {k.strip('\\\\'): v for k, v in pattern_to_sub.items()}\n",
    "    # init re\n",
    "    patterns = pattern_to_sub.keys()\n",
    "    pattern_re = re.compile('(%s)' % '|'.join(patterns))\n",
    "\n",
    "    def _replace(match):\n",
    "        try:\n",
    "            word = pattern_dict.get(match.group(0).strip('\\\\'))\n",
    "        except KeyError:\n",
    "            word = match.group(0)\n",
    "            print('!!Error: Could Not Find Key: {}'.format(word))\n",
    "        return word\n",
    "    return pattern_re.sub(_replace, text)"
   ]
  },
  {
   "cell_type": "code",
   "execution_count": null,
   "id": "bd58ab84-0776-41c9-ba38-2105e7793ed7",
   "metadata": {
    "tags": []
   },
   "outputs": [],
   "source": [
    "def run_python_code(code):\n",
    "    try:\n",
    "        with open('code.py', 'w') as fout:\n",
    "            fout.write('from sympy import * \\n')\n",
    "            fout.write(code)\n",
    "        batcmd = 'timeout 7 ' + sys.executable + ' code.py'\n",
    "        return subprocess.check_output(batcmd, stderr=subprocess.STDOUT, shell=True).decode('utf8')\n",
    "    except subprocess.CalledProcessError as e:\n",
    "        return e.output.decode('utf8')  # Return the error output\n",
    "    except Exception as ex:\n",
    "        return str(ex)\n",
    "\n",
    "\n",
    "def process_output(output):\n",
    "    result = output\n",
    "    try:\n",
    "        shell_output = run_python_code(output.split('```')[1][7:])\n",
    "        shell_number = re.findall(r'(-?\\d+)(?!.*\\d)', shell_output)[-1]\n",
    "        code_output = round(float(eval(shell_number))) % 1000\n",
    "    except:\n",
    "        code_output = -1\n",
    "    try:\n",
    "        result_output = re.findall(r'\\\\boxed\\{(.*)\\}', result)\n",
    "        if not len(result_output):\n",
    "            result_output = re.findall(r'(-?\\d+)(?!.*\\d)', result)[-1]\n",
    "        else:\n",
    "            result_output = result_output[-1]\n",
    "        if not len(result_output):\n",
    "            result_output = -1\n",
    "        else:\n",
    "            result_output = round(float(eval(result_output))) % 1000\n",
    "    except:\n",
    "        result_output = -1\n",
    "    return result_output, code_output"
   ]
  },
  {
   "cell_type": "code",
   "execution_count": null,
   "id": "8dd616fe-92d9-4d6c-a8d7-9dfdcbe9362a",
   "metadata": {
    "tags": []
   },
   "outputs": [],
   "source": [
    "questions = math_train[math_train['level'] == 'Level 5'].sample(2)\n",
    "print('\\n\\n\\n'.join(questions['problem'].values))"
   ]
  },
  {
   "cell_type": "code",
   "execution_count": null,
   "id": "01ef7540-3601-4e52-900c-2f1c1d2596be",
   "metadata": {
    "tags": []
   },
   "outputs": [],
   "source": [
    "print('\\n-----------------------------------------\\n'.join(questions['solution'].values))"
   ]
  },
  {
   "cell_type": "code",
   "execution_count": null,
   "id": "0037c2ce-e62b-461b-b72b-69bc07ed0f30",
   "metadata": {
    "tags": []
   },
   "outputs": [],
   "source": [
    "question = questions['problem'].iloc[0]\n",
    "question"
   ]
  },
  {
   "cell_type": "code",
   "execution_count": null,
   "id": "861c2736-7983-4c7b-b6fa-9300b3a6c908",
   "metadata": {
    "tags": []
   },
   "outputs": [],
   "source": [
    "!pip install outlines"
   ]
  },
  {
   "cell_type": "code",
   "execution_count": null,
   "id": "a0762263-34e4-4763-ba2d-992f01568d91",
   "metadata": {
    "tags": []
   },
   "outputs": [],
   "source": [
    "# tool_instruction = \" The answer should be given as a non-negative modulo 1000.\"\n",
    "\n",
    "n_repetitions = 3\n",
    "q_ics = []\n",
    "raw_results = []\n",
    "total_results = []\n",
    "total_answers = []\n",
    "\n",
    "for q_idx in range(len(questions)):\n",
    "    print(f\"\\n\\n{q_idx}: {questions['problem'].iloc[q_idx]}\")\n",
    "    results = []\n",
    "    answers = []\n",
    "    try:\n",
    "        combined_messages = None\n",
    "        for rep_idx in range(n_repetitions):\n",
    "            print(datetime.now().strftime('%H:%M:%S'))\n",
    "            if rep_idx > (n_repetitions + 1) / 2:\n",
    "                problem = clean_latex(questions['problem'].iloc[q_idx])\n",
    "            else:\n",
    "                problem = questions['problem'].iloc[q_idx] \n",
    "            messages = [{\n",
    "                \"role\": \"user\", \n",
    "                \"content\": 'Problem: ' + problem + \"\\nGenerate Python code to solve the above problem.\" +\n",
    "                '\\nUnless complex numbers are mentioned in the problem create SymPy symbols with parameter real=True' +\n",
    "                    '\\n```python\\n'\n",
    "            }]\n",
    "            query_prompt = tokenizer.apply_chat_template(messages, tokenize=False)\n",
    "            first_output = pipeline(query_prompt, \n",
    "                                    max_new_tokens=1024,\n",
    "                                    do_sample=True,\n",
    "                                    temperature=0.9,\n",
    "                                    return_full_text=False,\n",
    "                                    n_return_sequences=5\n",
    "                            )\n",
    "            first_output = '```python\\n' + first_output[0]['generated_text']\n",
    "            # print('Shell input: \\n' + first_output.split('```')[1][7:] + '\\n')\n",
    "            shell_output = run_python_code(first_output.split('```')[1][7:])\n",
    "            print(f'{shell_output=}\\n')\n",
    "            with_output = first_output.split('```output')[0] + f'```output\\n{shell_output}\\n```'\n",
    "            message = {\n",
    "                \"role\": \"assistant\",\n",
    "                \"content\": f'Answer {rep_idx}:\\n```python\\n' + with_output\n",
    "            }\n",
    "            messages.append(message)\n",
    "            #torch.cuda.empty_cache()\n",
    "            #gc.collect()\n",
    "            if combined_messages is None:\n",
    "                combined_messages = messages\n",
    "            else: \n",
    "                combined_messages.append(message)\n",
    "                \n",
    "        combined_messages.append({\n",
    "            \"role\": \"user\",\n",
    "            \"content\":  \"Which is the best of the solutions above?\"\n",
    "                    \n",
    "        })\n",
    "        second_prompt = tokenizer.apply_chat_template(combined_messages, tokenize=False).replace('<｜end▁of▁sentence｜>', '')\n",
    "        # print(f'{second_prompt=}\\n')\n",
    "        second_output = pipeline(second_prompt, max_new_tokens=1024, do_sample=True, temperature=0.1, return_full_text=False)\n",
    "        print(f'{second_output=}\\n')\n",
    "        \n",
    "    except Exception as ex:\n",
    "        print(ex)\n",
    "        result_output, code_output = -1, -1 \n",
    "    raw_results.append(second_output)\n",
    "    result_output, code_output = process_output(second_output)\n",
    "\n",
    "\n",
    "    results.append(result_output)\n",
    "    answers.append(code_output)\n",
    "    q_ics.append(q_idx)\n",
    "total_results.append(results)\n",
    "total_answers.append(answers)"
   ]
  },
  {
   "cell_type": "code",
   "execution_count": null,
   "id": "c7e6bff0-99c2-4593-9b35-7513ff8a4dba",
   "metadata": {
    "tags": []
   },
   "outputs": [],
   "source": [
    "from sympy import *\n",
    "\n",
    "a = symbols('a')\n"
   ]
  },
  {
   "cell_type": "code",
   "execution_count": null,
   "id": "70e6b42a-a1e8-4980-accb-6ce884072c20",
   "metadata": {
    "tags": []
   },
   "outputs": [],
   "source": [
    "# pd.DataFrame({\n",
    "#     'question': np.repeat(questions.values, n_repetitions),\n",
    "#     'sympy_answers': total_answers,\n",
    "#     'llm_answers': total_results,\n",
    "#     'raw_answers': raw_results\n",
    "# })"
   ]
  },
  {
   "cell_type": "code",
   "execution_count": null,
   "id": "fb37899c-65b2-44be-8b20-e3b817fb4166",
   "metadata": {
    "tags": []
   },
   "outputs": [],
   "source": [
    "print(len(np.repeat(questions['problem'].values, n_repetitions)))\n",
    "print(len(raw_results))\n",
    "print(len(total_results))\n",
    "print(len(total_answers))"
   ]
  },
  {
   "cell_type": "code",
   "execution_count": null,
   "id": "a8d610e8-14ba-402a-8237-1539f65c124c",
   "metadata": {
    "tags": []
   },
   "outputs": [],
   "source": [
    "questions['problem'].iloc[7]"
   ]
  },
  {
   "cell_type": "code",
   "execution_count": null,
   "id": "b2c6668a-612f-47b6-afe4-220122c4d961",
   "metadata": {
    "tags": []
   },
   "outputs": [],
   "source": [
    "total_results"
   ]
  },
  {
   "cell_type": "code",
   "execution_count": null,
   "id": "efc2c791-8845-4c45-88df-3bb8167033dc",
   "metadata": {
    "tags": []
   },
   "outputs": [],
   "source": [
    "total_answers"
   ]
  },
  {
   "cell_type": "code",
   "execution_count": null,
   "id": "600d7f21-55a1-4795-9358-b654d9c40156",
   "metadata": {
    "tags": []
   },
   "outputs": [],
   "source": [
    "questions['solution'].values"
   ]
  },
  {
   "cell_type": "code",
   "execution_count": null,
   "id": "f70ce962-d383-41b0-90fb-82c401506500",
   "metadata": {
    "tags": []
   },
   "outputs": [],
   "source": [
    "propm_prefix = '''Problem:\n",
    "Find the domain of the expression $\\frac{\\sqrt{x-2}}{\\sqrt{5-x}}$.}\n",
    "\n",
    "Solution:\n",
    "The expressions inside each square root must be non-negative. Therefore,\n",
    "$x-2 \\ge 0$, so $x\\ge2$, and $5 - x \\ge 0$, so $x \\le 5$. Also, the denominator\n",
    "cannot be equal to zero, so $5-x>0$, which gives $x<5$. Therefore, the domain of\n",
    "the expression is $\\boxed{[2,5)}$.\n",
    "Final Answer: The final answer is $[2,5)$. I hope it is correct.\n",
    "\n",
    "Problem:\n",
    "If $\\det \\mathbf{A} = 2$ and $\\det \\mathbf{B} = 12,$ then find\n",
    "$\\det (\\mathbf{A} \\mathbf{B}).$\n",
    "Solution:\n",
    "We have that $\\det (\\mathbf{A} \\mathbf{B}) = (\\det \\mathbf{A})(\\det \\mathbf{B})\n",
    "= (2)(12) = \\boxed{24}.$\n",
    "Final Answer: The final answer is $24$. I hope it is correct.\n",
    "Problem:\n",
    "Terrell usually lifts two 20-pound weights 12 times. If he uses two 15-pound\n",
    "weights instead, how many times must Terrell lift them in order to lift the\n",
    "same total weight?\n",
    "\n",
    "Solution:\n",
    "If Terrell lifts two 20-pound weights 12 times, he lifts a total of\n",
    "$2\\cdot 12\\cdot20=480$ pounds of weight. If he lifts two 15-pound\n",
    "weights instead for $n$ times, he will lift a total of $2\\cdot15\\cdot n=30n$\n",
    "pounds of weight. Equating this to 480 pounds, we can solve for $n$:\n",
    "\\begin{align*}\n",
    "30n&=480\\\\\n",
    "\\Rightarrow\\qquad n&=480/30=\\boxed{16}\n",
    "\\end{align*}\n",
    "Final Answer: The final answer is $16$. I hope it is correct.\n",
    "\n",
    "Problem:\n",
    "If the system of equations\n",
    "\\begin{align*}\n",
    "6x-4y&=a,\\\\\n",
    "6y-9x &=b.\n",
    "\\end{align*}has a solution $(x, y)$ where $x$ and $y$ are both nonzero,\n",
    "find $\\frac{a}{b},$ assuming $b$ is nonzero.\n",
    "\n",
    "Solution:\n",
    "If we multiply the first equation by $-\\frac{3}{2}$, we obtain\n",
    "$$6y-9x=-\\frac{3}{2}a.$$Since we also know that $6y-9x=b$, we have\n",
    "$$-\\frac{3}{2}a=b\\Rightarrow\\frac{a}{b}=\\boxed{-\\frac{2}{3}}.$$\n",
    "Final Answer: The final answer is $-\\frac{2}{3}$. I hope it is correct.\n",
    "\n",
    "Problem:\n",
    "'''\n",
    "\n",
    "question_easy = 'Beth bakes 4, 2 dozen batches of cokies in a week. If these cookies are shared amongst 16 people equally, how many cookies does each person consume?'\n",
    "question_hard = 'Each of the three-digits numbers $111$ to $999$ is coloured blue or yellow in such a way that the sum of any two (not necessarily different) yellow numbers is equal to a blue number. What is the maximum possible number of yellow numbers there can be?'\n",
    "postfix = '\\nPlease reason step by step, and put your final answer within \\boxed{}.'\n",
    "postfix_2 =  '\\nPlease convert this problem into a set of equations'\n",
    "tokens = tokenizer.encode(question_hard + postfix_2, return_tensors='pt').to('cuda')\n",
    "out_tokens = model.generate(tokens, max_length=500)\n",
    "print(tokenizer.decode(out_tokens[0]))"
   ]
  },
  {
   "cell_type": "code",
   "execution_count": null,
   "id": "ae0d586f-0b4e-4f4a-9f48-b5ebf178f029",
   "metadata": {
    "tags": []
   },
   "outputs": [],
   "source": [
    "from sympy import symbols, Rational, floor, sqrt\n",
    "from sympy import solve, And, Le, Ge\n",
    "def solve_for_prob():\n",
    "    x = symbols('x')\n",
    "    # define the polynomial P(x)\n",
    "    P = x**2 - 3*x - 9\n",
    "    # define the condition for the problem\n",
    "    condition = floor(sqrt(P.subs(x, x))) == sqrt(P.subs(x, floor(x)))\n",
    "    # define the interval\n",
    "    interval = And(5 <= x, x <= 15)\n",
    "    # calculate the number of values of x that satisfy the condition in the interval\n",
    "    valid_count = 0    \n",
    "    for i in range(5, 16):\n",
    "        if condition.subs(x, i): \n",
    "            valid_count += 1\n",
    "        # calculate the total number of values of x in the interval\n",
    "        total_count = 15 - 5 + 1\n",
    "        # calculate the probability\n",
    "        probability = Rational(valid_count, total_count)\n",
    "        # calculate a, b, c, d, e for the fraction form of the probability\n",
    "        a = 1\n",
    "        b = 1\n",
    "        c = 1\n",
    "        d = -1\n",
    "        e = 1\n",
    "        \n",
    "solve_for_prob()"
   ]
  },
  {
   "cell_type": "code",
   "execution_count": null,
   "id": "d2a69e4a-c8c1-4d62-92b8-7377d573c94a",
   "metadata": {},
   "outputs": [],
   "source": [
    "˘.."
   ]
  }
 ],
 "metadata": {
  "kernelspec": {
   "display_name": "Python [conda env:pytorch]",
   "language": "python",
   "name": "conda-env-pytorch-py"
  },
  "language_info": {
   "codemirror_mode": {
    "name": "ipython",
    "version": 3
   },
   "file_extension": ".py",
   "mimetype": "text/x-python",
   "name": "python",
   "nbconvert_exporter": "python",
   "pygments_lexer": "ipython3",
   "version": "3.11.5"
  }
 },
 "nbformat": 4,
 "nbformat_minor": 5
}
