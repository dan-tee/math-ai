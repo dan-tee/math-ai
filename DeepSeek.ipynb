{
 "cells": [
  {
   "cell_type": "markdown",
   "id": "7fb36e15-e88c-475c-915e-f82609610bf7",
   "metadata": {},
   "source": [
    "# Deep Seek for Math Questions"
   ]
  },
  {
   "cell_type": "code",
   "execution_count": 91,
   "id": "f65b2531-38b7-4090-ab3c-511220807b28",
   "metadata": {
    "tags": []
   },
   "outputs": [],
   "source": [
    "import pandas as pd\n",
    "df = pd.DataFrame({'id': [0,0,0,0,0,1], 'a': [None] * 6, 'b':[None] * 6})"
   ]
  },
  {
   "cell_type": "code",
   "execution_count": 92,
   "id": "1b341a88-4464-4bec-ac2d-65d38a7560cf",
   "metadata": {
    "tags": []
   },
   "outputs": [
    {
     "data": {
      "text/html": [
       "<div>\n",
       "<style scoped>\n",
       "    .dataframe tbody tr th:only-of-type {\n",
       "        vertical-align: middle;\n",
       "    }\n",
       "\n",
       "    .dataframe tbody tr th {\n",
       "        vertical-align: top;\n",
       "    }\n",
       "\n",
       "    .dataframe thead th {\n",
       "        text-align: right;\n",
       "    }\n",
       "</style>\n",
       "<table border=\"1\" class=\"dataframe\">\n",
       "  <thead>\n",
       "    <tr style=\"text-align: right;\">\n",
       "      <th></th>\n",
       "      <th>vote_type</th>\n",
       "      <th>b</th>\n",
       "    </tr>\n",
       "    <tr>\n",
       "      <th>id</th>\n",
       "      <th>vote</th>\n",
       "      <th></th>\n",
       "    </tr>\n",
       "  </thead>\n",
       "  <tbody>\n",
       "    <tr>\n",
       "      <th>0</th>\n",
       "      <th>2.0</th>\n",
       "      <td>4</td>\n",
       "    </tr>\n",
       "    <tr>\n",
       "      <th>1</th>\n",
       "      <th>1.0</th>\n",
       "      <td>1</td>\n",
       "    </tr>\n",
       "  </tbody>\n",
       "</table>\n",
       "</div>"
      ],
      "text/plain": [
       "vote_type  b\n",
       "id vote     \n",
       "0  2.0     4\n",
       "1  1.0     1"
      ]
     },
     "execution_count": 92,
     "metadata": {},
     "output_type": "execute_result"
    }
   ],
   "source": [
    "vote_counts = melted_df.pivot_table(index=['id', 'vote'], columns='vote_type', values='vote', aggfunc='size', fill_value=0)\n",
    "vote_counts"
   ]
  },
  {
   "cell_type": "code",
   "execution_count": 100,
   "id": "334f6094-0c7f-425c-934d-1d518a412b62",
   "metadata": {
    "tags": []
   },
   "outputs": [
    {
     "data": {
      "text/html": [
       "<div>\n",
       "<style scoped>\n",
       "    .dataframe tbody tr th:only-of-type {\n",
       "        vertical-align: middle;\n",
       "    }\n",
       "\n",
       "    .dataframe tbody tr th {\n",
       "        vertical-align: top;\n",
       "    }\n",
       "\n",
       "    .dataframe thead th {\n",
       "        text-align: right;\n",
       "    }\n",
       "</style>\n",
       "<table border=\"1\" class=\"dataframe\">\n",
       "  <thead>\n",
       "    <tr style=\"text-align: right;\">\n",
       "      <th></th>\n",
       "      <th>id</th>\n",
       "      <th>vote</th>\n",
       "      <th>weighted_sum</th>\n",
       "    </tr>\n",
       "  </thead>\n",
       "  <tbody>\n",
       "    <tr>\n",
       "      <th>0</th>\n",
       "      <td>0</td>\n",
       "      <td>NaN</td>\n",
       "      <td>30</td>\n",
       "    </tr>\n",
       "    <tr>\n",
       "      <th>1</th>\n",
       "      <td>1</td>\n",
       "      <td>NaN</td>\n",
       "      <td>6</td>\n",
       "    </tr>\n",
       "  </tbody>\n",
       "</table>\n",
       "</div>"
      ],
      "text/plain": [
       "   id  vote  weighted_sum\n",
       "0   0   NaN            30\n",
       "1   1   NaN             6"
      ]
     },
     "execution_count": 100,
     "metadata": {},
     "output_type": "execute_result"
    }
   ],
   "source": [
    "# turn table into long format\n",
    "melted_df = df.melt(id_vars='id', value_vars=['a', 'b'], var_name='vote_type', value_name='vote')\n",
    "# count votes\n",
    "vote_counts = melted_df.pivot_table(index=['id', 'vote'], columns='vote_type', values='vote', aggfunc='size', dropna=False, fill_value=0)\n",
    "final_votes = (vote_counts['a'] * 5 + vote_counts['b']).reset_index()\n",
    "final_votes.columns = ['id', 'vote', 'weighted_sum']\n",
    "final_votes"
   ]
  },
  {
   "cell_type": "code",
   "execution_count": 101,
   "id": "b447389f-d118-4c84-b383-7f7f39e8c4f9",
   "metadata": {
    "tags": []
   },
   "outputs": [
    {
     "data": {
      "text/html": [
       "<div>\n",
       "<style scoped>\n",
       "    .dataframe tbody tr th:only-of-type {\n",
       "        vertical-align: middle;\n",
       "    }\n",
       "\n",
       "    .dataframe tbody tr th {\n",
       "        vertical-align: top;\n",
       "    }\n",
       "\n",
       "    .dataframe thead th {\n",
       "        text-align: right;\n",
       "    }\n",
       "</style>\n",
       "<table border=\"1\" class=\"dataframe\">\n",
       "  <thead>\n",
       "    <tr style=\"text-align: right;\">\n",
       "      <th></th>\n",
       "      <th>id</th>\n",
       "      <th>vote</th>\n",
       "      <th>weighted_sum</th>\n",
       "    </tr>\n",
       "  </thead>\n",
       "  <tbody>\n",
       "    <tr>\n",
       "      <th>0</th>\n",
       "      <td>0</td>\n",
       "      <td>NaN</td>\n",
       "      <td>30</td>\n",
       "    </tr>\n",
       "    <tr>\n",
       "      <th>1</th>\n",
       "      <td>1</td>\n",
       "      <td>NaN</td>\n",
       "      <td>6</td>\n",
       "    </tr>\n",
       "  </tbody>\n",
       "</table>\n",
       "</div>"
      ],
      "text/plain": [
       "   id  vote  weighted_sum\n",
       "0   0   NaN            30\n",
       "1   1   NaN             6"
      ]
     },
     "execution_count": 101,
     "metadata": {},
     "output_type": "execute_result"
    }
   ],
   "source": [
    "final_votes.loc[final_votes.groupby('id')['weighted_sum'].idxmax()]"
   ]
  },
  {
   "cell_type": "code",
   "execution_count": 104,
   "id": "2ea6d1e2-d615-4d24-8f32-1cf80bf70b66",
   "metadata": {
    "tags": []
   },
   "outputs": [
    {
     "data": {
      "text/html": [
       "<div>\n",
       "<style scoped>\n",
       "    .dataframe tbody tr th:only-of-type {\n",
       "        vertical-align: middle;\n",
       "    }\n",
       "\n",
       "    .dataframe tbody tr th {\n",
       "        vertical-align: top;\n",
       "    }\n",
       "\n",
       "    .dataframe thead th {\n",
       "        text-align: right;\n",
       "    }\n",
       "</style>\n",
       "<table border=\"1\" class=\"dataframe\">\n",
       "  <thead>\n",
       "    <tr style=\"text-align: right;\">\n",
       "      <th></th>\n",
       "      <th>id</th>\n",
       "      <th>vote</th>\n",
       "    </tr>\n",
       "  </thead>\n",
       "  <tbody>\n",
       "    <tr>\n",
       "      <th>0</th>\n",
       "      <td>0</td>\n",
       "      <td>NaN</td>\n",
       "    </tr>\n",
       "    <tr>\n",
       "      <th>1</th>\n",
       "      <td>1</td>\n",
       "      <td>NaN</td>\n",
       "    </tr>\n",
       "  </tbody>\n",
       "</table>\n",
       "</div>"
      ],
      "text/plain": [
       "   id  vote\n",
       "0   0   NaN\n",
       "1   1   NaN"
      ]
     },
     "execution_count": 104,
     "metadata": {},
     "output_type": "execute_result"
    }
   ],
   "source": [
    "final_votes.loc[final_votes.groupby('id')['weighted_sum'].idxmax()][['id', 'vote']]"
   ]
  },
  {
   "cell_type": "code",
   "execution_count": 75,
   "id": "68efa655-1c7b-4f88-a9fc-18fe81f7a90d",
   "metadata": {
    "tags": []
   },
   "outputs": [],
   "source": [
    "def naive_parse(answer):\n",
    "    out = []\n",
    "    start = False\n",
    "    end = False\n",
    "    negative = False  # to track the presence of a negative sign\n",
    "\n",
    "    for l in reversed(list(answer)):\n",
    "        if l == '-' and start and not end:  # check if a negative sign is present before any digits\n",
    "            negative = True\n",
    "            end = True\n",
    "        elif l in '0123456789' and not end:\n",
    "            start = True\n",
    "            out.append(l)\n",
    "        else:\n",
    "            if start:\n",
    "                end = True\n",
    "\n",
    "    if negative:\n",
    "        out.append('-')  # append negative sign last to maintain order when reversed\n",
    "\n",
    "    out = reversed(out)\n",
    "    return ''.join(out)"
   ]
  },
  {
   "cell_type": "code",
   "execution_count": 101,
   "id": "6a57cd4f-8edc-43dd-9629-28020de86f56",
   "metadata": {
    "tags": []
   },
   "outputs": [
    {
     "data": {
      "text/plain": [
       "'-12'"
      ]
     },
     "execution_count": 101,
     "metadata": {},
     "output_type": "execute_result"
    }
   ],
   "source": [
    "naive_parse('aafds12-12dafdaf')"
   ]
  },
  {
   "cell_type": "code",
   "execution_count": 98,
   "id": "4d05ad04-5bb2-4bd3-b88c-36c1ea52adc3",
   "metadata": {
    "tags": []
   },
   "outputs": [
    {
     "data": {
      "text/html": [
       "<div>\n",
       "<style scoped>\n",
       "    .dataframe tbody tr th:only-of-type {\n",
       "        vertical-align: middle;\n",
       "    }\n",
       "\n",
       "    .dataframe tbody tr th {\n",
       "        vertical-align: top;\n",
       "    }\n",
       "\n",
       "    .dataframe thead th {\n",
       "        text-align: right;\n",
       "    }\n",
       "</style>\n",
       "<table border=\"1\" class=\"dataframe\">\n",
       "  <thead>\n",
       "    <tr style=\"text-align: right;\">\n",
       "      <th></th>\n",
       "      <th>b</th>\n",
       "    </tr>\n",
       "    <tr>\n",
       "      <th>a</th>\n",
       "      <th></th>\n",
       "    </tr>\n",
       "  </thead>\n",
       "  <tbody>\n",
       "    <tr>\n",
       "      <th>1</th>\n",
       "      <td>None</td>\n",
       "    </tr>\n",
       "  </tbody>\n",
       "</table>\n",
       "</div>"
      ],
      "text/plain": [
       "      b\n",
       "a      \n",
       "1  None"
      ]
     },
     "execution_count": 98,
     "metadata": {},
     "output_type": "execute_result"
    }
   ],
   "source": [
    "pd.DataFrame({'a': 1, 'b': None}, index=[0]).groupby('a').agg(lambda x: pd.Series.mode(x).iloc[0] if len(pd.Series.mode(x)) > 0 else None)"
   ]
  },
  {
   "cell_type": "code",
   "execution_count": 47,
   "id": "681bc6fa-9425-445f-91b9-eb49b9363ce5",
   "metadata": {
    "tags": []
   },
   "outputs": [
    {
     "name": "stderr",
     "output_type": "stream",
     "text": [
      "Special tokens have been added in the vocabulary, make sure the associated word embeddings are fine-tuned or trained.\n"
     ]
    },
    {
     "data": {
      "application/vnd.jupyter.widget-view+json": {
       "model_id": "68e29d9e6b4946df91252fd88768ead6",
       "version_major": 2,
       "version_minor": 0
      },
      "text/plain": [
       "Loading checkpoint shards:   0%|          | 0/2 [00:00<?, ?it/s]"
      ]
     },
     "metadata": {},
     "output_type": "display_data"
    },
    {
     "name": "stderr",
     "output_type": "stream",
     "text": [
      "You are calling `save_pretrained` to a 4-bit converted model, but your `bitsandbytes` version doesn't support it. If you want to save 4-bit models, make sure to have `bitsandbytes>=0.41.3` installed.\n"
     ]
    },
    {
     "name": "stdout",
     "output_type": "stream",
     "text": [
      "torch.float16\n"
     ]
    }
   ],
   "source": [
    "import os\n",
    "import json\n",
    "from pathlib import Path\n",
    "from datetime import datetime\n",
    "import re, sys, subprocess, gc\n",
    "\n",
    "import pandas as pd\n",
    "import numpy as np\n",
    "import torch\n",
    "import transformers\n",
    "from transformers import AutoConfig, AutoTokenizer, AutoModelForCausalLM, BitsAndBytesConfig\n",
    "\n",
    "\n",
    "\n",
    "model_name = \"deepseek-ai/deepseek-math-7b-rl\"\n",
    "config = AutoConfig.from_pretrained(model_name)\n",
    "config.gradient_checkpointing = True\n",
    "tokenizer = AutoTokenizer.from_pretrained(model_name)\n",
    "\n",
    "quantization_config = BitsAndBytesConfig(\n",
    "    load_in_4bit = True,\n",
    "    bnb_4bit_quant_type=\"nf4\",\n",
    "    bnb_4bit_compute_dtype=torch.bfloat16,\n",
    "    bnb_4bit_use_double_quant=True,\n",
    ")\n",
    "model = AutoModelForCausalLM.from_pretrained(model_name,\n",
    "                                             quantization_config=quantization_config,\n",
    "                                             device_map=\"auto\")\n",
    "print(model.dtype)\n",
    "pipeline = transformers.pipeline(\"text-generation\",\n",
    "                                 model=model,\n",
    "                                 tokenizer=tokenizer,\n",
    "                                 device_map=\"auto\",\n",
    "                                 config=config)"
   ]
  },
  {
   "cell_type": "code",
   "execution_count": 48,
   "id": "de3e970f-2f6f-49c7-8ae0-979fac393c6c",
   "metadata": {
    "tags": []
   },
   "outputs": [
    {
     "data": {
      "text/plain": [
       "transformers.pipelines.text_generation.TextGenerationPipeline"
      ]
     },
     "execution_count": 48,
     "metadata": {},
     "output_type": "execute_result"
    }
   ],
   "source": [
    "type(pipeline)"
   ]
  },
  {
   "cell_type": "code",
   "execution_count": 49,
   "id": "b0009c44-729f-445f-a662-0d77db73ef7c",
   "metadata": {
    "tags": []
   },
   "outputs": [],
   "source": [
    "questions = pd.read_csv('./test.csv')"
   ]
  },
  {
   "cell_type": "code",
   "execution_count": 50,
   "id": "c0c0a178-983b-4649-bb06-f58900803748",
   "metadata": {
    "tags": []
   },
   "outputs": [
    {
     "data": {
      "text/html": [
       "<div>\n",
       "<style scoped>\n",
       "    .dataframe tbody tr th:only-of-type {\n",
       "        vertical-align: middle;\n",
       "    }\n",
       "\n",
       "    .dataframe tbody tr th {\n",
       "        vertical-align: top;\n",
       "    }\n",
       "\n",
       "    .dataframe thead th {\n",
       "        text-align: right;\n",
       "    }\n",
       "</style>\n",
       "<table border=\"1\" class=\"dataframe\">\n",
       "  <thead>\n",
       "    <tr style=\"text-align: right;\">\n",
       "      <th></th>\n",
       "      <th>problem</th>\n",
       "      <th>level</th>\n",
       "      <th>type</th>\n",
       "      <th>solution</th>\n",
       "    </tr>\n",
       "  </thead>\n",
       "  <tbody>\n",
       "    <tr>\n",
       "      <th>0</th>\n",
       "      <td>What is the perimeter, in cm, of quadrilateral...</td>\n",
       "      <td>Level 5</td>\n",
       "      <td>Prealgebra</td>\n",
       "      <td>Since the given segments are perpendicular, we...</td>\n",
       "    </tr>\n",
       "    <tr>\n",
       "      <th>1</th>\n",
       "      <td>Four points $B,$ $A,$ $E,$ and $L$ are on a st...</td>\n",
       "      <td>Level 3</td>\n",
       "      <td>Prealgebra</td>\n",
       "      <td>Since the sum of the angles at any point on a ...</td>\n",
       "    </tr>\n",
       "    <tr>\n",
       "      <th>2</th>\n",
       "      <td>What is $4\\cdot 6+8\\cdot 3-28\\div 2$?</td>\n",
       "      <td>Level 1</td>\n",
       "      <td>Prealgebra</td>\n",
       "      <td>Recall that multiplication and division should...</td>\n",
       "    </tr>\n",
       "  </tbody>\n",
       "</table>\n",
       "</div>"
      ],
      "text/plain": [
       "                                             problem    level        type  \\\n",
       "0  What is the perimeter, in cm, of quadrilateral...  Level 5  Prealgebra   \n",
       "1  Four points $B,$ $A,$ $E,$ and $L$ are on a st...  Level 3  Prealgebra   \n",
       "2              What is $4\\cdot 6+8\\cdot 3-28\\div 2$?  Level 1  Prealgebra   \n",
       "\n",
       "                                            solution  \n",
       "0  Since the given segments are perpendicular, we...  \n",
       "1  Since the sum of the angles at any point on a ...  \n",
       "2  Recall that multiplication and division should...  "
      ]
     },
     "execution_count": 50,
     "metadata": {},
     "output_type": "execute_result"
    }
   ],
   "source": [
    "folder = Path('./MATH/train')\n",
    "math_train = []\n",
    "for sub_folder in os.listdir(folder):\n",
    "    if sub_folder == '.DS_Store':\n",
    "        continue\n",
    "    for file in os.listdir(folder / sub_folder):\n",
    "        if file.endswith('.json'):\n",
    "            with open(folder / sub_folder / file, 'r') as file:\n",
    "                data = json.load(file)\n",
    "                math_train.append(data)\n",
    "math_train = pd.DataFrame(math_train)\n",
    "math_train[:3]"
   ]
  },
  {
   "cell_type": "code",
   "execution_count": 51,
   "id": "aadbe86c-bfa8-4ba8-b1af-abb3b90cec3f",
   "metadata": {
    "tags": []
   },
   "outputs": [
    {
     "data": {
      "text/plain": [
       "0                   Prealgebra\n",
       "1205             Number Theory\n",
       "2074      Intermediate Algebra\n",
       "3369                   Algebra\n",
       "5113    Counting & Probability\n",
       "5884               Precalculus\n",
       "6630                  Geometry\n",
       "Name: type, dtype: object"
      ]
     },
     "execution_count": 51,
     "metadata": {},
     "output_type": "execute_result"
    }
   ],
   "source": [
    "math_train['type'].drop_duplicates()"
   ]
  },
  {
   "cell_type": "code",
   "execution_count": 52,
   "id": "d81b3595-e61c-4a70-98b7-3bbe429cfe4b",
   "metadata": {
    "tags": []
   },
   "outputs": [],
   "source": [
    "def clean_latex(text):\n",
    "    \"\"\"\n",
    "    convert r\"[math]\\vec{x} + \\vec{y}\" to English\n",
    "    \"\"\"\n",
    "    # edge case\n",
    "    text = re.sub(r'\\[math\\]', ' LaTex math ', text)\n",
    "    text = re.sub(r'\\[\\/math\\]', ' LaTex math ', text)\n",
    "    text = re.sub(r'\\\\', ' LaTex ', text)\n",
    "\n",
    "    pattern_to_sub = {\n",
    "        r'$': '', #Add replace $?\n",
    "        r'\\\\mathrm': ' LaTex math mode ',\n",
    "        r'\\\\mathbb': ' LaTex math mode ',\n",
    "        r'\\\\boxed': ' LaTex equation ',\n",
    "        r'\\\\begin': ' LaTex equation ', #should it be parenthesis?\n",
    "        r'\\\\end': ' LaTex equation ', #should it be parenthesis?\n",
    "        r'\\\\left': ' LaTex equation ', #should it be parenthesis?\n",
    "        r'\\\\right': ' LaTex equation ', #should it be parenthesis?\n",
    "        r'\\\\(over|under)brace': ' LaTex equation ',\n",
    "        r'\\\\text': ' LaTex equation ',\n",
    "        r'\\\\vec': ' vector ',\n",
    "        r'\\\\var': ' variable ',\n",
    "        r'\\\\theta': ' theta ',\n",
    "        r'\\\\mu': ' average ',\n",
    "        r'\\\\min': ' minimum ',\n",
    "        r'\\\\max': ' maximum ',\n",
    "        r'\\\\sum': ' + ',\n",
    "        r'\\\\times': ' * ',\n",
    "        r'\\\\cdot': ' * ',\n",
    "        r'\\\\hat': ' ^ ',\n",
    "        r'\\\\frac': ' / ',\n",
    "        r'\\\\div': ' / ',\n",
    "        r'\\\\sin': ' Sine ',\n",
    "        r'\\\\cos': ' Cosine ',\n",
    "        r'\\\\tan': ' Tangent ',\n",
    "        r'\\\\infty': ' infinity ',\n",
    "        r'\\\\int': ' integer ',\n",
    "        r'\\\\in': ' in ',\n",
    "    }\n",
    "    # post process for look up\n",
    "    pattern_dict = {k.strip('\\\\'): v for k, v in pattern_to_sub.items()}\n",
    "    # init re\n",
    "    patterns = pattern_to_sub.keys()\n",
    "    pattern_re = re.compile('(%s)' % '|'.join(patterns))\n",
    "\n",
    "    def _replace(match):\n",
    "        try:\n",
    "            word = pattern_dict.get(match.group(0).strip('\\\\'))\n",
    "        except KeyError:\n",
    "            word = match.group(0)\n",
    "            print('!!Error: Could Not Find Key: {}'.format(word))\n",
    "        return word\n",
    "    return pattern_re.sub(_replace, text)"
   ]
  },
  {
   "cell_type": "code",
   "execution_count": 53,
   "id": "bd58ab84-0776-41c9-ba38-2105e7793ed7",
   "metadata": {
    "tags": []
   },
   "outputs": [],
   "source": [
    "def run_python_code(code):\n",
    "    try:\n",
    "        with open('code.py', 'w') as fout:\n",
    "            fout.write('from sympy import * \\n')\n",
    "            fout.write(code)\n",
    "        batcmd = 'timeout 7 ' + sys.executable + ' code.py'\n",
    "        return subprocess.check_output(batcmd, stderr=subprocess.STDOUT, shell=True).decode('utf8')\n",
    "    except subprocess.CalledProcessError as e:\n",
    "        return e.output.decode('utf8')  # Return the error output\n",
    "    except Exception as ex:\n",
    "        return str(ex)\n",
    "\n",
    "\n",
    "def process_output(output):\n",
    "    result = output\n",
    "    try:\n",
    "        shell_output = run_python_code(output.split('```')[1][7:])\n",
    "        shell_number = re.findall(r'(-?\\d+)(?!.*\\d)', shell_output)[-1]\n",
    "        code_output = round(float(eval(shell_number))) % 1000\n",
    "    except:\n",
    "        code_output = -1\n",
    "    try:\n",
    "        result_output = re.findall(r'\\\\boxed\\{(.*)\\}', result)\n",
    "        if not len(result_output):\n",
    "            result_output = re.findall(r'(-?\\d+)(?!.*\\d)', result)[-1]\n",
    "        else:\n",
    "            result_output = result_output[-1]\n",
    "        if not len(result_output):\n",
    "            result_output = -1\n",
    "        else:\n",
    "            result_output = round(float(eval(result_output))) % 1000\n",
    "    except:\n",
    "        result_output = -1\n",
    "    return result_output, code_output"
   ]
  },
  {
   "cell_type": "code",
   "execution_count": 54,
   "id": "8dd616fe-92d9-4d6c-a8d7-9dfdcbe9362a",
   "metadata": {
    "tags": []
   },
   "outputs": [
    {
     "name": "stdout",
     "output_type": "stream",
     "text": [
      "The graph of the equation $9x+223y=2007$ is drawn on graph paper with each square representing one unit in each direction. How many of the $1$ by $1$ graph paper squares have interiors lying entirely below the graph and entirely in the first quadrant?\n",
      "\n",
      "\n",
      "\n",
      "Let $\\mathcal{P}$ be the parabola in the plane determined by the equation $y = x^2.$  Suppose a circle $\\mathcal{C}$ intersects $\\mathcal{P}$ at four distinct points.  If three of these points are $(-28,784),$ $(-2,4),$ and $(13,169),$ find the sum of the distances from the focus of $\\mathcal{P}$ to all four of the intersection points.\n"
     ]
    }
   ],
   "source": [
    "questions = math_train[math_train['level'] == 'Level 5'].sample(2)\n",
    "print('\\n\\n\\n'.join(questions['problem'].values))"
   ]
  },
  {
   "cell_type": "code",
   "execution_count": 55,
   "id": "01ef7540-3601-4e52-900c-2f1c1d2596be",
   "metadata": {
    "tags": []
   },
   "outputs": [
    {
     "name": "stdout",
     "output_type": "stream",
     "text": [
      "There are $223 \\cdot 9 = 2007$ squares in total formed by the rectangle with edges on the x and y axes and with vertices on the intercepts of the equation, since the intercepts of the lines are $(223,0),\\ (0,9)$.\n",
      "Count the number of squares that the diagonal of the rectangle passes through. Since the two diagonals of a rectangle are congruent, we can consider instead the diagonal $y = \\frac{223}{9}x$. This passes through 8 horizontal lines ($y = 1 \\ldots 8$) and 222 vertical lines ($x = 1 \\ldots 222$). At every time we cross a line, we enter a new square. Since 9 and 223 are relatively prime, we don’t have to worry about crossing an intersection of a horizontal and vertical line at one time. We must also account for the first square. This means that it passes through $222 + 8 + 1 = 231$ squares.\n",
      "The number of non-diagonal squares is $2007 - 231 = 1776$. Divide this in 2 to get the number of squares in one of the triangles, with the answer being $\\frac{1776}2 = \\boxed{888}$.\n",
      "-----------------------------------------\n",
      "Let the four intersection points be $(a,a^2),$ $(b,b^2),$ $(c,c^2),$ and $(d,d^2).$  Let the equation of the circle be\n",
      "\\[(x - k)^2 + (y - h)^2 = r^2.\\]Substituting $y = x^2,$ we get\n",
      "\\[(x - k)^2 + (x^2 - h)^2 = r^2.\\]Expanding this equation, we get a fourth degree polynomial whose roots are $a,$ $b,$ $c,$ and $d.$  Furthermore, the coefficient of $x^3$ is 0, so by Vieta's formulas, $a + b + c + d = 0.$\n",
      "\n",
      "We are given that three intersection points are $(-28,784),$ $(-2,4),$ and $(13,196),$ so the fourth root is $-((-28) + (-2) + 13) = 17.$\n",
      "\n",
      "The distance from the focus to a point on the parabola is equal to the distance from the point to the directrix, which is $y = -\\frac{1}{4}.$  Thus, the sum of the distances is\n",
      "\\[784 + \\frac{1}{4} + 4 + \\frac{1}{4} + 169 + \\frac{1}{4} + 17^2 + \\frac{1}{4} = \\boxed{1247}.\\]\n"
     ]
    }
   ],
   "source": [
    "print('\\n-----------------------------------------\\n'.join(questions['solution'].values))"
   ]
  },
  {
   "cell_type": "code",
   "execution_count": 56,
   "id": "0037c2ce-e62b-461b-b72b-69bc07ed0f30",
   "metadata": {
    "tags": []
   },
   "outputs": [
    {
     "data": {
      "text/plain": [
       "'The graph of the equation $9x+223y=2007$ is drawn on graph paper with each square representing one unit in each direction. How many of the $1$ by $1$ graph paper squares have interiors lying entirely below the graph and entirely in the first quadrant?\\n'"
      ]
     },
     "execution_count": 56,
     "metadata": {},
     "output_type": "execute_result"
    }
   ],
   "source": [
    "question = questions['problem'].iloc[0]\n",
    "question"
   ]
  },
  {
   "cell_type": "code",
   "execution_count": 60,
   "id": "a0762263-34e4-4763-ba2d-992f01568d91",
   "metadata": {
    "tags": []
   },
   "outputs": [
    {
     "name": "stderr",
     "output_type": "stream",
     "text": [
      "Setting `pad_token_id` to `eos_token_id`:100001 for open-end generation.\n"
     ]
    },
    {
     "name": "stdout",
     "output_type": "stream",
     "text": [
      "\n",
      "\n",
      "0: The graph of the equation $9x+223y=2007$ is drawn on graph paper with each square representing one unit in each direction. How many of the $1$ by $1$ graph paper squares have interiors lying entirely below the graph and entirely in the first quadrant?\n",
      "\n",
      "18:19:20\n"
     ]
    },
    {
     "name": "stderr",
     "output_type": "stream",
     "text": [
      "Setting `pad_token_id` to `eos_token_id`:100001 for open-end generation.\n"
     ]
    },
    {
     "name": "stdout",
     "output_type": "stream",
     "text": [
      "shell_output='Traceback (most recent call last):\\n  File \"/home/daniel/code/math-ai/code.py\", line 21, in <module>\\n    result = count_squares()\\n             ^^^^^^^^^^^^^^^\\n  File \"/home/daniel/code/math-ai/code.py\", line 11, in count_squares\\n    y_intercept = solve(x, y)[0].evalf()\\n                  ~~~~~~~~~~~^^^\\nIndexError: list index out of range\\n'\n",
      "\n",
      "18:19:54\n"
     ]
    },
    {
     "name": "stderr",
     "output_type": "stream",
     "text": [
      "Setting `pad_token_id` to `eos_token_id`:100001 for open-end generation.\n"
     ]
    },
    {
     "name": "stdout",
     "output_type": "stream",
     "text": [
      "shell_output='888\\n'\n",
      "\n",
      "18:20:03\n"
     ]
    },
    {
     "name": "stderr",
     "output_type": "stream",
     "text": [
      "Setting `pad_token_id` to `eos_token_id`:100001 for open-end generation.\n"
     ]
    },
    {
     "name": "stdout",
     "output_type": "stream",
     "text": [
      "shell_output='0\\n'\n",
      "\n"
     ]
    },
    {
     "name": "stderr",
     "output_type": "stream",
     "text": [
      "Setting `pad_token_id` to `eos_token_id`:100001 for open-end generation.\n"
     ]
    },
    {
     "name": "stdout",
     "output_type": "stream",
     "text": [
      "second_output=[{'generated_text': '```python\\ndef graph_paper_squares():\\n    \"\"\"The graph of the equation $9x+223y=2007$ is drawn on graph paper with each square representing one unit in each direction. How many of the $1$ by $1$ graph paper squares have interiors lying entirely below the graph and entirely in the first quadrant?\\n\"\"\"\\n    # Define the variables\\n    x, y = symbols(\\'x y\\', real=True)\\n    \\n    # Solve the equation for y\\n    y_expr = solve(9*x + 223*y - 2007, y)[0]\\n\\n    # Find the integer values of x for which y is a positive integer\\n    count = 0\\n    for i in range(1, 2017):\\n        if i % 9 == 0:\\n            x_val = i / 9\\n            y_val = y_expr.subs(x, x_val)\\n            if y_val.is_positive and y_val == int(y_val):\\n                count += 1\\n\\n    return count\\n\\nnumber_of_squares = graph_paper_squares()\\nprint(number_of_squares)\\n```\\n```output\\n0\\n```\\nThe number of 1 by 1 graph paper squares that have interiors lying entirely below the graph and entirely in the first quadrant is 0. This is because the graph of the equation $9x+223y=2007$ does not intersect the first quadrant. The graph is a straight line with a negative slope, and it passes through the point $(-2007/9, 0)$, which is in the third quadrant. Therefore, there are no squares in the first quadrant that lie entirely below the graph.'}]\n",
      "\n",
      "\n",
      "\n",
      "1: Let $\\mathcal{P}$ be the parabola in the plane determined by the equation $y = x^2.$  Suppose a circle $\\mathcal{C}$ intersects $\\mathcal{P}$ at four distinct points.  If three of these points are $(-28,784),$ $(-2,4),$ and $(13,169),$ find the sum of the distances from the focus of $\\mathcal{P}$ to all four of the intersection points.\n",
      "18:20:28\n"
     ]
    },
    {
     "name": "stderr",
     "output_type": "stream",
     "text": [
      "Setting `pad_token_id` to `eos_token_id`:100001 for open-end generation.\n"
     ]
    },
    {
     "name": "stdout",
     "output_type": "stream",
     "text": [
      "shell_output='2*sqrt(5) + 13*sqrt(170) + 28*sqrt(785)\\n'\n",
      "\n",
      "18:21:03\n"
     ]
    },
    {
     "name": "stderr",
     "output_type": "stream",
     "text": [
      "Setting `pad_token_id` to `eos_token_id`:100001 for open-end generation.\n"
     ]
    },
    {
     "name": "stdout",
     "output_type": "stream",
     "text": [
      "shell_output='  File \"/home/daniel/code/math-ai/code.py\", line 2\\n    Find the distance of the four points to the focus of the parabola y = x^2.\\n         ^^^\\nSyntaxError: invalid syntax\\n'\n",
      "\n",
      "18:21:17\n"
     ]
    },
    {
     "name": "stderr",
     "output_type": "stream",
     "text": [
      "--- Logging error ---\n",
      "Traceback (most recent call last):\n",
      "  File \"/home/daniel/mambaforge/envs/pytorch/lib/python3.11/logging/__init__.py\", line 1110, in emit\n",
      "    msg = self.format(record)\n",
      "          ^^^^^^^^^^^^^^^^^^^\n",
      "  File \"/home/daniel/mambaforge/envs/pytorch/lib/python3.11/logging/__init__.py\", line 953, in format\n",
      "    return fmt.format(record)\n",
      "           ^^^^^^^^^^^^^^^^^^\n",
      "  File \"/home/daniel/mambaforge/envs/pytorch/lib/python3.11/logging/__init__.py\", line 687, in format\n",
      "    record.message = record.getMessage()\n",
      "                     ^^^^^^^^^^^^^^^^^^^\n",
      "  File \"/home/daniel/mambaforge/envs/pytorch/lib/python3.11/logging/__init__.py\", line 377, in getMessage\n",
      "    msg = msg % self.args\n",
      "          ~~~~^~~~~~~~~~~\n",
      "TypeError: not all arguments converted during string formatting\n",
      "Call stack:\n",
      "  File \"<frozen runpy>\", line 198, in _run_module_as_main\n",
      "  File \"<frozen runpy>\", line 88, in _run_code\n",
      "  File \"/home/daniel/mambaforge/envs/pytorch/lib/python3.11/site-packages/ipykernel_launcher.py\", line 17, in <module>\n",
      "    app.launch_new_instance()\n",
      "  File \"/home/daniel/mambaforge/envs/pytorch/lib/python3.11/site-packages/traitlets/config/application.py\", line 992, in launch_instance\n",
      "    app.start()\n",
      "  File \"/home/daniel/mambaforge/envs/pytorch/lib/python3.11/site-packages/ipykernel/kernelapp.py\", line 736, in start\n",
      "    self.io_loop.start()\n",
      "  File \"/home/daniel/mambaforge/envs/pytorch/lib/python3.11/site-packages/tornado/platform/asyncio.py\", line 195, in start\n",
      "    self.asyncio_loop.run_forever()\n",
      "  File \"/home/daniel/mambaforge/envs/pytorch/lib/python3.11/asyncio/base_events.py\", line 607, in run_forever\n",
      "    self._run_once()\n",
      "  File \"/home/daniel/mambaforge/envs/pytorch/lib/python3.11/asyncio/base_events.py\", line 1922, in _run_once\n",
      "    handle._run()\n",
      "  File \"/home/daniel/mambaforge/envs/pytorch/lib/python3.11/asyncio/events.py\", line 80, in _run\n",
      "    self._context.run(self._callback, *self._args)\n",
      "  File \"/home/daniel/mambaforge/envs/pytorch/lib/python3.11/site-packages/ipykernel/kernelbase.py\", line 516, in dispatch_queue\n",
      "    await self.process_one()\n",
      "  File \"/home/daniel/mambaforge/envs/pytorch/lib/python3.11/site-packages/ipykernel/kernelbase.py\", line 505, in process_one\n",
      "    await dispatch(*args)\n",
      "  File \"/home/daniel/mambaforge/envs/pytorch/lib/python3.11/site-packages/ipykernel/kernelbase.py\", line 412, in dispatch_shell\n",
      "    await result\n",
      "  File \"/home/daniel/mambaforge/envs/pytorch/lib/python3.11/site-packages/ipykernel/kernelbase.py\", line 740, in execute_request\n",
      "    reply_content = await reply_content\n",
      "  File \"/home/daniel/mambaforge/envs/pytorch/lib/python3.11/site-packages/ipykernel/ipkernel.py\", line 422, in do_execute\n",
      "    res = shell.run_cell(\n",
      "  File \"/home/daniel/mambaforge/envs/pytorch/lib/python3.11/site-packages/ipykernel/zmqshell.py\", line 546, in run_cell\n",
      "    return super().run_cell(*args, **kwargs)\n",
      "  File \"/home/daniel/mambaforge/envs/pytorch/lib/python3.11/site-packages/IPython/core/interactiveshell.py\", line 3024, in run_cell\n",
      "    result = self._run_cell(\n",
      "  File \"/home/daniel/mambaforge/envs/pytorch/lib/python3.11/site-packages/IPython/core/interactiveshell.py\", line 3079, in _run_cell\n",
      "    result = runner(coro)\n",
      "  File \"/home/daniel/mambaforge/envs/pytorch/lib/python3.11/site-packages/IPython/core/async_helpers.py\", line 129, in _pseudo_sync_runner\n",
      "    coro.send(None)\n",
      "  File \"/home/daniel/mambaforge/envs/pytorch/lib/python3.11/site-packages/IPython/core/interactiveshell.py\", line 3284, in run_cell_async\n",
      "    has_raised = await self.run_ast_nodes(code_ast.body, cell_name,\n",
      "  File \"/home/daniel/mambaforge/envs/pytorch/lib/python3.11/site-packages/IPython/core/interactiveshell.py\", line 3466, in run_ast_nodes\n",
      "    if await self.run_code(code, result, async_=asy):\n",
      "  File \"/home/daniel/mambaforge/envs/pytorch/lib/python3.11/site-packages/IPython/core/interactiveshell.py\", line 3526, in run_code\n",
      "    exec(code_obj, self.user_global_ns, self.user_ns)\n",
      "  File \"/tmp/ipykernel_10218/895227761.py\", line 53, in <module>\n",
      "    second_output = pipeline(second_prompt, max_new_tokens=1024, do_sample=True, temperature=0.1, return_full_text=False)\n",
      "  File \"/home/daniel/mambaforge/envs/pytorch/lib/python3.11/site-packages/transformers/pipelines/text_generation.py\", line 240, in __call__\n",
      "    return super().__call__(text_inputs, **kwargs)\n",
      "  File \"/home/daniel/mambaforge/envs/pytorch/lib/python3.11/site-packages/transformers/pipelines/base.py\", line 1167, in __call__\n",
      "    logger.warning_once(\n",
      "  File \"/home/daniel/mambaforge/envs/pytorch/lib/python3.11/site-packages/transformers/utils/logging.py\", line 329, in warning_once\n",
      "    self.warning(*args, **kwargs)\n",
      "Message: 'You seem to be using the pipelines sequentially on GPU. In order to maximize efficiency please use a dataset'\n",
      "Arguments: (<class 'UserWarning'>,)\n",
      "Setting `pad_token_id` to `eos_token_id`:100001 for open-end generation.\n"
     ]
    },
    {
     "name": "stdout",
     "output_type": "stream",
     "text": [
      "shell_output='957.750000000000\\n'\n",
      "\n",
      "second_output=[{'generated_text': '```python\\nfrom sympy import symbols, solve, N\\n\\ndef sum_of_distances_intersection_points():\\n    \"\"\"Problem: Let $\\\\mathcal{P}$ be the parabola in the plane determined by the equation $y = x^2.$  Suppose a circle $\\\\mathcal{C}$ intersects $\\\\mathcal{P}$ at four distinct points.  If three of these points are $(-28,784),$ $(-2,4),$ and $(13,169),$ find the sum of the distances from the focus of $\\\\mathcal{P}$ to all four of the intersection points.\\n\"\"\"\\n    x, y = symbols(\\'x y\\', real=True)\\n\\n    # The focus of the parabola y = x^2 is at (0, 1/4)\\n    focus_x, focus_y = 0, 1/4\\n\\n    # The given intersection points\\n    points = [(-28, 784), (-2, 4), (13, 169)]\\n\\n    # The sum of the distances from the focus to the intersection points\\n    sum_of_distances = 0\\n    for point in points:\\n        # Calculate the distance using the distance formula\\n        sum_of_distances += ((focus_x - point[0])**2 + (focus_y - point[1])**2)**0.5\\n\\n    # Convert the sum of distances to decimal\\n    sum_of_distances = N(sum_of_distances)\\n\\n    return sum_of_distances\\n\\nresult = sum_of_distances_intersection_points()\\nprint(result)\\n```\\n```output\\n957.750000000000\\n\\n```\\nThe sum of the distances from the focus of the parabola $y = x^2$ to all four of the intersection points is approximately $957.75$.'}]\n",
      "\n"
     ]
    }
   ],
   "source": [
    "# tool_instruction = \" The answer should be given as a non-negative modulo 1000.\"\n",
    "\n",
    "n_repetitions = 3\n",
    "q_ics = []\n",
    "raw_results = []\n",
    "total_results = []\n",
    "total_answers = []\n",
    "\n",
    "for q_idx in range(len(questions)):\n",
    "    print(f\"\\n\\n{q_idx}: {questions['problem'].iloc[q_idx]}\")\n",
    "    results = []\n",
    "    answers = []\n",
    "    try:\n",
    "        combined_messages = None\n",
    "        for rep_idx in range(n_repetitions):\n",
    "            print(datetime.now().strftime('%H:%M:%S'))\n",
    "            if rep_idx > (n_repetitions + 1) / 2:\n",
    "                problem = clean_latex(questions['problem'].iloc[q_idx])\n",
    "            else:\n",
    "                problem = questions['problem'].iloc[q_idx] \n",
    "            messages = [{\n",
    "                \"role\": \"user\", \n",
    "                \"content\": 'Problem: ' + problem + \"\\nGenerate Python code to solve the above problem.\" +\n",
    "                '\\nUnless complex numbers are mentioned in the problem create SymPy symbols with parameter real=True' +\n",
    "                    '\\n```python\\n'\n",
    "            }]\n",
    "            query_prompt = tokenizer.apply_chat_template(messages, tokenize=False)\n",
    "            first_output = pipeline(query_prompt, max_new_tokens=1024, do_sample=True, temperature=0.9, return_full_text=False)\n",
    "            first_output = '```python\\n' + first_output[0]['generated_text']\n",
    "            # print('Shell input: \\n' + first_output.split('```')[1][7:] + '\\n')\n",
    "            shell_output = run_python_code(first_output.split('```')[1][7:])\n",
    "            print(f'{shell_output=}\\n')\n",
    "            with_output = first_output.split('```output')[0] + f'```output\\n{shell_output}\\n```'\n",
    "            message = {\n",
    "                \"role\": \"assistant\",\n",
    "                \"content\": f'Answer {rep_idx}:\\n```python\\n' + with_output\n",
    "            }\n",
    "            messages.append(message)\n",
    "            #torch.cuda.empty_cache()\n",
    "            #gc.collect()\n",
    "            if combined_messages is None:\n",
    "                combined_messages = messages\n",
    "            else: \n",
    "                combined_messages.append(message)\n",
    "                \n",
    "        combined_messages.append({\n",
    "            \"role\": \"user\",\n",
    "            \"content\": \"\"\n",
    "                    \n",
    "        })\n",
    "        second_prompt = tokenizer.apply_chat_template(combined_messages, tokenize=False).replace('<｜end▁of▁sentence｜>', '')\n",
    "        # print(f'{second_prompt=}\\n')\n",
    "        second_output = pipeline(second_prompt, max_new_tokens=1024, do_sample=True, temperature=0.1, return_full_text=False)\n",
    "        print(f'{second_output=}\\n')\n",
    "        \n",
    "    except Exception as ex:\n",
    "        print(ex)\n",
    "        result_output, code_output = -1, -1 \n",
    "    raw_results.append(second_output)\n",
    "    result_output, code_output = process_output(second_output)\n",
    "\n",
    "\n",
    "    results.append(result_output)\n",
    "    answers.append(code_output)\n",
    "    q_ics.append(q_idx)\n",
    "total_results.append(results)\n",
    "total_answers.append(answers)"
   ]
  },
  {
   "cell_type": "code",
   "execution_count": 13,
   "id": "c7e6bff0-99c2-4593-9b35-7513ff8a4dba",
   "metadata": {
    "tags": []
   },
   "outputs": [
    {
     "name": "stdout",
     "output_type": "stream",
     "text": [
      "3*c + 2*cp\n"
     ]
    }
   ],
   "source": [
    "from sympy import symbols, solve, Eq\n",
    "def solve_triangle():\n",
    "    # Define the variables\n",
    "    a, b, c, pa, cp = symbols('a b c pa cp')\n",
    "    # From the angle bisector theorem, we have: a/b = (c+a)/(2c)\n",
    "    # Simplify this to get the ratio of a to b\\n \n",
    "    ratio = solve(Eq(a/b, (c+a)/(2*c)), a/b)[0]\n",
    "    # Given that M is the midpoint of AD, we have: pa = 2*cp\n",
    "    # Substitute this into the ratio to get the ratio of cp to pa\n",
    "    ratio = ratio.subs(a, 2*cp)\n",
    "    # Simplify the ratio\n",
    "    ratio = ratio.simplify()\n",
    "    # The problem asks for the sum of m and n in the fraction m,\n",
    "    # where m and n are relatively prime positive integers.\n",
    "    # The ratio we found is in the form m/n. So, m = cp and n = pa.\n",
    "    m, n = ratio.as_numer_denom()\n",
    "    # Calculate m+n\\n \n",
    "    sum_mn = m + n\n",
    "    return sum_mn\n",
    "result = solve_triangle()\n",
    "print(result)"
   ]
  },
  {
   "cell_type": "code",
   "execution_count": null,
   "id": "70e6b42a-a1e8-4980-accb-6ce884072c20",
   "metadata": {
    "tags": []
   },
   "outputs": [],
   "source": [
    "# pd.DataFrame({\n",
    "#     'question': np.repeat(questions.values, n_repetitions),\n",
    "#     'sympy_answers': total_answers,\n",
    "#     'llm_answers': total_results,\n",
    "#     'raw_answers': raw_results\n",
    "# })"
   ]
  },
  {
   "cell_type": "code",
   "execution_count": 54,
   "id": "fb37899c-65b2-44be-8b20-e3b817fb4166",
   "metadata": {
    "tags": []
   },
   "outputs": [
    {
     "name": "stdout",
     "output_type": "stream",
     "text": [
      "75\n",
      "25\n",
      "8\n",
      "8\n"
     ]
    }
   ],
   "source": [
    "print(len(np.repeat(questions['problem'].values, n_repetitions)))\n",
    "print(len(raw_results))\n",
    "print(len(total_results))\n",
    "print(len(total_answers))"
   ]
  },
  {
   "cell_type": "code",
   "execution_count": 65,
   "id": "a8d610e8-14ba-402a-8237-1539f65c124c",
   "metadata": {
    "tags": []
   },
   "outputs": [
    {
     "data": {
      "text/plain": [
       "'When the expression $4(x^2-2x+2)-7(x^3-3x+1)$ is fully simplified, what is the sum of the squares of the coefficients of the terms?'"
      ]
     },
     "execution_count": 65,
     "metadata": {},
     "output_type": "execute_result"
    }
   ],
   "source": [
    "questions['problem'].iloc[7]"
   ]
  },
  {
   "cell_type": "code",
   "execution_count": 19,
   "id": "b2c6668a-612f-47b6-afe4-220122c4d961",
   "metadata": {
    "tags": []
   },
   "outputs": [
    {
     "data": {
      "text/plain": [
       "[[-1, -1, -1], [-1, 2, -1], [-1, 1, 1]]"
      ]
     },
     "execution_count": 19,
     "metadata": {},
     "output_type": "execute_result"
    }
   ],
   "source": [
    "total_results"
   ]
  },
  {
   "cell_type": "code",
   "execution_count": 20,
   "id": "efc2c791-8845-4c45-88df-3bb8167033dc",
   "metadata": {
    "tags": []
   },
   "outputs": [
    {
     "data": {
      "text/plain": [
       "[[-1, 995, 995], [2, 2, -1], [-1, 2, 2]]"
      ]
     },
     "execution_count": 20,
     "metadata": {},
     "output_type": "execute_result"
    }
   ],
   "source": [
    "total_answers"
   ]
  },
  {
   "cell_type": "code",
   "execution_count": 22,
   "id": "600d7f21-55a1-4795-9358-b654d9c40156",
   "metadata": {
    "tags": []
   },
   "outputs": [
    {
     "data": {
      "text/plain": [
       "array(['In general, $\\\\mathbf{M} \\\\begin{pmatrix} 1 \\\\\\\\ 0 \\\\end{pmatrix}$ is the first column of $\\\\mathbf{M}$, and $\\\\mathbf{M} \\\\begin{pmatrix} 0 \\\\\\\\ 1 \\\\end{pmatrix}$ is the second column of $\\\\mathbf{M}.$\\n\\nTaking $\\\\mathbf{v} = \\\\begin{pmatrix} 1 \\\\\\\\ 0 \\\\end{pmatrix},$ we get\\n\\\\[-5 \\\\begin{pmatrix} 1 \\\\\\\\ 0 \\\\end{pmatrix} = \\\\begin{pmatrix} -5 \\\\\\\\ 0 \\\\end{pmatrix}.\\\\]Taking $\\\\mathbf{v} = \\\\begin{pmatrix} 0 \\\\\\\\ 1 \\\\end{pmatrix},$ we get\\n\\\\[-5 \\\\begin{pmatrix} 0 \\\\\\\\ 1 \\\\end{pmatrix} = \\\\begin{pmatrix} 0 \\\\\\\\ -5 \\\\end{pmatrix}.\\\\]Therefore,\\n\\\\[\\\\mathbf{M} = \\\\boxed{\\\\begin{pmatrix} -5 & 0 \\\\\\\\ 0 & -5 \\\\end{pmatrix}}.\\\\]',\n",
       "       'We have that\\n\\\\begin{align*}\\nak^3 + bk^2 + ck + d &= 0, \\\\\\\\\\nbk^3 + ck^2 + dk + a &= 0.\\n\\\\end{align*}Multiplying the first equation by $k,$ we get\\n\\\\[ak^4 + bk^3 + ck^2 + dk = 0.\\\\]Subtracting the equation $bk^3 + ck^2 + dk + a = 0,$ we get $ak^4 = a.$  Since $a$ is nonzero, $k^4 = 1.$  Then $k^4 - 1 = 0,$ which factors as\\n\\\\[(k - 1)(k + 1)(k^2 + 1) = 0.\\\\]This means $k$ is one of $1,$ $-1,$ $i,$ or $-i.$\\n\\nIf $a = b = c = d = 1,$ then $-1,$ $i,$ and $-i$ are roots of both polynomials.  If $a = b = c = 1$ and $d = -3,$ then 1 is a root of both polynomials.  Therefore, the possible values of $k$ are $\\\\boxed{1,-1,i,-i}.$',\n",
       "       'Let $y = 3^x.$  Then\\n\\\\[9^x - 3^x + 1 = y^2 - y + 1 = \\\\left( y - \\\\frac{1}{2} \\\\right)^2 + \\\\frac{3}{4}.\\\\]Thus, the minimum value is $\\\\boxed{\\\\frac{3}{4}},$ which occurs when $y = \\\\frac{1}{2},$ or $x = \\\\log_3 \\\\frac{1}{2}.$'],\n",
       "      dtype=object)"
      ]
     },
     "execution_count": 22,
     "metadata": {},
     "output_type": "execute_result"
    }
   ],
   "source": [
    "questions['solution'].values"
   ]
  },
  {
   "cell_type": "code",
   "execution_count": 7,
   "id": "f70ce962-d383-41b0-90fb-82c401506500",
   "metadata": {
    "tags": []
   },
   "outputs": [],
   "source": [
    "propm_prefix = '''Problem:\n",
    "Find the domain of the expression $\\frac{\\sqrt{x-2}}{\\sqrt{5-x}}$.}\n",
    "\n",
    "Solution:\n",
    "The expressions inside each square root must be non-negative. Therefore,\n",
    "$x-2 \\ge 0$, so $x\\ge2$, and $5 - x \\ge 0$, so $x \\le 5$. Also, the denominator\n",
    "cannot be equal to zero, so $5-x>0$, which gives $x<5$. Therefore, the domain of\n",
    "the expression is $\\boxed{[2,5)}$.\n",
    "Final Answer: The final answer is $[2,5)$. I hope it is correct.\n",
    "\n",
    "Problem:\n",
    "If $\\det \\mathbf{A} = 2$ and $\\det \\mathbf{B} = 12,$ then find\n",
    "$\\det (\\mathbf{A} \\mathbf{B}).$\n",
    "Solution:\n",
    "We have that $\\det (\\mathbf{A} \\mathbf{B}) = (\\det \\mathbf{A})(\\det \\mathbf{B})\n",
    "= (2)(12) = \\boxed{24}.$\n",
    "Final Answer: The final answer is $24$. I hope it is correct.\n",
    "Problem:\n",
    "Terrell usually lifts two 20-pound weights 12 times. If he uses two 15-pound\n",
    "weights instead, how many times must Terrell lift them in order to lift the\n",
    "same total weight?\n",
    "\n",
    "Solution:\n",
    "If Terrell lifts two 20-pound weights 12 times, he lifts a total of\n",
    "$2\\cdot 12\\cdot20=480$ pounds of weight. If he lifts two 15-pound\n",
    "weights instead for $n$ times, he will lift a total of $2\\cdot15\\cdot n=30n$\n",
    "pounds of weight. Equating this to 480 pounds, we can solve for $n$:\n",
    "\\begin{align*}\n",
    "30n&=480\\\\\n",
    "\\Rightarrow\\qquad n&=480/30=\\boxed{16}\n",
    "\\end{align*}\n",
    "Final Answer: The final answer is $16$. I hope it is correct.\n",
    "\n",
    "Problem:\n",
    "If the system of equations\n",
    "\\begin{align*}\n",
    "6x-4y&=a,\\\\\n",
    "6y-9x &=b.\n",
    "\\end{align*}has a solution $(x, y)$ where $x$ and $y$ are both nonzero,\n",
    "find $\\frac{a}{b},$ assuming $b$ is nonzero.\n",
    "\n",
    "Solution:\n",
    "If we multiply the first equation by $-\\frac{3}{2}$, we obtain\n",
    "$$6y-9x=-\\frac{3}{2}a.$$Since we also know that $6y-9x=b$, we have\n",
    "$$-\\frac{3}{2}a=b\\Rightarrow\\frac{a}{b}=\\boxed{-\\frac{2}{3}}.$$\n",
    "Final Answer: The final answer is $-\\frac{2}{3}$. I hope it is correct.\n",
    "\n",
    "Problem:\n",
    "'''\n",
    "\n",
    "question_easy = 'Beth bakes 4, 2 dozen batches of cokies in a week. If these cookies are shared amongst 16 people equally, how many cookies does each person consume?'\n",
    "question_hard = 'Each of the three-digits numbers $111$ to $999$ is coloured blue or yellow in such a way that the sum of any two (not necessarily different) yellow numbers is equal to a blue number. What is the maximum possible number of yellow numbers there can be?'\n",
    "postfix = '\\nPlease reason step by step, and put your final answer within \\boxed{}.'\n",
    "postfix_2 =  '\\nPlease convert this problem into a set of equations'\n",
    "tokens = tokenizer.encode(question_hard + postfix_2, return_tensors='pt').to('cuda')\n",
    "out_tokens = model.generate(tokens, max_length=500)\n",
    "print(tokenizer.decode(out_tokens[0]))"
   ]
  },
  {
   "cell_type": "code",
   "execution_count": 34,
   "id": "ae0d586f-0b4e-4f4a-9f48-b5ebf178f029",
   "metadata": {
    "tags": []
   },
   "outputs": [
    {
     "ename": "AttributeError",
     "evalue": "'bool' object has no attribute 'subs'",
     "output_type": "error",
     "traceback": [
      "\u001b[0;31m---------------------------------------------------------------------------\u001b[0m",
      "\u001b[0;31mAttributeError\u001b[0m                            Traceback (most recent call last)",
      "Cell \u001b[0;32mIn[34], line 27\u001b[0m\n\u001b[1;32m     24\u001b[0m         d \u001b[38;5;241m=\u001b[39m \u001b[38;5;241m-\u001b[39m\u001b[38;5;241m1\u001b[39m\n\u001b[1;32m     25\u001b[0m         e \u001b[38;5;241m=\u001b[39m \u001b[38;5;241m1\u001b[39m\n\u001b[0;32m---> 27\u001b[0m solve_for_prob()\n",
      "Cell \u001b[0;32mIn[34], line 14\u001b[0m, in \u001b[0;36msolve_for_prob\u001b[0;34m()\u001b[0m\n\u001b[1;32m     12\u001b[0m valid_count \u001b[38;5;241m=\u001b[39m \u001b[38;5;241m0\u001b[39m    \n\u001b[1;32m     13\u001b[0m \u001b[38;5;28;01mfor\u001b[39;00m i \u001b[38;5;129;01min\u001b[39;00m \u001b[38;5;28mrange\u001b[39m(\u001b[38;5;241m5\u001b[39m, \u001b[38;5;241m16\u001b[39m):\n\u001b[0;32m---> 14\u001b[0m     \u001b[38;5;28;01mif\u001b[39;00m condition\u001b[38;5;241m.\u001b[39msubs(x, i): \n\u001b[1;32m     15\u001b[0m         valid_count \u001b[38;5;241m+\u001b[39m\u001b[38;5;241m=\u001b[39m \u001b[38;5;241m1\u001b[39m\n\u001b[1;32m     16\u001b[0m     \u001b[38;5;66;03m# calculate the total number of values of x in the interval\u001b[39;00m\n",
      "\u001b[0;31mAttributeError\u001b[0m: 'bool' object has no attribute 'subs'"
     ]
    }
   ],
   "source": [
    "from sympy import symbols, Rational, floor, sqrt\n",
    "from sympy import solve, And, Le, Ge\n",
    "def solve_for_prob():\n",
    "    x = symbols('x')\n",
    "    # define the polynomial P(x)\n",
    "    P = x**2 - 3*x - 9\n",
    "    # define the condition for the problem\n",
    "    condition = floor(sqrt(P.subs(x, x))) == sqrt(P.subs(x, floor(x)))\n",
    "    # define the interval\n",
    "    interval = And(5 <= x, x <= 15)\n",
    "    # calculate the number of values of x that satisfy the condition in the interval\n",
    "    valid_count = 0    \n",
    "    for i in range(5, 16):\n",
    "        if condition.subs(x, i): \n",
    "            valid_count += 1\n",
    "        # calculate the total number of values of x in the interval\n",
    "        total_count = 15 - 5 + 1\n",
    "        # calculate the probability\n",
    "        probability = Rational(valid_count, total_count)\n",
    "        # calculate a, b, c, d, e for the fraction form of the probability\n",
    "        a = 1\n",
    "        b = 1\n",
    "        c = 1\n",
    "        d = -1\n",
    "        e = 1\n",
    "        \n",
    "solve_for_prob()"
   ]
  },
  {
   "cell_type": "code",
   "execution_count": null,
   "id": "d2a69e4a-c8c1-4d62-92b8-7377d573c94a",
   "metadata": {},
   "outputs": [],
   "source": [
    "˘.."
   ]
  }
 ],
 "metadata": {
  "kernelspec": {
   "display_name": "Python [conda env:pytorch]",
   "language": "python",
   "name": "conda-env-pytorch-py"
  },
  "language_info": {
   "codemirror_mode": {
    "name": "ipython",
    "version": 3
   },
   "file_extension": ".py",
   "mimetype": "text/x-python",
   "name": "python",
   "nbconvert_exporter": "python",
   "pygments_lexer": "ipython3",
   "version": "3.11.5"
  }
 },
 "nbformat": 4,
 "nbformat_minor": 5
}
